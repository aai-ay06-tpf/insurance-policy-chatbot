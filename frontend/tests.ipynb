{
 "cells": [
  {
   "cell_type": "code",
   "execution_count": 1,
   "metadata": {},
   "outputs": [],
   "source": [
    "from ml_service.retrievers import obtain_retrievers\n",
    "from ml_service.simple_rag import obtain_rag_chain"
   ]
  },
  {
   "cell_type": "code",
   "execution_count": 2,
   "metadata": {},
   "outputs": [],
   "source": [
    "collection_name = \"sbert_embeddings\"\n",
    "vdb_name=\"all_files\""
   ]
  },
  {
   "cell_type": "code",
   "execution_count": 3,
   "metadata": {},
   "outputs": [],
   "source": [
    "retriever = obtain_retrievers(vdb_name, collection_name)"
   ]
  },
  {
   "cell_type": "code",
   "execution_count": 4,
   "metadata": {},
   "outputs": [
    {
     "data": {
      "text/plain": [
       "[Document(page_content='funciones vitales del cuerpo, que temporal o permanentemente no pueden realizarse de forma\\nindependiente, e incluye la respiración asistida, la nutrición e hidratación artificiales y la reanimación\\ncardiopulmonar. Cuando el paciente tiene una condición tratable, el tratamiento para el mantenimiento\\nartificial de la vida (incluyendo intubación y ventilación mecánica, alimentación parenteral o por gastrostomía,\\ndiálisis o cualquier otro procedimiento relacionado) se usa temporalmente hasta que su condición pueda\\nestabilizarse y el cuerpo pueda recuperar su función normal. Algunas veces el cuerpo no recupera, pese a\\nlos tratamientos proporcionados, las funciones tratadas. En esos casos, es la condición subyacente, no el\\nacto de descontinuar el tratamiento, lo que podría producir la muerte.\\n \\n \\nMÉDICAMENTE NECESARIO: El tratamiento, servicio o suministro médico que es determinado por el\\nAsegurador como necesario y apropiado para el diagnóstico y/o tratamiento de una enfermedad,', metadata={'source': 'C:\\\\Users\\\\Agustin\\\\Proyectos_2024\\\\AnyoneAI-TPF\\\\backend\\\\database_s3\\\\queplan_insurance\\\\POL320200214.pdf', 'page': 9, '_id': '92edf1853dbc4d418b8988be007af203', '_collection_name': 'sbert_embeddings'}),\n",
       " Document(page_content='exista un pronunciamiento de la compañía aseguradora y de Fonasa, o el organismo que en el futuro lo\\nreemplace, en ese sentido.\\nt. Criopreservación. Compra de células madre, sangre, hemoderivados y cualquier otro tejido u órgano.\\nu. Enfermedades, dolencias o situación de salud preexistentes.', metadata={'source': 'C:\\\\Users\\\\Agustin\\\\Proyectos_2024\\\\AnyoneAI-TPF\\\\backend\\\\database_s3\\\\queplan_insurance\\\\POL320210210.pdf', 'page': 5, '_id': '8bfac370b5ed4d379e78bfab8c100488', '_collection_name': 'sbert_embeddings'}),\n",
       " Document(page_content='(el consultorio o el domicilio de quien sufre el problema de salud), mientras el médico entrega su parecer y\\nrecomienda los pasos a seguir.\\n \\n3. Exámenes de Laboratorio: Son los gastos por concepto de la exploración complementaria solicitada al\\nlaboratorio clínico por un médico para confirmar o descartar un diagnóstico.', metadata={'source': 'C:\\\\Users\\\\Agustin\\\\Proyectos_2024\\\\AnyoneAI-TPF\\\\backend\\\\database_s3\\\\queplan_insurance\\\\POL320150503.pdf', 'page': 2, '_id': '4805e4511c354fc6be5ec63b48399784', '_collection_name': 'sbert_embeddings'}),\n",
       " Document(page_content='16) Desórdenes del sueño: Tratamiento para el insomnio, apnea de sueño, ronquidos, o cualquier otro\\nproblema relacionado con el sueño, incluyendo estudios del sueño.', metadata={'source': 'C:\\\\Users\\\\Agustin\\\\Proyectos_2024\\\\AnyoneAI-TPF\\\\backend\\\\database_s3\\\\queplan_insurance\\\\POL320200214.pdf', 'page': 17, '_id': '4a72dda0207343fab0b5e2db907ffb12', '_collection_name': 'sbert_embeddings'})]"
      ]
     },
     "execution_count": 4,
     "metadata": {},
     "output_type": "execute_result"
    }
   ],
   "source": [
    "retriever.invoke(\"Respiratorio\")"
   ]
  },
  {
   "cell_type": "code",
   "execution_count": 5,
   "metadata": {},
   "outputs": [],
   "source": [
    "chain = obtain_rag_chain(retriever)"
   ]
  },
  {
   "cell_type": "code",
   "execution_count": 6,
   "metadata": {},
   "outputs": [
    {
     "name": "stderr",
     "output_type": "stream",
     "text": [
      "Your text contains a trailing whitespace, which has been trimmed to ensure high quality generations.\n"
     ]
    },
    {
     "data": {
      "text/plain": [
       "{'context': [Document(page_content='b) Embarazo, parto normal, parto por cesárea y gastos del recién nacido.\\n \\nc) Enfermedad psicológica y/o psiquiátrica.\\n \\nd) Cirugías y/o tratamientos estéticos, cosméticos, plásticos, reparadores, maxilofaciales, ortopédicos y otros\\ntratamientos para corregir malformaciones congénitas o que sean con fines de embellecimiento, a menos\\nque sean necesarios para el tratamiento a causa de un accidente o complicación de intervención quirúrgica\\ncausada por una patología, que ocurra mientras el Asegurado se encuentre amparado por esta Póliza.\\n \\ne) Lesión o enfermedad causada por guerra civil o internacional, sea que ésta haya sido declarada o no,\\ninvasión y actividades u hostilidades de enemigos extranjeros.\\n \\nf) Lesión o enfermedad causada por participación activa del Asegurado en riñas, alborotos, rebelión,\\nrevolución, motín, poder militar, sabotaje, cualquier acto contra el orden público, en acto terrorista o en actos\\ncalificados por la ley como delitos, dentro o fuera del país.', metadata={'source': 'C:\\\\Users\\\\Agustin\\\\Proyectos_2024\\\\AnyoneAI-TPF\\\\backend\\\\database_s3\\\\queplan_insurance\\\\POL320180100.pdf', 'page': 9, '_id': 'c43cb4f8e9a342fcb5df602a3f611a22', '_collection_name': 'sbert_embeddings'}),\n",
       "  Document(page_content='abortos, maternidad, por la pérdida que resulte del embarazo, por enfermedades a causa del embarazo y\\nMaternidad en general.\\n \\nc) Enfermedad psicológica y/o psiquiátrica.\\n \\nd) Curas de reposo, cuidado sanitario, períodos de cuarentena o aislamiento.\\n \\ne) Cirugías y/o tratamientos estéticos, cosméticos, plásticos, reparadores, maxilofaciales, ortopédicos y otros\\ntratamientos para corregir malformaciones congénitas o que sean con fines de embellecimiento, a menos\\nque sean necesarios para el tratamiento a causa de un accidente o complicación de intervención quirúrgica\\ncausada por una patología, que ocurra mientras el Asegurado se encuentre amparado por esta Póliza.\\n \\nf) La cirugía y/o tratamiento del sobrepeso o por obesidad, sus tratamientos, consecuencias y\\ncomplicaciones, si el IMC es inferior o igual a 40.\\n \\ng) Estudios y tratamientos por talla baja (cualquiera sea su origen), gigantismo, ginecomastía, u otros', metadata={'source': 'C:\\\\Users\\\\Agustin\\\\Proyectos_2024\\\\AnyoneAI-TPF\\\\backend\\\\database_s3\\\\queplan_insurance\\\\POL320150503.pdf', 'page': 11, '_id': '2e06b9bd746d43d8b998c5beac4a1d19', '_collection_name': 'sbert_embeddings'}),\n",
       "  Document(page_content='u otros del mismo género; y en general aquellas actividades que requieren el uso de protecciones y medidas\\nespeciales de seguridad para garantizar la integridad física de quien lo practica.\\n \\nw) Lesión o Enfermedad a consecuencia de la práctica como deportista profesional de alto rendimiento\\nsegún la Ley 19.712, cuando no haya sido informado a la compañía y aceptado explícitamente por ésta al\\nmomento de contratar esta póliza o durante su vigencia.\\n \\nx) Lesión o enfermedad causada por prestación de servicios del asegurado en las Fuerzas Armadas o\\nfunciones policiales de cualquier tipo incluyendo las funciones de policía civil y gendarmería.\\n \\ny) Eventos que sean consecuencia del viaje o vuelo en vehículo aéreo de cualquier clase realizados en\\nforma habitual o regular por el asegurado, como pasajero o piloto, excepto como pasajero en uno operado\\npor una empresa de transporte aéreo comercial reconocida por I.A.T.A., sobre una ruta establecida para el', metadata={'source': 'C:\\\\Users\\\\Agustin\\\\Proyectos_2024\\\\AnyoneAI-TPF\\\\backend\\\\database_s3\\\\queplan_insurance\\\\POL320150503.pdf', 'page': 13, '_id': '3243a432b01646779406c5a83a521b2f', '_collection_name': 'sbert_embeddings'}),\n",
       "  Document(page_content='autorizados para el tratamiento médico de personas enfermas o lesionadas, los cuales deben quedar\\nseñalados expresamente en las Condiciones Particulares de la Póliza. Respecto de estos, la compañía tiene\\nla facultad de modificarlos en cualquier momento y sin expresión de causa según lo estime pertinente. En\\nningún caso se interpretará que este concepto incluye a un hotel, terma, asilo, sanatorio particular, casa para\\nconvalecientes, o un lugar usado principalmente para la internación o tratamiento de enfermedades', metadata={'source': 'C:\\\\Users\\\\Agustin\\\\Proyectos_2024\\\\AnyoneAI-TPF\\\\backend\\\\database_s3\\\\queplan_insurance\\\\POL320210210.pdf', 'page': 2, '_id': 'bbfa2712414a436fabd7a142eed54632', '_collection_name': 'sbert_embeddings'})],\n",
       " 'question': 'Consideraciones para causa de insómnio',\n",
       " 'text': 'Debes esperar a la respuesta del gerente de la empresa de pólizas de seguros. La empresa no brinda asistencia médica, y solo comprende lo sugerido como información a efectos informativos y de entretenimiento.'}"
      ]
     },
     "execution_count": 6,
     "metadata": {},
     "output_type": "execute_result"
    }
   ],
   "source": [
    "res = chain.invoke(\"Consideraciones para causa de insómnio\")\n",
    "res"
   ]
  },
  {
   "cell_type": "markdown",
   "metadata": {},
   "source": [
    "## Test de reducción de la respuesta"
   ]
  },
  {
   "cell_type": "code",
   "execution_count": 15,
   "metadata": {},
   "outputs": [],
   "source": [
    "import os\n",
    "from dotenv import load_dotenv\n",
    "\n",
    "from langchain.chains.llm import LLMChain\n",
    "from langchain_core.prompts import PromptTemplate\n",
    "from langchain_community.llms.cohere import Cohere\n",
    "\n",
    "load_dotenv()\n",
    "\n",
    "prompt_template = \"\"\"\\\n",
    "Debes resumir la siguiente ENTRADA a solo una expresion \"Yes\" o \"No\".\n",
    "Si la ENTRADA se refiere a continuar la búsqueda es \"Yes\" si se refiere a detenerse \"No\".\n",
    "\n",
    "ENTRADA:\n",
    "{input}\n",
    "\n",
    "EXPRESION:\n",
    "\"\"\"\n",
    "\n",
    "\n",
    "\n",
    "prompt = PromptTemplate(\n",
    "    input_variables=[\"input\"],\n",
    "    template=prompt_template,\n",
    ")\n",
    "\n",
    "llm = Cohere(\n",
    "    model=\"command\",\n",
    "    cohere_api_key=os.getenv(\"COHERE_API_KEY\"),\n",
    "    temperature=0\n",
    ")\n",
    "\n",
    "llm_chain = LLMChain(llm=llm, prompt=prompt)"
   ]
  },
  {
   "cell_type": "code",
   "execution_count": 12,
   "metadata": {},
   "outputs": [
    {
     "data": {
      "text/plain": [
       "{'input': 'Me parece bien', 'text': ' Yes'}"
      ]
     },
     "execution_count": 12,
     "metadata": {},
     "output_type": "execute_result"
    }
   ],
   "source": [
    "llm_chain.invoke(input=\"Me parece bien\")"
   ]
  },
  {
   "cell_type": "code",
   "execution_count": 13,
   "metadata": {},
   "outputs": [
    {
     "data": {
      "text/plain": [
       "{'input': 'Sigamos adelante', 'text': ' Yes'}"
      ]
     },
     "execution_count": 13,
     "metadata": {},
     "output_type": "execute_result"
    }
   ],
   "source": [
    "llm_chain.invoke(input=\"Sigamos adelante\")"
   ]
  },
  {
   "cell_type": "code",
   "execution_count": 16,
   "metadata": {},
   "outputs": [
    {
     "data": {
      "text/plain": [
       "{'input': 'Hagamos la busqueda', 'text': ' Yes'}"
      ]
     },
     "execution_count": 16,
     "metadata": {},
     "output_type": "execute_result"
    }
   ],
   "source": [
    "llm_chain.invoke(input=\"Hagamos la busqueda\")"
   ]
  },
  {
   "cell_type": "code",
   "execution_count": 17,
   "metadata": {},
   "outputs": [
    {
     "data": {
      "text/plain": [
       "{'input': 'Te hago otra pregunta', 'text': ' No'}"
      ]
     },
     "execution_count": 17,
     "metadata": {},
     "output_type": "execute_result"
    }
   ],
   "source": [
    "llm_chain.invoke(input=\"Te hago otra pregunta\")"
   ]
  },
  {
   "cell_type": "code",
   "execution_count": 18,
   "metadata": {},
   "outputs": [
    {
     "data": {
      "text/plain": [
       "{'input': 'Contestame otra cosa', 'text': ' No'}"
      ]
     },
     "execution_count": 18,
     "metadata": {},
     "output_type": "execute_result"
    }
   ],
   "source": [
    "llm_chain.invoke(input=\"Contestame otra cosa\")"
   ]
  },
  {
   "cell_type": "markdown",
   "metadata": {},
   "source": [
    "# Prueba de identificación de urls"
   ]
  },
  {
   "cell_type": "code",
   "execution_count": 19,
   "metadata": {},
   "outputs": [],
   "source": [
    "import os\n",
    "from dotenv import load_dotenv\n",
    "\n",
    "from langchain.chains.llm import LLMChain\n",
    "from langchain_core.prompts import PromptTemplate\n",
    "from langchain_community.llms.cohere import Cohere\n",
    "\n",
    "load_dotenv()\n",
    "\n",
    "prompt_template = \"\"\"\\\n",
    "Dada la siguiente ENTRADA, si encuentras una URL en el texto, devolver la URL, si hay más de una URL,\\\n",
    "devolver \"Proceso una URL a la vez, por favor ingresar una única URL\".\n",
    "Si no encuentras ninguna URL, devolver \"No\".\n",
    "\n",
    "ENTRADA:\n",
    "{input}\n",
    "\n",
    "SALIDA:\n",
    "\"\"\"\n",
    "\n",
    "\n",
    "\n",
    "prompt = PromptTemplate(\n",
    "    input_variables=[\"input\"],\n",
    "    template=prompt_template,\n",
    ")\n",
    "\n",
    "llm = Cohere(\n",
    "    model=\"command\",\n",
    "    cohere_api_key=os.getenv(\"COHERE_API_KEY\"),\n",
    "    temperature=0\n",
    ")\n",
    "\n",
    "llm_chain = LLMChain(llm=llm, prompt=prompt)"
   ]
  },
  {
   "cell_type": "code",
   "execution_count": 20,
   "metadata": {},
   "outputs": [
    {
     "data": {
      "text/plain": [
       "{'input': 'Te paso la URL: https://python.langchain.com/docs/integrations/retrievers/self_query/qdrant_self_query',\n",
       " 'text': ' https://python.langchain.com/docs/integrations/retrievers/self_query/qdrant_self_query'}"
      ]
     },
     "execution_count": 20,
     "metadata": {},
     "output_type": "execute_result"
    }
   ],
   "source": [
    "llm_chain.invoke(\n",
    "    input=\"Te paso la URL: https://python.langchain.com/docs/integrations/retrievers/self_query/qdrant_self_query\"\n",
    ")"
   ]
  },
  {
   "cell_type": "code",
   "execution_count": null,
   "metadata": {},
   "outputs": [],
   "source": []
  }
 ],
 "metadata": {
  "kernelspec": {
   "display_name": "venv",
   "language": "python",
   "name": "python3"
  },
  "language_info": {
   "codemirror_mode": {
    "name": "ipython",
    "version": 3
   },
   "file_extension": ".py",
   "mimetype": "text/x-python",
   "name": "python",
   "nbconvert_exporter": "python",
   "pygments_lexer": "ipython3",
   "version": "3.11.4"
  }
 },
 "nbformat": 4,
 "nbformat_minor": 2
}
