{
 "cells": [
  {
   "cell_type": "code",
   "execution_count": 1,
   "metadata": {},
   "outputs": [
    {
     "name": "stdout",
     "output_type": "stream",
     "text": [
      "2024-02-29 12:10:18 - Loaded .env file\n"
     ]
    }
   ],
   "source": [
    "import pickle\n",
    "\n",
    "with open(\"file.pkl\", \"rb\") as f:\n",
    "    data = pickle.load(f)"
   ]
  },
  {
   "cell_type": "code",
   "execution_count": 2,
   "metadata": {},
   "outputs": [
    {
     "data": {
      "text/plain": [
       "chainlit.types.AskFileResponse"
      ]
     },
     "execution_count": 2,
     "metadata": {},
     "output_type": "execute_result"
    }
   ],
   "source": [
    "type(data)"
   ]
  },
  {
   "cell_type": "code",
   "execution_count": 3,
   "metadata": {},
   "outputs": [
    {
     "data": {
      "text/plain": [
       "['__match_args__',\n",
       " '__module__',\n",
       " '__ne__',\n",
       " '__new__',\n",
       " '__pydantic_complete__',\n",
       " '__pydantic_config__',\n",
       " '__pydantic_core_schema__',\n",
       " '__pydantic_decorators__',\n",
       " '__pydantic_fields__',\n",
       " '__pydantic_serializer__',\n",
       " '__pydantic_validator__',\n",
       " '__reduce__',\n",
       " '__reduce_ex__',\n",
       " '__repr__',\n",
       " '__setattr__',\n",
       " '__signature__',\n",
       " '__sizeof__',\n",
       " '__str__',\n",
       " '__subclasshook__',\n",
       " '__weakref__',\n",
       " 'id',\n",
       " 'name',\n",
       " 'path',\n",
       " 'size',\n",
       " 'type']"
      ]
     },
     "execution_count": 3,
     "metadata": {},
     "output_type": "execute_result"
    }
   ],
   "source": [
    "dir(data)[-25:]"
   ]
  },
  {
   "cell_type": "code",
   "execution_count": 4,
   "metadata": {},
   "outputs": [
    {
     "data": {
      "text/plain": [
       "'application/pdf'"
      ]
     },
     "execution_count": 4,
     "metadata": {},
     "output_type": "execute_result"
    }
   ],
   "source": [
    "data.type"
   ]
  },
  {
   "cell_type": "code",
   "execution_count": 5,
   "metadata": {},
   "outputs": [
    {
     "data": {
      "text/plain": [
       "158030"
      ]
     },
     "execution_count": 5,
     "metadata": {},
     "output_type": "execute_result"
    }
   ],
   "source": [
    "data.size"
   ]
  },
  {
   "cell_type": "code",
   "execution_count": 6,
   "metadata": {},
   "outputs": [
    {
     "data": {
      "text/plain": [
       "'C:\\\\Users\\\\Agustin\\\\Proyectos_2024\\\\AnyoneAI-TPF\\\\frontend\\\\.files\\\\af8da5b4-65eb-4cc9-ba62-c452a3fbc10d\\\\ca4bbd4d-248a-4389-b6ac-5bcae6b2dd96.pdf'"
      ]
     },
     "execution_count": 6,
     "metadata": {},
     "output_type": "execute_result"
    }
   ],
   "source": [
    "data.path"
   ]
  },
  {
   "cell_type": "code",
   "execution_count": 7,
   "metadata": {},
   "outputs": [
    {
     "data": {
      "text/plain": [
       "'Agus_Stigliano-Machine_Learning-Resume.pdf'"
      ]
     },
     "execution_count": 7,
     "metadata": {},
     "output_type": "execute_result"
    }
   ],
   "source": [
    "data.name"
   ]
  },
  {
   "cell_type": "code",
   "execution_count": 8,
   "metadata": {},
   "outputs": [
    {
     "data": {
      "text/plain": [
       "'ca4bbd4d-248a-4389-b6ac-5bcae6b2dd96'"
      ]
     },
     "execution_count": 8,
     "metadata": {},
     "output_type": "execute_result"
    }
   ],
   "source": [
    "data.id"
   ]
  },
  {
   "cell_type": "markdown",
   "metadata": {},
   "source": [
    "# Week 2:"
   ]
  },
  {
   "cell_type": "code",
   "execution_count": 1,
   "metadata": {},
   "outputs": [
    {
     "name": "stdout",
     "output_type": "stream",
     "text": [
      "['.chainlit', '.env', '.gitignore', 'all_sources.pkl', 'answer.pkl', 'chainlit.md', 'chainlit_app.py', 'chainlit_app_2.py', 'chainlit_rag', 'file.pkl', 'llm_res.pkl', 'metadatas.pkl', 'readme.txt', 'requirements.txt', 'res.pkl', 'source_elements.pkl', 'tests.ipynb', 'TODO.txt', 'utils', '__pycache__']\n"
     ]
    }
   ],
   "source": [
    "import pickle, os\n",
    "\n",
    "print(os.listdir())"
   ]
  },
  {
   "cell_type": "code",
   "execution_count": 2,
   "metadata": {},
   "outputs": [],
   "source": [
    "with open('llm_res.pkl', 'rb') as f:\n",
    "    llm_response = pickle.load(f)"
   ]
  },
  {
   "cell_type": "code",
   "execution_count": 3,
   "metadata": {},
   "outputs": [
    {
     "data": {
      "text/plain": [
       "dict"
      ]
     },
     "execution_count": 3,
     "metadata": {},
     "output_type": "execute_result"
    }
   ],
   "source": [
    "type(llm_response)"
   ]
  },
  {
   "cell_type": "code",
   "execution_count": 4,
   "metadata": {},
   "outputs": [
    {
     "data": {
      "text/plain": [
       "dict_keys(['query', 'result', 'source_documents'])"
      ]
     },
     "execution_count": 4,
     "metadata": {},
     "output_type": "execute_result"
    }
   ],
   "source": [
    "llm_response.keys()"
   ]
  },
  {
   "cell_type": "code",
   "execution_count": 6,
   "metadata": {},
   "outputs": [
    {
     "data": {
      "text/plain": [
       "'Reduce the document as much as possible, keep only the titles'"
      ]
     },
     "execution_count": 6,
     "metadata": {},
     "output_type": "execute_result"
    }
   ],
   "source": [
    "# Este ejemplo es sobre mi CV\n",
    "llm_response.get(\"query\")"
   ]
  },
  {
   "cell_type": "code",
   "execution_count": 8,
   "metadata": {},
   "outputs": [
    {
     "ename": "KeyError",
     "evalue": "'results'",
     "output_type": "error",
     "traceback": [
      "\u001b[1;31m---------------------------------------------------------------------------\u001b[0m",
      "\u001b[1;31mKeyError\u001b[0m                                  Traceback (most recent call last)",
      "Cell \u001b[1;32mIn[8], line 1\u001b[0m\n\u001b[1;32m----> 1\u001b[0m \u001b[43mllm_response\u001b[49m\u001b[43m[\u001b[49m\u001b[38;5;124;43m\"\u001b[39;49m\u001b[38;5;124;43mresults\u001b[39;49m\u001b[38;5;124;43m\"\u001b[39;49m\u001b[43m]\u001b[49m\n",
      "\u001b[1;31mKeyError\u001b[0m: 'results'"
     ]
    }
   ],
   "source": [
    "llm_response[\"results\"]"
   ]
  },
  {
   "cell_type": "code",
   "execution_count": 9,
   "metadata": {},
   "outputs": [
    {
     "name": "stdout",
     "output_type": "stream",
     "text": [
      "None\n"
     ]
    }
   ],
   "source": [
    "print(llm_response.get(\"results\"))"
   ]
  },
  {
   "cell_type": "code",
   "execution_count": 10,
   "metadata": {},
   "outputs": [
    {
     "name": "stdout",
     "output_type": "stream",
     "text": [
      " Here is a summary of the projects:\n",
      "\n",
      "1. Database transformation: Convert lease contracts from paper to digital format for easier data acquisition and management. Create a user-friendly interface for table registration. Start building self-managed customer experiences through web services.\n",
      "2. Machine learning optimization: Implement machine learning models for efficient data processing and storage. Utilize customizable data visualization tools such as Word Clouds, Time Series, and histograms.\n",
      "3. PyScript and Django deployment: Utilize new Anaconda technology called PyScript for Python integration in HTML code. Learn about deployment using Anaconda service PythonAnywhere.\n",
      "4. Quaestor Trader: Develop a financial market toolkit based on crypto currencies using PythonAnywhere and Django for easier data management and operations.\n"
     ]
    }
   ],
   "source": [
    "print(llm_response.get(\"result\"))"
   ]
  },
  {
   "cell_type": "code",
   "execution_count": 14,
   "metadata": {},
   "outputs": [
    {
     "data": {
      "text/plain": [
       "[Document(page_content='database.  \\n● Transform the lease contract paper format into a digital registry  \\n● The main goal was to start acquiring data of small customers in a more valuable format.  \\n● Creation of a beta frontend interface to show the functionality of the API. The purpose of the interface \\nwas to have several forms connected to a few buttons that coordinate all the table registration at once, \\nin the most user -friendly possible way.  \\n● The vi sion of the job was to start creating the ground for having a self -managed customer experience \\nthrough their web services.', metadata={'source': '7-pl', '_id': '327eb79127d3493dbdfb3c6f5d5281e5', '_collection_name': 'a26f739ada534804beb6148ec5c656ad', 'relevance_score': 0.30694237}),\n",
       " Document(page_content=\"fast, you can't afford to lose data and re -run the process.  \\n● The main goal was to implement machine learning models, to aggregate data to source, and to process \\nthe outputs, in a way that the execution time was optimized and also the local sto rage's needs.  \\n● Data visualization through customizable Word Clouds, Time Series, graph of donuts in polar coordinates, \\npie charts, bar charts, and histograms.  \\n● Main Technologies : Python concurrent, Python Generators, Transformers, Word Cloud, Plotly, Bokeh  \\n● Nov 2023  \\nChopp Comodato – Cassaro\", metadata={'source': '9-pl', '_id': '964cd3065a2f4e99b9cec417d8a86a3d', '_collection_name': 'a26f739ada534804beb6148ec5c656ad', 'relevance_score': 0.16762705}),\n",
       " Document(page_content='created a video showing the functionality. You can access the video on this link. \\n● Explo ring the new technology released by Anaconda called PyScript that allows you to run Python inside \\nHTML code including some libraries.  \\n● Learn about deployment using Anaconda service PythonAnywhere.  \\n● Main Technologies : HTML, CSS, Bootstrap, PyScript, Django, P andas, SQLite, PythonAnywhere  \\n● Dec 2022   \\n The Quaestor Trader – Financial & Personal Project  \\n● It is a toolkit for financial market operations, based on crypto currencies.', metadata={'source': '11-pl', '_id': '9fd7ccf04a02480b85e22fccfc5fc144', '_collection_name': 'a26f739ada534804beb6148ec5c656ad', 'relevance_score': 0.13006426})]"
      ]
     },
     "execution_count": 14,
     "metadata": {},
     "output_type": "execute_result"
    }
   ],
   "source": [
    "source = llm_response.get(\"source_documents\")\n",
    "source"
   ]
  },
  {
   "cell_type": "code",
   "execution_count": 23,
   "metadata": {},
   "outputs": [
    {
     "data": {
      "text/plain": [
       "{'page_content': 'database.  \\n● Transform the lease contract paper format into a digital registry  \\n● The main goal was to start acquiring data of small customers in a more valuable format.  \\n● Creation of a beta frontend interface to show the functionality of the API. The purpose of the interface \\nwas to have several forms connected to a few buttons that coordinate all the table registration at once, \\nin the most user -friendly possible way.  \\n● The vi sion of the job was to start creating the ground for having a self -managed customer experience \\nthrough their web services.',\n",
       " 'metadata': {'source': '7-pl',\n",
       "  '_id': '327eb79127d3493dbdfb3c6f5d5281e5',\n",
       "  '_collection_name': 'a26f739ada534804beb6148ec5c656ad',\n",
       "  'relevance_score': 0.30694237},\n",
       " 'type': 'Document'}"
      ]
     },
     "execution_count": 23,
     "metadata": {},
     "output_type": "execute_result"
    }
   ],
   "source": [
    "# Langchain Docuemnt Object\n",
    "dir(source[0])\n",
    "source[0].dict()"
   ]
  },
  {
   "cell_type": "code",
   "execution_count": 24,
   "metadata": {},
   "outputs": [
    {
     "data": {
      "text/plain": [
       "dict_keys(['page_content', 'metadata', 'type'])"
      ]
     },
     "execution_count": 24,
     "metadata": {},
     "output_type": "execute_result"
    }
   ],
   "source": [
    "source[0].dict().keys()"
   ]
  },
  {
   "cell_type": "code",
   "execution_count": 29,
   "metadata": {},
   "outputs": [
    {
     "name": "stdout",
     "output_type": "stream",
     "text": [
      "database.  \n",
      "● Transform the lease contract paper format into a digital registry  \n",
      "● The main goal was to start acquiring data of small customers in a more valuable format.  \n",
      "● Creation of a beta frontend interface to show the functionality of the API. The purpose of the interface \n",
      "was to have several forms connected to a few buttons that coordinate all the table registration at once, \n",
      "in the most user -friendly possible way.  \n",
      "● The vi sion of the job was to start creating the ground for having a self -managed customer experience \n",
      "through their web services.\n"
     ]
    }
   ],
   "source": [
    "print(source[0].dict().get(\"page_content\"))"
   ]
  },
  {
   "cell_type": "code",
   "execution_count": 27,
   "metadata": {},
   "outputs": [
    {
     "data": {
      "text/plain": [
       "{'source': '7-pl',\n",
       " '_id': '327eb79127d3493dbdfb3c6f5d5281e5',\n",
       " '_collection_name': 'a26f739ada534804beb6148ec5c656ad',\n",
       " 'relevance_score': 0.30694237}"
      ]
     },
     "execution_count": 27,
     "metadata": {},
     "output_type": "execute_result"
    }
   ],
   "source": [
    "source[0].dict().get(\"metadata\")"
   ]
  },
  {
   "cell_type": "code",
   "execution_count": 28,
   "metadata": {},
   "outputs": [
    {
     "data": {
      "text/plain": [
       "'Document'"
      ]
     },
     "execution_count": 28,
     "metadata": {},
     "output_type": "execute_result"
    }
   ],
   "source": [
    "source[0].dict().get(\"type\")"
   ]
  },
  {
   "cell_type": "code",
   "execution_count": 32,
   "metadata": {},
   "outputs": [
    {
     "data": {
      "text/plain": [
       "'database.  \\n● Transform the lease contract paper format into a digital registry  \\n● The main goal was to start acquiring data of small customers in a more valuable format.  \\n● Creation of a beta frontend interface to show the functionality of the API. The purpose of the interface \\nwas to have several forms connected to a few buttons that coordinate all the table registration at once, \\nin the most user -friendly possible way.  \\n● The vi sion of the job was to start creating the ground for having a self -managed customer experience \\nthrough their web services.'"
      ]
     },
     "execution_count": 32,
     "metadata": {},
     "output_type": "execute_result"
    }
   ],
   "source": [
    "source[0].page_content"
   ]
  },
  {
   "cell_type": "code",
   "execution_count": null,
   "metadata": {},
   "outputs": [],
   "source": [
    "# Conclusion:\n",
    "\n",
    "# convirtió 3 chunks en 1 solo parrafo"
   ]
  }
 ],
 "metadata": {
  "kernelspec": {
   "display_name": "venv",
   "language": "python",
   "name": "python3"
  },
  "language_info": {
   "codemirror_mode": {
    "name": "ipython",
    "version": 3
   },
   "file_extension": ".py",
   "mimetype": "text/x-python",
   "name": "python",
   "nbconvert_exporter": "python",
   "pygments_lexer": "ipython3",
   "version": "3.11.4"
  }
 },
 "nbformat": 4,
 "nbformat_minor": 2
}
