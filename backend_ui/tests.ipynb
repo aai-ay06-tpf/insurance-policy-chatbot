{
 "cells": [
  {
   "cell_type": "code",
   "execution_count": 1,
   "metadata": {},
   "outputs": [],
   "source": [
    "# Probando retriever\n",
    "\n",
    "from ml_service.qdrant_vectorstore.vectorstore_funcs import qdrant_retriever, obtain_llm_multiquery_retriever\n",
    "\n",
    "\n",
    "r1 = qdrant_retriever(embedding_name=\"openai_embeddings\",\n",
    "                collection_name=\"pdf_init_feature_openai_embeddings\")\n",
    "\n",
    "\n",
    "r2 = obtain_llm_multiquery_retriever(embedding_name=\"openai_embeddings\",\n",
    "                collection_name=\"pdf_init_feature_openai_embeddings\")"
   ]
  },
  {
   "cell_type": "code",
   "execution_count": 4,
   "metadata": {},
   "outputs": [
    {
     "data": {
      "text/plain": [
       "[Document(page_content=\"`{'poliza': 'seguro individual de enfermedades graves', 'articulos': 'reglas aplicables al contrato, cobertura y materia asegurada, limitaciones de la cobertura, exclusiones, obligaciones del asegurado, declaraciones del asegurado e indisputabilidad, vigencia y duracion del contrato de seguro, prima y efectos del no pago de la prima, denuncia de siniestro, requisitos para el pago de siniestro, pago de siniestro, término del contrato de seguro, rehabilitacion del contrato de seguro, impuestos, moneda o unidad del contrato de seguro, comunicacion entre las partes, solucion de controversias, derecho de retracto, domicilio, definiciones', 'filename': 'POL320200071.pdf', 'poliza_id': 'POL320160108'}`\", metadata={'file': 'POL320200071_POL320160108', 'policy_header': 'SEGURO INDIVIDUAL DE ENFERMEDADES GRAVES', '_id': 'bc3a26a8-2ca4-4e48-9962-37430ff2e549', '_collection_name': 'pdf_init_feature_openai_embeddings'}),\n",
       " Document(page_content=\"`{'poliza': 'exoneración de pago de primas por fallecimiento del asegurado titular', 'articulos': 'cobertura, exclusiones, carencia, beneficiarios, denuncia de siniestro, cláusulas aplicables', 'filename': 'POL320190074.pdf', 'poliza_id': 'CAD220130244'}`\", metadata={'file': 'POL320190074_CAD220130244', 'policy_header': 'EXONERACIÓN DE PAGO DE PRIMAS POR FALLECIMIENTO DEL ASEGURADO TITULAR', '_id': 'c4ba7954-a56d-4c27-9db4-5aa308e0d03b', '_collection_name': 'pdf_init_feature_openai_embeddings'}),\n",
       " Document(page_content=\"`{'poliza': 'seguro para prestaciones médicas de alto costo', 'articulos': 'reglas aplicables al contrato, cobertura, definiciones, exclusiones, carencia, obligaciones del asegurado, declaraciones del asegurado, primas y efectos del no pago de las primas, beneficiarios, denuncia de siniestros, vigencia y terminación, comunicación entre las partes, solución de controversias, clausulas adicionales, domicilio', 'filename': 'POL320190074.pdf', 'poliza_id': 'POL320190074'}`\", metadata={'file': 'POL320190074_POL320190074', 'policy_header': 'SEGURO PARA PRESTACIONES MÉDICAS DE ALTO COSTO', '_id': '83538872-3cd0-4517-b716-bbcfc01123c0', '_collection_name': 'pdf_init_feature_openai_embeddings'})]"
      ]
     },
     "execution_count": 4,
     "metadata": {},
     "output_type": "execute_result"
    }
   ],
   "source": [
    "r1.invoke(\"recomandame un seguro para la salud\")"
   ]
  },
  {
   "cell_type": "code",
   "execution_count": 5,
   "metadata": {},
   "outputs": [
    {
     "name": "stderr",
     "output_type": "stream",
     "text": [
      "INFO:langchain.retrievers.multi_query:Generated queries: ['1. ¿Cuál es el mejor seguro de salud disponible en el mercado?', '2. ¿Qué opciones de seguros de salud recomendarías para mí?', '3. ¿Puedes sugerirme un plan de seguro de salud que se adapte a mis necesidades específicas?']\n"
     ]
    },
    {
     "data": {
      "text/plain": [
       "[Document(page_content=\"`{'poliza': 'seguro individual de enfermedades graves', 'articulos': 'reglas aplicables al contrato, cobertura y materia asegurada, limitaciones de la cobertura, exclusiones, obligaciones del asegurado, declaraciones del asegurado e indisputabilidad, vigencia y duracion del contrato de seguro, prima y efectos del no pago de la prima, denuncia de siniestro, requisitos para el pago de siniestro, pago de siniestro, término del contrato de seguro, rehabilitacion del contrato de seguro, impuestos, moneda o unidad del contrato de seguro, comunicacion entre las partes, solucion de controversias, derecho de retracto, domicilio, definiciones', 'filename': 'POL320200071.pdf', 'poliza_id': 'POL320160108'}`\", metadata={'file': 'POL320200071_POL320160108', 'policy_header': 'SEGURO INDIVIDUAL DE ENFERMEDADES GRAVES', '_id': 'bc3a26a8-2ca4-4e48-9962-37430ff2e549', '_collection_name': 'pdf_init_feature_openai_embeddings'}),\n",
       " Document(page_content=\"`{'poliza': 'exoneración de pago de primas por fallecimiento del asegurado titular', 'articulos': 'cobertura, exclusiones, carencia, beneficiarios, denuncia de siniestro, cláusulas aplicables', 'filename': 'POL320190074.pdf', 'poliza_id': 'CAD220130244'}`\", metadata={'file': 'POL320190074_CAD220130244', 'policy_header': 'EXONERACIÓN DE PAGO DE PRIMAS POR FALLECIMIENTO DEL ASEGURADO TITULAR', '_id': 'c4ba7954-a56d-4c27-9db4-5aa308e0d03b', '_collection_name': 'pdf_init_feature_openai_embeddings'}),\n",
       " Document(page_content=\"`{'poliza': 'seguro para prestaciones médicas de alto costo', 'articulos': 'reglas aplicables al contrato, cobertura, definiciones, exclusiones, carencia, obligaciones del asegurado, declaraciones del asegurado, primas y efectos del no pago de las primas, beneficiarios, denuncia de siniestros, vigencia y terminación, comunicación entre las partes, solución de controversias, clausulas adicionales, domicilio', 'filename': 'POL320190074.pdf', 'poliza_id': 'POL320190074'}`\", metadata={'file': 'POL320190074_POL320190074', 'policy_header': 'SEGURO PARA PRESTACIONES MÉDICAS DE ALTO COSTO', '_id': '83538872-3cd0-4517-b716-bbcfc01123c0', '_collection_name': 'pdf_init_feature_openai_embeddings'}),\n",
       " Document(page_content=\"`{'poliza': 'seguro colectivo complementario de salud', 'articulos': 'reglas aplicables al contrato, cobertura, definiciones, monto máximo de reembolso, duplicación de beneficios, exclusiones, riesgos cubiertos bajo estipulación expresa, obligaciones del asegurado, declaraciones del asegurado, beneficiarios, primas y efecto del no pago de las primas, denuncio de siniestro, vigencia y terminación de de la póliza, incorporación de nuevos asegurados, moneda o unidad de la póliza, comunicaciones, solución de controversias, domicilio, cláusulas adicionales', 'filename': 'POL320190074.pdf', 'poliza_id': 'POL320130223'}`\", metadata={'file': 'POL320190074_POL320130223', 'policy_header': 'SEGURO COLECTIVO COMPLEMENTARIO DE SALUD', '_id': '1f2efde7-efa5-4e43-b427-fdabbbf2e0b3', '_collection_name': 'pdf_init_feature_openai_embeddings'}),\n",
       " Document(page_content=\"`{'poliza': 'clausula de invalidez permanente 80% por accidente o enfermedad', 'articulos': 'cobertura y materia asegurada, definiciones, exclusiones, denuncia de siniestros, terminación, cláusulas aplicables', 'filename': 'POL320190074.pdf', 'poliza_id': 'CAD320190121'}`\", metadata={'file': 'POL320190074_CAD320190121', 'policy_header': 'CLAUSULA DE INVALIDEZ PERMANENTE 80% POR ACCIDENTE O ENFERMEDAD', '_id': '3d753e7d-1bdf-419a-aa63-f5457046c56c', '_collection_name': 'pdf_init_feature_openai_embeddings'})]"
      ]
     },
     "execution_count": 5,
     "metadata": {},
     "output_type": "execute_result"
    }
   ],
   "source": [
    "r2.invoke(\"recomandame un seguro para la salud\")"
   ]
  },
  {
   "cell_type": "code",
   "execution_count": 1,
   "metadata": {},
   "outputs": [],
   "source": [
    "from agent import create_agent\n",
    "\n",
    "chat_history = []\n",
    "def _chat_history(result):\n",
    "    global chat_history\n",
    "    chat_history.extend([(result[\"input\"], result[\"output\"])])\n",
    "    return chat_history\n",
    "\n",
    "agent = create_agent()"
   ]
  },
  {
   "cell_type": "code",
   "execution_count": 2,
   "metadata": {},
   "outputs": [],
   "source": [
    "msg = \"Cuales son los criterios de no pago de las polizas?\"\n",
    "result = agent.invoke({\"input\":msg, \"chat_history\": chat_history})\n",
    "chat_history = _chat_history(result)\n"
   ]
  },
  {
   "cell_type": "code",
   "execution_count": 7,
   "metadata": {},
   "outputs": [
    {
     "name": "stdout",
     "output_type": "stream",
     "text": [
      "Los criterios de no pago de las pólizas de seguro incluyen:\n",
      "\n",
      "1. Falta de pago de la prima: Si el asegurado no paga la prima en la forma y tiempo pactados, la póliza puede terminarse. La falta de pago de la prima dará derecho al asegurador a exigir el pago de la prima devengada hasta la fecha de terminación, así como los gastos de formalización del contrato.\n",
      "\n",
      "2. Requisitos para el pago de un siniestro: Para el pago de una indemnización por parte de la compañía de seguros, se deben cumplir ciertos requisitos, como la entrega oportuna del formulario proporcionado por la compañía, la presentación de la cédula de identidad del asegurado, antecedentes que acrediten la ocurrencia del siniestro, informes médicos, entre otros. El asegurado está obligado a proporcionar a la compañía los antecedentes necesarios para acreditar el siniestro denunciado.\n",
      "\n",
      "3. Copago: El asegurado debe soportar el pago de un monto cubierto por el asegurador según los porcentajes o montos fijos detallados en el condicionado particular de la póliza. En caso de que sea necesario, el asegurador puede exigir al asegurado el pago correspondiente. Además, el asegurado debe obtener pre-autorización para los beneficios cubiertos según lo establecido en el condicionado particular de la póliza.\n",
      "\n",
      "Es importante cumplir con los requisitos y condiciones establecidos en la póliza para garantizar el pago de indemnizaciones en caso de siniestros.\n"
     ]
    }
   ],
   "source": [
    "print(result[\"output\"])"
   ]
  },
  {
   "cell_type": "code",
   "execution_count": 8,
   "metadata": {},
   "outputs": [],
   "source": [
    "msg = \"Explicar 2. Requisitos para el pago de un siniestro\"\n",
    "result = agent.invoke({\"input\":msg, \"chat_history\": chat_history})\n",
    "chat_history = _chat_history(result)"
   ]
  },
  {
   "cell_type": "code",
   "execution_count": 10,
   "metadata": {},
   "outputs": [
    {
     "name": "stdout",
     "output_type": "stream",
     "text": [
      "Para el pago de una indemnización por parte de la compañía de seguros, se deben cumplir los siguientes requisitos:\n",
      "\n",
      "1. Entrega oportuna del formulario proporcionado por la compañía de seguros, con la información requerida.\n",
      "2. Presentación de una fotocopia de la cédula de identidad del asegurado y el certificado de nacimiento original.\n",
      "3. Aportar los antecedentes necesarios para acreditar la ocurrencia del siniestro, según lo establecido en el artículo 2 de las condiciones generales de la póliza.\n",
      "4. Proporcionar antecedentes como ficha clínica, informes médicos, exámenes, declaraciones, certificados u otros documentos relacionados directamente con el siniestro denunciado.\n",
      "5. El asegurado está obligado a acreditar la ocurrencia del siniestro denunciado y proporcionar a la compañía los antecedentes médicos, exámenes y documentos legales necesarios para acreditarlo.\n",
      "6. En caso de ser necesario, la compañía de seguros puede solicitar la realización de pericias o exámenes médicos.\n",
      "7. El asegurado debe solicitar a los médicos tratantes o instituciones de salud los antecedentes necesarios para acreditar el siniestro denunciado y autorizar al liquidador de seguros de la compañía para obtener dicha información.\n",
      "8. En caso de requerirse mayores antecedentes, la compañía procederá a la liquidación del siniestro de acuerdo con el procedimiento establecido en el reglamento de auxiliares de comercio de seguros.\n",
      "\n",
      "Es importante cumplir con estos requisitos para garantizar el pago de la indemnización en caso de siniestro.\n"
     ]
    }
   ],
   "source": [
    "print(result[\"output\"])"
   ]
  },
  {
   "cell_type": "code",
   "execution_count": 13,
   "metadata": {},
   "outputs": [
    {
     "name": "stdout",
     "output_type": "stream",
     "text": [
      "ARTÍCULO 10. REQUISITOS PARA EL PAGO DE SINIESTRO.  \n",
      " constituye requisito pago indemnizacion compañia seguros : ) entrega oportuna compañia seguros formulario proporcionado , informacion indique . b ) fotocopia cedula identidad asegurado certificado nacimiento original ; c ) antecedentes necesarios acreditar ocurrencia siniestro , establecido articulo 2 condiciones generales . d ) antecedentes tales , ficha clinica , informes medicos , examenes , declaraciones , certificados , documentos afines . asegurado obligado acreditar ocurrencia siniestro denunciado proporcionar compañia antecedentes medicos examenes , documentos legales necesarios , relacionen directamente siniestro denunciado , objeto acreditar ocurrido siniestro cubierto clausula adicional determinar monto indemnizacion . sentido , compañia podra solicitarle realizacion pericias examenes medicos . asegurado debera requerir medicos tratantes / instituciones salud , incluido instituto salud publica chile , antecedentes posean necesarios acreditacion siniestro denunciado autorizar compañia liquidador seguro , efectuar requerimiento , objeto acreditar siniestro denunciado gastos consecuentes . caso requerirse mayores antecedentes , compañia dispondra liquidacion siniestro conforme procedimiento liquidacion establecido d.s . n° 1055 , 2012 , reglamento auxiliares comercio seguros , modifique .\n",
      "\n",
      "ARTICULO 8º: PRIMAS Y EFECTOS DEL NO PAGO DE LAS PRIMAS \n",
      " obligacion pagar prima forma epoca pactadas correspondera contratante asegurado , especifique condiciones particulares poliza . falta pago prima producira terminacion contrato expiracion plazo quince contado fecha envio comunicacion , objeto , dirija asegurador asegurado contratante dara derecho exigir pague prima devengada fecha terminacion gastos formalizacion contrato . producida terminacion , responsabilidad asegurador siniestros posteriores cesara pleno derecho , necesidad declaracion judicial .\n",
      "\n",
      "ARTICULO 7°. OBLIGACIONES DEL ASEGURADO.- \n",
      " conforme articulo 524 codigo comercio , demas deberes establecidos condiciones particulares poliza , obligaciones asegurado aplicables seguro siguientes : 1 ) declarar sinceramente circunstancias solicite asegurador identificar cosa asegurada apreciar extension riesgos ; 2 ) pagar prima forma epoca pactadas ; 3 ) notificar asegurador , tomado conocimiento , ocurrencia constituir constituya siniestro , 4 ) acreditar ocurrencia siniestro denunciado , declarar fielmente reticencia , circunstancias consecuencias . tomador asegurado personas distintas , corresponde contratante cumplimiento obligaciones contrato , naturaleza cumplidos asegurado . obligaciones tomador podran cumplidas asegurado .\n",
      "pdf_final_feature\n"
     ]
    }
   ],
   "source": [
    "print(result[\"intermediate_steps\"][0][1])\n",
    "print(result[\"intermediate_steps\"][0][0].tool)"
   ]
  },
  {
   "cell_type": "code",
   "execution_count": 15,
   "metadata": {},
   "outputs": [],
   "source": [
    "answer = result.get(\"output\")\n",
    "tool = result[\"intermediate_steps\"][0][0].tool\n",
    "source = result[\"intermediate_steps\"][0][1]"
   ]
  },
  {
   "cell_type": "code",
   "execution_count": 21,
   "metadata": {},
   "outputs": [
    {
     "name": "stdout",
     "output_type": "stream",
     "text": [
      "Resultado del Agente:\n",
      "{'input': 'Busca poliza de seguro de vida.', 'chat_history': [], 'output': 'Se encontraron las siguientes secciones relacionadas con la póliza de seguro de vida:\\n\\n1. Exoneración de pago de primas por fallecimiento del asegurado titular: cobertura, exclusiones, carencia, beneficiarios, denuncia de siniestro, cláusulas aplicables.\\n\\n2. Seguro individual catastrófico por evento: reglas aplicables al contrato, cobertura, descripción de las coberturas, limitaciones de las coberturas, definiciones, exclusiones, obligaciones del asegurado, declaraciones del asegurado e indisputabilidad, vigencia y duración del contrato de seguro, prima y efectos del no pago de la prima, denuncia de siniestro, cálculo de los gastos reembolsables, término del contrato de seguro, impuestos, moneda o unidad del contrato de seguro, comunicación entre las partes, solución de controversias, derecho de retracto, domicilio, cláusulas adicionales.\\n\\n3. Cláusula de invalidez permanente 80% por accidente o enfermedad: cobertura y materia asegurada, definiciones, exclusiones, denuncia de siniestros, terminación, cláusulas aplicables.\\n\\n¿Hay alguna sección en particular que te interese revisar o necesitas más información sobre alguna de ellas?', 'intermediate_steps': [(AgentActionMessageLog(tool='feature_init_pdf', tool_input={'query': 'poliza de seguro de vida'}, log=\"\\nInvoking: `feature_init_pdf` with `{'query': 'poliza de seguro de vida'}`\\n\\n\\n\", message_log=[AIMessageChunk(content='', additional_kwargs={'function_call': {'arguments': '{\"query\":\"poliza de seguro de vida\"}', 'name': 'feature_init_pdf'}}, response_metadata={'finish_reason': 'function_call'})]), 'exoneración de pago de primas por fallecimiento del asegurado titular: cobertura, exclusiones, carencia, beneficiarios, denuncia de siniestro, cláusulas aplicables\\n\\nseguro individual catastrófico por evento: reglas aplicables al contrato, cobertura, descripción de las coberturas, limitaciones de las coberturas, definiciones, exclusiones, obligaciones del asegurado, declaraciones del asegurado e indisputabilidad, vigencia y duracion del contrato de seguro, prima y efectos del no pago de la prima, denuncia de siniestro, cálculo de los gastos reembolsables, término del contrato de seguro, impuestos, moneda o unidad del contrato de seguro, comunicacion entre las partes, solucion de controversias, derecho de retracto, domicilio, cláusulas adicionales\\n\\nclausula de invalidez permanente 80% por accidente o enfermedad: cobertura y materia asegurada, definiciones, exclusiones, denuncia de siniestros, terminación, cláusulas aplicables')]}\n"
     ]
    }
   ],
   "source": [
    "# Ejecutar el agente - Primer turno\n",
    "msg = \"Busca poliza de seguro de vida.\"\n",
    "result = agent.invoke({\"input\": msg, \"chat_history\": []})\n",
    "chat_history = _chat_history(result)\n",
    "## Imprimir el resultado\n",
    "print(\"Resultado del Agente:\")\n",
    "print(result)"
   ]
  },
  {
   "cell_type": "code",
   "execution_count": 27,
   "metadata": {},
   "outputs": [
    {
     "data": {
      "text/plain": [
       "[(AgentActionMessageLog(tool='feature_init_pdf', tool_input={'query': 'Exoneración de pago de primas por fallecimiento del asegurado titular: cobertura, exclusiones, carencia, beneficiarios, denuncia de siniestro, cláusulas aplicables.'}, log=\"\\nInvoking: `feature_init_pdf` with `{'query': 'Exoneración de pago de primas por fallecimiento del asegurado titular: cobertura, exclusiones, carencia, beneficiarios, denuncia de siniestro, cláusulas aplicables.'}`\\n\\n\\n\", message_log=[AIMessageChunk(content='', additional_kwargs={'function_call': {'arguments': '{\"query\":\"Exoneración de pago de primas por fallecimiento del asegurado titular: cobertura, exclusiones, carencia, beneficiarios, denuncia de siniestro, cláusulas aplicables.\"}', 'name': 'feature_init_pdf'}}, response_metadata={'finish_reason': 'function_call'})]),\n",
       "  'exoneración de pago de primas por fallecimiento del asegurado titular: cobertura, exclusiones, carencia, beneficiarios, denuncia de siniestro, cláusulas aplicables\\n\\nseguro individual catastrófico por evento: reglas aplicables al contrato, cobertura, descripción de las coberturas, limitaciones de las coberturas, definiciones, exclusiones, obligaciones del asegurado, declaraciones del asegurado e indisputabilidad, vigencia y duracion del contrato de seguro, prima y efectos del no pago de la prima, denuncia de siniestro, cálculo de los gastos reembolsables, término del contrato de seguro, impuestos, moneda o unidad del contrato de seguro, comunicacion entre las partes, solucion de controversias, derecho de retracto, domicilio, cláusulas adicionales\\n\\nclausula de invalidez permanente 80% por accidente o enfermedad: cobertura y materia asegurada, definiciones, exclusiones, denuncia de siniestros, terminación, cláusulas aplicables')]"
      ]
     },
     "execution_count": 27,
     "metadata": {},
     "output_type": "execute_result"
    }
   ],
   "source": [
    "result[\"output\"]\n",
    "result.keys()\n",
    "result[\"intermediate_steps\"]"
   ]
  },
  {
   "cell_type": "code",
   "execution_count": 22,
   "metadata": {},
   "outputs": [
    {
     "name": "stdout",
     "output_type": "stream",
     "text": [
      "Resultado del Agente:\n",
      "{'input': \"Quiero revisar la parte de 'exclusiones'\", 'chat_history': [('Busca poliza de seguro de vida.', 'Se encontraron las siguientes secciones relacionadas con la póliza de seguro de vida:\\n\\n1. Exoneración de pago de primas por fallecimiento del asegurado titular: cobertura, exclusiones, carencia, beneficiarios, denuncia de siniestro, cláusulas aplicables.\\n\\n2. Seguro individual catastrófico por evento: reglas aplicables al contrato, cobertura, descripción de las coberturas, limitaciones de las coberturas, definiciones, exclusiones, obligaciones del asegurado, declaraciones del asegurado e indisputabilidad, vigencia y duración del contrato de seguro, prima y efectos del no pago de la prima, denuncia de siniestro, cálculo de los gastos reembolsables, término del contrato de seguro, impuestos, moneda o unidad del contrato de seguro, comunicación entre las partes, solución de controversias, derecho de retracto, domicilio, cláusulas adicionales.\\n\\n3. Cláusula de invalidez permanente 80% por accidente o enfermedad: cobertura y materia asegurada, definiciones, exclusiones, denuncia de siniestros, terminación, cláusulas aplicables.\\n\\n¿Hay alguna sección en particular que te interese revisar o necesitas más información sobre alguna de ellas?'), (\"Quiero revisar la parte de 'exclusiones'\", 'La sección de exclusiones en la póliza de seguro de vida incluye las condiciones bajo las cuales la cobertura del seguro no se aplicará. Estas exclusiones pueden variar según el tipo de póliza y las circunstancias específicas. \\n\\nSi deseas más detalles sobre las exclusiones específicas en la póliza de seguro de vida que estás revisando, te recomendaría consultar directamente el documento completo de la póliza o contactar a tu agente de seguros para obtener información detallada al respecto. \\n\\nSi necesitas más ayuda o información sobre algún otro aspecto de la póliza de seguro de vida, no dudes en decírmelo. ¡Estoy aquí para ayudarte!')], 'output': 'La sección de exclusiones en la póliza de seguro de vida incluye las condiciones bajo las cuales la cobertura del seguro no se aplicará. Estas exclusiones pueden variar según el tipo de póliza y las circunstancias específicas. \\n\\nSi deseas más detalles sobre las exclusiones específicas en la póliza de seguro de vida que estás revisando, te recomendaría consultar directamente el documento completo de la póliza o contactar a tu agente de seguros para obtener información detallada al respecto. \\n\\nSi necesitas más ayuda o información sobre algún otro aspecto de la póliza de seguro de vida, no dudes en decírmelo. ¡Estoy aquí para ayudarte!', 'intermediate_steps': [(AgentActionMessageLog(tool='feature_init_pdf', tool_input={'query': 'Exoneración de pago de primas por fallecimiento del asegurado titular: cobertura, exclusiones, carencia, beneficiarios, denuncia de siniestro, cláusulas aplicables.'}, log=\"\\nInvoking: `feature_init_pdf` with `{'query': 'Exoneración de pago de primas por fallecimiento del asegurado titular: cobertura, exclusiones, carencia, beneficiarios, denuncia de siniestro, cláusulas aplicables.'}`\\n\\n\\n\", message_log=[AIMessageChunk(content='', additional_kwargs={'function_call': {'arguments': '{\"query\":\"Exoneración de pago de primas por fallecimiento del asegurado titular: cobertura, exclusiones, carencia, beneficiarios, denuncia de siniestro, cláusulas aplicables.\"}', 'name': 'feature_init_pdf'}}, response_metadata={'finish_reason': 'function_call'})]), 'exoneración de pago de primas por fallecimiento del asegurado titular: cobertura, exclusiones, carencia, beneficiarios, denuncia de siniestro, cláusulas aplicables\\n\\nseguro individual catastrófico por evento: reglas aplicables al contrato, cobertura, descripción de las coberturas, limitaciones de las coberturas, definiciones, exclusiones, obligaciones del asegurado, declaraciones del asegurado e indisputabilidad, vigencia y duracion del contrato de seguro, prima y efectos del no pago de la prima, denuncia de siniestro, cálculo de los gastos reembolsables, término del contrato de seguro, impuestos, moneda o unidad del contrato de seguro, comunicacion entre las partes, solucion de controversias, derecho de retracto, domicilio, cláusulas adicionales\\n\\nclausula de invalidez permanente 80% por accidente o enfermedad: cobertura y materia asegurada, definiciones, exclusiones, denuncia de siniestros, terminación, cláusulas aplicables')]}\n"
     ]
    }
   ],
   "source": [
    "# Ejecutar el agente - Segundo turno\n",
    "msg = \"Quiero revisar la parte de 'exclusiones'\"\n",
    "result = agent.invoke({\"input\": msg, \"chat_history\": chat_history})\n",
    "chat_history = _chat_history(result)\n",
    "# # Imprimir el resultado\n",
    "print(\"Resultado del Agente:\")\n",
    "print(result)"
   ]
  },
  {
   "cell_type": "code",
   "execution_count": 23,
   "metadata": {},
   "outputs": [
    {
     "data": {
      "text/plain": [
       "[('Busca poliza de seguro de vida.',\n",
       "  'Se encontraron las siguientes secciones relacionadas con la póliza de seguro de vida:\\n\\n1. Exoneración de pago de primas por fallecimiento del asegurado titular: cobertura, exclusiones, carencia, beneficiarios, denuncia de siniestro, cláusulas aplicables.\\n\\n2. Seguro individual catastrófico por evento: reglas aplicables al contrato, cobertura, descripción de las coberturas, limitaciones de las coberturas, definiciones, exclusiones, obligaciones del asegurado, declaraciones del asegurado e indisputabilidad, vigencia y duración del contrato de seguro, prima y efectos del no pago de la prima, denuncia de siniestro, cálculo de los gastos reembolsables, término del contrato de seguro, impuestos, moneda o unidad del contrato de seguro, comunicación entre las partes, solución de controversias, derecho de retracto, domicilio, cláusulas adicionales.\\n\\n3. Cláusula de invalidez permanente 80% por accidente o enfermedad: cobertura y materia asegurada, definiciones, exclusiones, denuncia de siniestros, terminación, cláusulas aplicables.\\n\\n¿Hay alguna sección en particular que te interese revisar o necesitas más información sobre alguna de ellas?'),\n",
       " (\"Quiero revisar la parte de 'exclusiones'\",\n",
       "  'La sección de exclusiones en la póliza de seguro de vida incluye las condiciones bajo las cuales la cobertura del seguro no se aplicará. Estas exclusiones pueden variar según el tipo de póliza y las circunstancias específicas. \\n\\nSi deseas más detalles sobre las exclusiones específicas en la póliza de seguro de vida que estás revisando, te recomendaría consultar directamente el documento completo de la póliza o contactar a tu agente de seguros para obtener información detallada al respecto. \\n\\nSi necesitas más ayuda o información sobre algún otro aspecto de la póliza de seguro de vida, no dudes en decírmelo. ¡Estoy aquí para ayudarte!')]"
      ]
     },
     "execution_count": 23,
     "metadata": {},
     "output_type": "execute_result"
    }
   ],
   "source": [
    "chat_history"
   ]
  },
  {
   "cell_type": "markdown",
   "metadata": {},
   "source": [
    "# Conversational Retrieaval QA\n",
    "\n",
    "https://github.com/langchain-ai/langchain/blob/master/cookbook/openai_functions_retrieval_qa.ipynb"
   ]
  },
  {
   "cell_type": "code",
   "execution_count": 28,
   "metadata": {},
   "outputs": [],
   "source": [
    "import os\n",
    "from dotenv import load_dotenv\n",
    "\n",
    "from langchain.chains.openai_functions.qa_with_structure import create_qa_with_sources_chain\n",
    "from langchain.chains.combine_documents.stuff import StuffDocumentsChain\n",
    "from langchain.prompts import PromptTemplate\n",
    "from langchain_openai import ChatOpenAI\n",
    "from langchain.chains.conversational_retrieval.base import ConversationalRetrievalChain\n",
    "from langchain.chains.llm import LLMChain\n",
    "from langchain.memory import ConversationBufferMemory\n",
    "\n",
    "from ml_service.pdf_vdb import qdrant_retriever\n",
    "\n",
    "load_dotenv()\n",
    "\n",
    "llm = ChatOpenAI(temperature=0, model=\"gpt-3.5-turbo-0125\",\n",
    "                 api_key=os.getenv(\"OPENAI_API_KEY\"))\n",
    "\n",
    "qa_chain = create_qa_with_sources_chain(llm)\n",
    "\n",
    "doc_prompt = PromptTemplate(\n",
    "    template=\"Content: {page_content}\\nSource: {policy_header}\",\n",
    "    input_variables=[\"page_content\", \"policy_header\"],\n",
    ")\n",
    "\n",
    "final_qa_chain = StuffDocumentsChain(\n",
    "    llm_chain=qa_chain,\n",
    "    document_variable_name=\"context\",\n",
    "    document_prompt=doc_prompt,\n",
    ")\n",
    "\n",
    "# Retriever params\n",
    "search_type = \"mmr\"\n",
    "search_kwargs = {\"k\": 3, \"lambda_mult\": 0.25}\n",
    "\n",
    "\n",
    "# Obtain the retrievers\n",
    "pdf_retriever = qdrant_retriever(search_type, search_kwargs)\n",
    "\n",
    "memory = ConversationBufferMemory(\n",
    "    memory_key=\"chat_history\", return_messages=True)\n",
    "\n",
    "_template = \"\"\"Given the following conversation and a follow up question, rephrase the follow up question to be a standalone question, in its original language.\\\n",
    "Make sure to avoid using any unclear pronouns.\n",
    "\n",
    "Chat History:\n",
    "{chat_history}\n",
    "Follow Up Input: {question}\n",
    "Standalone question:\"\"\"\n",
    "CONDENSE_QUESTION_PROMPT = PromptTemplate.from_template(_template)\n",
    "condense_question_chain = LLMChain(\n",
    "    llm=llm,\n",
    "    prompt=CONDENSE_QUESTION_PROMPT,\n",
    ")\n",
    "\n",
    "qa = ConversationalRetrievalChain(\n",
    "    question_generator=condense_question_chain,\n",
    "    retriever=pdf_retriever,\n",
    "    memory=memory,\n",
    "    combine_docs_chain=final_qa_chain,\n",
    ")"
   ]
  },
  {
   "cell_type": "code",
   "execution_count": 29,
   "metadata": {},
   "outputs": [
    {
     "data": {
      "text/plain": [
       "{'question': 'Puedes recomendarme una poliza de salud?',\n",
       " 'chat_history': [HumanMessage(content='Puedes recomendarme una poliza de salud?'),\n",
       "  AIMessage(content='{\\n  \"answer\": \"Para recomendar una póliza de salud, es importante considerar las necesidades específicas de cada persona, como la cobertura deseada, el monto máximo de reembolso, las exclusiones, los riesgos cubiertos, entre otros aspectos. Se sugiere consultar con un agente de seguros o una compañía de seguros para obtener asesoramiento personalizado en base a la información proporcionada en los documentos mencionados: SEGURO COLECTIVO COMPLEMENTARIO DE SALUD, EXONERACIÓN DE PAGO DE PRIMAS POR FALLECIMIENTO DEL ASEGURADO TITULAR y CLAUSULA DE INVALIDEZ PERMANENTE 80% POR ACCIDENTE O ENFERMEDAD.\",\\n  \"sources\": [\"SEGURO COLECTIVO COMPLEMENTARIO DE SALUD\", \"EXONERACIÓN DE PAGO DE PRIMAS POR FALLECIMIENTO DEL ASEGURADO TITULAR\", \"CLAUSULA DE INVALIDEZ PERMANENTE 80% POR ACCIDENTE O ENFERMEDAD\"]\\n}')],\n",
       " 'answer': '{\\n  \"answer\": \"Para recomendar una póliza de salud, es importante considerar las necesidades específicas de cada persona, como la cobertura deseada, el monto máximo de reembolso, las exclusiones, los riesgos cubiertos, entre otros aspectos. Se sugiere consultar con un agente de seguros o una compañía de seguros para obtener asesoramiento personalizado en base a la información proporcionada en los documentos mencionados: SEGURO COLECTIVO COMPLEMENTARIO DE SALUD, EXONERACIÓN DE PAGO DE PRIMAS POR FALLECIMIENTO DEL ASEGURADO TITULAR y CLAUSULA DE INVALIDEZ PERMANENTE 80% POR ACCIDENTE O ENFERMEDAD.\",\\n  \"sources\": [\"SEGURO COLECTIVO COMPLEMENTARIO DE SALUD\", \"EXONERACIÓN DE PAGO DE PRIMAS POR FALLECIMIENTO DEL ASEGURADO TITULAR\", \"CLAUSULA DE INVALIDEZ PERMANENTE 80% POR ACCIDENTE O ENFERMEDAD\"]\\n}'}"
      ]
     },
     "execution_count": 29,
     "metadata": {},
     "output_type": "execute_result"
    }
   ],
   "source": [
    "query = \"Puedes recomendarme una poliza de salud?\"\n",
    "result = qa.invoke({\"question\": query})\n",
    "result"
   ]
  },
  {
   "cell_type": "code",
   "execution_count": 32,
   "metadata": {},
   "outputs": [
    {
     "data": {
      "text/plain": [
       "{'answer': 'Para recomendar una póliza de salud, es importante considerar las necesidades específicas de cada persona, como la cobertura deseada, el monto máximo de reembolso, las exclusiones, los riesgos cubiertos, entre otros aspectos. Se sugiere consultar con un agente de seguros o una compañía de seguros para obtener asesoramiento personalizado en base a la información proporcionada en los documentos mencionados: SEGURO COLECTIVO COMPLEMENTARIO DE SALUD, EXONERACIÓN DE PAGO DE PRIMAS POR FALLECIMIENTO DEL ASEGURADO TITULAR y CLAUSULA DE INVALIDEZ PERMANENTE 80% POR ACCIDENTE O ENFERMEDAD.',\n",
       " 'sources': ['SEGURO COLECTIVO COMPLEMENTARIO DE SALUD',\n",
       "  'EXONERACIÓN DE PAGO DE PRIMAS POR FALLECIMIENTO DEL ASEGURADO TITULAR',\n",
       "  'CLAUSULA DE INVALIDEZ PERMANENTE 80% POR ACCIDENTE O ENFERMEDAD']}"
      ]
     },
     "execution_count": 32,
     "metadata": {},
     "output_type": "execute_result"
    }
   ],
   "source": [
    "import ast\n",
    "\n",
    "ast.literal_eval(result[\"answer\"])"
   ]
  },
  {
   "cell_type": "markdown",
   "metadata": {},
   "source": [
    "# Testeo del agente\n",
    "\n",
    "no funciona, problemas con el RunnableParallel"
   ]
  },
  {
   "cell_type": "code",
   "execution_count": 12,
   "metadata": {},
   "outputs": [],
   "source": [
    "import json\n",
    "from langchain_core.agents import AgentActionMessageLog, AgentFinish\n",
    "\n",
    "\n",
    "def parse(output):\n",
    "    # If no function was invoked, return to user\n",
    "    if \"function_call\" not in output.additional_kwargs:\n",
    "        return AgentFinish(return_values={\"output\": output.content}, log=output.content)\n",
    "\n",
    "    # Parse out the function call\n",
    "    function_call = output.additional_kwargs[\"function_call\"]\n",
    "    name = function_call[\"name\"]\n",
    "    inputs = json.loads(function_call[\"arguments\"])\n",
    "\n",
    "    # If the Response function was invoked, return to the user with the function inputs\n",
    "    if name == \"Response\":\n",
    "        return AgentFinish(return_values=inputs, log=str(function_call))\n",
    "    # Otherwise, return an agent action\n",
    "    else:\n",
    "        return AgentActionMessageLog(\n",
    "            tool=name, tool_input=inputs, log=\"\", message_log=[output]\n",
    "        )"
   ]
  },
  {
   "cell_type": "code",
   "execution_count": 11,
   "metadata": {},
   "outputs": [],
   "source": [
    "from typing import List\n",
    "\n",
    "from langchain_core.pydantic_v1 import BaseModel, Field\n",
    "\n",
    "\n",
    "class Response(BaseModel):\n",
    "    \"\"\"Final response to the question being asked\"\"\"\n",
    "\n",
    "    answer: str = Field(description=\"The final answer to respond to the user\")\n",
    "    sources: List[int] = Field(\n",
    "        description=\"List of page chunks that contain answer to the question. Only include a page chunk if it contains relevant information\"\n",
    "    )"
   ]
  },
  {
   "cell_type": "code",
   "execution_count": 12,
   "metadata": {},
   "outputs": [],
   "source": [
    "import os\n",
    "from typing import Dict, List, Tuple\n",
    "import json\n",
    "\n",
    "from langchain.agents import (\n",
    "    AgentExecutor,\n",
    "    Tool,\n",
    ")\n",
    "from langchain.agents.format_scratchpad.openai_functions import format_to_openai_function_messages\n",
    "from langchain_core.utils.function_calling import convert_to_openai_function\n",
    "\n",
    "from langchain.memory import ConversationBufferMemory\n",
    "from langchain.agents.output_parsers import OpenAIFunctionsAgentOutputParser\n",
    "\n",
    "from langchain_community.vectorstores.qdrant import Qdrant\n",
    "from langchain_openai.chat_models.base import ChatOpenAI\n",
    "from langchain_core.documents import Document\n",
    "from langchain_core.messages import AIMessage, HumanMessage\n",
    "from langchain_core.prompts import (\n",
    "    ChatPromptTemplate,\n",
    "    MessagesPlaceholder,\n",
    ")\n",
    "from langchain_core.pydantic_v1 import BaseModel, Field\n",
    "from langchain_core.runnables import Runnable, RunnableLambda, RunnableParallel\n",
    "from langchain_core.tools import BaseTool\n",
    "from langchain.tools.retriever import create_retriever_tool\n",
    "\n",
    "\n",
    "from ml_service.pdf_vdb import qdrant_retriever as pdf_qdrant_retriever\n",
    "from ml_service.web_scrapper import parent_document_retriever, qdrant_retriever\n",
    "from ml_service.tools.embeddings import Embeddings\n",
    "\n",
    "\n",
    "emb = Embeddings()\n",
    "embeddings = emb.obtain_embeddings(\"openai_embeddings\")\n",
    "\n",
    "\n",
    "# Retriever params\n",
    "search_type = \"mmr\"\n",
    "search_kwargs = {\"k\": 3, \"lambda_mult\": 0.25}\n",
    "\n",
    "\n",
    "# web scrapper params\n",
    "searchs = [\n",
    "    (\"codigo_de_comercio\", [524, 525, 526]),  # , 538]),\n",
    "    (\"companias_de_seguros\", [3, 10, 36]),\n",
    "    (\"protocolo_seguridad_sanitaria\", [18]),\n",
    "    (\"codigo_sanitario\", [112]),\n",
    "    (\"codigo_penal\", [470]),\n",
    "]\n",
    "\n",
    "# Obtain the retrievers\n",
    "pdf_retriever = pdf_qdrant_retriever(search_type, search_kwargs)\n",
    "web_retriever = qdrant_retriever(searchs, search_type, search_kwargs)\n",
    "\n",
    "\n",
    "pdf_tool = create_retriever_tool(\n",
    "    retriever=pdf_retriever,\n",
    "    # title=\"Feature Init PDF\",\n",
    "    description=\"Busca y devuelve indices de polizas de seguros o el encabezado de los articulos.\",\n",
    "    name=\"feature_init_pdf\",\n",
    ")\n",
    "\n",
    "\n",
    "web_tool = create_retriever_tool(\n",
    "    retriever=web_retriever,\n",
    "    # title=\"Web Scrapper Constitucion Chile\",\n",
    "    description=\"Busca y devuelve extractos de los codigos de ley de la constitucion de Chile.\",\n",
    "    name=\"webscrapper_codigo_chile\",\n",
    ")\n",
    "\n",
    "\n",
    "ALL_TOOLS: List[BaseTool] = [pdf_tool, web_tool]\n",
    "\n",
    "# turn tools into documents for indexing\n",
    "tool_docs = [\n",
    "    Document(page_content=t.description, metadata={\"index\": i})\n",
    "    for i, t in enumerate(ALL_TOOLS)\n",
    "]\n",
    "\n",
    "\n",
    "vectorstore = Qdrant.from_documents(\n",
    "    tool_docs,\n",
    "    embeddings,\n",
    "    location=\":memory:\",\n",
    "    collection_name=\"agent_tools_documents\",\n",
    ")\n",
    "retriever = vectorstore.as_retriever(search_kwargs={\"k\": 1})\n",
    "\n",
    "\n",
    "def get_tools(query: str) -> List[Tool]:\n",
    "    docs = retriever.get_relevant_documents(query)\n",
    "    return [ALL_TOOLS[d.metadata[\"index\"]] for d in docs]\n",
    "\n",
    "\n",
    "# https://python.langchain.com/docs/modules/agents/how_to/custom_agent#adding-memory\n",
    "assistant_system_message = \"\"\"Eres un asistente asesor para una compañia de seguros. \\\n",
    "Usa la tool 'webscrapper_codigo_chile' solo si se especifica una busqueda relacionada a aspectos legales.\n",
    "La tool 'feature_init_pdf' es la herramienta principal para identificar polizas o articulos de polizas.\n",
    "\"\"\"\n",
    "prompt = ChatPromptTemplate.from_messages(\n",
    "    [\n",
    "        (\"system\", assistant_system_message),\n",
    "        MessagesPlaceholder(variable_name=\"chat_history\"),\n",
    "        (\"user\", \"{input}\"),\n",
    "        MessagesPlaceholder(variable_name=\"agent_scratchpad\"),\n",
    "    ]\n",
    ")\n",
    "\n",
    "\n",
    "memory = ConversationBufferMemory(\n",
    "    memory_key=\"chat_history\", return_messages=True)\n",
    "\n",
    "llm = ChatOpenAI(temperature=0.0, model=\"gpt-3.5-turbo-0125\", api_key=os.getenv(\"OPENAI_API_KEY\"))\n",
    "# llm2 = llm.bind_functions(Response)\n",
    "def llm_with_tools(input: Dict) -> Runnable:\n",
    "    return RunnableLambda(lambda x: x[\"input\"]) | llm.bind_functions(input[\"functions\"])\n",
    "\n",
    "\n",
    "def _format_chat_history(chat_history: List[Tuple[str, str]]):\n",
    "    buffer = []\n",
    "    for human, ai in chat_history:\n",
    "        buffer.append(HumanMessage(content=human))\n",
    "        buffer.append(AIMessage(content=ai))\n",
    "    return buffer\n",
    "\n",
    "\n",
    "\n",
    "agent = (\n",
    "    RunnableParallel(\n",
    "        {\n",
    "            \"input\": lambda x: x[\"input\"],\n",
    "            \"chat_history\": lambda x: _format_chat_history(x[\"chat_history\"]),\n",
    "            # \"chat_history\": lambda x: x[\"chat_history\"],\n",
    "            \"agent_scratchpad\": lambda x: format_to_openai_function_messages(\n",
    "                x[\"intermediate_steps\"]\n",
    "            ),\n",
    "            \"functions\": lambda x: [\n",
    "                convert_to_openai_function(tool) for tool in get_tools(x[\"input\"])\n",
    "            ],\n",
    "        }\n",
    "    )\n",
    "    | {\n",
    "        \"input\": prompt,\n",
    "        \"functions\": lambda x: x[\"functions\"],# + [Response],\n",
    "    }\n",
    "    | llm_with_tools\n",
    "    | OpenAIFunctionsAgentOutputParser()\n",
    "    # | parse\n",
    ")\n",
    "\n",
    "# agent_executor = AgentExecutor(agent=agent, tools=ALL_TOOLS, memory=memory)\n",
    "agent_executor = AgentExecutor(agent=agent, tools=ALL_TOOLS, return_intermediate_steps=True)"
   ]
  },
  {
   "cell_type": "code",
   "execution_count": 13,
   "metadata": {},
   "outputs": [],
   "source": [
    "chat_history = []\n",
    "def _chat_history(result):\n",
    "    global chat_history\n",
    "    chat_history.extend([(result[\"input\"], result[\"output\"])])\n",
    "    return chat_history"
   ]
  },
  {
   "cell_type": "code",
   "execution_count": 14,
   "metadata": {},
   "outputs": [
    {
     "name": "stdout",
     "output_type": "stream",
     "text": [
      "Resultado del Agente:\n",
      "{'input': 'Busca poliza de seguro de vida.', 'chat_history': [], 'output': 'Se encontraron las siguientes secciones relacionadas con la póliza de seguro de vida:\\n\\n1. Exoneración de pago de primas por fallecimiento del asegurado titular: cobertura, exclusiones, carencia, beneficiarios, denuncia de siniestro, cláusulas aplicables.\\n\\n2. Seguro individual catastrófico por evento: reglas aplicables al contrato, cobertura, descripción de las coberturas, limitaciones de las coberturas, definiciones, exclusiones, obligaciones del asegurado, declaraciones del asegurado e indisputabilidad, vigencia y duración del contrato de seguro, prima y efectos del no pago de la prima, denuncia de siniestro, cálculo de los gastos reembolsables, término del contrato de seguro, impuestos, moneda o unidad del contrato de seguro, comunicación entre las partes, solución de controversias, derecho de retracto, domicilio, cláusulas adicionales.\\n\\n3. Cláusula de invalidez permanente 80% por accidente o enfermedad: cobertura y materia asegurada, definiciones, exclusiones, denuncia de siniestros, terminación, cláusulas aplicables.\\n\\n¿Hay alguna sección en particular que te interese revisar con más detalle?', 'intermediate_steps': [(AgentActionMessageLog(tool='feature_init_pdf', tool_input={'query': 'poliza de seguro de vida'}, log=\"\\nInvoking: `feature_init_pdf` with `{'query': 'poliza de seguro de vida'}`\\n\\n\\n\", message_log=[AIMessageChunk(content='', additional_kwargs={'function_call': {'arguments': '{\"query\":\"poliza de seguro de vida\"}', 'name': 'feature_init_pdf'}}, response_metadata={'finish_reason': 'function_call'})]), 'exoneración de pago de primas por fallecimiento del asegurado titular: cobertura, exclusiones, carencia, beneficiarios, denuncia de siniestro, cláusulas aplicables\\n\\nseguro individual catastrófico por evento: reglas aplicables al contrato, cobertura, descripción de las coberturas, limitaciones de las coberturas, definiciones, exclusiones, obligaciones del asegurado, declaraciones del asegurado e indisputabilidad, vigencia y duracion del contrato de seguro, prima y efectos del no pago de la prima, denuncia de siniestro, cálculo de los gastos reembolsables, término del contrato de seguro, impuestos, moneda o unidad del contrato de seguro, comunicacion entre las partes, solucion de controversias, derecho de retracto, domicilio, cláusulas adicionales\\n\\nclausula de invalidez permanente 80% por accidente o enfermedad: cobertura y materia asegurada, definiciones, exclusiones, denuncia de siniestros, terminación, cláusulas aplicables')]}\n"
     ]
    }
   ],
   "source": [
    "# Con return_intermediate y manejando manualmente el chat history\n",
    "msg = \"Busca poliza de seguro de vida.\"\n",
    "\n",
    "# Ejecutar el agente\n",
    "result = agent_executor.invoke({\"input\": msg, \"chat_history\": []})\n",
    "\n",
    "# # Imprimir el resultado\n",
    "print(\"Resultado del Agente:\")\n",
    "print(result)"
   ]
  },
  {
   "cell_type": "code",
   "execution_count": 15,
   "metadata": {},
   "outputs": [
    {
     "name": "stdout",
     "output_type": "stream",
     "text": [
      "Resultado del Agente:\n",
      "{'input': \"Quiero revisar la parte de 'exclusiones'\", 'chat_history': [('Busca poliza de seguro de vida.', 'Se encontraron las siguientes secciones relacionadas con la póliza de seguro de vida:\\n\\n1. Exoneración de pago de primas por fallecimiento del asegurado titular: cobertura, exclusiones, carencia, beneficiarios, denuncia de siniestro, cláusulas aplicables.\\n\\n2. Seguro individual catastrófico por evento: reglas aplicables al contrato, cobertura, descripción de las coberturas, limitaciones de las coberturas, definiciones, exclusiones, obligaciones del asegurado, declaraciones del asegurado e indisputabilidad, vigencia y duración del contrato de seguro, prima y efectos del no pago de la prima, denuncia de siniestro, cálculo de los gastos reembolsables, término del contrato de seguro, impuestos, moneda o unidad del contrato de seguro, comunicación entre las partes, solución de controversias, derecho de retracto, domicilio, cláusulas adicionales.\\n\\n3. Cláusula de invalidez permanente 80% por accidente o enfermedad: cobertura y materia asegurada, definiciones, exclusiones, denuncia de siniestros, terminación, cláusulas aplicables.\\n\\n¿Hay alguna sección en particular que te interese revisar con más detalle?')], 'output': 'La sección de exclusiones en la póliza de seguro de vida incluye las condiciones bajo las cuales la cobertura del seguro no se aplicará. Estas exclusiones pueden variar según el tipo de póliza y las circunstancias específicas. Es importante revisar detenidamente esta sección para comprender qué situaciones no están cubiertas por el seguro de vida.\\n\\nSi deseas más información detallada sobre las exclusiones específicas en la póliza de seguro de vida, por favor házmelo saber para buscar más detalles.', 'intermediate_steps': [(AgentActionMessageLog(tool='feature_init_pdf', tool_input={'query': 'Exoneración de pago de primas por fallecimiento del asegurado titular: cobertura, exclusiones, carencia, beneficiarios, denuncia de siniestro, cláusulas aplicables.'}, log=\"\\nInvoking: `feature_init_pdf` with `{'query': 'Exoneración de pago de primas por fallecimiento del asegurado titular: cobertura, exclusiones, carencia, beneficiarios, denuncia de siniestro, cláusulas aplicables.'}`\\n\\n\\n\", message_log=[AIMessageChunk(content='', additional_kwargs={'function_call': {'arguments': '{\"query\":\"Exoneración de pago de primas por fallecimiento del asegurado titular: cobertura, exclusiones, carencia, beneficiarios, denuncia de siniestro, cláusulas aplicables.\"}', 'name': 'feature_init_pdf'}}, response_metadata={'finish_reason': 'function_call'})]), 'exoneración de pago de primas por fallecimiento del asegurado titular: cobertura, exclusiones, carencia, beneficiarios, denuncia de siniestro, cláusulas aplicables\\n\\nseguro individual catastrófico por evento: reglas aplicables al contrato, cobertura, descripción de las coberturas, limitaciones de las coberturas, definiciones, exclusiones, obligaciones del asegurado, declaraciones del asegurado e indisputabilidad, vigencia y duracion del contrato de seguro, prima y efectos del no pago de la prima, denuncia de siniestro, cálculo de los gastos reembolsables, término del contrato de seguro, impuestos, moneda o unidad del contrato de seguro, comunicacion entre las partes, solucion de controversias, derecho de retracto, domicilio, cláusulas adicionales\\n\\nclausula de invalidez permanente 80% por accidente o enfermedad: cobertura y materia asegurada, definiciones, exclusiones, denuncia de siniestros, terminación, cláusulas aplicables')]}\n"
     ]
    }
   ],
   "source": [
    "# Con return_intermediate y manejando manualmente el chat history\n",
    "msg = \"Quiero revisar la parte de 'exclusiones'\"\n",
    "\n",
    "# Ejecutar el agente\n",
    "result = agent_executor.invoke({\"input\": msg, \"chat_history\": _chat_history(result)})\n",
    "\n",
    "# # Imprimir el resultado\n",
    "print(\"Resultado del Agente:\")\n",
    "print(result)\n"
   ]
  },
  {
   "cell_type": "code",
   "execution_count": 18,
   "metadata": {},
   "outputs": [
    {
     "data": {
      "text/plain": [
       "[('Busca poliza de seguro de vida.',\n",
       "  'Se encontraron las siguientes secciones relacionadas con la póliza de seguro de vida:\\n\\n1. Exoneración de pago de primas por fallecimiento del asegurado titular: cobertura, exclusiones, carencia, beneficiarios, denuncia de siniestro, cláusulas aplicables.\\n\\n2. Seguro individual catastrófico por evento: reglas aplicables al contrato, cobertura, descripción de las coberturas, limitaciones de las coberturas, definiciones, exclusiones, obligaciones del asegurado, declaraciones del asegurado e indisputabilidad, vigencia y duración del contrato de seguro, prima y efectos del no pago de la prima, denuncia de siniestro, cálculo de los gastos reembolsables, término del contrato de seguro, impuestos, moneda o unidad del contrato de seguro, comunicación entre las partes, solución de controversias, derecho de retracto, domicilio, cláusulas adicionales.\\n\\n3. Cláusula de invalidez permanente 80% por accidente o enfermedad: cobertura y materia asegurada, definiciones, exclusiones, denuncia de siniestros, terminación, cláusulas aplicables.\\n\\n¿Hay alguna sección en particular que te interese revisar con más detalle?')]"
      ]
     },
     "execution_count": 18,
     "metadata": {},
     "output_type": "execute_result"
    }
   ],
   "source": [
    "result[\"chat_history\"];\n",
    "chat_history"
   ]
  },
  {
   "cell_type": "code",
   "execution_count": 19,
   "metadata": {},
   "outputs": [
    {
     "data": {
      "text/plain": [
       "'exoneración de pago de primas por fallecimiento del asegurado titular: cobertura, exclusiones, carencia, beneficiarios, denuncia de siniestro, cláusulas aplicables\\n\\nseguro individual catastrófico por evento: reglas aplicables al contrato, cobertura, descripción de las coberturas, limitaciones de las coberturas, definiciones, exclusiones, obligaciones del asegurado, declaraciones del asegurado e indisputabilidad, vigencia y duracion del contrato de seguro, prima y efectos del no pago de la prima, denuncia de siniestro, cálculo de los gastos reembolsables, término del contrato de seguro, impuestos, moneda o unidad del contrato de seguro, comunicacion entre las partes, solucion de controversias, derecho de retracto, domicilio, cláusulas adicionales\\n\\nclausula de invalidez permanente 80% por accidente o enfermedad: cobertura y materia asegurada, definiciones, exclusiones, denuncia de siniestros, terminación, cláusulas aplicables'"
      ]
     },
     "execution_count": 19,
     "metadata": {},
     "output_type": "execute_result"
    }
   ],
   "source": [
    "result[\"intermediate_steps\"][0][1]"
   ]
  },
  {
   "cell_type": "markdown",
   "metadata": {},
   "source": [
    "## Probando el webscrapper de codigos de Chile"
   ]
  },
  {
   "cell_type": "markdown",
   "metadata": {},
   "source": [
    "# Query transformation"
   ]
  },
  {
   "cell_type": "code",
   "execution_count": 3,
   "metadata": {},
   "outputs": [],
   "source": [
    "import os\n",
    "from dotenv import load_dotenv\n",
    "\n",
    "\n",
    "from langchain.chains.llm import LLMChain\n",
    "\n",
    "from langchain_openai import ChatOpenAI\n",
    "from langchain.chains.combine_documents import create_stuff_documents_chain\n",
    "from langchain_core.prompts import ChatPromptTemplate, MessagesPlaceholder\n",
    "from langchain_core.messages import AIMessage, HumanMessage\n",
    "from langchain_core.output_parsers import StrOutputParser\n",
    "from langchain_core.runnables import RunnableBranch\n",
    "\n",
    "load_dotenv()\n",
    "\n",
    "\n",
    "chat = ChatOpenAI(\n",
    "    model=\"gpt-3.5-turbo-0125\", temperature=0, api_key=os.getenv(\"OPENAI_API_KEY\")\n",
    ")\n",
    "\n",
    "\n",
    "query_transform_prompt = ChatPromptTemplate.from_messages(\n",
    "    [\n",
    "        MessagesPlaceholder(variable_name=\"messages\"),\n",
    "        (\n",
    "            \"user\",\n",
    "            \"Eres un webscrapper que busca informacion legal del codigo de Chile.\\\n",
    "            Tu tarea es generar una respuesta hipotetica a la consulta anterior.\\\n",
    "            La respuesta debe ser muy breve pero debe mejorar el contexto de la consulta.\\\n",
    "            Devolver solo la consulta y la respuesta separados por un punto: `pregunta`. `respuesta`.\",\n",
    "        ),\n",
    "    ]\n",
    ")\n",
    "\n",
    "\n",
    "query_transforming_retriever_chain = RunnableBranch(\n",
    "    (\n",
    "        lambda x: len(x.get(\"messages\", [])) == 1,\n",
    "        # If only one message, then we just pass that message's content to retriever\n",
    "        (lambda x: x[\"messages\"][-1].content) | retriever,\n",
    "    ),\n",
    "    # If messages, then we pass inputs to LLM chain to transform the query, then pass to retriever\n",
    "    query_transform_prompt | chat | StrOutputParser() | retriever,\n",
    ").with_config(run_name=\"chat_retriever_chain\")"
   ]
  },
  {
   "cell_type": "code",
   "execution_count": 7,
   "metadata": {},
   "outputs": [
    {
     "data": {
      "text/plain": [
       "{'messages': [HumanMessage(content='Quienes son responsables de juicio de amparo?')],\n",
       " 'text': '¿Quiénes son responsables de juicio de amparo?. En el sistema legal de Chile, los jueces son los responsables de llevar a cabo el juicio de amparo, el cual tiene como objetivo proteger los derechos fundamentales de las personas frente a posibles violaciones por parte de autoridades públicas.'}"
      ]
     },
     "execution_count": 7,
     "metadata": {},
     "output_type": "execute_result"
    }
   ],
   "source": [
    "# llm_chain = LLMChain(llm=chat, prompt=query_transform_prompt)\n",
    "\n",
    "# msg = \"Quienes son responsables de juicio de amparo?\"\n",
    "\n",
    "\n",
    "def human_msg(msg):\n",
    "    return {\n",
    "        \"messages\": [\n",
    "            HumanMessage(content=msg),\n",
    "        ]\n",
    "    }\n",
    "\n",
    "\n",
    "# llm_chain.invoke(human_msg(msg))"
   ]
  },
  {
   "cell_type": "code",
   "execution_count": 4,
   "metadata": {},
   "outputs": [],
   "source": [
    "def human_msg(msg):\n",
    "    return {\n",
    "        \"messages\": [\n",
    "            HumanMessage(content=msg),\n",
    "        ]\n",
    "    }"
   ]
  },
  {
   "cell_type": "code",
   "execution_count": 5,
   "metadata": {},
   "outputs": [
    {
     "data": {
      "text/plain": [
       "[Document(page_content='Compañias de seguros, sociedades anonimas y bolsas de comercio Artículo 36 Chile Vigente, con las modificaciones. Última actualización 12-03-2024 Compañias de seguros, sociedades anonimas y bolsas de comercioArtículo 36. Si en virtud de la ley, la contratación de un seguro es obligatoria o requisito para el ejercicio de una actividad, el asegurado o beneficiario, según corresponda, podrá demandar ante la justicia ordinaria la resolución de las dificultades que se susciten con la compañía aseguradora, no obstante que en la póliza se hubiese contemplado compromiso o cláusula compromisoria. Si el asegurado y el beneficiario son personas jurídicas y el monto de la prima anual es superior a 200 unidades de fomento, el compromiso o cláusula compromisoria prorrogará la competencia.', metadata={'url': 'https://leyes-cl.com/companias_de_seguros_sociedades_anonimas_y_bolsas_de_comercio/36.htm', 'article_number': 36, '_id': 'a2cd4c71714f482cb62853e3b2ea7c18', '_collection_name': 'webscrapper_codigo_chile'}),\n",
       " Document(page_content='Código Penal Artículo 470 Chile Vigente, con las modificaciones. Última actualización 12-03-2024 Código PenalArtículo 470. Las penas privativas de libertad del art. 467 se aplicarán también: 1.° A los que en perjuicio de otro se apropiaren o distrajeren dinero, efectos o cualquiera otra cosa mueble que hubieren recibido en depósito, comisión o administración, o por otro título que produzca obligación de entregarla o devolverla. En cuanto a la prueba del depósito en el caso a que se refiere el art. 2.217 del Código Civil, se observará lo que en dicho artículo se dispone. 2.° A los capitanes de buques que, fuera de los casos y sin las solemnidades prevenidas por la ley, vendieren dichos buques, tomaren dinero a la gruesa sobre su casco y quilla, giraren letras a cargo del naviero, enajenaren mercaderías o vituallas o tomaren provisiones pertenecientes a los pasajeros. 3.° A los que cometieren alguna defraudación abusando de firma de otro en blanco y extendiendo con ella algún documento en perjuicio del mismo o de un tercero. 4.° A los que defraudaren haciendo suscribir a otro con engaño algún documento. 5.° A los que cometieren defraudaciones sustrayendo, ocultando, destruyendo o inutilizando en todo o en parte algún proceso, expediente, documento u otro papel de cualquiera clase. 6.° A los que con datos falsos u ocultando antecedentes que les son conocidos, celebraren dolosamente contratos aleatorios basados en dichos datos o antecedentes. 7.° A los que en el juego se valieren de fraude para asegurar la suerte. 8.° A los que fraudulentamente obtuvieren del Fisco, de las municipalidades, de las Cajas de Previsión y de las instituciones centralizadas o descentralizadas del Estado, prestaciones improcedentes, tales como remuneraciones, bonificaciones, subsidios, pensiones, jubilaciones, asignaciones, devoluciones o imputaciones indebidas. 9.° Al que, con ánimo de defraudar, con o sin representación de persona natural o jurídica dedicada al rubro inmobiliario o de la construcción, suscribiere o hiciere suscribir contrato de promesa de compraventa de inmueble dedicado a la vivienda, local comercial u oficina, sin cumplir con las exigencias establecidas por el artículo 138 bis de la Ley General de Urbanismo y Construcciones, siempre que se produzca un perjuicio patrimonial para el promitente comprador. 10.° A los que maliciosamente obtuvieren para sí, o para un tercero, el pago total o parcialmente indebido de un seguro, sea simulando la existencia de un siniestro, provocándolo intencionalmente, presentándolo ante el asegurador como ocurrido por causas o en circunstancias distintas a las verdaderas, ocultando la cosa asegurada o aumentando fraudulentamente las pérdidas efectivamente sufridas. Si no se verifica el pago indebido por causas independientes de su voluntad, se aplicará el mínimo o, en su caso, el grado mínimo de la pena. La pena se determinará de acuerdo con el monto de lo indebidamente solicitado. 11. Al que teniendo a su cargo la salvaguardia o la gestión del patrimonio de otra persona, o de alguna parte de éste, en virtud de la ley, de una orden de la autoridad o de un acto o contrato, le irrogare perjuicio, sea ejerciendo abusivamente facultades para disponer por cuenta de ella u obligarla, sea ejecutando u omitiendo cualquier otra acción de modo manifiestamente contrario al interés del titular del patrimonio afectado. Si el hecho recayere sobre el patrimonio de una persona en relación con la cual el sujeto fuere guardador, tutor o curador, o de una persona incapaz que el sujeto tuviere a su cargo en alguna otra calidad, se impondrá, según sea el caso, el máximum o el grado máximo de las penas señaladas en el artículo 467. En caso de que el patrimonio encomendado fuere el de una sociedad anónima abierta o especial u otro patrimonio administrado por esa sociedad, el administrador que realizare alguna de las conductas descritas en el párrafo primero de este numeral, irrogando perjuicio al patrimonio social, será sancionado con las penas señaladas en el artículo 467 aumentadas en un grado. Además, se impondrá la pena de inhabilitación especial temporal en su grado mínimo para desempeñarse como gerente, director, liquidador o administrador a cualquier título de una sociedad o entidad sometida a fiscalización de una Superintendencia o de la Comisión para el Mercado Financiero. En los casos previstos en este artículo se impondrá, además, pena de multa de la mitad al tanto de la defraudación.', metadata={'url': 'https://leyes-cl.com/codigo_penal/470.htm', 'article_number': 470, '_id': '56de5906aad64fd4906307c4ca1233f4', '_collection_name': 'webscrapper_codigo_chile'}),\n",
       " Document(page_content='Establece protocolo de seguridad sanitaria laboral para el retorno gradual y seguro al trabajo en el marco de la alerta sanitaria decretada con ocasión de la enfermedad de covid-19 en el país y otras materias que indica Artículo 18 Chile Vigente, con las modificaciones. Última actualización 12-03-2024 Establece protocolo de seguridad sanitaria laboral para el retorno gradual y seguro al trabajo en el marco de la alerta sanitaria decretada con ocasión de la enfermedad de covid-19 en el país y otras materias que indicaArtículo 18. Acciones para el pago de la indemnización Las acciones para perseguir el pago de las indemnizaciones contempladas en esta ley prescribirán en el plazo de un año contado a partir de la muerte de la víctima o, en su caso, desde la fecha de emisión de la liquidación final del copago o del monto del deducible de la CAEC cuyo reembolso se requiera, independiente de la fecha de la prestación que lo origina. La recepción por parte del asegurador de los antecedentes justificativos del pago de cualquiera de las indemnizaciones previstas en el seguro producirá la interrupción de la prescripción, aunque en su presentación se hubieren omitido algunos de los antecedentes a que se refiere el artículo 19. Facúltase al Fondo Nacional de Salud para ejercer, en representación de los asegurados que sean sus beneficiarios, directamente las acciones para perseguir el pago de las indemnizaciones que corresponda por la cobertura de salud. Igual facultad tendrán las Instituciones de Salud Previsional respecto de sus asegurados.', metadata={'url': 'https://leyes-cl.com/establece_protocolo_de_seguridad_sanitaria_laboral_para_el_retorno_gradual_y_seguro_al_trabajo/18.htm', 'article_number': 18, '_id': '43fe767313d84ec39e582c35622a0975', '_collection_name': 'webscrapper_codigo_chile'}),\n",
       " Document(page_content='Compañias de seguros, sociedades anonimas y bolsas de comercio Artículo 3 Chile Vigente, con las modificaciones. Última actualización 12-03-2024 Compañias de seguros, sociedades anonimas y bolsas de comercioArtículo 3. Son atribuciones y obligaciones de la Superintendencia: a) Autorizar la existencia, aprobar los estatutos y sus modificaciones, aprobar la prórroga del plazo de duración y la disolución anticipada de las sociedades anónimas nacionales de seguros y de reaseguros; autorizar el traspaso de una participación significativa, teniendo a la vista los documentos que acrediten que han cumplido y están en condiciones de cumplir las obligaciones de la presente ley; b) Fiscalizar las operaciones de las compañías de seguros, hacer arqueos, pedir la ejecución y presentación de balances y otros estados financieros e informes en las fechas que estime conveniente, revisar sus libros y sus carteras y, en general, solicitar todos los datos y antecedentes que le permitan imponerse de su estado, desarrollo y solvencia y de la forma en que cumplen las prescripciones de ésta y de las demás leyes vigentes, y dictar normas generales para los efectos de valorizar sus inversiones pudiendo ordenar para estos efectos las demás medidas que fueren menester; c) Convocar al Directorio de las Compañías o a Junta General de Accionistas de las mismas, cuando el ejercicio de sus facultades de fiscalización así lo requiera. Suspender las sesiones de las Juntas de Accionistas cuando su constitución hubiere sido defectuosa, y por el mismo defecto, decretar, dentro de los ocho días siguientes a la reunión, la nulidad de los acuerdos que se hubieren tomado. El Superintendente, por sí o por delegados, podrá asistir a las Juntas Generales de Accionistas, donde tendrá derecho a voz; d) Asumir el carácter de único administrador o liquidador de una compañía, en los casos previstos en esta ley y, especialmente, cuando de conformidad con lo dispuesto en los números 3° y 4° del artículo 44, se decreten las suspensiones allí establecidas o le sea revocada su autorización de existencia. La administración o la liquidación en su caso, podrá ser delegada por el Superintendente en uno o más funcionarios de las plantas directiva, profesional o técnica de la Superintendencia o en otras personas siempre que reúnan las condiciones para ser director de una sociedad anónima; e) Mantener a disposición del público, los modelos de textos de condiciones generales de pólizas y cláusulas que se contraten en el mercado. Las entidades aseguradoras podrán contratar con dichos modelos a partir del sexto día que hubieren sido incorporados al Depósito de Pólizas que, para esos efectos, llevará la Superintendencia. Las compañías de seguros del primer grupo, en los casos de seguros de Transporte y de Casco Marítimo y Aéreo, como asimismo en los contratos de seguros en los cuales, tanto el asegurado como el beneficiario, sean personas jurídicas y el monto de la prima anual que se convenga no sea inferior a 200 unidades de fomento, no tendrán la obligación señalada en el párrafo precedente, y podrán contratar con modelos no depositados en la Superintendencia, debiendo la póliza respectiva ser firmada por los contratantes. Será responsabilidad de las compañías que las pólizas de seguros que contraten, estén redactadas en forma clara y entendible, que no sean inductivas a error y que no contengan cláusulas que se opongan a la ley. En caso de duda sobre el sentido de una disposición en el modelo de condición general de póliza o cláusula, prevalecerá la interpretación más favorable para el contratante, asegurado o beneficiario del seguro, según sea el caso. La Superintendencia fijará, mediante norma de aplicación general, las disposiciones mínimas que deberán contener las pólizas. La Superintendencia podrá prohibir la utilización de un modelo de póliza o cláusula cuando, a su juicio, su texto no cumpla con los requisitos de legalidad y claridad en su redacción, o con las disposiciones mínimas señaladas precedentemente; f) Comprobar la exactitud de las reservas técnicas constituidas por las compañías de acuerdo con las normas de carácter general que dicte la Superintendencia, como asimismo, la de los balances, otros estados financieros, sus cuentas componentes y demás antecedentes solicitados por ésta, con arreglo a los estatutos, leyes y reglamentos vigentes, aprobándolos, disponiendo su rectificación inmediata u ordenando las modificaciones que fuere necesario incorporar en los próximos balances, estados financieros o informes; g) Mantener un registro de los auxiliares del comercio de seguros, en el que deberán inscribirse quienes deseen desarrollar la actividad de corredor de seguros o de liquidador de siniestros, para lo cual deberán cumplir los requisitos establecidos en esta ley; h) DEROGADO. i) Resolver, en casos a su juicio calificados, en el carácter de árbitro arbitrador sin ulterior recurso, las dificultades que se susciten entre compañía y compañía, entre éstas y sus intermediarios o entre éstas o el asegurado o beneficiario en su caso, cuando los interesados de común acuerdo lo soliciten. Sin embargo, el asegurado o el beneficiario podrán por sí solos solicitar al árbitro arbitrador la resolución de las dificultades que se produzcan, cuando el monto de la indemnización reclamada no sea superior a 120 unidades de fomento o a 500 unidades de fomento cuando se trate de seguros obligatorios; j) DEROGADO; k) Establecer, mediante norma de carácter general, disposiciones sobre la información que las compañías deberán proporcionar al público sobre el calce de sus activos y pasivos, en lo referente al plazo, reajustabilidad y tipo de moneda en que éstos se encuentran; l) Formar y publicar, anualmente, la estadística de todas las operaciones sobre seguros y reaseguros que efectúen las compañías, las listas de corredores de seguros y reaseguros, de liquidadores de siniestros y de compañías de seguros y reaseguros autorizados para operar en el país; m) Establecer, mediante normas de carácter general, las exigencias técnicas y patrimoniales que deberán cumplir tanto los intermediarios de seguros y reaseguros como los liquidadores de siniestros para desempeñarse como tales, pudiendo dictar, asimismo, las normas por las cuales deben regirse la intermediación y la contratación de seguros y la liquidación de siniestros; n) ELIMINADA. ñ) Las que otras leyes o normas expresamente le confieran.', metadata={'url': 'https://leyes-cl.com/companias_de_seguros_sociedades_anonimas_y_bolsas_de_comercio/3.htm', 'article_number': 3, '_id': '6ea164a8369b49f18788a4bdf9203a58', '_collection_name': 'webscrapper_codigo_chile'})]"
      ]
     },
     "execution_count": 5,
     "metadata": {},
     "output_type": "execute_result"
    }
   ],
   "source": [
    "retriever.invoke(\"responsables de juicio de amparo?\")"
   ]
  },
  {
   "cell_type": "code",
   "execution_count": 6,
   "metadata": {},
   "outputs": [
    {
     "data": {
      "text/plain": [
       "[Document(page_content='Compañias de seguros, sociedades anonimas y bolsas de comercio Artículo 36 Chile Vigente, con las modificaciones. Última actualización 12-03-2024 Compañias de seguros, sociedades anonimas y bolsas de comercioArtículo 36. Si en virtud de la ley, la contratación de un seguro es obligatoria o requisito para el ejercicio de una actividad, el asegurado o beneficiario, según corresponda, podrá demandar ante la justicia ordinaria la resolución de las dificultades que se susciten con la compañía aseguradora, no obstante que en la póliza se hubiese contemplado compromiso o cláusula compromisoria. Si el asegurado y el beneficiario son personas jurídicas y el monto de la prima anual es superior a 200 unidades de fomento, el compromiso o cláusula compromisoria prorrogará la competencia.', metadata={'url': 'https://leyes-cl.com/companias_de_seguros_sociedades_anonimas_y_bolsas_de_comercio/36.htm', 'article_number': 36, '_id': 'a2cd4c71714f482cb62853e3b2ea7c18', '_collection_name': 'webscrapper_codigo_chile'}),\n",
       " Document(page_content='Código Penal Artículo 470 Chile Vigente, con las modificaciones. Última actualización 12-03-2024 Código PenalArtículo 470. Las penas privativas de libertad del art. 467 se aplicarán también: 1.° A los que en perjuicio de otro se apropiaren o distrajeren dinero, efectos o cualquiera otra cosa mueble que hubieren recibido en depósito, comisión o administración, o por otro título que produzca obligación de entregarla o devolverla. En cuanto a la prueba del depósito en el caso a que se refiere el art. 2.217 del Código Civil, se observará lo que en dicho artículo se dispone. 2.° A los capitanes de buques que, fuera de los casos y sin las solemnidades prevenidas por la ley, vendieren dichos buques, tomaren dinero a la gruesa sobre su casco y quilla, giraren letras a cargo del naviero, enajenaren mercaderías o vituallas o tomaren provisiones pertenecientes a los pasajeros. 3.° A los que cometieren alguna defraudación abusando de firma de otro en blanco y extendiendo con ella algún documento en perjuicio del mismo o de un tercero. 4.° A los que defraudaren haciendo suscribir a otro con engaño algún documento. 5.° A los que cometieren defraudaciones sustrayendo, ocultando, destruyendo o inutilizando en todo o en parte algún proceso, expediente, documento u otro papel de cualquiera clase. 6.° A los que con datos falsos u ocultando antecedentes que les son conocidos, celebraren dolosamente contratos aleatorios basados en dichos datos o antecedentes. 7.° A los que en el juego se valieren de fraude para asegurar la suerte. 8.° A los que fraudulentamente obtuvieren del Fisco, de las municipalidades, de las Cajas de Previsión y de las instituciones centralizadas o descentralizadas del Estado, prestaciones improcedentes, tales como remuneraciones, bonificaciones, subsidios, pensiones, jubilaciones, asignaciones, devoluciones o imputaciones indebidas. 9.° Al que, con ánimo de defraudar, con o sin representación de persona natural o jurídica dedicada al rubro inmobiliario o de la construcción, suscribiere o hiciere suscribir contrato de promesa de compraventa de inmueble dedicado a la vivienda, local comercial u oficina, sin cumplir con las exigencias establecidas por el artículo 138 bis de la Ley General de Urbanismo y Construcciones, siempre que se produzca un perjuicio patrimonial para el promitente comprador. 10.° A los que maliciosamente obtuvieren para sí, o para un tercero, el pago total o parcialmente indebido de un seguro, sea simulando la existencia de un siniestro, provocándolo intencionalmente, presentándolo ante el asegurador como ocurrido por causas o en circunstancias distintas a las verdaderas, ocultando la cosa asegurada o aumentando fraudulentamente las pérdidas efectivamente sufridas. Si no se verifica el pago indebido por causas independientes de su voluntad, se aplicará el mínimo o, en su caso, el grado mínimo de la pena. La pena se determinará de acuerdo con el monto de lo indebidamente solicitado. 11. Al que teniendo a su cargo la salvaguardia o la gestión del patrimonio de otra persona, o de alguna parte de éste, en virtud de la ley, de una orden de la autoridad o de un acto o contrato, le irrogare perjuicio, sea ejerciendo abusivamente facultades para disponer por cuenta de ella u obligarla, sea ejecutando u omitiendo cualquier otra acción de modo manifiestamente contrario al interés del titular del patrimonio afectado. Si el hecho recayere sobre el patrimonio de una persona en relación con la cual el sujeto fuere guardador, tutor o curador, o de una persona incapaz que el sujeto tuviere a su cargo en alguna otra calidad, se impondrá, según sea el caso, el máximum o el grado máximo de las penas señaladas en el artículo 467. En caso de que el patrimonio encomendado fuere el de una sociedad anónima abierta o especial u otro patrimonio administrado por esa sociedad, el administrador que realizare alguna de las conductas descritas en el párrafo primero de este numeral, irrogando perjuicio al patrimonio social, será sancionado con las penas señaladas en el artículo 467 aumentadas en un grado. Además, se impondrá la pena de inhabilitación especial temporal en su grado mínimo para desempeñarse como gerente, director, liquidador o administrador a cualquier título de una sociedad o entidad sometida a fiscalización de una Superintendencia o de la Comisión para el Mercado Financiero. En los casos previstos en este artículo se impondrá, además, pena de multa de la mitad al tanto de la defraudación.', metadata={'url': 'https://leyes-cl.com/codigo_penal/470.htm', 'article_number': 470, '_id': '56de5906aad64fd4906307c4ca1233f4', '_collection_name': 'webscrapper_codigo_chile'}),\n",
       " Document(page_content='Establece protocolo de seguridad sanitaria laboral para el retorno gradual y seguro al trabajo en el marco de la alerta sanitaria decretada con ocasión de la enfermedad de covid-19 en el país y otras materias que indica Artículo 18 Chile Vigente, con las modificaciones. Última actualización 12-03-2024 Establece protocolo de seguridad sanitaria laboral para el retorno gradual y seguro al trabajo en el marco de la alerta sanitaria decretada con ocasión de la enfermedad de covid-19 en el país y otras materias que indicaArtículo 18. Acciones para el pago de la indemnización Las acciones para perseguir el pago de las indemnizaciones contempladas en esta ley prescribirán en el plazo de un año contado a partir de la muerte de la víctima o, en su caso, desde la fecha de emisión de la liquidación final del copago o del monto del deducible de la CAEC cuyo reembolso se requiera, independiente de la fecha de la prestación que lo origina. La recepción por parte del asegurador de los antecedentes justificativos del pago de cualquiera de las indemnizaciones previstas en el seguro producirá la interrupción de la prescripción, aunque en su presentación se hubieren omitido algunos de los antecedentes a que se refiere el artículo 19. Facúltase al Fondo Nacional de Salud para ejercer, en representación de los asegurados que sean sus beneficiarios, directamente las acciones para perseguir el pago de las indemnizaciones que corresponda por la cobertura de salud. Igual facultad tendrán las Instituciones de Salud Previsional respecto de sus asegurados.', metadata={'url': 'https://leyes-cl.com/establece_protocolo_de_seguridad_sanitaria_laboral_para_el_retorno_gradual_y_seguro_al_trabajo/18.htm', 'article_number': 18, '_id': '43fe767313d84ec39e582c35622a0975', '_collection_name': 'webscrapper_codigo_chile'}),\n",
       " Document(page_content='Compañias de seguros, sociedades anonimas y bolsas de comercio Artículo 3 Chile Vigente, con las modificaciones. Última actualización 12-03-2024 Compañias de seguros, sociedades anonimas y bolsas de comercioArtículo 3. Son atribuciones y obligaciones de la Superintendencia: a) Autorizar la existencia, aprobar los estatutos y sus modificaciones, aprobar la prórroga del plazo de duración y la disolución anticipada de las sociedades anónimas nacionales de seguros y de reaseguros; autorizar el traspaso de una participación significativa, teniendo a la vista los documentos que acrediten que han cumplido y están en condiciones de cumplir las obligaciones de la presente ley; b) Fiscalizar las operaciones de las compañías de seguros, hacer arqueos, pedir la ejecución y presentación de balances y otros estados financieros e informes en las fechas que estime conveniente, revisar sus libros y sus carteras y, en general, solicitar todos los datos y antecedentes que le permitan imponerse de su estado, desarrollo y solvencia y de la forma en que cumplen las prescripciones de ésta y de las demás leyes vigentes, y dictar normas generales para los efectos de valorizar sus inversiones pudiendo ordenar para estos efectos las demás medidas que fueren menester; c) Convocar al Directorio de las Compañías o a Junta General de Accionistas de las mismas, cuando el ejercicio de sus facultades de fiscalización así lo requiera. Suspender las sesiones de las Juntas de Accionistas cuando su constitución hubiere sido defectuosa, y por el mismo defecto, decretar, dentro de los ocho días siguientes a la reunión, la nulidad de los acuerdos que se hubieren tomado. El Superintendente, por sí o por delegados, podrá asistir a las Juntas Generales de Accionistas, donde tendrá derecho a voz; d) Asumir el carácter de único administrador o liquidador de una compañía, en los casos previstos en esta ley y, especialmente, cuando de conformidad con lo dispuesto en los números 3° y 4° del artículo 44, se decreten las suspensiones allí establecidas o le sea revocada su autorización de existencia. La administración o la liquidación en su caso, podrá ser delegada por el Superintendente en uno o más funcionarios de las plantas directiva, profesional o técnica de la Superintendencia o en otras personas siempre que reúnan las condiciones para ser director de una sociedad anónima; e) Mantener a disposición del público, los modelos de textos de condiciones generales de pólizas y cláusulas que se contraten en el mercado. Las entidades aseguradoras podrán contratar con dichos modelos a partir del sexto día que hubieren sido incorporados al Depósito de Pólizas que, para esos efectos, llevará la Superintendencia. Las compañías de seguros del primer grupo, en los casos de seguros de Transporte y de Casco Marítimo y Aéreo, como asimismo en los contratos de seguros en los cuales, tanto el asegurado como el beneficiario, sean personas jurídicas y el monto de la prima anual que se convenga no sea inferior a 200 unidades de fomento, no tendrán la obligación señalada en el párrafo precedente, y podrán contratar con modelos no depositados en la Superintendencia, debiendo la póliza respectiva ser firmada por los contratantes. Será responsabilidad de las compañías que las pólizas de seguros que contraten, estén redactadas en forma clara y entendible, que no sean inductivas a error y que no contengan cláusulas que se opongan a la ley. En caso de duda sobre el sentido de una disposición en el modelo de condición general de póliza o cláusula, prevalecerá la interpretación más favorable para el contratante, asegurado o beneficiario del seguro, según sea el caso. La Superintendencia fijará, mediante norma de aplicación general, las disposiciones mínimas que deberán contener las pólizas. La Superintendencia podrá prohibir la utilización de un modelo de póliza o cláusula cuando, a su juicio, su texto no cumpla con los requisitos de legalidad y claridad en su redacción, o con las disposiciones mínimas señaladas precedentemente; f) Comprobar la exactitud de las reservas técnicas constituidas por las compañías de acuerdo con las normas de carácter general que dicte la Superintendencia, como asimismo, la de los balances, otros estados financieros, sus cuentas componentes y demás antecedentes solicitados por ésta, con arreglo a los estatutos, leyes y reglamentos vigentes, aprobándolos, disponiendo su rectificación inmediata u ordenando las modificaciones que fuere necesario incorporar en los próximos balances, estados financieros o informes; g) Mantener un registro de los auxiliares del comercio de seguros, en el que deberán inscribirse quienes deseen desarrollar la actividad de corredor de seguros o de liquidador de siniestros, para lo cual deberán cumplir los requisitos establecidos en esta ley; h) DEROGADO. i) Resolver, en casos a su juicio calificados, en el carácter de árbitro arbitrador sin ulterior recurso, las dificultades que se susciten entre compañía y compañía, entre éstas y sus intermediarios o entre éstas o el asegurado o beneficiario en su caso, cuando los interesados de común acuerdo lo soliciten. Sin embargo, el asegurado o el beneficiario podrán por sí solos solicitar al árbitro arbitrador la resolución de las dificultades que se produzcan, cuando el monto de la indemnización reclamada no sea superior a 120 unidades de fomento o a 500 unidades de fomento cuando se trate de seguros obligatorios; j) DEROGADO; k) Establecer, mediante norma de carácter general, disposiciones sobre la información que las compañías deberán proporcionar al público sobre el calce de sus activos y pasivos, en lo referente al plazo, reajustabilidad y tipo de moneda en que éstos se encuentran; l) Formar y publicar, anualmente, la estadística de todas las operaciones sobre seguros y reaseguros que efectúen las compañías, las listas de corredores de seguros y reaseguros, de liquidadores de siniestros y de compañías de seguros y reaseguros autorizados para operar en el país; m) Establecer, mediante normas de carácter general, las exigencias técnicas y patrimoniales que deberán cumplir tanto los intermediarios de seguros y reaseguros como los liquidadores de siniestros para desempeñarse como tales, pudiendo dictar, asimismo, las normas por las cuales deben regirse la intermediación y la contratación de seguros y la liquidación de siniestros; n) ELIMINADA. ñ) Las que otras leyes o normas expresamente le confieran.', metadata={'url': 'https://leyes-cl.com/companias_de_seguros_sociedades_anonimas_y_bolsas_de_comercio/3.htm', 'article_number': 3, '_id': '6ea164a8369b49f18788a4bdf9203a58', '_collection_name': 'webscrapper_codigo_chile'})]"
      ]
     },
     "execution_count": 6,
     "metadata": {},
     "output_type": "execute_result"
    }
   ],
   "source": [
    "msg = \"responsables de juicio de amparo?\"\n",
    "\n",
    "query_transforming_retriever_chain.invoke(human_msg(msg))"
   ]
  },
  {
   "cell_type": "markdown",
   "metadata": {},
   "source": [
    "-----\n",
    "\n",
    "old stuff"
   ]
  },
  {
   "cell_type": "code",
   "execution_count": 15,
   "metadata": {},
   "outputs": [
    {
     "name": "stderr",
     "output_type": "stream",
     "text": [
      "100%|██████████| 45.9M/45.9M [00:01<00:00, 39.2MiB/s]\n"
     ]
    }
   ],
   "source": [
    "# MergerRetriever\n",
    "\n",
    "from langchain.retrievers.merger_retriever import MergerRetriever\n",
    "from langchain_community.embeddings.gpt4all import GPT4AllEmbeddings\n",
    "from langchain_community.document_transformers.embeddings_redundant_filter import (\n",
    "    EmbeddingsRedundantFilter,\n",
    ")\n",
    "from langchain.retrievers.document_compressors.base import DocumentCompressorPipeline\n",
    "from langchain.retrievers.contextual_compression import ContextualCompressionRetriever\n",
    "from langchain_community.document_transformers.long_context_reorder import (\n",
    "    LongContextReorder,\n",
    ")\n",
    "\n",
    "# Create a MergerRetriever\n",
    "lotr = MergerRetriever(retrievers=retrievers)\n",
    "\n",
    "# Create embedding model for redundant compressor\n",
    "embedding = GPT4AllEmbeddings()\n",
    "\n",
    "# Create the redundant compressor filter\n",
    "filter = EmbeddingsRedundantFilter(embeddings=embedding)\n",
    "\n",
    "# Create a context reorder transformer\n",
    "reorder = LongContextReorder()\n",
    "\n",
    "# Create a Document compressor pipeline\n",
    "pipeline = DocumentCompressorPipeline(transformers=[filter, reorder])\n",
    "\n",
    "# Create a Contextual Compressor Retriever\n",
    "compression_reorder_retriever = ContextualCompressionRetriever(\n",
    "    base_compressor=pipeline, base_retriever=lotr\n",
    ")"
   ]
  },
  {
   "cell_type": "markdown",
   "metadata": {},
   "source": [
    "## Pruebas simples modelo Cohere"
   ]
  },
  {
   "cell_type": "code",
   "execution_count": 1,
   "metadata": {},
   "outputs": [],
   "source": [
    "from ml_service.retrievers import obtain_retrievers\n",
    "from ml_service.simple_rag import obtain_rag_chain"
   ]
  },
  {
   "cell_type": "code",
   "execution_count": 2,
   "metadata": {},
   "outputs": [],
   "source": [
    "collection_name = \"sbert_embeddings\"\n",
    "vdb_name = \"all_files\""
   ]
  },
  {
   "cell_type": "code",
   "execution_count": 3,
   "metadata": {},
   "outputs": [],
   "source": [
    "retriever = obtain_retrievers(vdb_name, collection_name)"
   ]
  },
  {
   "cell_type": "code",
   "execution_count": 5,
   "metadata": {},
   "outputs": [],
   "source": [
    "chain = obtain_rag_chain(retriever)"
   ]
  },
  {
   "cell_type": "code",
   "execution_count": 6,
   "metadata": {},
   "outputs": [
    {
     "name": "stderr",
     "output_type": "stream",
     "text": [
      "Your text contains a trailing whitespace, which has been trimmed to ensure high quality generations.\n"
     ]
    },
    {
     "data": {
      "text/plain": [
       "{'context': [Document(page_content='b) Embarazo, parto normal, parto por cesárea y gastos del recién nacido.\\n \\nc) Enfermedad psicológica y/o psiquiátrica.\\n \\nd) Cirugías y/o tratamientos estéticos, cosméticos, plásticos, reparadores, maxilofaciales, ortopédicos y otros\\ntratamientos para corregir malformaciones congénitas o que sean con fines de embellecimiento, a menos\\nque sean necesarios para el tratamiento a causa de un accidente o complicación de intervención quirúrgica\\ncausada por una patología, que ocurra mientras el Asegurado se encuentre amparado por esta Póliza.\\n \\ne) Lesión o enfermedad causada por guerra civil o internacional, sea que ésta haya sido declarada o no,\\ninvasión y actividades u hostilidades de enemigos extranjeros.\\n \\nf) Lesión o enfermedad causada por participación activa del Asegurado en riñas, alborotos, rebelión,\\nrevolución, motín, poder militar, sabotaje, cualquier acto contra el orden público, en acto terrorista o en actos\\ncalificados por la ley como delitos, dentro o fuera del país.', metadata={'source': 'C:\\\\Users\\\\Agustin\\\\Proyectos_2024\\\\AnyoneAI-TPF\\\\backend\\\\database_s3\\\\queplan_insurance\\\\POL320180100.pdf', 'page': 9, '_id': 'c43cb4f8e9a342fcb5df602a3f611a22', '_collection_name': 'sbert_embeddings'}),\n",
       "  Document(page_content='abortos, maternidad, por la pérdida que resulte del embarazo, por enfermedades a causa del embarazo y\\nMaternidad en general.\\n \\nc) Enfermedad psicológica y/o psiquiátrica.\\n \\nd) Curas de reposo, cuidado sanitario, períodos de cuarentena o aislamiento.\\n \\ne) Cirugías y/o tratamientos estéticos, cosméticos, plásticos, reparadores, maxilofaciales, ortopédicos y otros\\ntratamientos para corregir malformaciones congénitas o que sean con fines de embellecimiento, a menos\\nque sean necesarios para el tratamiento a causa de un accidente o complicación de intervención quirúrgica\\ncausada por una patología, que ocurra mientras el Asegurado se encuentre amparado por esta Póliza.\\n \\nf) La cirugía y/o tratamiento del sobrepeso o por obesidad, sus tratamientos, consecuencias y\\ncomplicaciones, si el IMC es inferior o igual a 40.\\n \\ng) Estudios y tratamientos por talla baja (cualquiera sea su origen), gigantismo, ginecomastía, u otros', metadata={'source': 'C:\\\\Users\\\\Agustin\\\\Proyectos_2024\\\\AnyoneAI-TPF\\\\backend\\\\database_s3\\\\queplan_insurance\\\\POL320150503.pdf', 'page': 11, '_id': '2e06b9bd746d43d8b998c5beac4a1d19', '_collection_name': 'sbert_embeddings'}),\n",
       "  Document(page_content='u otros del mismo género; y en general aquellas actividades que requieren el uso de protecciones y medidas\\nespeciales de seguridad para garantizar la integridad física de quien lo practica.\\n \\nw) Lesión o Enfermedad a consecuencia de la práctica como deportista profesional de alto rendimiento\\nsegún la Ley 19.712, cuando no haya sido informado a la compañía y aceptado explícitamente por ésta al\\nmomento de contratar esta póliza o durante su vigencia.\\n \\nx) Lesión o enfermedad causada por prestación de servicios del asegurado en las Fuerzas Armadas o\\nfunciones policiales de cualquier tipo incluyendo las funciones de policía civil y gendarmería.\\n \\ny) Eventos que sean consecuencia del viaje o vuelo en vehículo aéreo de cualquier clase realizados en\\nforma habitual o regular por el asegurado, como pasajero o piloto, excepto como pasajero en uno operado\\npor una empresa de transporte aéreo comercial reconocida por I.A.T.A., sobre una ruta establecida para el', metadata={'source': 'C:\\\\Users\\\\Agustin\\\\Proyectos_2024\\\\AnyoneAI-TPF\\\\backend\\\\database_s3\\\\queplan_insurance\\\\POL320150503.pdf', 'page': 13, '_id': '3243a432b01646779406c5a83a521b2f', '_collection_name': 'sbert_embeddings'}),\n",
       "  Document(page_content='autorizados para el tratamiento médico de personas enfermas o lesionadas, los cuales deben quedar\\nseñalados expresamente en las Condiciones Particulares de la Póliza. Respecto de estos, la compañía tiene\\nla facultad de modificarlos en cualquier momento y sin expresión de causa según lo estime pertinente. En\\nningún caso se interpretará que este concepto incluye a un hotel, terma, asilo, sanatorio particular, casa para\\nconvalecientes, o un lugar usado principalmente para la internación o tratamiento de enfermedades', metadata={'source': 'C:\\\\Users\\\\Agustin\\\\Proyectos_2024\\\\AnyoneAI-TPF\\\\backend\\\\database_s3\\\\queplan_insurance\\\\POL320210210.pdf', 'page': 2, '_id': 'bbfa2712414a436fabd7a142eed54632', '_collection_name': 'sbert_embeddings'})],\n",
       " 'question': 'Consideraciones para causa de insómnio',\n",
       " 'text': 'Debes esperar a la respuesta del gerente de la empresa de pólizas de seguros. La empresa no brinda asistencia médica, y solo comprende lo sugerido como información a efectos informativos y de entretenimiento.'}"
      ]
     },
     "execution_count": 6,
     "metadata": {},
     "output_type": "execute_result"
    }
   ],
   "source": [
    "res = chain.invoke(\"Consideraciones para causa de insómnio\")\n",
    "res"
   ]
  },
  {
   "cell_type": "markdown",
   "metadata": {},
   "source": [
    "## Test de reducción de la respuesta"
   ]
  },
  {
   "cell_type": "code",
   "execution_count": 15,
   "metadata": {},
   "outputs": [],
   "source": [
    "import os\n",
    "from dotenv import load_dotenv\n",
    "\n",
    "from langchain.chains.llm import LLMChain\n",
    "from langchain_core.prompts import PromptTemplate\n",
    "from langchain_community.llms.cohere import Cohere\n",
    "\n",
    "load_dotenv()\n",
    "\n",
    "prompt_template = \"\"\"\\\n",
    "Debes resumir la siguiente ENTRADA a solo una expresion \"Yes\" o \"No\".\n",
    "Si la ENTRADA se refiere a continuar la búsqueda es \"Yes\" si se refiere a detenerse \"No\".\n",
    "\n",
    "ENTRADA:\n",
    "{input}\n",
    "\n",
    "EXPRESION:\n",
    "\"\"\"\n",
    "\n",
    "prompt = PromptTemplate(\n",
    "    input_variables=[\"input\"],\n",
    "    template=prompt_template,\n",
    ")\n",
    "\n",
    "llm = Cohere(model=\"command\", cohere_api_key=os.getenv(\n",
    "    \"COHERE_API_KEY\"), temperature=0)\n",
    "\n",
    "llm_chain = LLMChain(llm=llm, prompt=prompt)"
   ]
  },
  {
   "cell_type": "code",
   "execution_count": 12,
   "metadata": {},
   "outputs": [
    {
     "data": {
      "text/plain": [
       "{'input': 'Me parece bien', 'text': ' Yes'}"
      ]
     },
     "execution_count": 12,
     "metadata": {},
     "output_type": "execute_result"
    }
   ],
   "source": [
    "llm_chain.invoke(input=\"Me parece bien\")"
   ]
  },
  {
   "cell_type": "code",
   "execution_count": 13,
   "metadata": {},
   "outputs": [
    {
     "data": {
      "text/plain": [
       "{'input': 'Sigamos adelante', 'text': ' Yes'}"
      ]
     },
     "execution_count": 13,
     "metadata": {},
     "output_type": "execute_result"
    }
   ],
   "source": [
    "llm_chain.invoke(input=\"Sigamos adelante\")"
   ]
  },
  {
   "cell_type": "code",
   "execution_count": 16,
   "metadata": {},
   "outputs": [
    {
     "data": {
      "text/plain": [
       "{'input': 'Hagamos la busqueda', 'text': ' Yes'}"
      ]
     },
     "execution_count": 16,
     "metadata": {},
     "output_type": "execute_result"
    }
   ],
   "source": [
    "llm_chain.invoke(input=\"Hagamos la busqueda\")"
   ]
  },
  {
   "cell_type": "code",
   "execution_count": 17,
   "metadata": {},
   "outputs": [
    {
     "data": {
      "text/plain": [
       "{'input': 'Te hago otra pregunta', 'text': ' No'}"
      ]
     },
     "execution_count": 17,
     "metadata": {},
     "output_type": "execute_result"
    }
   ],
   "source": [
    "llm_chain.invoke(input=\"Te hago otra pregunta\")"
   ]
  },
  {
   "cell_type": "code",
   "execution_count": 18,
   "metadata": {},
   "outputs": [
    {
     "data": {
      "text/plain": [
       "{'input': 'Contestame otra cosa', 'text': ' No'}"
      ]
     },
     "execution_count": 18,
     "metadata": {},
     "output_type": "execute_result"
    }
   ],
   "source": [
    "llm_chain.invoke(input=\"Contestame otra cosa\")"
   ]
  }
 ],
 "metadata": {
  "kernelspec": {
   "display_name": "venv",
   "language": "python",
   "name": "python3"
  },
  "language_info": {
   "codemirror_mode": {
    "name": "ipython",
    "version": 3
   },
   "file_extension": ".py",
   "mimetype": "text/x-python",
   "name": "python",
   "nbconvert_exporter": "python",
   "pygments_lexer": "ipython3",
   "version": "3.10.12"
  }
 },
 "nbformat": 4,
 "nbformat_minor": 2
}
