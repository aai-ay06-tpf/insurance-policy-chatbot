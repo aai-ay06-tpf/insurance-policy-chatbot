{
 "cells": [
  {
   "cell_type": "markdown",
   "metadata": {},
   "source": [
    "## Reading the feature content raw data\n",
    "\n",
    "\n",
    "The `simple_data` and the `grouped_data` have the same shape. \n",
    "\n",
    "```\n",
    "simple_data = [ [] , [] , ... ]\n",
    "grouped_data = [ [] , [] , ... ]\n",
    "```\n",
    "\n",
    "For both `simple_data` and `grouped_data`, each element is a policy.\n",
    "Each policy is a list, in which, each element in a tuple.\n",
    "\n",
    "```\n",
    "policy = [ (policy_header, policy_name, article_title, raw_content) , (...) , ... ]\n",
    "```"
   ]
  },
  {
   "cell_type": "code",
   "execution_count": 2,
   "metadata": {},
   "outputs": [],
   "source": [
    "import pickle, os\n",
    "from utils.config import FEATURES_PATH\n",
    "\n",
    "simple_results = os.path.join(FEATURES_PATH, 'simple_files_results.pkl')\n",
    "grouped_results = os.path.join(FEATURES_PATH, 'grouped_files_results.pkl')\n",
    "\n",
    "\n",
    "with open(simple_results, 'rb') as f:\n",
    "    simple_data = pickle.load(f)\n",
    "    \n",
    "with open(grouped_results, 'rb') as f:\n",
    "    grouped_data = pickle.load(f)"
   ]
  },
  {
   "cell_type": "code",
   "execution_count": 3,
   "metadata": {},
   "outputs": [
    {
     "name": "stdout",
     "output_type": "stream",
     "text": [
      "Policy header: PÓLIZA DE ACCIDENTES PERSONALES REEMBOLSO GASTOS MÉDICOS\n",
      "Policy name: POL120190177\n",
      "Article title: ARTÍCULO 1°: REGLAS APLICABLES AL CONTRATO\n",
      "Raw content: Se aplicarán al presente contrato de seguro las disposiciones contenidas en los artículos siguientes...\n"
     ]
    }
   ],
   "source": [
    "all_data = simple_data + grouped_data # we can sum list and we add the elements at the end of the first list\n",
    "\n",
    "for policy in all_data:\n",
    "    for article in policy:\n",
    "        policy_header = article[0]\n",
    "        policy_name = article[1]\n",
    "        article_title = article[2]\n",
    "        raw_content = article[3]\n",
    "        break # we only want to see the first policy\n",
    "    break\n",
    "\n",
    "print(f\"Policy header: {policy_header}\")\n",
    "print(f\"Policy name: {policy_name}\")\n",
    "print(f\"Article title: {article_title}\")\n",
    "print(f\"Raw content: {raw_content[:100]}...\")"
   ]
  },
  {
   "cell_type": "markdown",
   "metadata": {},
   "source": [
    "We can obtain a list of all the contents of the policies by doing the following:"
   ]
  },
  {
   "cell_type": "code",
   "execution_count": 4,
   "metadata": {},
   "outputs": [],
   "source": [
    "# List comprehension \n",
    "all_contents = [article[3] for policy in all_data for article in policy]\n",
    "\n",
    "# For loop\n",
    "all_contents = []\n",
    "for policy in all_data:\n",
    "    for article in policy:\n",
    "        all_contents.append(article[3])"
   ]
  },
  {
   "cell_type": "code",
   "execution_count": 13,
   "metadata": {},
   "outputs": [
    {
     "data": {
      "text/plain": [
       "213"
      ]
     },
     "execution_count": 13,
     "metadata": {},
     "output_type": "execute_result"
    }
   ],
   "source": [
    "# 213 articulos en total\n",
    "len(all_contents)"
   ]
  },
  {
   "cell_type": "code",
   "execution_count": 5,
   "metadata": {},
   "outputs": [
    {
     "data": {
      "text/plain": [
       "'Se aplicarán al presente contrato de seguro las disposiciones contenidas en los artículos siguientes y las\\nnormas legales de carácter imperativo establecidas en el título VIII, del Libro II, del Código de Comercio. Sin\\nembargo, se entenderán válidas las estipulaciones contractuales que sean más beneficiosas para el\\nasegurado o el beneficiario.\\n'"
      ]
     },
     "execution_count": 5,
     "metadata": {},
     "output_type": "execute_result"
    }
   ],
   "source": [
    "all_contents[0]"
   ]
  },
  {
   "cell_type": "code",
   "execution_count": 6,
   "metadata": {},
   "outputs": [],
   "source": [
    "# We should remove the '\\n' and '\\t' characters, and the extra spaces\n",
    "\n",
    "import re\n",
    "\n",
    "# Remove '\\n' and '\\t' characters\n",
    "all_contents = [re.sub(r'[\\n\\t]', ' ', content) for content in all_contents]\n",
    "    \n",
    "# Remove extra spaces\n",
    "all_contents = [re.sub(r'\\s+', ' ', content) for content in all_contents]"
   ]
  },
  {
   "cell_type": "code",
   "execution_count": 7,
   "metadata": {},
   "outputs": [
    {
     "data": {
      "text/plain": [
       "'Se aplicarán al presente contrato de seguro las disposiciones contenidas en los artículos siguientes y las normas legales de carácter imperativo establecidas en el título VIII, del Libro II, del Código de Comercio. Sin embargo, se entenderán válidas las estipulaciones contractuales que sean más beneficiosas para el asegurado o el beneficiario. '"
      ]
     },
     "execution_count": 7,
     "metadata": {},
     "output_type": "execute_result"
    }
   ],
   "source": [
    "all_contents[0]"
   ]
  },
  {
   "cell_type": "code",
   "execution_count": null,
   "metadata": {},
   "outputs": [],
   "source": [
    "# now we can preprocess the text"
   ]
  },
  {
   "cell_type": "markdown",
   "metadata": {},
   "source": [
    "## Preprocessing of the text\n",
    "\n",
    "#### (First part of the G_preprocess_results.py)\n",
    "\n",
    "Remember to install the model locally:\n",
    "\n",
    "```python -m spacy download es_core_news_sm```"
   ]
  },
  {
   "cell_type": "code",
   "execution_count": 8,
   "metadata": {},
   "outputs": [
    {
     "data": {
      "text/plain": [
       "'se aplicaran al presente contrato de seguro las disposiciones contenidas en los articulos siguientes y las normas legales de caracter imperativo establecidas en el titulo viii, del libro ii, del codigo de comercio. sin embargo, se entenderan validas las estipulaciones contractuales que sean mas beneficiosas para el asegurado o el beneficiario.'"
      ]
     },
     "execution_count": 8,
     "metadata": {},
     "output_type": "execute_result"
    }
   ],
   "source": [
    "from eda_tools.preprocess_stopwords import apply_stopwords, preprocess_non_printable_characters\n",
    "\n",
    "preprocess_non_printable_characters(all_contents[0])"
   ]
  },
  {
   "cell_type": "code",
   "execution_count": 14,
   "metadata": {},
   "outputs": [],
   "source": [
    "preprocessing = [preprocess_non_printable_characters(content) for content in all_contents]"
   ]
  },
  {
   "cell_type": "code",
   "execution_count": 18,
   "metadata": {},
   "outputs": [
    {
     "name": "stderr",
     "output_type": "stream",
     "text": [
      "100%|██████████| 213/213 [00:08<00:00, 25.81it/s]\n"
     ]
    }
   ],
   "source": [
    "features = apply_stopwords(preprocessing)"
   ]
  },
  {
   "cell_type": "code",
   "execution_count": 20,
   "metadata": {},
   "outputs": [
    {
     "data": {
      "text/plain": [
       "'aplicaran presente contrato seguro disposiciones contenidas articulos siguientes normas legales caracter imperativo establecidas titulo viii , libro ii , codigo comercio . , entenderan validas estipulaciones contractuales beneficiosas asegurado beneficiario .'"
      ]
     },
     "execution_count": 20,
     "metadata": {},
     "output_type": "execute_result"
    }
   ],
   "source": [
    "features[0]"
   ]
  },
  {
   "cell_type": "code",
   "execution_count": 22,
   "metadata": {},
   "outputs": [
    {
     "data": {
      "text/plain": [
       "(346, 259, 74.9)"
      ]
     },
     "execution_count": 22,
     "metadata": {},
     "output_type": "execute_result"
    }
   ],
   "source": [
    "# comparacion final: para el articulo 1 poliza 1 = reducción del 25%\n",
    "\n",
    "# incluso podría dividirse en chunks y luego aplicar u\n",
    "\n",
    "len(all_contents[0]), len(features[0]), round(len(features[0])/len(all_contents[0])*100, 1)"
   ]
  },
  {
   "cell_type": "markdown",
   "metadata": {},
   "source": [
    "## Generating Langchain Document\n",
    "\n",
    "#### (Second part of the G_preprocess_results.py)"
   ]
  },
  {
   "cell_type": "code",
   "execution_count": 26,
   "metadata": {},
   "outputs": [],
   "source": [
    "from langchain_core.documents.base import Document\n",
    "\n",
    "feature_contents = []\n",
    "ci = 0\n",
    "for policy in all_data:\n",
    "    for article in policy:\n",
    "        if \"_\" in article[1]:\n",
    "            policy_file = article[1].split(\"_\")[0]\n",
    "            policy_name = article[1].split(\"_\")[1]\n",
    "        else:\n",
    "            policy_file = article[1]\n",
    "            policy_name = article[1]\n",
    "\n",
    "        policy_header = article[0]\n",
    "        article_title = article[2]\n",
    "        page_content = features[ci]\n",
    "        ci += 1\n",
    "\n",
    "        feature_contents.append(\n",
    "            Document(\n",
    "                page_content=page_content,\n",
    "                metadata={\n",
    "                    \"policy_file\": policy_file + \".pdf\",\n",
    "                    \"policy_name\": policy_name,\n",
    "                    \"policy_header\": policy_header,\n",
    "                    \"article_title\": article_title\n",
    "                }\n",
    "            )\n",
    "        )"
   ]
  },
  {
   "cell_type": "code",
   "execution_count": 28,
   "metadata": {},
   "outputs": [
    {
     "data": {
      "text/plain": [
       "Document(page_content='aplicaran presente contrato seguro disposiciones contenidas articulos siguientes normas legales caracter imperativo establecidas titulo viii , libro ii , codigo comercio . , entenderan validas estipulaciones contractuales beneficiosas asegurado beneficiario .', metadata={'policy_file': 'POL120190177.pdf', 'policy_name': 'POL120190177', 'policy_header': 'PÓLIZA DE ACCIDENTES PERSONALES REEMBOLSO GASTOS MÉDICOS', 'article_title': 'ARTÍCULO 1°: REGLAS APLICABLES AL CONTRATO'})"
      ]
     },
     "execution_count": 28,
     "metadata": {},
     "output_type": "execute_result"
    }
   ],
   "source": [
    "feature_contents[0]"
   ]
  },
  {
   "cell_type": "code",
   "execution_count": 29,
   "metadata": {},
   "outputs": [
    {
     "data": {
      "text/plain": [
       "Document(page_content='efectos contrato seguro entendera : 1 . contratante : persona natural juridica suscribe contrato compañia seguros asume obligaciones deriven , disposiciones contrato naturaleza cumplidas asegurado . 2 . asegurado titular : titular poliza , individualizado condiciones particulares poliza . asegurado titular contratante poliza detalle contrario condiciones particulares poliza . 3 . asegurados dependientes : asegurados dependientes integrantes grupo familiar titular especificados condiciones particulares poliza . asegurados deberan cumplir requisitos edad asegurabilidad establecidos condiciones particulares poliza encontrarse señalados tales respectivas condiciones particulares poliza . categorias asegurados dependientes consten condiciones particulares , podran contemplar condiciones requisitos excluyentes . condiciones generales utilice termino \" asegurado \" , indicar asegurado titular , debera entender termino abarca comprende asegurado titular demas asegurados . 4 . beneficiario : beneficiario corresponde persona natural individualizada condiciones particulares poliza . 5 . diagnostico : corresponde determinacion forma clara proceso patologico sufre asegurado .', metadata={'policy_file': 'POL320200071.pdf', 'policy_name': 'POL320160108', 'policy_header': 'SEGURO INDIVIDUAL DE ENFERMEDADES GRAVES', 'article_title': 'ARTÍCULO 20. DEFINICIONES.'})"
      ]
     },
     "execution_count": 29,
     "metadata": {},
     "output_type": "execute_result"
    }
   ],
   "source": [
    "feature_contents[-1]"
   ]
  },
  {
   "cell_type": "code",
   "execution_count": null,
   "metadata": {},
   "outputs": [],
   "source": [
    "# guardar en formato pickle dentro de la carpeta `.serialized_features/`"
   ]
  },
  {
   "cell_type": "markdown",
   "metadata": {},
   "source": [
    "## Creating Vector Database Collections for the feature content\n",
    "\n",
    "#### H_vdb_create.py "
   ]
  },
  {
   "cell_type": "code",
   "execution_count": null,
   "metadata": {},
   "outputs": [],
   "source": [
    "# guardar los vectores en la vdb"
   ]
  },
  {
   "cell_type": "markdown",
   "metadata": {},
   "source": [
    "----\n",
    "\n",
    "# old stuff\n",
    "\n",
    "## reading the article features"
   ]
  },
  {
   "cell_type": "code",
   "execution_count": 7,
   "metadata": {},
   "outputs": [],
   "source": [
    "# feature files and feature articles\n",
    "# single and grouped\n",
    "\n",
    "import pickle\n",
    "\n",
    "from utils.config import FEATURES_PATH\n",
    "\n",
    "\n",
    "with open(f\"{FEATURES_PATH}/feature_files.pkl\", \"rb\") as f:\n",
    "    feature_files = pickle.load(f)\n",
    "with open(f\"{FEATURES_PATH}/feature_articles.pkl\", \"rb\") as f:\n",
    "    feature_articles = pickle.load(f)\n",
    "with open(f\"{FEATURES_PATH}/grouped_feature_files.pkl\", \"rb\") as f:\n",
    "    grouped_feature_files = pickle.load(f)\n",
    "with open(f\"{FEATURES_PATH}/grouped_feature_articles.pkl\", \"rb\") as f:\n",
    "    grouped_feature_articles = pickle.load(f)\n"
   ]
  },
  {
   "cell_type": "code",
   "execution_count": 2,
   "metadata": {},
   "outputs": [
    {
     "data": {
      "text/plain": [
       "[Document(page_content='póliza de accidentes personales reembolso gastos médicos reglas aplicables al contrato cobertura y materia asegurada limitaciones de las coberturas definiciones exclusiones obligaciones del asegurado declaraciones del contratante y del asegurado primas y efecto del no pago de la prima denuncia de siniestro calculo de los gastos reembolsables liquidación de los gastos, forma de pago y monto máximo de gastos aplicación del deducible vigencia y duración del contrato de seguro incorporación de asegurados e inicio de la vigencia de la cobertura terminación del contrato ajuste de la prima moneda o unidad del contrato rehabilitación de la póliza contribuciones e impuestos comunicación entre las partes solución de controversias cláusulas adicionales domicilio', metadata={'file': 'POL120190177'}),\n",
       " Document(page_content='seguro colectivo complementario de salud reglas aplicables al contrato cobertura definiciones monto máximo de reembolso duplicación de beneficios exclusiones riesgos cubiertos bajo estipulación expresa obligaciones del asegurado declaraciones del asegurado beneficiarios primas y efecto del no pago de las primas denuncio de siniestro vigencia y terminación de de la póliza incorporación de nuevos asegurados moneda o unidad de la póliza comunicaciones solución de controversias domicilio cláusulas adicionales', metadata={'file': 'POL320130223'}),\n",
       " Document(page_content='póliza de seguro para prestaciones médicas derivadas de accidente y enfermedad reglas aplicables al contrato cobertura y materia asegurada limitaciones de las coberturas definiciones exclusiones obligaciones del asegurado declaraciones del contratante y del asegurado primas y efecto del no pago de la prima denuncia de siniestros calculo de los gastos reembolsables liquidacion de los gastos, forma de pago y monto maximo de gastos aplicacion del deducible vigencia y duración del contrato de seguro incorporación de asegurados e inicio de la vigencia de la cobertura terminación del contrato ajuste de la prima moneda o unidad del contrato rehabilitacion de la póliza contribuciones e impuestos comunicación entre las partes solución de controversias cláusulas adicionales domicilio', metadata={'file': 'POL320150503'}),\n",
       " Document(page_content='póliza de seguro para prestaciones médicas derivadas de hospitalización quirúrgica de emergencia reglas aplicables al contrato cobertura y materia asegurada limitaciones de las coberturas definiciones exclusiones obligaciones del asegurado declaraciones del contratante y del asegurado primas y efecto del no pago de la prima denuncia de siniestros calculo de los gastos reembolsables liquidacion de los gastos, forma de pago y monto maximo de gastos aplicacion del deducible vigencia y duración del contrato de seguro incorporación de asegurados e inicio de la vigencia de la cobertura terminación del contrato ajuste de la prima moneda o unidad del contrato rehabilitacion de la póliza contribuciones e impuestos comunicación entre las partes solución de controversias cláusulas adicionales domicilio', metadata={'file': 'POL320180100'}),\n",
       " Document(page_content='seguro para prestaciones médicas de alto costo reglas aplicables al contrato cobertura definiciones exclusiones deducible copago obligaciones del asegurado declaraciones del asegurado agravación del riesgo primas y efectos del no pago de las primas otros seguros o coberturas vigentes denuncia de siniestros vigencia terminación modificaciones a la póliza país de residencia comunicación entre las partes solución de controversias cláusulas adicionales domicilio', metadata={'file': 'POL320200214'}),\n",
       " Document(page_content='seguro para prestaciones médicas de alto costo reglas aplicables al contrato cobertura definiciones exclusiones carencia obligaciones del asegurado declaraciones del asegurado primas y efectos del no pago de las primas beneficiarios denuncia de siniestros vigencia y terminación comunicación entre las partes solución de controversias clausulas adicionales domicilio', metadata={'file': 'POL320210210'})]"
      ]
     },
     "execution_count": 2,
     "metadata": {},
     "output_type": "execute_result"
    }
   ],
   "source": [
    "feature_files"
   ]
  },
  {
   "cell_type": "code",
   "execution_count": 6,
   "metadata": {},
   "outputs": [
    {
     "data": {
      "text/plain": [
       "[Document(page_content='seguro para prestaciones médicas de alto costo reglas aplicables al contrato cobertura definiciones exclusiones carencia obligaciones del asegurado declaraciones del asegurado primas y efectos del no pago de las primas beneficiarios denuncia de siniestros vigencia y terminación comunicación entre las partes solución de controversias clausulas adicionales domicilio', metadata={'file': 'POL320190074/POL320190074'}),\n",
       " Document(page_content='exoneración de pago de primas por fallecimiento del asegurado titular cobertura exclusiones carencia beneficiarios denuncia de siniestro cláusulas aplicables', metadata={'file': 'POL320190074/CAD220130244'}),\n",
       " Document(page_content='seguro colectivo complementario de salud reglas aplicables al contrato cobertura definiciones monto máximo de reembolso duplicación de beneficios exclusiones riesgos cubiertos bajo estipulación expresa obligaciones del asegurado declaraciones del asegurado beneficiarios primas y efecto del no pago de las primas denuncio de siniestro vigencia y terminación de de la póliza incorporación de nuevos asegurados moneda o unidad de la póliza comunicaciones solución de controversias domicilio cláusulas adicionales', metadata={'file': 'POL320190074/POL320130223'}),\n",
       " Document(page_content='exoneración de pago de primas por fallecimiento del asegurado titular cobertura exclusiones carencia beneficiarios denuncia de siniestros cláusulas aplicables', metadata={'file': 'POL320190074/CAD220130227'}),\n",
       " Document(page_content='clausula de invalidez permanente 80% por accidente o enfermedad cobertura y materia asegurada definiciones exclusiones denuncia de siniestros terminación cláusulas aplicables', metadata={'file': 'POL320190074/CAD320190121'})]"
      ]
     },
     "execution_count": 6,
     "metadata": {},
     "output_type": "execute_result"
    }
   ],
   "source": [
    "grouped_feature_files"
   ]
  },
  {
   "cell_type": "code",
   "execution_count": 9,
   "metadata": {},
   "outputs": [
    {
     "data": {
      "text/plain": [
       "6"
      ]
     },
     "execution_count": 9,
     "metadata": {},
     "output_type": "execute_result"
    }
   ],
   "source": [
    "len(feature_articles)"
   ]
  },
  {
   "cell_type": "code",
   "execution_count": 10,
   "metadata": {},
   "outputs": [
    {
     "name": "stdout",
     "output_type": "stream",
     "text": [
      "{'file': 'POL120190177', 'article': 'ARTÍCULO 1°: REGLAS APLICABLES AL CONTRATO'}\n",
      "{'file': 'POL120190177', 'article': 'ARTÍCULO 23°: DOMICILIO'}\n"
     ]
    }
   ],
   "source": [
    "print(feature_articles[0][0].metadata)\n",
    "print(feature_articles[0][-1].metadata)"
   ]
  },
  {
   "cell_type": "code",
   "execution_count": 13,
   "metadata": {},
   "outputs": [
    {
     "name": "stdout",
     "output_type": "stream",
     "text": [
      "{'file': 'POL320200071/POL320160108', 'article': 'ARTÍCULO 1. REGLAS APLICABLES AL CONTRATO. '}\n",
      "{'file': 'POL320200071/POL320200071', 'article': 'ARTÍCULO 20°. CLÁUSULAS ADICIONALES.-'}\n"
     ]
    }
   ],
   "source": [
    "# feature_grouped_articles\n",
    "print(grouped_feature_articles[-1][0].metadata)\n",
    "print(grouped_feature_articles[-2][-1].metadata)"
   ]
  }
 ],
 "metadata": {
  "kernelspec": {
   "display_name": "venv",
   "language": "python",
   "name": "python3"
  },
  "language_info": {
   "codemirror_mode": {
    "name": "ipython",
    "version": 3
   },
   "file_extension": ".py",
   "mimetype": "text/x-python",
   "name": "python",
   "nbconvert_exporter": "python",
   "pygments_lexer": "ipython3",
   "version": "3.11.4"
  }
 },
 "nbformat": 4,
 "nbformat_minor": 2
}
