{
 "cells": [
  {
   "cell_type": "code",
   "execution_count": 7,
   "metadata": {},
   "outputs": [],
   "source": [
    "# feature files and feature articles\n",
    "# single and grouped\n",
    "\n",
    "import pickle\n",
    "\n",
    "from utils.config import FEATURES_PATH\n",
    "\n",
    "\n",
    "with open(f\"{FEATURES_PATH}/feature_files.pkl\", \"rb\") as f:\n",
    "    feature_files = pickle.load(f)\n",
    "with open(f\"{FEATURES_PATH}/feature_articles.pkl\", \"rb\") as f:\n",
    "    feature_articles = pickle.load(f)\n",
    "with open(f\"{FEATURES_PATH}/grouped_feature_files.pkl\", \"rb\") as f:\n",
    "    grouped_feature_files = pickle.load(f)\n",
    "with open(f\"{FEATURES_PATH}/grouped_feature_articles.pkl\", \"rb\") as f:\n",
    "    grouped_feature_articles = pickle.load(f)\n"
   ]
  },
  {
   "cell_type": "code",
   "execution_count": 2,
   "metadata": {},
   "outputs": [
    {
     "data": {
      "text/plain": [
       "[Document(page_content='póliza de accidentes personales reembolso gastos médicos reglas aplicables al contrato cobertura y materia asegurada limitaciones de las coberturas definiciones exclusiones obligaciones del asegurado declaraciones del contratante y del asegurado primas y efecto del no pago de la prima denuncia de siniestro calculo de los gastos reembolsables liquidación de los gastos, forma de pago y monto máximo de gastos aplicación del deducible vigencia y duración del contrato de seguro incorporación de asegurados e inicio de la vigencia de la cobertura terminación del contrato ajuste de la prima moneda o unidad del contrato rehabilitación de la póliza contribuciones e impuestos comunicación entre las partes solución de controversias cláusulas adicionales domicilio', metadata={'file': 'POL120190177'}),\n",
       " Document(page_content='seguro colectivo complementario de salud reglas aplicables al contrato cobertura definiciones monto máximo de reembolso duplicación de beneficios exclusiones riesgos cubiertos bajo estipulación expresa obligaciones del asegurado declaraciones del asegurado beneficiarios primas y efecto del no pago de las primas denuncio de siniestro vigencia y terminación de de la póliza incorporación de nuevos asegurados moneda o unidad de la póliza comunicaciones solución de controversias domicilio cláusulas adicionales', metadata={'file': 'POL320130223'}),\n",
       " Document(page_content='póliza de seguro para prestaciones médicas derivadas de accidente y enfermedad reglas aplicables al contrato cobertura y materia asegurada limitaciones de las coberturas definiciones exclusiones obligaciones del asegurado declaraciones del contratante y del asegurado primas y efecto del no pago de la prima denuncia de siniestros calculo de los gastos reembolsables liquidacion de los gastos, forma de pago y monto maximo de gastos aplicacion del deducible vigencia y duración del contrato de seguro incorporación de asegurados e inicio de la vigencia de la cobertura terminación del contrato ajuste de la prima moneda o unidad del contrato rehabilitacion de la póliza contribuciones e impuestos comunicación entre las partes solución de controversias cláusulas adicionales domicilio', metadata={'file': 'POL320150503'}),\n",
       " Document(page_content='póliza de seguro para prestaciones médicas derivadas de hospitalización quirúrgica de emergencia reglas aplicables al contrato cobertura y materia asegurada limitaciones de las coberturas definiciones exclusiones obligaciones del asegurado declaraciones del contratante y del asegurado primas y efecto del no pago de la prima denuncia de siniestros calculo de los gastos reembolsables liquidacion de los gastos, forma de pago y monto maximo de gastos aplicacion del deducible vigencia y duración del contrato de seguro incorporación de asegurados e inicio de la vigencia de la cobertura terminación del contrato ajuste de la prima moneda o unidad del contrato rehabilitacion de la póliza contribuciones e impuestos comunicación entre las partes solución de controversias cláusulas adicionales domicilio', metadata={'file': 'POL320180100'}),\n",
       " Document(page_content='seguro para prestaciones médicas de alto costo reglas aplicables al contrato cobertura definiciones exclusiones deducible copago obligaciones del asegurado declaraciones del asegurado agravación del riesgo primas y efectos del no pago de las primas otros seguros o coberturas vigentes denuncia de siniestros vigencia terminación modificaciones a la póliza país de residencia comunicación entre las partes solución de controversias cláusulas adicionales domicilio', metadata={'file': 'POL320200214'}),\n",
       " Document(page_content='seguro para prestaciones médicas de alto costo reglas aplicables al contrato cobertura definiciones exclusiones carencia obligaciones del asegurado declaraciones del asegurado primas y efectos del no pago de las primas beneficiarios denuncia de siniestros vigencia y terminación comunicación entre las partes solución de controversias clausulas adicionales domicilio', metadata={'file': 'POL320210210'})]"
      ]
     },
     "execution_count": 2,
     "metadata": {},
     "output_type": "execute_result"
    }
   ],
   "source": [
    "feature_files"
   ]
  },
  {
   "cell_type": "code",
   "execution_count": 6,
   "metadata": {},
   "outputs": [
    {
     "data": {
      "text/plain": [
       "[Document(page_content='seguro para prestaciones médicas de alto costo reglas aplicables al contrato cobertura definiciones exclusiones carencia obligaciones del asegurado declaraciones del asegurado primas y efectos del no pago de las primas beneficiarios denuncia de siniestros vigencia y terminación comunicación entre las partes solución de controversias clausulas adicionales domicilio', metadata={'file': 'POL320190074/POL320190074'}),\n",
       " Document(page_content='exoneración de pago de primas por fallecimiento del asegurado titular cobertura exclusiones carencia beneficiarios denuncia de siniestro cláusulas aplicables', metadata={'file': 'POL320190074/CAD220130244'}),\n",
       " Document(page_content='seguro colectivo complementario de salud reglas aplicables al contrato cobertura definiciones monto máximo de reembolso duplicación de beneficios exclusiones riesgos cubiertos bajo estipulación expresa obligaciones del asegurado declaraciones del asegurado beneficiarios primas y efecto del no pago de las primas denuncio de siniestro vigencia y terminación de de la póliza incorporación de nuevos asegurados moneda o unidad de la póliza comunicaciones solución de controversias domicilio cláusulas adicionales', metadata={'file': 'POL320190074/POL320130223'}),\n",
       " Document(page_content='exoneración de pago de primas por fallecimiento del asegurado titular cobertura exclusiones carencia beneficiarios denuncia de siniestros cláusulas aplicables', metadata={'file': 'POL320190074/CAD220130227'}),\n",
       " Document(page_content='clausula de invalidez permanente 80% por accidente o enfermedad cobertura y materia asegurada definiciones exclusiones denuncia de siniestros terminación cláusulas aplicables', metadata={'file': 'POL320190074/CAD320190121'})]"
      ]
     },
     "execution_count": 6,
     "metadata": {},
     "output_type": "execute_result"
    }
   ],
   "source": [
    "grouped_feature_files"
   ]
  },
  {
   "cell_type": "code",
   "execution_count": 9,
   "metadata": {},
   "outputs": [
    {
     "data": {
      "text/plain": [
       "6"
      ]
     },
     "execution_count": 9,
     "metadata": {},
     "output_type": "execute_result"
    }
   ],
   "source": [
    "len(feature_articles)"
   ]
  },
  {
   "cell_type": "code",
   "execution_count": 10,
   "metadata": {},
   "outputs": [
    {
     "name": "stdout",
     "output_type": "stream",
     "text": [
      "{'file': 'POL120190177', 'article': 'ARTÍCULO 1°: REGLAS APLICABLES AL CONTRATO'}\n",
      "{'file': 'POL120190177', 'article': 'ARTÍCULO 23°: DOMICILIO'}\n"
     ]
    }
   ],
   "source": [
    "print(feature_articles[0][0].metadata)\n",
    "print(feature_articles[0][-1].metadata)"
   ]
  },
  {
   "cell_type": "code",
   "execution_count": 13,
   "metadata": {},
   "outputs": [
    {
     "name": "stdout",
     "output_type": "stream",
     "text": [
      "{'file': 'POL320200071/POL320160108', 'article': 'ARTÍCULO 1. REGLAS APLICABLES AL CONTRATO. '}\n",
      "{'file': 'POL320200071/POL320200071', 'article': 'ARTÍCULO 20°. CLÁUSULAS ADICIONALES.-'}\n"
     ]
    }
   ],
   "source": [
    "# feature_grouped_articles\n",
    "print(grouped_feature_articles[-1][0].metadata)\n",
    "print(grouped_feature_articles[-2][-1].metadata)"
   ]
  }
 ],
 "metadata": {
  "kernelspec": {
   "display_name": "venv",
   "language": "python",
   "name": "python3"
  },
  "language_info": {
   "codemirror_mode": {
    "name": "ipython",
    "version": 3
   },
   "file_extension": ".py",
   "mimetype": "text/x-python",
   "name": "python",
   "nbconvert_exporter": "python",
   "pygments_lexer": "ipython3",
   "version": "3.11.4"
  }
 },
 "nbformat": 4,
 "nbformat_minor": 2
}
