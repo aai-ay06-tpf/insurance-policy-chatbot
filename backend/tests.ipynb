{
 "cells": [
  {
   "cell_type": "markdown",
   "metadata": {},
   "source": [
    "## Summarization"
   ]
  },
  {
   "cell_type": "code",
   "execution_count": 25,
   "metadata": {},
   "outputs": [],
   "source": [
    "import os, pickle\n",
    "\n",
    "response_path = \".summarization_backup/\""
   ]
  },
  {
   "cell_type": "code",
   "execution_count": 30,
   "metadata": {},
   "outputs": [],
   "source": [
    "# crear una funcion que reciba un string y formatee el texto para que sea legible\n",
    "# utilizar un maximo de 50 caracteres por linea\n",
    "\n",
    "def format_text(text):\n",
    "    formatted_text = \"\"\n",
    "    for i in range(0, len(text), 50):\n",
    "        formatted_text += text[i:i+50] + \"\\n\"\n",
    "    return formatted_text\n"
   ]
  },
  {
   "cell_type": "code",
   "execution_count": 32,
   "metadata": {},
   "outputs": [
    {
     "name": "stdout",
     "output_type": "stream",
     "text": [
      "La póliza de accidentes personales/reembolso de ga\n",
      "stos médicos establece que la compañía aseguradora\n",
      " reembolsará al asegurado los gastos médicos razon\n",
      "ables y acostumbrados incurridos durante la vigenc\n",
      "ia de la póliza, siempre y cuando se cumplan ciert\n",
      "os requisitos. Estos requisitos incluyen que el ac\n",
      "cidente ocurra durante la vigencia de la póliza, q\n",
      "ue los gastos se realicen dentro del período de du\n",
      "ración de reembolso, que el monto de gastos supere\n",
      " el deducible establecido, que la suma de los reem\n",
      "bolsos no supere el monto máximo establecido, que \n",
      "los gastos no sean excluidos y que las prestacione\n",
      "s médicas sean entregadas por los prestadores indi\n",
      "cados. Los reembolsos se realizarán hasta el monto\n",
      " máximo establecido y de acuerdo a los términos y \n",
      "límites establecidos en las condiciones particular\n",
      "es de la póliza. Además, se establece que el reemb\n",
      "olso será complementario a lo que cubra el sistema\n",
      " previsional o de salud al que esté afiliado el as\n",
      "egurado. En caso de contar con Isapre, el reembols\n",
      "o será del saldo total remanente con un límite est\n",
      "ablecido. En caso de otros sistemas previsionales \n",
      "de salud o su ausencia, se exigirá un copago mínim\n",
      "o.\n",
      "\n"
     ]
    }
   ],
   "source": [
    "# Primer run: response_1709556534.pkl\n",
    "# documento index = 0\n",
    "# pagina index = 0\n",
    "# prompt_template = \"\"\"Generar un resumen que capture los patrones relevantes\\\n",
    "#  en los datos del TEXTO. La respuesta debe ser de 1000 caracteres como maximo.\n",
    "# TEXTO:\n",
    "# \"{text}\"\n",
    "# RESUMEN:\"\"\"\n",
    "\n",
    "with open(response_path + \"response_1709556534.pkl\", \"rb\") as f:\n",
    "    response = pickle.load(f)\n",
    "\n",
    "print(format_text(response))"
   ]
  },
  {
   "cell_type": "code",
   "execution_count": 36,
   "metadata": {},
   "outputs": [
    {
     "name": "stdout",
     "output_type": "stream",
     "text": [
      "- El contrato de seguro se regirá por las disposiciones legales y las estipulaciones más beneficiosas para el asegurado o beneficiario.\n",
      "- La cobertura de la póliza incluye el reembolso de los gastos médicos razonables y acostumbrados incurridos por el asegurado en caso de accidente.\n",
      "- Los gastos deben ser realizados en los prestadores de salud determinados por la aseguradora y durante el período de duración del reembolso.\n",
      "- Se establecen requisitos para el reembolso de los gastos, como que el accidente haya ocurrido durante la vigencia de la póliza, que se haya incurrido en los gastos dentro del período de duración de reembolso, que el monto de gastos supere el deducible establecido, entre otros.\n",
      "- Los reembolsos están sujetos a límites y topes establecidos en las condiciones particulares de la póliza, así como a porcentajes de bonificación o reembolso entregados por el sistema de salud previsional al que esté afiliado el asegurado.\n",
      "- La aseguradora reembolsará los gastos médicos como complemento de lo que cubra el sistema previsional o de salud al que esté afiliado el asegurado, como Isapres, Fonasa, Cajas de Previsión, entre otros.\n",
      "- En caso de contar con Isapre, el reembolso estará limitado al monto estipulado en las condiciones particulares y se exigirá un copago mínimo en otros sistemas previsionales de salud o en su ausencia.\n"
     ]
    }
   ],
   "source": [
    "# Segundo run: response_1709557379.pkl\n",
    "# documento index = 0\n",
    "# pagina index = 0\n",
    "# prompt_template = \"\"\"Extraer los bullet-points de los articulos\\\n",
    "#  contenidos en el TEXTO. La respuesta debe ser de 1000 caracteres como maximo.\n",
    "# TEXTO:\n",
    "# \"{text}\"\n",
    "# RESUMEN:\"\"\"\n",
    "\n",
    "with open(response_path + \"response_1709557379.pkl\", \"rb\") as f:\n",
    "    response = pickle.load(f)\n",
    "    \n",
    "print(response[\"output_text\"])\n"
   ]
  },
  {
   "cell_type": "code",
   "execution_count": 37,
   "metadata": {},
   "outputs": [
    {
     "name": "stdout",
     "output_type": "stream",
     "text": [
      "1353\n"
     ]
    }
   ],
   "source": [
    "print(len(response[\"output_text\"]))"
   ]
  },
  {
   "cell_type": "markdown",
   "metadata": {},
   "source": [
    "## func 1"
   ]
  },
  {
   "cell_type": "code",
   "execution_count": 1,
   "metadata": {},
   "outputs": [
    {
     "name": "stdout",
     "output_type": "stream",
     "text": [
      "POL320210210.pdf\n"
     ]
    },
    {
     "data": {
      "text/plain": [
       "['ARTICULO 1°: REGLAS APLICABLES AL CONTRATO',\n",
       " 'ARTÍCULO 2º: COBERTURA',\n",
       " 'ARTÍCULO 3º: DEFINICIONES.',\n",
       " 'ARTÍCULO 4º: EXCLUSIONES.',\n",
       " 'ARTICULO 5º: CARENCIA',\n",
       " 'ARTÍCULO 6°: OBLIGACIONES DEL ASEGURADO',\n",
       " 'ARTICULO 7°: DECLARACIONES DEL ASEGURADO',\n",
       " 'ARTICULO 8º: PRIMAS Y EFECTOS DEL NO PAGO DE LAS PRIMAS',\n",
       " 'ARTICULO 9°: BENEFICIARIOS',\n",
       " 'ARTÍCULO 10º: DENUNCIA DE SINIESTROS',\n",
       " 'ARTICULO 11º: VIGENCIA Y TERMINACIÓN',\n",
       " 'ARTÍCULO 12º: COMUNICACIÓN ENTRE LAS PARTES',\n",
       " 'ARTÍCULO 13º: SOLUCIÓN DE CONTROVERSIAS',\n",
       " 'ARTÍCULO 14°: CLAUSULAS ADICIONALES',\n",
       " 'ARTÍCULO 15°: DOMICILIO']"
      ]
     },
     "execution_count": 1,
     "metadata": {},
     "output_type": "execute_result"
    }
   ],
   "source": [
    "import os\n",
    "from utils.config import DOWNLOAD_PATH\n",
    "\n",
    "\n",
    "file_n = 8\n",
    "pdf_files = os.listdir(DOWNLOAD_PATH)\n",
    "selected_file = os.path.join(DOWNLOAD_PATH, pdf_files[file_n])\n",
    "pattern = \"ART.CULO\\s\\d+.+:?\"\n",
    "\n",
    "\n",
    "# func 1:\n",
    "from eda_tools.pdf_file_tools import extract_patterns\n",
    "\n",
    "print(selected_file.split(\"\\\\\")[-1])\n",
    "extract_patterns(selected_file, pattern)\n"
   ]
  },
  {
   "cell_type": "markdown",
   "metadata": {},
   "source": [
    "## Spliting documents by article\n",
    "\n",
    "**TRATAMIENTO FILE NUMBER 8**"
   ]
  },
  {
   "cell_type": "code",
   "execution_count": 1,
   "metadata": {},
   "outputs": [],
   "source": [
    "import os\n",
    "from eda_tools.pdf_file_tools import extract_patterns\n",
    "from eda_tools.doc_fragmentation import extract_documents_from_text\n",
    "from utils.config import DOWNLOAD_PATH\n",
    "\n",
    "# File 8 \n",
    "file_n = 8\n",
    "pdf_files = os.listdir(DOWNLOAD_PATH)\n",
    "\n",
    "selected_file = os.path.join(DOWNLOAD_PATH, pdf_files[file_n])\n",
    "pattern = \"ART.CULO\\s\\d+.+:?\"\n",
    "articles = extract_patterns(selected_file, pattern)\n",
    "\n",
    "documents = extract_documents_from_text(selected_file, articles)"
   ]
  },
  {
   "cell_type": "code",
   "execution_count": 2,
   "metadata": {},
   "outputs": [
    {
     "data": {
      "text/plain": [
       "[Document(page_content='ARTICULO 1°: REGLAS APLICABLES AL CONTRATO\\nSe aplicarán al presente contrato de seguro las disposiciones contenidas en los artículos siguientes y las\\nnormas legales de carácter imperativo establecidas en el Título VIII, del Libro II, del Código de Comercio. Sin\\nembargo, se entenderán válidas las estipulaciones contractuales que sean más beneficiosas para el\\nasegurado o beneficiario.\\n \\n', metadata={'file': 'POL320210210.pdf', 'policy_header': 'SEGURO PARA PRESTACIONES MÉDICAS DE ALTO COSTO', 'article_title': 'ARTICULO 1°: REGLAS APLICABLES AL CONTRATO'}),\n",
       " Document(page_content='ARTÍCULO 2º: COBERTURA\\nLa compañía aseguradora reembolsará los gastos médicos razonables, acostumbrados y efectivamente\\nincurridos por el asegurado, asociados a un Evento cubierto por esta póliza, en los términos y condiciones\\nestablecidas en ésta, siempre que haya transcurrido el periodo de carencia establecido en las Condiciones\\nParticulares, que la póliza se encuentre vigente y que no haya transcurrido el plazo definido en las\\nCondiciones Particulares para la cobertura del Evento.\\nLos reembolsos se efectuarán de acuerdo a las coberturas efectivamente contratadas de aquellas descritas\\nen esta póliza, y de acuerdo a los términos, proporciones, límites, condiciones y establecimientos\\nhospitalarios que deberán quedar expresamente señaladas en las Condiciones Particulares de la póliza.\\nSe otorgará cobertura a los gastos médicos incurridos por el asegurado tanto dentro como fuera de Chile, en\\nlos términos señalados en las Condiciones Particulares.\\nLas coberturas descritas en esta póliza, pueden ser contratadas en forma conjunta o se puede optar por\\nalguna de ellas, circunstancia que deberá quedar expresamente señalada en las Condiciones Particulares\\nde la póliza.\\nLas coberturas que otorga la compañía aseguradora en virtud de esta póliza, siempre y cuando estén\\nexpresamente indicadas en las Condiciones Particulares, en los términos y condiciones allí señaladas, son\\nlas que se indican a continuación.\\nI. Beneficio de Hospitalización: Gastos médicos provenientes de prestaciones realizadas durante una\\nhospitalización, efectuadas o prescritas por un médico tratante y que se detallan a continuación:\\na) Días cama hospitalización: Gasto por habitación, alimentación y atención en general de enfermería,\\nsuministrada al asegurado durante su hospitalización.\\nb) Servicios hospitalarios: Gastos por concepto de servicios de hospital no incluidos en la letra anterior, tales\\ncomo salas de urgencia; derecho de pabellón; unidad de tratamiento intensivo; exámenes de laboratorio e\\nimagen médica; procedimientos especiales; equipos; insumos y medicamentos hospitalarios; y otros gastos\\nsuministrados al asegurado durante su hospitalización y que hayan sido debidamente prescritos por el\\nmédico tratante durante ella como necesarios para el tratamiento de la incapacidad que motivó la\\nhospitalización.c) Honorarios médicos quirúrgicos: Los honorarios de médicos y arsenaleras que hubieran intervenido en\\nuna operación quirúrgica al asegurado.\\nd) Prótesis Quirúrgicas: Gastos por concepto de prótesis fijas o removibles requeridos a consecuencia de\\nuna intervención quirúrgica. Dentro de esta prestación no se incluye prótesis maxilofacial.\\ne) Cirugía dental por accidente: El tratamiento de lesiones provenientes de un accidente a los dientes\\nnaturales, efectuado por un médico cirujano maxilofacial o un odontólogo, siempre que ésta se realice dentro\\nde los seis (6) meses siguientes al accidente y esta cobertura esté vigente. El tratamiento incluye todo tipo\\nde exámenes dentales, extracciones, empastes, tratamiento dental en general y el reemplazo de dichas\\npiezas dentales accidentadas.\\nf) Servicio Privado de Enfermera: Es el servicio privado otorgado por una enfermera profesional durante la\\nhospitalización, siempre que haya sido prescrito por el médico tratante.\\ng) Servicio de Ambulancia: Es el servicio de traslado vía terrestre en una ambulancia para conducir al\\nasegurado desde y hacia un hospital, dentro de un radio máximo de 50 kms.\\n \\nII. Beneficio Ambulatorio: Gastos médicos provenientes de prestaciones realizadas en forma ambulatoria o\\nsin hospitalización, efectuadas o prescritas por un médico tratante y que se detallan expresamente a\\ncontinuación:\\na) Cirugía Ambulatoria.\\nb) Consultas Médicas.\\nc) Exámenes de Laboratorio.\\nd) Imagenología.\\ne) Procedimientos de diagnóstico y terapéutico.\\nSi en las Condiciones Particulares de la póliza se hubiese estipulado un deducible para las coberturas antes\\ndescritas, la Compañía Aseguradora reembolsará los gastos médicos considerando los gastos médicos que\\nexcedan del deducible el cual se aplicará sobre los gastos una vez aplicado el plan de beneficios detallado\\nen las Condiciones Particulares.\\n \\n', metadata={'file': 'POL320210210.pdf', 'policy_header': 'SEGURO PARA PRESTACIONES MÉDICAS DE ALTO COSTO', 'article_title': 'ARTÍCULO 2º: COBERTURA'}),\n",
       " Document(page_content='ARTÍCULO 3º: DEFINICIONES.\\nPara los efectos de esta póliza se entiende por:\\n1. Accidente: Para los efectos de este contrato de seguro se entiende por accidente, todo suceso imprevisto,\\ninvoluntario, repentino y fortuito, causado por medios externos y de un modo violento, que afecte el\\norganismo del asegurado ocasionándole una o más lesiones, que se manifiesten por heridas visibles o\\ncontusiones internas, incluyéndose asimismo el ahogamiento y la asfixia, torcedura y desgarramientos\\nproducidos por esfuerzos repentinos, como también estados septicémicos e infecciones que sean la\\nconsecuencia de heridas externas e involuntarias y hayan penetrado por ellas en el organismo o bien se\\nhayan desarrollado por efecto de contusiones, revelados por los exámenes correspondientes.2. Enfermedad: Toda alteración de la salud cuyo diagnóstico y confirmación sea efectuado por un médico\\nlegalmente reconocido.\\n3. Incapacidad: Toda enfermedad o dolencia, y además toda lesión corporal sufrida como resultado de un\\naccidente, que afecte al organismo de un asegurado y que requieran tratamiento médico.\\nTodas las lesiones sufridas por una persona en un mismo accidente, se consideran como una sola\\nIncapacidad.\\nTodas las incapacidades que existan simultáneamente debidas a la misma causa o a otras relacionadas\\nentre sí, serán consideradas como una misma incapacidad.\\n4. Médico: Sólo quienes poseen el título respectivo y estén habilitados legalmente para el ejercicio de esta\\nprofesión, en los términos establecidos en el artículo 112 del Código Sanitario.\\n5. Evento: Cualquiera de las prestaciones hospitalarias o ambulatorias asociadas a un diagnóstico por\\nenfermedad o accidente y sus consecuencias posteriores asociadas directamente al diagnóstico principal,\\ncon una duración y plazo que será definido en las Condiciones Particulares.\\nEn caso que la enfermedad o accidente que dio origen a un evento objeto de reembolso se prolongue más\\nallá del plazo indicado en las Condiciones Particulares, y siempre que la póliza se encuentre vigente, éste\\nserá considerado como un nuevo evento para todos los efectos, reinstalándose el deducible y el capital\\nasegurado, por el número de veces, términos, plazos y condiciones establecidos en las Condiciones\\nParticulares.\\nEl asegurado podrá presentar más de un evento durante la vigencia de esta póliza, siempre que esté\\nasociado a un diagnóstico distinto.\\nTranscurrido el periodo máximo de reembolso establecido en las Condiciones Particulares, cesará la\\nobligación de la Compañía en relación con la cobertura que establece esta póliza.\\n \\n6. Cirugía y Tratamientos Dentales y Maxilofaciales: todos aquellos tratamientos efectuados en piezas\\ndentales y por afecciones de tipo esquelético articulares (temporo-mandibular) exceptuándose los de origen\\naccidental.\\n7. Gastos Médicos Ambulatorios: Son los gastos médicos incurridos por el asegurado a causa del\\ntratamiento de una incapacidad que no requiere de su internación en un hospital, aún cuando el tratamiento\\nse haya efectuado en dicho establecimiento.\\n8. Gastos Médicos Razonables y Acostumbrados: Es el monto que habitualmente se cobra por prestaciones\\nde carácter similar en la localidad donde éstas son efectuadas a personas del mismo sexo y edad,\\nconsiderando además, que sean las prestaciones que generalmente se suministran para el tratamiento de la\\nincapacidad; la característica y nivel de los tratamientos y servicios otorgados; el prestigio, experiencia y\\nnivel de las personas encargadas de la atención.\\n9. Establecimiento Hospitalario: corresponde a los establecimientos de salud públicos y privados legalmente\\nautorizados para el tratamiento médico de personas enfermas o lesionadas, los cuales deben quedar\\nseñalados expresamente en las Condiciones Particulares de la Póliza. Respecto de estos, la compañía tiene\\nla facultad de modificarlos en cualquier momento y sin expresión de causa según lo estime pertinente. En\\nningún caso se interpretará que este concepto incluye a un hotel, terma, asilo, sanatorio particular, casa para\\nconvalecientes, o un lugar usado principalmente para la internación o tratamiento de enfermedadesmentales, o de personas que sufran adicciones a drogas o alcohol.\\n10. Hospitalización: Se entenderá que una persona se encuentra hospitalizada cuando está registrada como\\npaciente de un hospital por prescripción médica, y que utilice a lo menos, un día completo de servicio de\\nhabitación, alimentación y atención general de enfermería.\\n11. Gastos Efectivamente Incurridos: Se reconocerán como gastos efectivamente incurridos para los efectos\\nde esta póliza, el costo efectivo de las prestaciones, servicios o tratamientos, descontadas las sumas\\nreembolsadas por iguales beneficios contratados con otras instituciones o Sistema de Salud Previsional al\\nque se encontrare afiliado.\\n12. Monto Máximo de Reembolso: Corresponde a la cantidad máxima, expresada en la moneda de la póliza,\\nque la compañía reembolsará al asegurado titular o contratante de acuerdo a lo señalado en las condiciones\\nparticulares por los gastos médicos incurridos correspondientes a cada evento, dependiendo de la edad del\\nasegurado y en los términos, proporciones, límites y condiciones señalados en esta póliza.\\n13. Periodo Máximo de Reembolso: Corresponde al plazo máximo expresado en años, durante el cual la\\nCompañía Aseguradora reembolsará al asegurado titular o contratante los gastos médicos efectivamente\\nincurridos correspondientes al diagnóstico que da origen a cada evento, dependiendo de la edad del\\nasegurado y en los términos, proporciones, límites y condiciones señalados en esta póliza.\\n \\n14. Enfermedades, dolencias o situación de salud preexistentes: entendiéndose por tal aquellas\\ndiagnosticadas o conocidas por el asegurado o por quien contrata a su favor, antes de la contratación del\\nseguro.\\n \\n', metadata={'file': 'POL320210210.pdf', 'policy_header': 'SEGURO PARA PRESTACIONES MÉDICAS DE ALTO COSTO', 'article_title': 'ARTÍCULO 3º: DEFINICIONES.'}),\n",
       " Document(page_content='ARTÍCULO 4º: EXCLUSIONES.\\nEsta póliza no cubre los gastos médicos definidos en esta póliza cuando ellos provengan o se originen por, o\\nsean consecuencia de, o correspondan a complicaciones de:\\na. Enfermedades psicológicas y psiquiátricas. Asimismo, no estará cubierta aquella hospitalización para fines\\nde reposo o psiquiátricos.\\nb. Curas de reposo, cuidado sanitario, períodos de cuarentena o aislamientos.\\nc. Los tratamientos estéticos plásticos, dentales, ortopédicos y otros tratamientos que sean para fines de\\nembellecimiento o para corregir malformaciones.\\nd. Cirugía plástica o cosmética, a menos que sea necesitada por una lesión accidental que ocurra mientras\\nel asegurado se encuentre amparado por la póliza.\\ne. Tratamientos por: adicción a drogas o alcoholismo, síndrome de inmunodeficiencia adquirida - SIDA-,\\nlesión, enfermedad o tratamiento causado por ingestión voluntaria de somníferos, barbitúricos, drogas y\\ndemás sustancias de efectos análogos o similares, sea que el asegurado haya estado enajenado\\nmentalmente, en algún estado psicopático que altere la conciencia o en su sano juicio.\\nf. Lesión o enfermedad causada por:\\ni. Guerra civil o internacional, sea que esta haya sido declarada o no, invasión y actividades u hostilidades deenemigos extranjeros.\\nii. Participación activa del asegurado en rebelión, revolución, insurrección, poder militar, terrorismo, sabotaje,\\ntumulto o conmoción contra el orden público, dentro o fuera del país.\\niii. Participación del asegurado en actos que podrían ser calificados como delitos por la ley.\\niv. Negligencia, imprudencia o culpa grave por parte del asegurado, incluyéndose toda lesión o enfermedad\\nocurrida a causa o con ocasión de su estado de ebriedad o efectos de las drogas.\\nv. Fusión y fisión nuclear o cualquier accidente nuclear.\\ng. Todo tipo de exámenes dentales, extracciones, empastes y tratamiento dental en general.\\nh. Cualquier tipo de órtesis.\\ni. Medicamentos, remedios, drogas e insumos, con excepción de los prescritos bajo el Beneficio de\\nHospitalización establecido en el punto I. del Artículo 2º precedente. No se cubrirán recetas magistrales y\\nremedios naturales.\\nj. Tratamientos, visitas médicas, exámenes, medicamentos, remedios o vacunas para el sólo efecto\\npreventivo, no inherente ni necesario para el diagnóstico de una incapacidad.\\nk. La atención particular de enfermería fuera del hospital e intrahospitalaria\\nl. Gastos por acompañantes, mientras el asegurado se encuentre hospitalizado, incluyendo alojamiento,\\ncomida y similares.\\nm. Lesión o enfermedad surgidas de la ocupación del asegurado, cubierta por la legislación de Accidentes\\nde Trabajo y Enfermedades Profesionales.\\nn. Cualquier gasto médico asociado a Maternidad, exceptuándose los gastos médicos asociados a\\ncomplicaciones del embarazo. Se entenderá por \"complicaciones del embarazo\" todas aquellas\\nenfermedades que estén directamente relacionadas o sean consecuencia directa del embarazo y cuya\\npresencia u ocurrencia afecte gravemente el desarrollo normal de éste. En virtud de lo señalado, sólo serán\\nconsideradas complicaciones del embarazo para efectos de esta póliza las siguientes:\\ni. Colestasia intrahepática del embarazo.\\nii. Placenta Previa.\\niii. Placenta Creta.\\niv. Preeclampsia.\\nv. Eclampsia.\\nvi. Hipertensión del embarazo.\\nvii. Diabetes gestacional.\\nviii. Incompetencia cervical.ix. Distocia del embarazo.\\nx. Infección huevo ovular.\\nxi. Rotura prematura de membranas.\\nxii. Amenaza de Parto Prematuro, sin que éste haya terminado en parto.\\nEn ningún caso se entenderán incluidos los gastos médicos asociados a amenaza de aborto, abortos,\\ncesáreas, amenaza de parto prematuro sin patología asociada y parto natural, los cuales se encuentran\\nexcluidos de la cobertura de esta póliza.\\nLa cobertura por concepto de \"Complicaciones del Embarazo\" sólo será aplicable respecto del asegurado\\ntitular o de su cónyuge o pareja, según corresponda.\\no. Enfermedades, padecimientos o malformaciones congénitas conocidas por el asegurado titular al\\nmomento de contratar esta póliza.\\np. Epidemias y Pandemias declaradas por la autoridad competente o por el organismo de salud mundial\\ncompetente, respectivamente.\\nq. No serán consideradas como diagnósticos que dan lugar a eventos con derecho a cobertura, para efectos\\nde la presente póliza, la cirugía, tratamientos o gastos que se indican a continuación:\\ni. Obesidad, sobrepeso o problemas de salud asociados (IMC mayor a 35).\\nii.La impotencia masculina.\\niii. Fertilidad e infertilidad.\\niv. Tallas bajas (cualquiera sea su origen), delgadez no patológica, gigantismo, ginecomastía, u otros\\nsimilares.\\nv. Tratamientos anticonceptivos.\\nvi. Cirugía de reducción o aumento mamario.\\nvii. Adquisición o arriendo de equipos, tales como: sillas de rueda, camas médicas, ventiladores mecánicos,\\netc.\\nr. Tratamientos efectuados a través de medios de medicina alternativa, tales como: acupuntura, iriología,\\nreflexología, quiropraxia, etc.\\ns. Gastos que no estén expresamente indicados en el Cuadro de Beneficios detallado en las Condiciones\\nParticulares de la Póliza, como asimismo, gastos de exámenes y procedimientos a través de nuevas\\ntecnologías no reconocidas por el Sistema de Salud Previsional, los cuales serán cubiertos siempre que\\nexista un pronunciamiento de la compañía aseguradora y de Fonasa, o el organismo que en el futuro lo\\nreemplace, en ese sentido.\\nt. Criopreservación. Compra de células madre, sangre, hemoderivados y cualquier otro tejido u órgano.\\nu. Enfermedades, dolencias o situación de salud preexistentes. \\n', metadata={'file': 'POL320210210.pdf', 'policy_header': 'SEGURO PARA PRESTACIONES MÉDICAS DE ALTO COSTO', 'article_title': 'ARTÍCULO 4º: EXCLUSIONES.'}),\n",
       " Document(page_content='ARTICULO 5º: CARENCIA\\nEs un período de tiempo durante el cual el Asegurado no recibe la cobertura prevista en esta póliza. Se\\nextiende desde la fecha de inicio de la vigencia individual del asegurado en la póliza, hasta una fecha\\nposterior determinada y especificada en las Condiciones Particulares.\\n \\n', metadata={'file': 'POL320210210.pdf', 'policy_header': 'SEGURO PARA PRESTACIONES MÉDICAS DE ALTO COSTO', 'article_title': 'ARTICULO 5º: CARENCIA'}),\n",
       " Document(page_content='ARTÍCULO 6°: OBLIGACIONES DEL ASEGURADO\\nRespecto de las obligaciones del Asegurado, rige lo dispuesto en el Artículo 524 del Código de Comercio.\\n \\n', metadata={'file': 'POL320210210.pdf', 'policy_header': 'SEGURO PARA PRESTACIONES MÉDICAS DE ALTO COSTO', 'article_title': 'ARTÍCULO 6°: OBLIGACIONES DEL ASEGURADO'}),\n",
       " Document(page_content='ARTICULO 7°: DECLARACIONES DEL ASEGURADO\\nCorresponde al asegurado declarar sinceramente todas las circunstancias que solicite el asegurador\\napreciar la extensión de los riesgos en los formularios de contratación que disponga la Compañía para estos\\nfines.\\n \\n', metadata={'file': 'POL320210210.pdf', 'policy_header': 'SEGURO PARA PRESTACIONES MÉDICAS DE ALTO COSTO', 'article_title': 'ARTICULO 7°: DECLARACIONES DEL ASEGURADO'}),\n",
       " Document(page_content='ARTICULO 8º: PRIMAS Y EFECTOS DEL NO PAGO DE LAS PRIMAS\\nLa obligación de pagar la prima en la forma y época pactadas le corresponderá al contratante o al\\nasegurado, según se especifique en las Condiciones Particulares de la póliza.\\nLa falta de pago de la prima producirá la terminación del contrato a la expiración del plazo de quince días\\ncontado desde la fecha de envío de la comunicación que, con ese objeto, dirija el asegurador al asegurado o\\nContratante y dará derecho a aquél para exigir que se le pague la prima devengada hasta la fecha de\\nterminación y los gastos de formalización del contrato.\\nProducida la terminación, la responsabilidad del asegurador por los siniestros posteriores cesará de pleno\\nderecho, sin necesidad de declaración judicial alguna.\\n \\n', metadata={'file': 'POL320210210.pdf', 'policy_header': 'SEGURO PARA PRESTACIONES MÉDICAS DE ALTO COSTO', 'article_title': 'ARTICULO 8º: PRIMAS Y EFECTOS DEL NO PAGO DE LAS PRIMAS'}),\n",
       " Document(page_content='ARTICULO 9°: BENEFICIARIOS\\nEl beneficiario de esta póliza será el Asegurado Titular individualizado en las Condiciones Particulares, salvo\\nque se establezca uno diferente lo que deberá quedar expresamente establecido en las Condiciones\\nParticulares.\\nSiendo beneficiario el Asegurado Titular, en caso de fallecer éste antes del pago del beneficio asociado a\\nesta cobertura, y en caso que ello corresponda, dicho beneficio será pagado a quien acredite haber\\nefectuado los gastos médicos, debiendo acompañar los documentos que al efecto la compañía especifique\\nen las Condiciones Particulares.\\n \\n  \\n', metadata={'file': 'POL320210210.pdf', 'policy_header': 'SEGURO PARA PRESTACIONES MÉDICAS DE ALTO COSTO', 'article_title': 'ARTICULO 9°: BENEFICIARIOS'}),\n",
       " Document(page_content='ARTÍCULO 10º: DENUNCIA DE SINIESTROS\\nEfectuado un gasto médico reembolsable en virtud de la presente póliza, el asegurado deberá informarlo a la\\nCompañía Aseguradora dentro del plazo de sesenta (60) días contados desde la fecha de emisión del\\ndocumento que da cuenta del gasto de cargo del asegurado cuyo reembolso se requiera, o bien dentro del\\nplazo que se especifique en las Condiciones Particulares contado también desde la fecha de emisión antes\\nreferida.\\nEl cumplimiento extemporáneo de esta obligación, hará perder los derechos del asegurado, salvo caso\\nfortuito o fuerza mayor acreditada a la compañía, liberando a la compañía aseguradora del pago del\\nbeneficio que habría correspondido.\\nAl denuncio de siniestro, deberán acompañarse los siguientes antecedentes:\\na) Formulario de Reembolso proporcionado por la Compañía Aseguradora.\\nb) La declaración del Asegurado si el gasto cuya devolución se solicita estaba cubierto por otros seguros,\\nsistemas o instituciones que otorguen beneficios médicos y al cual pertenezca el asegurado.\\nc) La entrega a la compañía aseguradora de los originales extendidos a nombre del asegurado, de los\\nrecibos, boletas y facturas cuando corresponda, copia de bonos, copia de órdenes de atención, copia de\\nprogramas médicos u otros documentos que acrediten el gasto incurrido y su pago; como asimismo, en su\\ncaso, los que acrediten el pago o el reembolso de una parte de ellos por la entidad aseguradora, institución o\\nentidad referidos en la letra anterior.\\nCon todo, la compañía aseguradora queda facultada para solicitar los documentos adicionales que estime\\nnecesarios a efectos de aclarar la ocurrencia de un siniestro y determinar su monto. Además, la compañía\\naseguradora podrá practicar a su costa exámenes médicos al Asegurado respecto del cual se refiera la\\nsolicitud de reembolso.\\nEn caso que los gastos médicos cuya devolución se esté solicitando se hubieran efectuado en moneda\\nextranjera, el reembolso se hará en su equivalencia en moneda nacional, según el tipo de cambio observado\\ndeterminado por el Banco Central de Chile y que estuviere vigente a la fecha en que se efectúe el reembolso\\nde gastos, de conformidad a esta póliza.\\nQueda expresamente establecido que los beneficios de esta póliza no se duplicarán con los beneficios o\\ncoberturas de cualquier otro seguro, sistema o institución que otorgue beneficios médicos, y al cual\\npertenezca el asegurado, de manera que esta póliza no cubrirá los gastos médicos que deben pagar o\\nreintegrar las empresas, bienestar, el Seguro Obligatorio de Accidentes Personales establecido en la Ley Nº\\n18.490, instituciones médicas o similares que otorguen tales beneficios o coberturas.\\nQueda expresamente establecido que el asegurado deberá prestar los consentimientos y autorizaciones que\\nel asegurador estime convenientes para efectos de permitir la evaluación y liquidación del siniestro conforme\\na la normativa aplicable.\\n \\n', metadata={'file': 'POL320210210.pdf', 'policy_header': 'SEGURO PARA PRESTACIONES MÉDICAS DE ALTO COSTO', 'article_title': 'ARTÍCULO 10º: DENUNCIA DE SINIESTROS'}),\n",
       " Document(page_content='ARTICULO 11º: VIGENCIA Y TERMINACIÓN\\nLa póliza tendrá una vigencia de un (1) año u otro plazo señalado en las Condiciones Particulares y podrá\\nser renovada por un nuevo periodo a partir de la fecha de vencimiento de la póliza, bajo las nuevascondiciones de coberturas y primas pactadas entre la compañía aseguradora y el contratante.\\nPara los efectos de la renovación de la póliza, la compañía de seguros deberá enviar al contratante las\\ncondiciones de coberturas y primas para el nuevo período de vigencia con una anticipación de al menos\\ntreinta (30) días a la fecha de término de la vigencia. En caso de no recibir respuesta a la propuesta por\\nparte del contratante o éste no aceptase las condiciones de renovación antes del término de la vigencia de la\\npóliza, ésta se entenderá no renovada, llegando a su término en la fecha prevista en las Condiciones\\nParticulares. Si la compañía aseguradora no enviase al contratante de la póliza las condiciones de\\nrenovación con la anticipación señalada, se entenderá renovada la póliza en las mismas condiciones\\nvigentes, sólo por el número de días que la compañía aseguradora se hubiere retardado en el envío de las\\ncondiciones de renovación.\\nLa cobertura terminará anticipadamente para un Asegurado en particular desde la fecha en que el\\nContratante o el Asegurado Titular no pague la prima respectiva, en los términos indicados en el artículo 8°.\\nAsimismo, se pondrá término a la póliza en caso que el interés asegurable no llegare a existir o cesare\\ndurante la vigencia del seguro. En este caso, el asegurado tendrá derecho a la devolución de la prima\\npagada no ganada por el asegurador correspondiente al tiempo no transcurrido.\\n \\n', metadata={'file': 'POL320210210.pdf', 'policy_header': 'SEGURO PARA PRESTACIONES MÉDICAS DE ALTO COSTO', 'article_title': 'ARTICULO 11º: VIGENCIA Y TERMINACIÓN'}),\n",
       " Document(page_content='ARTÍCULO 12º: COMUNICACIÓN ENTRE LAS PARTES\\nCualquier comunicación, declaración notificación que deba efectuar la Compañía Aseguradora al\\nContratante o el Asegurado con motivo de esta póliza, deberá efectuarse a su dirección de correo\\nelectrónico indicada en las condiciones particulares, salvo que éste no dispusiere de correo electrónico o se\\nopusiere a esa forma de notificación. La forma de notificación, como la posibilidad de oponerse a la\\ncomunicación vía correo electrónico, deberá ser comunicada por cualquier medio que garantice su debido y\\nefectivo conocimiento por el asegurado, o estipulada en las condiciones particulares de esta póliza. En caso\\nde oposición, de desconocerse su correo electrónico o de recibir una constancia de que dicho correo no fue\\nenviado o recibido exitosamente, las comunicaciones deberán efectuarse mediante el envío de carta\\ncertificada dirigida a su domicilio señalado en las Condiciones Particulares de la póliza o en la solicitud de\\nseguro respectiva. Las notificaciones efectuadas vía correo electrónico se entenderán realizadas al día hábil\\nsiguiente de haberse enviado éstas, en tanto que las notificaciones hechas por carta certificada, se\\nentenderán realizadas al tercer día hábil siguiente al ingreso a correo de la carta, según el timbre que conste\\nen el sobre respectivo.\\n \\n', metadata={'file': 'POL320210210.pdf', 'policy_header': 'SEGURO PARA PRESTACIONES MÉDICAS DE ALTO COSTO', 'article_title': 'ARTÍCULO 12º: COMUNICACIÓN ENTRE LAS PARTES'}),\n",
       " Document(page_content='ARTÍCULO 13º: SOLUCIÓN DE CONTROVERSIAS\\nCualquier dificultad que se suscite entre el asegurado, el contratante o el beneficiario, según corresponda, y\\nel asegurador, sea en relación con la validez o ineficacia del contrato de seguro, o con motivo de la\\ninterpretación o aplicación de sus condiciones generales o particulares, su cumplimiento o incumplimiento, o\\nsobre la procedencia o el monto de una indemnización reclamada al amparo del mismo, será resuelta en los\\ntérminos establecidos en el Artículo 543 del Código de Comercio.\\nTodo lo anterior se entiende sin perjuicio del derecho que tiene el Asegurado de recurrir siempre ante el\\ntribunal competente en ejercicio de sus derechos de consumidor conforme a la Ley 19.496.\\nNo obstante lo estipulado precedentemente, el asegurado, el contratante o beneficiario, según corresponda,\\npodrá, por sí solo y en cualquier momento, someter al arbitraje de la Comisión del Mercado Financiero lasdificultades que se susciten con la compañía cuando el monto de los daños reclamados no sea superior a\\n120 Unidades de Fomento, de conformidad a lo dispuesto en la letra i) del artículo 3º del Decreto con Fuerza\\nde Ley Nº 251, de Hacienda, de 1931.\\n \\n', metadata={'file': 'POL320210210.pdf', 'policy_header': 'SEGURO PARA PRESTACIONES MÉDICAS DE ALTO COSTO', 'article_title': 'ARTÍCULO 13º: SOLUCIÓN DE CONTROVERSIAS'}),\n",
       " Document(page_content='ARTÍCULO 14°: CLAUSULAS ADICIONALES\\nLas cláusulas adicionales que se contraten en forma accesoria con esta póliza complementan o amplían la\\ncobertura establecida en ella, se regirán en todo lo no previsto en el texto de éstas por lo dispuesto en estas\\nCondiciones Generales.\\n \\n', metadata={'file': 'POL320210210.pdf', 'policy_header': 'SEGURO PARA PRESTACIONES MÉDICAS DE ALTO COSTO', 'article_title': 'ARTÍCULO 14°: CLAUSULAS ADICIONALES'}),\n",
       " Document(page_content='ARTÍCULO 15°: DOMICILIO\\nPara todos los efectos legales derivados del presente contrato, las partes fijan como domicilio especial la\\nciudad señalada en las Condiciones Particulares de la póliza.', metadata={'file': 'POL320210210.pdf', 'policy_header': 'SEGURO PARA PRESTACIONES MÉDICAS DE ALTO COSTO', 'article_title': 'ARTÍCULO 15°: DOMICILIO'})]"
      ]
     },
     "execution_count": 2,
     "metadata": {},
     "output_type": "execute_result"
    }
   ],
   "source": [
    "documents"
   ]
  },
  {
   "cell_type": "raw",
   "metadata": {},
   "source": [
    "\"\"\"\n",
    "Notas y conclusiones:\n",
    "\n",
    "- [0]: POL120190177.pdf y [2]: POL320150503.pdf y [3]: POL320180100.pdf parecen iguales\n",
    "- [1]: POL320130223.pdf y [5]: POL320200071.pdf error de patron\n",
    "- [4]: POL320190074.pdf error en la numeracion de los articulos\n",
    "- [7]: POL320200214.pdf falta el articulo 9\n",
    "\n",
    "\"\"\";"
   ]
  },
  {
   "cell_type": "code",
   "execution_count": 79,
   "metadata": {},
   "outputs": [
    {
     "name": "stdout",
     "output_type": "stream",
     "text": [
      "POL320150503.pdf\n"
     ]
    },
    {
     "data": {
      "text/plain": [
       "['ARTÍCULO 1°: REGLAS APLICABLES AL CONTRATO',\n",
       " 'ARTÍCULO 2º: COBERTURA Y MATERIA ASEGURADA',\n",
       " 'ARTÍCULO 3°: LIMITACIONES DE LAS COBERTURAS',\n",
       " 'ARTÍCULO 4º: DEFINICIONES',\n",
       " 'ARTÍCULO 5º: EXCLUSIONES',\n",
       " 'ARTÍCULO 6°: OBLIGACIONES DEL ASEGURADO',\n",
       " 'ARTÍCULO 7°: DECLARACIONES DEL CONTRATANTE Y DEL ASEGURADO',\n",
       " 'ARTÍCULO 8º: PRIMAS Y EFECTO DEL NO PAGO DE LA PRIMA',\n",
       " 'ARTÍCULO 9º: DENUNCIA DE SINIESTROS',\n",
       " 'ARTÍCULO 10°: CALCULO DE LOS GASTOS REEMBOLSABLES',\n",
       " 'ARTICULO 11°: LIQUIDACION DE LOS GASTOS, FORMA DE PAGO Y MONTO MAXIMO DE GASTOS',\n",
       " 'ARTÍCULO 12°: APLICACION DEL DEDUCIBLE',\n",
       " ' ARTÍCULO 13°: VIGENCIA Y DURACIÓN DEL CONTRATO DE SEGURO',\n",
       " 'ARTÍCULO 14°: INCORPORACIÓN DE ASEGURADOS E INICIO DE LA VIGENCIA DE LA COBERTURA',\n",
       " 'ARTÍCULO 15°: TERMINACIÓN DEL CONTRATO',\n",
       " ' ARTÍCULO 16º: AJUSTE DE LA PRIMA',\n",
       " 'ARTÍCULO 17°: MONEDA O UNIDAD DEL CONTRATO',\n",
       " 'ARTICULO 18°: REHABILITACION DE LA PÓLIZA',\n",
       " 'ARTÍCULO 19º: CONTRIBUCIONES E IMPUESTOS',\n",
       " 'ARTÍCULO 20º: COMUNICACIÓN ENTRE LAS PARTES',\n",
       " 'ARTÍCULO 21º: SOLUCIÓN DE CONTROVERSIAS',\n",
       " 'ARTÍCULO 22º: CLÁUSULAS ADICIONALES',\n",
       " 'ARTÍCULO 23°: DOMICILIO']"
      ]
     },
     "execution_count": 79,
     "metadata": {},
     "output_type": "execute_result"
    }
   ],
   "source": [
    "file_n = 2\n",
    "selected_file = os.path.join(DOWNLOAD_PATH, pdf_files[file_n])\n",
    "print(selected_file.split(\"\\\\\")[-1])\n",
    "extract_patterns(selected_file, pattern)"
   ]
  },
  {
   "cell_type": "markdown",
   "metadata": {},
   "source": [
    "# func 2"
   ]
  },
  {
   "cell_type": "code",
   "execution_count": 73,
   "metadata": {},
   "outputs": [
    {
     "data": {
      "text/plain": [
       "[['ARTÍCULO 1°: REGLAS APLICABLES AL CONTRATO',\n",
       "  'ARTÍCULO 2º: COBERTURA Y MATERIA ASEGURADA'],\n",
       " [],\n",
       " ['ARTÍCULO 3°: LIMITACIONES DE LAS COBERTURAS', 'ARTÍCULO 4º: DEFINICIONES'],\n",
       " [],\n",
       " [],\n",
       " ['ARTÍCULO 5º: EXCLUSIONES'],\n",
       " [],\n",
       " ['ARTÍCULO 6°: OBLIGACIONES DEL ASEGURADO',\n",
       "  'ARTÍCULO 7°: DECLARACIONES DEL CONTRATANTE Y DEL ASEGURADO',\n",
       "  'ARTÍCULO 8º: PRIMAS Y EFECTO DEL NO PAGO DE LA PRIMA'],\n",
       " ['ARTÍCULO 9º: DENUNCIA DE SINIESTRO '],\n",
       " ['ARTÍCULO 10°: CALCULO DE LOS GASTOS REEMBOLSABLES',\n",
       "  'ARTÍCULO 11°: LIQUIDACIÓN DE LOS GASTOS, FORMA DE PAGO Y MONTO MÁXIMO DE GASTOS'],\n",
       " ['ARTÍCULO 12°: APLICACIÓN DEL DEDUCIBLE',\n",
       "  'ARTÍCULO 13°: VIGENCIA Y DURACIÓN DEL CONTRATO DE SEGURO'],\n",
       " ['ARTÍCULO 14°: INCORPORACIÓN DE ASEGURADOS E INICIO DE LA VIGENCIA DE LA COBERTURA',\n",
       "  'ARTÍCULO 15°: TERMINACIÓN DEL CONTRATO',\n",
       "  'ARTÍCULO 16º: AJUSTE DE LA PRIMA'],\n",
       " ['ARTÍCULO 17°: MONEDA O UNIDAD DEL CONTRATO',\n",
       "  'ARTICULO 18°: REHABILITACIÓN DE LA PÓLIZA',\n",
       "  'ARTÍCULO 19º: CONTRIBUCIONES E IMPUESTOS ',\n",
       "  'ARTÍCULO 20º: COMUNICACIÓN ENTRE LAS PARTES'],\n",
       " ['ARTÍCULO 21º: SOLUCIÓN DE CONTROVERSIAS',\n",
       "  'ARTÍCULO 22º: CLÁUSULAS ADICIONALES',\n",
       "  'ARTÍCULO 23°: DOMICILIO']]"
      ]
     },
     "execution_count": 73,
     "metadata": {},
     "output_type": "execute_result"
    }
   ],
   "source": [
    "import os\n",
    "from utils.config import DOWNLOAD_PATH\n",
    "\n",
    "\n",
    "file_n = 0\n",
    "pdf_files = os.listdir(DOWNLOAD_PATH)\n",
    "selected_file = os.path.join(DOWNLOAD_PATH, pdf_files[file_n])\n",
    "pattern = \"ART.CULO\\s\\d+.+:\"\n",
    "\n",
    "# func2\n",
    "from eda_tools.pdf_file_tools import extract_patterns_per_page\n",
    "\n",
    "results = extract_patterns_per_page(selected_file, pattern, extend=False)\n",
    "results"
   ]
  },
  {
   "cell_type": "markdown",
   "metadata": {},
   "source": [
    "# Experiment for EnsambleRetriever"
   ]
  },
  {
   "cell_type": "code",
   "execution_count": 52,
   "metadata": {},
   "outputs": [],
   "source": [
    "# Important for EnsambleRetriever\n",
    "\n",
    "def distribute_weights(string_list):\n",
    "    # Calculate the total length of all strings\n",
    "    total_length = sum(len(string) for string in string_list)\n",
    "    \n",
    "    # Calculate the weights of each string\n",
    "    weights = [len(string) / total_length for string in string_list]\n",
    "    \n",
    "    # Normalize the weights so that the sum is 1\n",
    "    sum_weights = sum(weights)\n",
    "    normalized_weights = [weight / sum_weights for weight in weights]\n",
    "    \n",
    "    return normalized_weights\n",
    "\n"
   ]
  },
  {
   "cell_type": "code",
   "execution_count": 53,
   "metadata": {},
   "outputs": [
    {
     "data": {
      "text/plain": [
       "[0.09855313092979125,\n",
       " 0.0,\n",
       " 0.08467741935483869,\n",
       " 0.0,\n",
       " 0.0,\n",
       " 0.038780834914611,\n",
       " 0.0,\n",
       " 0.14622865275142313,\n",
       " 0.05230075901328272,\n",
       " 0.1042457305502846,\n",
       " 0.06973434535104363,\n",
       " 0.092623339658444,\n",
       " 0.1979364326375711,\n",
       " 0.11491935483870964]"
      ]
     },
     "execution_count": 53,
     "metadata": {},
     "output_type": "execute_result"
    }
   ],
   "source": [
    "distribute_weights(results)"
   ]
  }
 ],
 "metadata": {
  "kernelspec": {
   "display_name": "venv",
   "language": "python",
   "name": "python3"
  },
  "language_info": {
   "codemirror_mode": {
    "name": "ipython",
    "version": 3
   },
   "file_extension": ".py",
   "mimetype": "text/x-python",
   "name": "python",
   "nbconvert_exporter": "python",
   "pygments_lexer": "ipython3",
   "version": "3.11.4"
  }
 },
 "nbformat": 4,
 "nbformat_minor": 2
}
