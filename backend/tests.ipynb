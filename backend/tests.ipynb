{
 "cells": [
  {
   "cell_type": "markdown",
   "metadata": {},
   "source": [
    "## Summarization"
   ]
  },
  {
   "cell_type": "code",
   "execution_count": 25,
   "metadata": {},
   "outputs": [],
   "source": [
    "import os, pickle\n",
    "\n",
    "response_path = \".summarization_backup/\""
   ]
  },
  {
   "cell_type": "code",
   "execution_count": 30,
   "metadata": {},
   "outputs": [],
   "source": [
    "# crear una funcion que reciba un string y formatee el texto para que sea legible\n",
    "# utilizar un maximo de 50 caracteres por linea\n",
    "\n",
    "def format_text(text):\n",
    "    formatted_text = \"\"\n",
    "    for i in range(0, len(text), 50):\n",
    "        formatted_text += text[i:i+50] + \"\\n\"\n",
    "    return formatted_text\n"
   ]
  },
  {
   "cell_type": "code",
   "execution_count": 32,
   "metadata": {},
   "outputs": [
    {
     "name": "stdout",
     "output_type": "stream",
     "text": [
      "La póliza de accidentes personales/reembolso de ga\n",
      "stos médicos establece que la compañía aseguradora\n",
      " reembolsará al asegurado los gastos médicos razon\n",
      "ables y acostumbrados incurridos durante la vigenc\n",
      "ia de la póliza, siempre y cuando se cumplan ciert\n",
      "os requisitos. Estos requisitos incluyen que el ac\n",
      "cidente ocurra durante la vigencia de la póliza, q\n",
      "ue los gastos se realicen dentro del período de du\n",
      "ración de reembolso, que el monto de gastos supere\n",
      " el deducible establecido, que la suma de los reem\n",
      "bolsos no supere el monto máximo establecido, que \n",
      "los gastos no sean excluidos y que las prestacione\n",
      "s médicas sean entregadas por los prestadores indi\n",
      "cados. Los reembolsos se realizarán hasta el monto\n",
      " máximo establecido y de acuerdo a los términos y \n",
      "límites establecidos en las condiciones particular\n",
      "es de la póliza. Además, se establece que el reemb\n",
      "olso será complementario a lo que cubra el sistema\n",
      " previsional o de salud al que esté afiliado el as\n",
      "egurado. En caso de contar con Isapre, el reembols\n",
      "o será del saldo total remanente con un límite est\n",
      "ablecido. En caso de otros sistemas previsionales \n",
      "de salud o su ausencia, se exigirá un copago mínim\n",
      "o.\n",
      "\n"
     ]
    }
   ],
   "source": [
    "# Primer run: response_1709556534.pkl\n",
    "# documento index = 0\n",
    "# pagina index = 0\n",
    "# prompt_template = \"\"\"Generar un resumen que capture los patrones relevantes\\\n",
    "#  en los datos del TEXTO. La respuesta debe ser de 1000 caracteres como maximo.\n",
    "# TEXTO:\n",
    "# \"{text}\"\n",
    "# RESUMEN:\"\"\"\n",
    "\n",
    "with open(response_path + \"response_1709556534.pkl\", \"rb\") as f:\n",
    "    response = pickle.load(f)\n",
    "\n",
    "print(format_text(response))"
   ]
  },
  {
   "cell_type": "code",
   "execution_count": 36,
   "metadata": {},
   "outputs": [
    {
     "name": "stdout",
     "output_type": "stream",
     "text": [
      "- El contrato de seguro se regirá por las disposiciones legales y las estipulaciones más beneficiosas para el asegurado o beneficiario.\n",
      "- La cobertura de la póliza incluye el reembolso de los gastos médicos razonables y acostumbrados incurridos por el asegurado en caso de accidente.\n",
      "- Los gastos deben ser realizados en los prestadores de salud determinados por la aseguradora y durante el período de duración del reembolso.\n",
      "- Se establecen requisitos para el reembolso de los gastos, como que el accidente haya ocurrido durante la vigencia de la póliza, que se haya incurrido en los gastos dentro del período de duración de reembolso, que el monto de gastos supere el deducible establecido, entre otros.\n",
      "- Los reembolsos están sujetos a límites y topes establecidos en las condiciones particulares de la póliza, así como a porcentajes de bonificación o reembolso entregados por el sistema de salud previsional al que esté afiliado el asegurado.\n",
      "- La aseguradora reembolsará los gastos médicos como complemento de lo que cubra el sistema previsional o de salud al que esté afiliado el asegurado, como Isapres, Fonasa, Cajas de Previsión, entre otros.\n",
      "- En caso de contar con Isapre, el reembolso estará limitado al monto estipulado en las condiciones particulares y se exigirá un copago mínimo en otros sistemas previsionales de salud o en su ausencia.\n"
     ]
    }
   ],
   "source": [
    "# Segundo run: response_1709557379.pkl\n",
    "# documento index = 0\n",
    "# pagina index = 0\n",
    "# prompt_template = \"\"\"Extraer los bullet-points de los articulos\\\n",
    "#  contenidos en el TEXTO. La respuesta debe ser de 1000 caracteres como maximo.\n",
    "# TEXTO:\n",
    "# \"{text}\"\n",
    "# RESUMEN:\"\"\"\n",
    "\n",
    "with open(response_path + \"response_1709557379.pkl\", \"rb\") as f:\n",
    "    response = pickle.load(f)\n",
    "    \n",
    "print(response[\"output_text\"])\n"
   ]
  },
  {
   "cell_type": "code",
   "execution_count": 37,
   "metadata": {},
   "outputs": [
    {
     "name": "stdout",
     "output_type": "stream",
     "text": [
      "1353\n"
     ]
    }
   ],
   "source": [
    "print(len(response[\"output_text\"]))"
   ]
  },
  {
   "cell_type": "markdown",
   "metadata": {},
   "source": [
    "## func 1"
   ]
  },
  {
   "cell_type": "code",
   "execution_count": 90,
   "metadata": {},
   "outputs": [
    {
     "name": "stdout",
     "output_type": "stream",
     "text": [
      "POL320210210.pdf\n"
     ]
    },
    {
     "data": {
      "text/plain": [
       "['ARTICULO 1°: REGLAS APLICABLES AL CONTRATO',\n",
       " 'ARTÍCULO 2º: COBERTURA',\n",
       " 'ARTÍCULO 3º: DEFINICIONES.',\n",
       " 'ARTÍCULO 4º: EXCLUSIONES.',\n",
       " 'ARTICULO 5º: CARENCIA',\n",
       " 'ARTÍCULO 6°: OBLIGACIONES DEL ASEGURADO',\n",
       " 'ARTICULO 7°: DECLARACIONES DEL ASEGURADO',\n",
       " 'ARTICULO 8º: PRIMAS Y EFECTOS DEL NO PAGO DE LAS PRIMAS',\n",
       " 'ARTICULO 9°: BENEFICIARIOS',\n",
       " 'ARTÍCULO 10º: DENUNCIA DE SINIESTROS',\n",
       " 'ARTICULO 11º: VIGENCIA Y TERMINACIÓN',\n",
       " 'ARTÍCULO 12º: COMUNICACIÓN ENTRE LAS PARTES',\n",
       " 'ARTÍCULO 13º: SOLUCIÓN DE CONTROVERSIAS',\n",
       " 'ARTÍCULO 14°: CLAUSULAS ADICIONALES',\n",
       " 'ARTÍCULO 15°: DOMICILIO']"
      ]
     },
     "execution_count": 90,
     "metadata": {},
     "output_type": "execute_result"
    }
   ],
   "source": [
    "import os\n",
    "from utils.config import DOWNLOAD_PATH\n",
    "\n",
    "\n",
    "file_n = 8\n",
    "pdf_files = os.listdir(DOWNLOAD_PATH)\n",
    "selected_file = os.path.join(DOWNLOAD_PATH, pdf_files[file_n])\n",
    "pattern = \"ART.CULO\\s\\d+.+:\"\n",
    "\n",
    "\n",
    "# func 1:\n",
    "from eda_tools.pdf_file_tools import extract_patterns\n",
    "\n",
    "print(selected_file.split(\"\\\\\")[-1])\n",
    "extract_patterns(selected_file, pattern)\n"
   ]
  },
  {
   "cell_type": "raw",
   "metadata": {},
   "source": [
    "\"\"\"\n",
    "Notas y conclusiones:\n",
    "\n",
    "- [0]: POL120190177.pdf y [2]: POL320150503.pdf y [3]: POL320180100.pdf parecen iguales\n",
    "- [1]: POL320130223.pdf y [5]: POL320200071.pdf error de patron\n",
    "- [4]: POL320190074.pdf error en la numeracion de los articulos\n",
    "- [7]: POL320200214.pdf falta el articulo 9\n",
    "\n",
    "\"\"\";"
   ]
  },
  {
   "cell_type": "code",
   "execution_count": 79,
   "metadata": {},
   "outputs": [
    {
     "name": "stdout",
     "output_type": "stream",
     "text": [
      "POL320150503.pdf\n"
     ]
    },
    {
     "data": {
      "text/plain": [
       "['ARTÍCULO 1°: REGLAS APLICABLES AL CONTRATO',\n",
       " 'ARTÍCULO 2º: COBERTURA Y MATERIA ASEGURADA',\n",
       " 'ARTÍCULO 3°: LIMITACIONES DE LAS COBERTURAS',\n",
       " 'ARTÍCULO 4º: DEFINICIONES',\n",
       " 'ARTÍCULO 5º: EXCLUSIONES',\n",
       " 'ARTÍCULO 6°: OBLIGACIONES DEL ASEGURADO',\n",
       " 'ARTÍCULO 7°: DECLARACIONES DEL CONTRATANTE Y DEL ASEGURADO',\n",
       " 'ARTÍCULO 8º: PRIMAS Y EFECTO DEL NO PAGO DE LA PRIMA',\n",
       " 'ARTÍCULO 9º: DENUNCIA DE SINIESTROS',\n",
       " 'ARTÍCULO 10°: CALCULO DE LOS GASTOS REEMBOLSABLES',\n",
       " 'ARTICULO 11°: LIQUIDACION DE LOS GASTOS, FORMA DE PAGO Y MONTO MAXIMO DE GASTOS',\n",
       " 'ARTÍCULO 12°: APLICACION DEL DEDUCIBLE',\n",
       " ' ARTÍCULO 13°: VIGENCIA Y DURACIÓN DEL CONTRATO DE SEGURO',\n",
       " 'ARTÍCULO 14°: INCORPORACIÓN DE ASEGURADOS E INICIO DE LA VIGENCIA DE LA COBERTURA',\n",
       " 'ARTÍCULO 15°: TERMINACIÓN DEL CONTRATO',\n",
       " ' ARTÍCULO 16º: AJUSTE DE LA PRIMA',\n",
       " 'ARTÍCULO 17°: MONEDA O UNIDAD DEL CONTRATO',\n",
       " 'ARTICULO 18°: REHABILITACION DE LA PÓLIZA',\n",
       " 'ARTÍCULO 19º: CONTRIBUCIONES E IMPUESTOS',\n",
       " 'ARTÍCULO 20º: COMUNICACIÓN ENTRE LAS PARTES',\n",
       " 'ARTÍCULO 21º: SOLUCIÓN DE CONTROVERSIAS',\n",
       " 'ARTÍCULO 22º: CLÁUSULAS ADICIONALES',\n",
       " 'ARTÍCULO 23°: DOMICILIO']"
      ]
     },
     "execution_count": 79,
     "metadata": {},
     "output_type": "execute_result"
    }
   ],
   "source": [
    "file_n = 2\n",
    "selected_file = os.path.join(DOWNLOAD_PATH, pdf_files[file_n])\n",
    "print(selected_file.split(\"\\\\\")[-1])\n",
    "extract_patterns(selected_file, pattern)"
   ]
  },
  {
   "cell_type": "markdown",
   "metadata": {},
   "source": [
    "# func 2"
   ]
  },
  {
   "cell_type": "code",
   "execution_count": 73,
   "metadata": {},
   "outputs": [
    {
     "data": {
      "text/plain": [
       "[['ARTÍCULO 1°: REGLAS APLICABLES AL CONTRATO',\n",
       "  'ARTÍCULO 2º: COBERTURA Y MATERIA ASEGURADA'],\n",
       " [],\n",
       " ['ARTÍCULO 3°: LIMITACIONES DE LAS COBERTURAS', 'ARTÍCULO 4º: DEFINICIONES'],\n",
       " [],\n",
       " [],\n",
       " ['ARTÍCULO 5º: EXCLUSIONES'],\n",
       " [],\n",
       " ['ARTÍCULO 6°: OBLIGACIONES DEL ASEGURADO',\n",
       "  'ARTÍCULO 7°: DECLARACIONES DEL CONTRATANTE Y DEL ASEGURADO',\n",
       "  'ARTÍCULO 8º: PRIMAS Y EFECTO DEL NO PAGO DE LA PRIMA'],\n",
       " ['ARTÍCULO 9º: DENUNCIA DE SINIESTRO '],\n",
       " ['ARTÍCULO 10°: CALCULO DE LOS GASTOS REEMBOLSABLES',\n",
       "  'ARTÍCULO 11°: LIQUIDACIÓN DE LOS GASTOS, FORMA DE PAGO Y MONTO MÁXIMO DE GASTOS'],\n",
       " ['ARTÍCULO 12°: APLICACIÓN DEL DEDUCIBLE',\n",
       "  'ARTÍCULO 13°: VIGENCIA Y DURACIÓN DEL CONTRATO DE SEGURO'],\n",
       " ['ARTÍCULO 14°: INCORPORACIÓN DE ASEGURADOS E INICIO DE LA VIGENCIA DE LA COBERTURA',\n",
       "  'ARTÍCULO 15°: TERMINACIÓN DEL CONTRATO',\n",
       "  'ARTÍCULO 16º: AJUSTE DE LA PRIMA'],\n",
       " ['ARTÍCULO 17°: MONEDA O UNIDAD DEL CONTRATO',\n",
       "  'ARTICULO 18°: REHABILITACIÓN DE LA PÓLIZA',\n",
       "  'ARTÍCULO 19º: CONTRIBUCIONES E IMPUESTOS ',\n",
       "  'ARTÍCULO 20º: COMUNICACIÓN ENTRE LAS PARTES'],\n",
       " ['ARTÍCULO 21º: SOLUCIÓN DE CONTROVERSIAS',\n",
       "  'ARTÍCULO 22º: CLÁUSULAS ADICIONALES',\n",
       "  'ARTÍCULO 23°: DOMICILIO']]"
      ]
     },
     "execution_count": 73,
     "metadata": {},
     "output_type": "execute_result"
    }
   ],
   "source": [
    "import os\n",
    "from utils.config import DOWNLOAD_PATH\n",
    "\n",
    "\n",
    "file_n = 0\n",
    "pdf_files = os.listdir(DOWNLOAD_PATH)\n",
    "selected_file = os.path.join(DOWNLOAD_PATH, pdf_files[file_n])\n",
    "pattern = \"ART.CULO\\s\\d+.+:\"\n",
    "\n",
    "# func2\n",
    "from eda_tools.pdf_file_tools import extract_patterns_per_page\n",
    "\n",
    "results = extract_patterns_per_page(selected_file, pattern, extend=False)\n",
    "results"
   ]
  },
  {
   "cell_type": "markdown",
   "metadata": {},
   "source": [
    "# Experiment for EnsambleRetriever"
   ]
  },
  {
   "cell_type": "code",
   "execution_count": 52,
   "metadata": {},
   "outputs": [],
   "source": [
    "# Important for EnsambleRetriever\n",
    "\n",
    "def distribute_weights(string_list):\n",
    "    # Calculate the total length of all strings\n",
    "    total_length = sum(len(string) for string in string_list)\n",
    "    \n",
    "    # Calculate the weights of each string\n",
    "    weights = [len(string) / total_length for string in string_list]\n",
    "    \n",
    "    # Normalize the weights so that the sum is 1\n",
    "    sum_weights = sum(weights)\n",
    "    normalized_weights = [weight / sum_weights for weight in weights]\n",
    "    \n",
    "    return normalized_weights\n",
    "\n"
   ]
  },
  {
   "cell_type": "code",
   "execution_count": 53,
   "metadata": {},
   "outputs": [
    {
     "data": {
      "text/plain": [
       "[0.09855313092979125,\n",
       " 0.0,\n",
       " 0.08467741935483869,\n",
       " 0.0,\n",
       " 0.0,\n",
       " 0.038780834914611,\n",
       " 0.0,\n",
       " 0.14622865275142313,\n",
       " 0.05230075901328272,\n",
       " 0.1042457305502846,\n",
       " 0.06973434535104363,\n",
       " 0.092623339658444,\n",
       " 0.1979364326375711,\n",
       " 0.11491935483870964]"
      ]
     },
     "execution_count": 53,
     "metadata": {},
     "output_type": "execute_result"
    }
   ],
   "source": [
    "distribute_weights(results)"
   ]
  }
 ],
 "metadata": {
  "kernelspec": {
   "display_name": "venv",
   "language": "python",
   "name": "python3"
  },
  "language_info": {
   "codemirror_mode": {
    "name": "ipython",
    "version": 3
   },
   "file_extension": ".py",
   "mimetype": "text/x-python",
   "name": "python",
   "nbconvert_exporter": "python",
   "pygments_lexer": "ipython3",
   "version": "3.11.4"
  }
 },
 "nbformat": 4,
 "nbformat_minor": 2
}
