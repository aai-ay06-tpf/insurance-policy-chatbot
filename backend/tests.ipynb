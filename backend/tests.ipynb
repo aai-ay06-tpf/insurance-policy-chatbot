{
 "cells": [
  {
   "cell_type": "markdown",
   "metadata": {},
   "source": [
    "# Lectura de la vdb desde Local"
   ]
  },
  {
   "cell_type": "code",
   "execution_count": 1,
   "metadata": {},
   "outputs": [],
   "source": [
    "from qdrant_client import QdrantClient\n",
    "from langchain_community.vectorstores.qdrant import Qdrant\n",
    "from ml_service.embeddings import Embeddings\n",
    "from utils.config import QVDB_BASE_PATH\n",
    "\n",
    "collection_name = \"sbert_embeddings\"\n",
    "vdb_name=\"all_files\"\n",
    "    \n",
    "\n",
    "emb = Embeddings()\n",
    "embeddings = emb.obtain_embeddings(collection_name)\n",
    "\n",
    "client = QdrantClient(path=QVDB_BASE_PATH.format(filename=vdb_name))\n",
    "qdrant = Qdrant(client, collection_name, embeddings)"
   ]
  },
  {
   "cell_type": "markdown",
   "metadata": {},
   "source": [
    "# Lectura de la vdb desde Docker"
   ]
  },
  {
   "cell_type": "code",
   "execution_count": 1,
   "metadata": {},
   "outputs": [
    {
     "data": {
      "text/plain": [
       "['all_files_sbert_embeddings',\n",
       " 'POL320150503_sbert_embeddings',\n",
       " 'POL320180100_sbert_embeddings',\n",
       " 'POL320190074_sbert_embeddings',\n",
       " 'POL320200214_sbert_embeddings',\n",
       " 'POL320210210_sbert_embeddings']"
      ]
     },
     "execution_count": 1,
     "metadata": {},
     "output_type": "execute_result"
    }
   ],
   "source": [
    "import os\n",
    "\n",
    "from utils.config import QDRANT_LOCAL_PATH\n",
    "\n",
    "\n",
    "os.listdir(QDRANT_LOCAL_PATH)"
   ]
  },
  {
   "cell_type": "code",
   "execution_count": 2,
   "metadata": {},
   "outputs": [],
   "source": [
    "from qdrant_client import QdrantClient\n",
    "from langchain_community.vectorstores.qdrant import Qdrant\n",
    "from ml_service.embeddings import Embeddings\n",
    "\n",
    "\n",
    "embedding_name = \"sbert_embeddings\"\n",
    "collection_name = \"all_files_sbert_embeddings\"\n",
    "\n",
    "emb = Embeddings()\n",
    "embeddings = emb.obtain_embeddings(embedding_name)\n",
    "\n",
    "client = QdrantClient(host=\"localhost\", port=6333)\n",
    "qdrant = Qdrant(client, collection_name, embeddings)"
   ]
  },
  {
   "cell_type": "code",
   "execution_count": 10,
   "metadata": {},
   "outputs": [],
   "source": [
    "retrieve = qdrant.as_retriever(search_type=\"mmr\")"
   ]
  },
  {
   "cell_type": "code",
   "execution_count": 18,
   "metadata": {},
   "outputs": [
    {
     "name": "stdout",
     "output_type": "stream",
     "text": [
      "['POL320190074', 'POL320150503']\n"
     ]
    }
   ],
   "source": [
    "res = retrieve.invoke(\"Respecto a las obligaciones del asegurado\")\n",
    "\n",
    "print([r.metadata[\"file\"] for r in res][:2])\n",
    "\n",
    "best_match = ['POL320190074', 'POL320150503']"
   ]
  },
  {
   "cell_type": "code",
   "execution_count": 37,
   "metadata": {},
   "outputs": [
    {
     "name": "stdout",
     "output_type": "stream",
     "text": [
      "('seguro para prestaciones médicas de alto costo reglas aplicables al contrato '\n",
      " 'cobertura definiciones. exclusiones. carencia obligaciones del asegurado '\n",
      " 'declaraciones del asegurado primas y efectos del no pago de las primas '\n",
      " 'beneficiarios denuncia de siniestros vigencia y terminación comunicación '\n",
      " 'entre las partes solución de controversias clausulas adicionales domicilio '\n",
      " 'cláusulas aplicables reglas aplicables al contrato obligaciones del '\n",
      " 'asegurado declaraciones del asegurado cobertura y materia asegurada '\n",
      " 'definiciones exclusiones denuncia de siniestros terminación')\n"
     ]
    }
   ],
   "source": [
    "from pprint import pprint\n",
    "\n",
    "pprint(res[0].page_content)"
   ]
  },
  {
   "cell_type": "code",
   "execution_count": 19,
   "metadata": {},
   "outputs": [],
   "source": [
    "retriever_list = []\n",
    "\n",
    "for file in best_match:\n",
    "    retriever_list.append(Qdrant(client, f\"{file}_{embedding_name}\", embeddings))"
   ]
  },
  {
   "cell_type": "code",
   "execution_count": 20,
   "metadata": {},
   "outputs": [],
   "source": [
    "retriever_1 = retriever_list[0].as_retriever(search_type=\"mmr\")\n",
    "retriever_2 = retriever_list[1].as_retriever(search_type=\"mmr\")"
   ]
  },
  {
   "cell_type": "code",
   "execution_count": 23,
   "metadata": {},
   "outputs": [
    {
     "data": {
      "text/plain": [
       "[Document(page_content='Cualquier dificultad que se suscite entre el asegurado, el contratante o el beneficiario, según corresponda, yel asegurador, sea en relación con la validez o ineficacia del contrato de seguro, o con motivo de la interpretación o aplicación de sus condiciones generales o particulares, su cumplimiento o incumplimiento, o sobre la procedencia o el monto de una indemnización reclamada al amparo del mismo, será resuelta en los términos establecidos en el Artículo 543 del Código de Comercio. Todo lo anterior se entiende sin perjuicio del derecho que tiene el Asegurado de recurrir siempre ante el tribunal competente en ejercicio de sus derechos de consumidor conforme a la Ley 19.496. No obstante lo estipulado precedentemente, el asegurado, el contratante o beneficiario, según corresponda, podrá, por sí solo y en cualquier momento, someter al arbitraje de la Comisión del Mercado Financiero las dificultades que se susciten con la compañía cuando el monto de los daños reclamados no sea superior a 120 Unidades de Fomento, de conformidad a lo dispuesto en la letra i) del artículo 3º del Decreto con Fuerza de Ley Nº 251, de Hacienda, de 1931.', metadata={'article': 'ARTÍCULO 13º: SOLUCIÓN DE CONTROVERSIAS', 'file': 'POL320190074', '_id': '50532c99-3262-474b-b521-f9772537270a', '_collection_name': 'POL320190074_sbert_embeddings'}),\n",
       " Document(page_content='Corresponde al asegurado declarar sinceramente todas las circunstancias que solicite el asegurador apreciar la extensión de los riesgos en los formularios de contratación que disponga la Compañía para estos fines.', metadata={'article': 'ARTICULO 7°: DECLARACIONES DEL ASEGURADO', 'file': 'POL320190074', '_id': 'b8c56071-9baf-4e01-a5ab-d91ba35d1d41', '_collection_name': 'POL320190074_sbert_embeddings'})]"
      ]
     },
     "execution_count": 23,
     "metadata": {},
     "output_type": "execute_result"
    }
   ],
   "source": [
    "res_1 = retriever_1.invoke(\"Respecto a las obligaciones del asegurado\")[:2]\n",
    "res_1"
   ]
  },
  {
   "cell_type": "code",
   "execution_count": 24,
   "metadata": {},
   "outputs": [
    {
     "data": {
      "text/plain": [
       "[Document(page_content='El Asegurado está obligado a: 1º Declarar sinceramente todas las circunstancias que solicite el Asegurador para identificar la cosa asegurada y apreciar la extensión de los riesgos; 2° Informar, a requerimiento del Asegurador, sobre la existencia de otros seguros que amparen el mismo objeto; 3° Pagar la prima en la forma y época pactadas; 4° Notificar al Asegurador, tan pronto sea posible una vez tomado conocimiento, de la ocurrencia de cualquier hecho que pueda constituir o constituya un siniestro, y 5° Acreditar la ocurrencia del siniestro denunciado, y declarar fielmente y sin reticencia, sus circunstancias y consecuencias. Si el Tomador o Contratante del seguro y el Asegurado son personas distintas, corresponde al Tomador o Contratante el cumplimiento de las obligaciones del contrato, salvo aquellas que por su naturaleza deben ser cumplidas por el Asegurado. Las obligaciones del Tomador o Contratante podrán ser cumplidas por el Asegurado.', metadata={'article': 'ARTÍCULO 6°: OBLIGACIONES DEL ASEGURADO', 'file': 'POL320150503', '_id': '317586e2-ad98-4a84-aece-31ed5e0b0973', '_collection_name': 'POL320150503_sbert_embeddings'}),\n",
       " Document(page_content='Se aplicarán al presente contrato de seguro las disposiciones contenidas en los artículos siguientes y las normas legales de carácter imperativo establecidas en el artículo VIII, del Libro II, del Código de Comercio. Sin embargo, se entenderán válidas las estipulaciones contractuales que sean más beneficiosas para el asegurado o el beneficiario.', metadata={'article': 'ARTÍCULO 1°: REGLAS APLICABLES AL CONTRATO', 'file': 'POL320150503', '_id': '01488344-34d3-432a-a604-f419fc4bb706', '_collection_name': 'POL320150503_sbert_embeddings'})]"
      ]
     },
     "execution_count": 24,
     "metadata": {},
     "output_type": "execute_result"
    }
   ],
   "source": [
    "res_2 = retriever_2.invoke(\"Respecto a las obligaciones del asegurado\")[:2]\n",
    "res_2"
   ]
  },
  {
   "cell_type": "code",
   "execution_count": 35,
   "metadata": {},
   "outputs": [
    {
     "data": {
      "text/plain": [
       "{'article': 'ARTÍCULO 13º: SOLUCIÓN DE CONTROVERSIAS',\n",
       " 'file': 'POL320190074',\n",
       " '_id': '50532c99-3262-474b-b521-f9772537270a',\n",
       " '_collection_name': 'POL320190074_sbert_embeddings'}"
      ]
     },
     "execution_count": 35,
     "metadata": {},
     "output_type": "execute_result"
    }
   ],
   "source": [
    "res_1[0].metadata"
   ]
  },
  {
   "cell_type": "code",
   "execution_count": 32,
   "metadata": {},
   "outputs": [
    {
     "data": {
      "text/plain": [
       "{'article': 'ARTÍCULO 1°: REGLAS APLICABLES AL CONTRATO',\n",
       " 'file': 'POL320150503',\n",
       " '_id': '01488344-34d3-432a-a604-f419fc4bb706',\n",
       " '_collection_name': 'POL320150503_sbert_embeddings'}"
      ]
     },
     "execution_count": 32,
     "metadata": {},
     "output_type": "execute_result"
    }
   ],
   "source": [
    "res_2[1].metadata\n"
   ]
  },
  {
   "cell_type": "code",
   "execution_count": 34,
   "metadata": {},
   "outputs": [
    {
     "name": "stdout",
     "output_type": "stream",
     "text": [
      "('Cualquier dificultad que se suscite entre el asegurado, el contratante o el '\n",
      " 'beneficiario, según corresponda, yel asegurador, sea en relación con la '\n",
      " 'validez o ineficacia del contrato de seguro, o con motivo de la '\n",
      " 'interpretación o aplicación de sus condiciones generales o particulares, su '\n",
      " 'cumplimiento o incumplimiento, o sobre la procedencia o el monto de una '\n",
      " 'indemnización reclamada al amparo del mismo, será resuelta en los términos '\n",
      " 'establecidos en el Artículo 543 del Código de Comercio. Todo lo anterior se '\n",
      " 'entiende sin perjuicio del derecho que tiene el Asegurado de recurrir '\n",
      " 'siempre ante el tribunal competente en ejercicio de sus derechos de '\n",
      " 'consumidor conforme a la Ley 19.496. No obstante lo estipulado '\n",
      " 'precedentemente, el asegurado, el contratante o beneficiario, según '\n",
      " 'corresponda, podrá, por sí solo y en cualquier momento, someter al arbitraje '\n",
      " 'de la Comisión del Mercado Financiero las dificultades que se susciten con '\n",
      " 'la compañía cuando el monto de los daños reclamados no sea superior a 120 '\n",
      " 'Unidades de Fomento, de conformidad a lo dispuesto en la letra i) del '\n",
      " 'artículo 3º del Decreto con Fuerza de Ley Nº 251, de Hacienda, de 1931.')\n"
     ]
    }
   ],
   "source": [
    "from pprint import pprint\n",
    "\n",
    "pprint(res_1[0].page_content)"
   ]
  },
  {
   "cell_type": "code",
   "execution_count": 8,
   "metadata": {},
   "outputs": [],
   "source": [
    "retrieve2 = qdrant.as_retriever()"
   ]
  },
  {
   "cell_type": "code",
   "execution_count": 9,
   "metadata": {},
   "outputs": [
    {
     "data": {
      "text/plain": [
       "[Document(page_content='SEGURO PARA PRESTACIONES MÉDICAS DE ALTO COSTO REGLAS APLICABLES AL CONTRATO COBERTURA DEFINICIONES. EXCLUSIONES. CARENCIA OBLIGACIONES DEL ASEGURADO DECLARACIONES DEL ASEGURADO PRIMAS Y EFECTOS DEL NO PAGO DE LAS PRIMAS BENEFICIARIOS DENUNCIA DE SINIESTROS VIGENCIA Y TERMINACIÓN COMUNICACIÓN ENTRE LAS PARTES SOLUCIÓN DE CONTROVERSIAS CLAUSULAS ADICIONALES DOMICILIO CLÁUSULAS APLICABLES REGLAS APLICABLES AL CONTRATO OBLIGACIONES DEL ASEGURADO DECLARACIONES DEL ASEGURADO COBERTURA Y MATERIA ASEGURADA DEFINICIONES EXCLUSIONES DENUNCIA DE SINIESTROS TERMINACIÓN', metadata={'file': 'POL320190074', 'policy_header': 'SEGURO PARA PRESTACIONES MÉDICAS DE ALTO COSTO', '_id': '5bcab07b-d02d-450d-a253-63cf959b79db', '_collection_name': 'all_files_sbert_embeddings'}),\n",
       " Document(page_content='PÓLIZA DE SEGURO PARA PRESTACIONES MÉDICAS DERIVADAS DE ACCIDENTE REGLAS APLICABLES AL CONTRATO COBERTURA Y MATERIA ASEGURADA LIMITACIONES DE LAS COBERTURAS DEFINICIONES EXCLUSIONES OBLIGACIONES DEL ASEGURADO DECLARACIONES DEL CONTRATANTE Y DEL ASEGURADO PRIMAS Y EFECTO DEL NO PAGO DE LA PRIMA DENUNCIA DE SINIESTROS CALCULO DE LOS GASTOS REEMBOLSABLES LIQUIDACION DE LOS GASTOS, FORMA DE PAGO Y MONTO MAXIMO DE GASTOS APLICACION DEL DEDUCIBLE INCORPORACIÓN DE ASEGURADOS E INICIO DE LA VIGENCIA DE LA COBERTURA TERMINACIÓN DEL CONTRATO MONEDA O UNIDAD DEL CONTRATO REHABILITACION DE LA PÓLIZA CONTRIBUCIONES E IMPUESTOS COMUNICACIÓN ENTRE LAS PARTES SOLUCIÓN DE CONTROVERSIAS CLÁUSULAS ADICIONALES DOMICILIO', metadata={'file': 'POL320150503', 'policy_header': 'PÓLIZA DE SEGURO PARA PRESTACIONES MÉDICAS DERIVADAS DE ACCIDENTE', '_id': '2aa4caf6-0bfc-4a00-8125-a6e267ab1260', '_collection_name': 'all_files_sbert_embeddings'}),\n",
       " Document(page_content='SEGURO COLECTIVO COMPLEMENTARIO DE SALUD  COBERTURA DEFINICIONES MONTO MÁXIMO DE REEMBOLSO DUPLICACIÓN DE BENEFICIOS EXCLUSIONES RIESGOS CUBIERTOS BAJO ESTIPULACIÓN EXPRESA BENEFICIARIOS PRIMAS Y EFECTO DEL NO PAGO DE LAS PRIMAS DENUNCIO DE SINIESTRO VIGENCIA Y TERMINACIÓN DE DE LA PÓLIZA INCORPORACIÓN DE NUEVOS ASEGURADOS MONEDA O UNIDAD DE LA PÓLIZA COMUNICACIONES SOLUCIÓN DE CONTROVERSIAS DOMICILIO CLÁUSULAS ADICIONALES', metadata={'file': 'POL320130223', 'policy_header': 'SEGURO COLECTIVO COMPLEMENTARIO DE SALUD ', '_id': 'd41a19e1-0517-48bb-b249-1796dbc2a1dc', '_collection_name': 'all_files_sbert_embeddings'}),\n",
       " Document(page_content='SEGURO PARA PRESTACIONES MÉDICAS DE ALTO COSTO REGLAS APLICABLES AL CONTRATO COBERTURA DEFINICIONES EXCLUSIONES DEDUCIBLE COPAGO OBLIGACIONES DEL ASEGURADO DECLARACIONES DEL ASEGURADO AGRAVACIÓN DEL RIESGO PRIMAS Y EFECTOS DEL NO PAGO DE LAS PRIMAS DENUNCIA DE SINIESTROS VIGENCIA MODIFICACIONES A LA PÓLIZA PAÍS DE RESIDENCIA COMUNICACIÓN ENTRE LAS PARTES SOLUCIÓN DE CONTROVERSIAS CLÁUSULAS ADICIONALES DOMICILIO', metadata={'file': 'POL320200214', 'policy_header': 'SEGURO PARA PRESTACIONES MÉDICAS DE ALTO COSTO', '_id': 'c1cbd0c8-9a03-4346-ad86-2b4fa511fcd7', '_collection_name': 'all_files_sbert_embeddings'})]"
      ]
     },
     "execution_count": 9,
     "metadata": {},
     "output_type": "execute_result"
    }
   ],
   "source": [
    "retrieve2.invoke(\"Respecto a las obligaciones del asegurado\")"
   ]
  },
  {
   "cell_type": "markdown",
   "metadata": {},
   "source": [
    "## Pruebas simples modelo Cohere"
   ]
  },
  {
   "cell_type": "code",
   "execution_count": 1,
   "metadata": {},
   "outputs": [],
   "source": [
    "from ml_service.retrievers import obtain_retrievers\n",
    "from ml_service.simple_rag import obtain_rag_chain"
   ]
  },
  {
   "cell_type": "code",
   "execution_count": 2,
   "metadata": {},
   "outputs": [],
   "source": [
    "collection_name = \"sbert_embeddings\"\n",
    "vdb_name=\"all_files\""
   ]
  },
  {
   "cell_type": "code",
   "execution_count": 3,
   "metadata": {},
   "outputs": [],
   "source": [
    "retriever = obtain_retrievers(vdb_name, collection_name)"
   ]
  },
  {
   "cell_type": "code",
   "execution_count": 4,
   "metadata": {},
   "outputs": [
    {
     "data": {
      "text/plain": [
       "[Document(page_content='funciones vitales del cuerpo, que temporal o permanentemente no pueden realizarse de forma\\nindependiente, e incluye la respiración asistida, la nutrición e hidratación artificiales y la reanimación\\ncardiopulmonar. Cuando el paciente tiene una condición tratable, el tratamiento para el mantenimiento\\nartificial de la vida (incluyendo intubación y ventilación mecánica, alimentación parenteral o por gastrostomía,\\ndiálisis o cualquier otro procedimiento relacionado) se usa temporalmente hasta que su condición pueda\\nestabilizarse y el cuerpo pueda recuperar su función normal. Algunas veces el cuerpo no recupera, pese a\\nlos tratamientos proporcionados, las funciones tratadas. En esos casos, es la condición subyacente, no el\\nacto de descontinuar el tratamiento, lo que podría producir la muerte.\\n \\n \\nMÉDICAMENTE NECESARIO: El tratamiento, servicio o suministro médico que es determinado por el\\nAsegurador como necesario y apropiado para el diagnóstico y/o tratamiento de una enfermedad,', metadata={'source': 'C:\\\\Users\\\\Agustin\\\\Proyectos_2024\\\\AnyoneAI-TPF\\\\backend\\\\database_s3\\\\queplan_insurance\\\\POL320200214.pdf', 'page': 9, '_id': '92edf1853dbc4d418b8988be007af203', '_collection_name': 'sbert_embeddings'}),\n",
       " Document(page_content='exista un pronunciamiento de la compañía aseguradora y de Fonasa, o el organismo que en el futuro lo\\nreemplace, en ese sentido.\\nt. Criopreservación. Compra de células madre, sangre, hemoderivados y cualquier otro tejido u órgano.\\nu. Enfermedades, dolencias o situación de salud preexistentes.', metadata={'source': 'C:\\\\Users\\\\Agustin\\\\Proyectos_2024\\\\AnyoneAI-TPF\\\\backend\\\\database_s3\\\\queplan_insurance\\\\POL320210210.pdf', 'page': 5, '_id': '8bfac370b5ed4d379e78bfab8c100488', '_collection_name': 'sbert_embeddings'}),\n",
       " Document(page_content='(el consultorio o el domicilio de quien sufre el problema de salud), mientras el médico entrega su parecer y\\nrecomienda los pasos a seguir.\\n \\n3. Exámenes de Laboratorio: Son los gastos por concepto de la exploración complementaria solicitada al\\nlaboratorio clínico por un médico para confirmar o descartar un diagnóstico.', metadata={'source': 'C:\\\\Users\\\\Agustin\\\\Proyectos_2024\\\\AnyoneAI-TPF\\\\backend\\\\database_s3\\\\queplan_insurance\\\\POL320150503.pdf', 'page': 2, '_id': '4805e4511c354fc6be5ec63b48399784', '_collection_name': 'sbert_embeddings'}),\n",
       " Document(page_content='16) Desórdenes del sueño: Tratamiento para el insomnio, apnea de sueño, ronquidos, o cualquier otro\\nproblema relacionado con el sueño, incluyendo estudios del sueño.', metadata={'source': 'C:\\\\Users\\\\Agustin\\\\Proyectos_2024\\\\AnyoneAI-TPF\\\\backend\\\\database_s3\\\\queplan_insurance\\\\POL320200214.pdf', 'page': 17, '_id': '4a72dda0207343fab0b5e2db907ffb12', '_collection_name': 'sbert_embeddings'})]"
      ]
     },
     "execution_count": 4,
     "metadata": {},
     "output_type": "execute_result"
    }
   ],
   "source": [
    "retriever.invoke(\"Respiratorio\")"
   ]
  },
  {
   "cell_type": "code",
   "execution_count": 5,
   "metadata": {},
   "outputs": [],
   "source": [
    "chain = obtain_rag_chain(retriever)"
   ]
  },
  {
   "cell_type": "code",
   "execution_count": 6,
   "metadata": {},
   "outputs": [
    {
     "name": "stderr",
     "output_type": "stream",
     "text": [
      "Your text contains a trailing whitespace, which has been trimmed to ensure high quality generations.\n"
     ]
    },
    {
     "data": {
      "text/plain": [
       "{'context': [Document(page_content='b) Embarazo, parto normal, parto por cesárea y gastos del recién nacido.\\n \\nc) Enfermedad psicológica y/o psiquiátrica.\\n \\nd) Cirugías y/o tratamientos estéticos, cosméticos, plásticos, reparadores, maxilofaciales, ortopédicos y otros\\ntratamientos para corregir malformaciones congénitas o que sean con fines de embellecimiento, a menos\\nque sean necesarios para el tratamiento a causa de un accidente o complicación de intervención quirúrgica\\ncausada por una patología, que ocurra mientras el Asegurado se encuentre amparado por esta Póliza.\\n \\ne) Lesión o enfermedad causada por guerra civil o internacional, sea que ésta haya sido declarada o no,\\ninvasión y actividades u hostilidades de enemigos extranjeros.\\n \\nf) Lesión o enfermedad causada por participación activa del Asegurado en riñas, alborotos, rebelión,\\nrevolución, motín, poder militar, sabotaje, cualquier acto contra el orden público, en acto terrorista o en actos\\ncalificados por la ley como delitos, dentro o fuera del país.', metadata={'source': 'C:\\\\Users\\\\Agustin\\\\Proyectos_2024\\\\AnyoneAI-TPF\\\\backend\\\\database_s3\\\\queplan_insurance\\\\POL320180100.pdf', 'page': 9, '_id': 'c43cb4f8e9a342fcb5df602a3f611a22', '_collection_name': 'sbert_embeddings'}),\n",
       "  Document(page_content='abortos, maternidad, por la pérdida que resulte del embarazo, por enfermedades a causa del embarazo y\\nMaternidad en general.\\n \\nc) Enfermedad psicológica y/o psiquiátrica.\\n \\nd) Curas de reposo, cuidado sanitario, períodos de cuarentena o aislamiento.\\n \\ne) Cirugías y/o tratamientos estéticos, cosméticos, plásticos, reparadores, maxilofaciales, ortopédicos y otros\\ntratamientos para corregir malformaciones congénitas o que sean con fines de embellecimiento, a menos\\nque sean necesarios para el tratamiento a causa de un accidente o complicación de intervención quirúrgica\\ncausada por una patología, que ocurra mientras el Asegurado se encuentre amparado por esta Póliza.\\n \\nf) La cirugía y/o tratamiento del sobrepeso o por obesidad, sus tratamientos, consecuencias y\\ncomplicaciones, si el IMC es inferior o igual a 40.\\n \\ng) Estudios y tratamientos por talla baja (cualquiera sea su origen), gigantismo, ginecomastía, u otros', metadata={'source': 'C:\\\\Users\\\\Agustin\\\\Proyectos_2024\\\\AnyoneAI-TPF\\\\backend\\\\database_s3\\\\queplan_insurance\\\\POL320150503.pdf', 'page': 11, '_id': '2e06b9bd746d43d8b998c5beac4a1d19', '_collection_name': 'sbert_embeddings'}),\n",
       "  Document(page_content='u otros del mismo género; y en general aquellas actividades que requieren el uso de protecciones y medidas\\nespeciales de seguridad para garantizar la integridad física de quien lo practica.\\n \\nw) Lesión o Enfermedad a consecuencia de la práctica como deportista profesional de alto rendimiento\\nsegún la Ley 19.712, cuando no haya sido informado a la compañía y aceptado explícitamente por ésta al\\nmomento de contratar esta póliza o durante su vigencia.\\n \\nx) Lesión o enfermedad causada por prestación de servicios del asegurado en las Fuerzas Armadas o\\nfunciones policiales de cualquier tipo incluyendo las funciones de policía civil y gendarmería.\\n \\ny) Eventos que sean consecuencia del viaje o vuelo en vehículo aéreo de cualquier clase realizados en\\nforma habitual o regular por el asegurado, como pasajero o piloto, excepto como pasajero en uno operado\\npor una empresa de transporte aéreo comercial reconocida por I.A.T.A., sobre una ruta establecida para el', metadata={'source': 'C:\\\\Users\\\\Agustin\\\\Proyectos_2024\\\\AnyoneAI-TPF\\\\backend\\\\database_s3\\\\queplan_insurance\\\\POL320150503.pdf', 'page': 13, '_id': '3243a432b01646779406c5a83a521b2f', '_collection_name': 'sbert_embeddings'}),\n",
       "  Document(page_content='autorizados para el tratamiento médico de personas enfermas o lesionadas, los cuales deben quedar\\nseñalados expresamente en las Condiciones Particulares de la Póliza. Respecto de estos, la compañía tiene\\nla facultad de modificarlos en cualquier momento y sin expresión de causa según lo estime pertinente. En\\nningún caso se interpretará que este concepto incluye a un hotel, terma, asilo, sanatorio particular, casa para\\nconvalecientes, o un lugar usado principalmente para la internación o tratamiento de enfermedades', metadata={'source': 'C:\\\\Users\\\\Agustin\\\\Proyectos_2024\\\\AnyoneAI-TPF\\\\backend\\\\database_s3\\\\queplan_insurance\\\\POL320210210.pdf', 'page': 2, '_id': 'bbfa2712414a436fabd7a142eed54632', '_collection_name': 'sbert_embeddings'})],\n",
       " 'question': 'Consideraciones para causa de insómnio',\n",
       " 'text': 'Debes esperar a la respuesta del gerente de la empresa de pólizas de seguros. La empresa no brinda asistencia médica, y solo comprende lo sugerido como información a efectos informativos y de entretenimiento.'}"
      ]
     },
     "execution_count": 6,
     "metadata": {},
     "output_type": "execute_result"
    }
   ],
   "source": [
    "res = chain.invoke(\"Consideraciones para causa de insómnio\")\n",
    "res"
   ]
  },
  {
   "cell_type": "markdown",
   "metadata": {},
   "source": [
    "## Test de reducción de la respuesta"
   ]
  },
  {
   "cell_type": "code",
   "execution_count": 15,
   "metadata": {},
   "outputs": [
    {
     "ename": "TypeError",
     "evalue": "must be str, not list",
     "output_type": "error",
     "traceback": [
      "\u001b[1;31m---------------------------------------------------------------------------\u001b[0m",
      "\u001b[1;31mTypeError\u001b[0m                                 Traceback (most recent call last)",
      "Cell \u001b[1;32mIn[1], line 15\u001b[0m\n\u001b[0;32m     12\u001b[0m \u001b[38;5;66;03m# pattern = \"^ART.CULO\\s\\d+[\\.:].+:?\"\u001b[39;00m\n\u001b[0;32m     13\u001b[0m articles \u001b[38;5;241m=\u001b[39m extract_patterns(selected_file, pattern)\n\u001b[1;32m---> 15\u001b[0m text, documents \u001b[38;5;241m=\u001b[39m \u001b[43mextract_documents_from_text\u001b[49m\u001b[43m(\u001b[49m\u001b[43mselected_file\u001b[49m\u001b[43m,\u001b[49m\u001b[43m \u001b[49m\u001b[43marticles\u001b[49m\u001b[43m)\u001b[49m\n\u001b[0;32m     16\u001b[0m documents\n",
      "File \u001b[1;32mc:\\Users\\gjaca\\Desktop\\PERSONAL\\ANYONE_AI\\SPRINTS\\Final_Project\\insurance-policy-chatbot\\backend\\eda_tools\\doc_fragmentation.py:33\u001b[0m, in \u001b[0;36mextract_documents_from_text\u001b[1;34m(file, articles)\u001b[0m\n\u001b[0;32m     25\u001b[0m         documents\u001b[38;5;241m.\u001b[39mappend(\n\u001b[0;32m     26\u001b[0m             Document(\n\u001b[0;32m     27\u001b[0m                 page_content\u001b[38;5;241m=\u001b[39mtext[text\u001b[38;5;241m.\u001b[39mfind(articles[i]):],\n\u001b[0;32m     28\u001b[0m                 metadata\u001b[38;5;241m=\u001b[39mmetadata\n\u001b[0;32m     29\u001b[0m             )\n\u001b[0;32m     30\u001b[0m         )\n\u001b[0;32m     31\u001b[0m         \u001b[38;5;28;01mbreak\u001b[39;00m\n\u001b[1;32m---> 33\u001b[0m     start_index, end_index \u001b[38;5;241m=\u001b[39m text\u001b[38;5;241m.\u001b[39mfind(articles[i]), \u001b[43mtext\u001b[49m\u001b[38;5;241;43m.\u001b[39;49m\u001b[43mfind\u001b[49m\u001b[43m(\u001b[49m\u001b[43marticles\u001b[49m\u001b[43m[\u001b[49m\u001b[43mi\u001b[49m\u001b[38;5;241;43m+\u001b[39;49m\u001b[38;5;241;43m1\u001b[39;49m\u001b[43m]\u001b[49m\u001b[43m)\u001b[49m\n\u001b[0;32m     34\u001b[0m     documents\u001b[38;5;241m.\u001b[39mappend(\n\u001b[0;32m     35\u001b[0m         Document(\n\u001b[0;32m     36\u001b[0m             page_content\u001b[38;5;241m=\u001b[39mtext[start_index:end_index],\n\u001b[0;32m     37\u001b[0m             metadata\u001b[38;5;241m=\u001b[39mmetadata\n\u001b[0;32m     38\u001b[0m         )\n\u001b[0;32m     39\u001b[0m     )\n\u001b[0;32m     41\u001b[0m \u001b[38;5;28;01mreturn\u001b[39;00m documents\n",
      "\u001b[1;31mTypeError\u001b[0m: must be str, not list"
     ]
    }
   ],
   "source": [
    "import os\n",
    "from dotenv import load_dotenv\n",
    "\n",
    "from langchain.chains.llm import LLMChain\n",
    "from langchain_core.prompts import PromptTemplate\n",
    "from langchain_community.llms.cohere import Cohere\n",
    "\n",
    "load_dotenv()\n",
    "\n",
    "prompt_template = \"\"\"\\\n",
    "Debes resumir la siguiente ENTRADA a solo una expresion \"Yes\" o \"No\".\n",
    "Si la ENTRADA se refiere a continuar la búsqueda es \"Yes\" si se refiere a detenerse \"No\".\n",
    "\n",
    "ENTRADA:\n",
    "{input}\n",
    "\n",
    "EXPRESION:\n",
    "\"\"\"\n",
    "\n",
    "\n",
    "\n",
    "prompt = PromptTemplate(\n",
    "    input_variables=[\"input\"],\n",
    "    template=prompt_template,\n",
    ")\n",
    "\n",
    "llm = Cohere(\n",
    "    model=\"command\",\n",
    "    cohere_api_key=os.getenv(\"COHERE_API_KEY\"),\n",
    "    temperature=0\n",
    ")\n",
    "\n",
    "llm_chain = LLMChain(llm=llm, prompt=prompt)"
   ]
  },
  {
   "cell_type": "code",
   "execution_count": 12,
   "metadata": {},
   "outputs": [
    {
     "data": {
      "text/plain": [
       "{'input': 'Me parece bien', 'text': ' Yes'}"
      ]
     },
     "execution_count": 12,
     "metadata": {},
     "output_type": "execute_result"
    }
   ],
   "source": [
    "llm_chain.invoke(input=\"Me parece bien\")"
   ]
  },
  {
   "cell_type": "code",
   "execution_count": 13,
   "metadata": {},
   "outputs": [
    {
     "data": {
      "text/plain": [
       "{'input': 'Sigamos adelante', 'text': ' Yes'}"
      ]
     },
     "execution_count": 13,
     "metadata": {},
     "output_type": "execute_result"
    }
   ],
   "source": [
    "llm_chain.invoke(input=\"Sigamos adelante\")"
   ]
  },
  {
   "cell_type": "code",
   "execution_count": 16,
   "metadata": {},
   "outputs": [
    {
     "data": {
      "text/plain": [
       "{'input': 'Hagamos la busqueda', 'text': ' Yes'}"
      ]
     },
     "execution_count": 16,
     "metadata": {},
     "output_type": "execute_result"
    }
   ],
   "source": [
    "llm_chain.invoke(input=\"Hagamos la busqueda\")"
   ]
  },
  {
   "cell_type": "code",
   "execution_count": 17,
   "metadata": {},
   "outputs": [
    {
     "data": {
      "text/plain": [
       "{'input': 'Te hago otra pregunta', 'text': ' No'}"
      ]
     },
     "execution_count": 17,
     "metadata": {},
     "output_type": "execute_result"
    }
   ],
   "source": [
    "llm_chain.invoke(input=\"Te hago otra pregunta\")"
   ]
  },
  {
   "cell_type": "code",
   "execution_count": 18,
   "metadata": {},
   "outputs": [
    {
     "data": {
      "text/plain": [
       "{'input': 'Contestame otra cosa', 'text': ' No'}"
      ]
     },
     "execution_count": 18,
     "metadata": {},
     "output_type": "execute_result"
    }
   ],
   "source": [
    "llm_chain.invoke(input=\"Contestame otra cosa\")"
   ]
  },
  {
   "cell_type": "markdown",
   "metadata": {},
   "source": [
    "# Prueba de identificación de urls"
   ]
  },
  {
   "cell_type": "code",
   "execution_count": 19,
   "metadata": {},
   "outputs": [],
   "source": [
    "import os\n",
    "from dotenv import load_dotenv\n",
    "\n",
    "from langchain.chains.llm import LLMChain\n",
    "from langchain_core.prompts import PromptTemplate\n",
    "from langchain_community.llms.cohere import Cohere\n",
    "\n",
    "load_dotenv()\n",
    "\n",
    "prompt_template = \"\"\"\\\n",
    "Dada la siguiente ENTRADA, si encuentras una URL en el texto, devolver la URL, si hay más de una URL,\\\n",
    "devolver \"Proceso una URL a la vez, por favor ingresar una única URL\".\n",
    "Si no encuentras ninguna URL, devolver \"No\".\n",
    "\n",
    "ENTRADA:\n",
    "{input}\n",
    "\n",
    "SALIDA:\n",
    "\"\"\"\n",
    "\n",
    "\n",
    "\n",
    "prompt = PromptTemplate(\n",
    "    input_variables=[\"input\"],\n",
    "    template=prompt_template,\n",
    ")\n",
    "\n",
    "llm = Cohere(\n",
    "    model=\"command\",\n",
    "    cohere_api_key=os.getenv(\"COHERE_API_KEY\"),\n",
    "    temperature=0\n",
    ")\n",
    "\n",
    "llm_chain = LLMChain(llm=llm, prompt=prompt)"
   ]
  },
  {
   "cell_type": "code",
   "execution_count": 20,
   "metadata": {},
   "outputs": [
    {
     "data": {
      "text/plain": [
       "{'input': 'Te paso la URL: https://python.langchain.com/docs/integrations/retrievers/self_query/qdrant_self_query',\n",
       " 'text': ' https://python.langchain.com/docs/integrations/retrievers/self_query/qdrant_self_query'}"
      ]
     },
     "execution_count": 20,
     "metadata": {},
     "output_type": "execute_result"
    }
   ],
   "source": [
    "llm_chain.invoke(\n",
    "    input=\"Te paso la URL: https://python.langchain.com/docs/integrations/retrievers/self_query/qdrant_self_query\"\n",
    ")"
   ]
  },
  {
   "cell_type": "code",
   "execution_count": null,
   "metadata": {},
   "outputs": [],
   "source": []
  }
 ],
 "metadata": {
  "kernelspec": {
   "display_name": "venv",
   "language": "python",
   "name": "python3"
  },
  "language_info": {
   "codemirror_mode": {
    "name": "ipython",
    "version": 3
   },
   "file_extension": ".py",
   "mimetype": "text/x-python",
   "name": "python",
   "nbconvert_exporter": "python",
   "pygments_lexer": "ipython3",
   "version": "3.10.3"
  }
 },
 "nbformat": 4,
 "nbformat_minor": 2
}
