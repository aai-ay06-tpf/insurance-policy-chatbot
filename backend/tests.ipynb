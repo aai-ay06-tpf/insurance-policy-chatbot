{
 "cells": [
  {
   "cell_type": "markdown",
   "metadata": {},
   "source": [
    "## Summarization"
   ]
  },
  {
   "cell_type": "code",
   "execution_count": 25,
   "metadata": {},
   "outputs": [],
   "source": [
    "import os, pickle\n",
    "\n",
    "response_path = \".summarization_backup/\""
   ]
  },
  {
   "cell_type": "code",
   "execution_count": 30,
   "metadata": {},
   "outputs": [],
   "source": [
    "# crear una funcion que reciba un string y formatee el texto para que sea legible\n",
    "# utilizar un maximo de 50 caracteres por linea\n",
    "\n",
    "def format_text(text):\n",
    "    formatted_text = \"\"\n",
    "    for i in range(0, len(text), 50):\n",
    "        formatted_text += text[i:i+50] + \"\\n\"\n",
    "    return formatted_text\n"
   ]
  },
  {
   "cell_type": "code",
   "execution_count": 32,
   "metadata": {},
   "outputs": [
    {
     "name": "stdout",
     "output_type": "stream",
     "text": [
      "La póliza de accidentes personales/reembolso de ga\n",
      "stos médicos establece que la compañía aseguradora\n",
      " reembolsará al asegurado los gastos médicos razon\n",
      "ables y acostumbrados incurridos durante la vigenc\n",
      "ia de la póliza, siempre y cuando se cumplan ciert\n",
      "os requisitos. Estos requisitos incluyen que el ac\n",
      "cidente ocurra durante la vigencia de la póliza, q\n",
      "ue los gastos se realicen dentro del período de du\n",
      "ración de reembolso, que el monto de gastos supere\n",
      " el deducible establecido, que la suma de los reem\n",
      "bolsos no supere el monto máximo establecido, que \n",
      "los gastos no sean excluidos y que las prestacione\n",
      "s médicas sean entregadas por los prestadores indi\n",
      "cados. Los reembolsos se realizarán hasta el monto\n",
      " máximo establecido y de acuerdo a los términos y \n",
      "límites establecidos en las condiciones particular\n",
      "es de la póliza. Además, se establece que el reemb\n",
      "olso será complementario a lo que cubra el sistema\n",
      " previsional o de salud al que esté afiliado el as\n",
      "egurado. En caso de contar con Isapre, el reembols\n",
      "o será del saldo total remanente con un límite est\n",
      "ablecido. En caso de otros sistemas previsionales \n",
      "de salud o su ausencia, se exigirá un copago mínim\n",
      "o.\n",
      "\n"
     ]
    }
   ],
   "source": [
    "# Primer run: response_1709556534.pkl\n",
    "# documento index = 0\n",
    "# pagina index = 0\n",
    "# prompt_template = \"\"\"Generar un resumen que capture los patrones relevantes\\\n",
    "#  en los datos del TEXTO. La respuesta debe ser de 1000 caracteres como maximo.\n",
    "# TEXTO:\n",
    "# \"{text}\"\n",
    "# RESUMEN:\"\"\"\n",
    "\n",
    "with open(response_path + \"response_1709556534.pkl\", \"rb\") as f:\n",
    "    response = pickle.load(f)\n",
    "\n",
    "print(format_text(response))"
   ]
  },
  {
   "cell_type": "code",
   "execution_count": 36,
   "metadata": {},
   "outputs": [
    {
     "name": "stdout",
     "output_type": "stream",
     "text": [
      "- El contrato de seguro se regirá por las disposiciones legales y las estipulaciones más beneficiosas para el asegurado o beneficiario.\n",
      "- La cobertura de la póliza incluye el reembolso de los gastos médicos razonables y acostumbrados incurridos por el asegurado en caso de accidente.\n",
      "- Los gastos deben ser realizados en los prestadores de salud determinados por la aseguradora y durante el período de duración del reembolso.\n",
      "- Se establecen requisitos para el reembolso de los gastos, como que el accidente haya ocurrido durante la vigencia de la póliza, que se haya incurrido en los gastos dentro del período de duración de reembolso, que el monto de gastos supere el deducible establecido, entre otros.\n",
      "- Los reembolsos están sujetos a límites y topes establecidos en las condiciones particulares de la póliza, así como a porcentajes de bonificación o reembolso entregados por el sistema de salud previsional al que esté afiliado el asegurado.\n",
      "- La aseguradora reembolsará los gastos médicos como complemento de lo que cubra el sistema previsional o de salud al que esté afiliado el asegurado, como Isapres, Fonasa, Cajas de Previsión, entre otros.\n",
      "- En caso de contar con Isapre, el reembolso estará limitado al monto estipulado en las condiciones particulares y se exigirá un copago mínimo en otros sistemas previsionales de salud o en su ausencia.\n"
     ]
    }
   ],
   "source": [
    "# Segundo run: response_1709557379.pkl\n",
    "# documento index = 0\n",
    "# pagina index = 0\n",
    "# prompt_template = \"\"\"Extraer los bullet-points de los articulos\\\n",
    "#  contenidos en el TEXTO. La respuesta debe ser de 1000 caracteres como maximo.\n",
    "# TEXTO:\n",
    "# \"{text}\"\n",
    "# RESUMEN:\"\"\"\n",
    "\n",
    "with open(response_path + \"response_1709557379.pkl\", \"rb\") as f:\n",
    "    response = pickle.load(f)\n",
    "    \n",
    "print(response[\"output_text\"])\n"
   ]
  },
  {
   "cell_type": "code",
   "execution_count": 37,
   "metadata": {},
   "outputs": [
    {
     "name": "stdout",
     "output_type": "stream",
     "text": [
      "1353\n"
     ]
    }
   ],
   "source": [
    "print(len(response[\"output_text\"]))"
   ]
  },
  {
   "cell_type": "code",
   "execution_count": null,
   "metadata": {},
   "outputs": [],
   "source": []
  }
 ],
 "metadata": {
  "kernelspec": {
   "display_name": "venv",
   "language": "python",
   "name": "python3"
  },
  "language_info": {
   "codemirror_mode": {
    "name": "ipython",
    "version": 3
   },
   "file_extension": ".py",
   "mimetype": "text/x-python",
   "name": "python",
   "nbconvert_exporter": "python",
   "pygments_lexer": "ipython3",
   "version": "3.11.4"
  }
 },
 "nbformat": 4,
 "nbformat_minor": 2
}
