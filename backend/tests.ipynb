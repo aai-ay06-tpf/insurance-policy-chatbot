{
 "cells": [
  {
   "cell_type": "markdown",
   "metadata": {},
   "source": [
    "# from week 1\n",
    "\n",
    "# Loading the vector database"
   ]
  },
  {
   "cell_type": "code",
   "execution_count": 1,
   "metadata": {},
   "outputs": [],
   "source": [
    "import os\n",
    "from langchain_community.vectorstores.chroma import Chroma\n",
    "from langchain_community.embeddings.gpt4all import GPT4AllEmbeddings"
   ]
  },
  {
   "cell_type": "code",
   "execution_count": 10,
   "metadata": {},
   "outputs": [
    {
     "name": "stdout",
     "output_type": "stream",
     "text": [
      "This should not be running on a notebook.\n"
     ]
    }
   ],
   "source": [
    "try:\n",
    "    PROJECT_ROOT = os.path.dirname(os.path.abspath(__file__))\n",
    "except:\n",
    "    print(\"This should not be running on a notebook.\")\n",
    "    PROJECT_ROOT = os.path.abspath('.')\n",
    "    \n",
    "DATA_PATH = os.path.join(PROJECT_ROOT, \"database_s3\", \"queplan_insurance\")\n",
    "DB_PATH = os.path.join(PROJECT_ROOT, \"database_chromadb\", \"db\")"
   ]
  },
  {
   "cell_type": "code",
   "execution_count": 11,
   "metadata": {},
   "outputs": [],
   "source": [
    "vectorstore = Chroma(\n",
    "    persist_directory=DB_PATH,\n",
    "    embedding_function=GPT4AllEmbeddings()\n",
    ")"
   ]
  },
  {
   "cell_type": "markdown",
   "metadata": {},
   "source": [
    "# First retriever"
   ]
  },
  {
   "cell_type": "code",
   "execution_count": 12,
   "metadata": {},
   "outputs": [],
   "source": [
    "retriever = vectorstore.as_retriever()"
   ]
  },
  {
   "cell_type": "code",
   "execution_count": 13,
   "metadata": {},
   "outputs": [],
   "source": [
    "docs = retriever.aget_relevant_documents(\"Que contrato me recomiendas\")"
   ]
  },
  {
   "cell_type": "code",
   "execution_count": 15,
   "metadata": {},
   "outputs": [
    {
     "data": {
      "text/plain": [
       "[Document(page_content='obligaciones del contrato, salvo aquellas que por su naturaleza deben ser cumplidos por el asegurado. Las', metadata={'page': 18, 'source': 'c:\\\\Users\\\\Agustin\\\\Proyectos_2024\\\\AnyoneAI-TPF\\\\backend\\\\database_s3\\\\queplan_insurance\\\\POL320200071.pdf'}),\n",
       " Document(page_content='4° Notificar al Asegurador, tan pronto sea posible una vez tomado conocimiento, de la ocurrencia de\\ncualquier hecho que pueda constituir o constituya un siniestro, y\\n \\n5° Acreditar la ocurrencia del siniestro denunciado, y declarar fielmente y sin reticencia, sus circunstancias y\\nconsecuencias.\\n \\nSi el Tomador o Contratante del seguro y el Asegurado son personas distintas, corresponde al Tomador o\\nContratante el cumplimiento de las obligaciones del contrato, salvo aquellas que por su naturaleza deben ser\\ncumplidas por el Asegurado. Las obligaciones del Tomador o Contratante podrán ser cumplidas por el\\nAsegurado.', metadata={'page': 12, 'source': 'c:\\\\Users\\\\Agustin\\\\Proyectos_2024\\\\AnyoneAI-TPF\\\\backend\\\\database_s3\\\\queplan_insurance\\\\POL320180100.pdf'}),\n",
       " Document(page_content='quien recaen, en general, las obligaciones y cargas del contrato, excepto las que por disposiciones de este\\ncontrato o su naturaleza deben ser cumplidas por el Asegurado si se tratara de una persona distinta. El\\ncontratante se indica como tal en las Condiciones Particulares de la Póliza.\\n \\n8. Cuadro de Cobertura: Corresponde al detalle de todas las coberturas, servicios o prestaciones que otorga\\nesta Póliza y se entiende forman parte integrante de la misma.', metadata={'page': 6, 'source': 'c:\\\\Users\\\\Agustin\\\\Proyectos_2024\\\\AnyoneAI-TPF\\\\backend\\\\database_s3\\\\queplan_insurance\\\\POL320150503.pdf'}),\n",
       " Document(page_content='asegurado titular y/o contratante por beneficios recibidos pero no cubiertos por esta póliza, el Asegurador se\\nreserva el derecho de reducir dicha cantidad de cualquier pago de siniestros futuros o de solicitar el\\nreembolso directo al asegurado titular y/o contratante.', metadata={'page': 29, 'source': 'c:\\\\Users\\\\Agustin\\\\Proyectos_2024\\\\AnyoneAI-TPF\\\\backend\\\\database_s3\\\\queplan_insurance\\\\POL320200214.pdf'})]"
      ]
     },
     "execution_count": 15,
     "metadata": {},
     "output_type": "execute_result"
    }
   ],
   "source": [
    "await docs"
   ]
  },
  {
   "cell_type": "markdown",
   "metadata": {},
   "source": [
    "# First Retrieval Chain"
   ]
  },
  {
   "cell_type": "code",
   "execution_count": 17,
   "metadata": {},
   "outputs": [],
   "source": [
    "from langchain.chains import RetrievalQA, RetrievalQAWithSourcesChain\n",
    "from langchain_community.llms.openai import OpenAI"
   ]
  },
  {
   "cell_type": "code",
   "execution_count": 19,
   "metadata": {},
   "outputs": [],
   "source": [
    "qa_chain = RetrievalQA.from_chain_type(\n",
    "    chain_type=\"stuff\",\n",
    "    retriever=retriever,\n",
    "    llm=OpenAI(),\n",
    "    return_source_documents=True,\n",
    "    verbose=True\n",
    ")"
   ]
  },
  {
   "cell_type": "code",
   "execution_count": 20,
   "metadata": {},
   "outputs": [],
   "source": [
    "def process_llm_response(response):\n",
    "    print(response['result'])\n",
    "    print('\\n\\nSources:')\n",
    "    [print(source.metadata['source']) for source in response['source_documents']]\n",
    "    print(\"\\n\\n\")"
   ]
  },
  {
   "cell_type": "code",
   "execution_count": 22,
   "metadata": {},
   "outputs": [
    {
     "name": "stdout",
     "output_type": "stream",
     "text": [
      "\n",
      "\n",
      "\u001b[1m> Entering new RetrievalQA chain...\u001b[0m\n",
      "\n",
      "\u001b[1m> Finished chain.\u001b[0m\n"
     ]
    }
   ],
   "source": [
    "msg = 'Que contrato me recomiendas'\n",
    "response = qa_chain.invoke(msg)"
   ]
  },
  {
   "cell_type": "code",
   "execution_count": 23,
   "metadata": {},
   "outputs": [
    {
     "data": {
      "text/plain": [
       "{'query': 'Que contrato me recomiendas',\n",
       " 'result': ' No puedo recomendar un contrato en particular ya que soy un programa de ordenador y no tengo conocimiento de las necesidades o preferencias específicas de cada individuo. Es importante que consultes con un experto o investigues detenidamente antes de decidir qué contrato es el mejor para ti.',\n",
       " 'source_documents': [Document(page_content='obligaciones del contrato, salvo aquellas que por su naturaleza deben ser cumplidos por el asegurado. Las', metadata={'page': 18, 'source': 'c:\\\\Users\\\\Agustin\\\\Proyectos_2024\\\\AnyoneAI-TPF\\\\backend\\\\database_s3\\\\queplan_insurance\\\\POL320200071.pdf'}),\n",
       "  Document(page_content='4° Notificar al Asegurador, tan pronto sea posible una vez tomado conocimiento, de la ocurrencia de\\ncualquier hecho que pueda constituir o constituya un siniestro, y\\n \\n5° Acreditar la ocurrencia del siniestro denunciado, y declarar fielmente y sin reticencia, sus circunstancias y\\nconsecuencias.\\n \\nSi el Tomador o Contratante del seguro y el Asegurado son personas distintas, corresponde al Tomador o\\nContratante el cumplimiento de las obligaciones del contrato, salvo aquellas que por su naturaleza deben ser\\ncumplidas por el Asegurado. Las obligaciones del Tomador o Contratante podrán ser cumplidas por el\\nAsegurado.', metadata={'page': 12, 'source': 'c:\\\\Users\\\\Agustin\\\\Proyectos_2024\\\\AnyoneAI-TPF\\\\backend\\\\database_s3\\\\queplan_insurance\\\\POL320180100.pdf'}),\n",
       "  Document(page_content='quien recaen, en general, las obligaciones y cargas del contrato, excepto las que por disposiciones de este\\ncontrato o su naturaleza deben ser cumplidas por el Asegurado si se tratara de una persona distinta. El\\ncontratante se indica como tal en las Condiciones Particulares de la Póliza.\\n \\n8. Cuadro de Cobertura: Corresponde al detalle de todas las coberturas, servicios o prestaciones que otorga\\nesta Póliza y se entiende forman parte integrante de la misma.', metadata={'page': 6, 'source': 'c:\\\\Users\\\\Agustin\\\\Proyectos_2024\\\\AnyoneAI-TPF\\\\backend\\\\database_s3\\\\queplan_insurance\\\\POL320150503.pdf'}),\n",
       "  Document(page_content='asegurado titular y/o contratante por beneficios recibidos pero no cubiertos por esta póliza, el Asegurador se\\nreserva el derecho de reducir dicha cantidad de cualquier pago de siniestros futuros o de solicitar el\\nreembolso directo al asegurado titular y/o contratante.', metadata={'page': 29, 'source': 'c:\\\\Users\\\\Agustin\\\\Proyectos_2024\\\\AnyoneAI-TPF\\\\backend\\\\database_s3\\\\queplan_insurance\\\\POL320200214.pdf'})]}"
      ]
     },
     "execution_count": 23,
     "metadata": {},
     "output_type": "execute_result"
    }
   ],
   "source": [
    "response"
   ]
  },
  {
   "cell_type": "code",
   "execution_count": 24,
   "metadata": {},
   "outputs": [
    {
     "name": "stdout",
     "output_type": "stream",
     "text": [
      " No puedo recomendar un contrato en particular ya que soy un programa de ordenador y no tengo conocimiento de las necesidades o preferencias específicas de cada individuo. Es importante que consultes con un experto o investigues detenidamente antes de decidir qué contrato es el mejor para ti.\n",
      "\n",
      "\n",
      "Sources:\n",
      "c:\\Users\\Agustin\\Proyectos_2024\\AnyoneAI-TPF\\backend\\database_s3\\queplan_insurance\\POL320200071.pdf\n",
      "c:\\Users\\Agustin\\Proyectos_2024\\AnyoneAI-TPF\\backend\\database_s3\\queplan_insurance\\POL320180100.pdf\n",
      "c:\\Users\\Agustin\\Proyectos_2024\\AnyoneAI-TPF\\backend\\database_s3\\queplan_insurance\\POL320150503.pdf\n",
      "c:\\Users\\Agustin\\Proyectos_2024\\AnyoneAI-TPF\\backend\\database_s3\\queplan_insurance\\POL320200214.pdf\n",
      "\n",
      "\n",
      "\n"
     ]
    }
   ],
   "source": [
    "process_llm_response(response)"
   ]
  },
  {
   "cell_type": "code",
   "execution_count": 25,
   "metadata": {},
   "outputs": [],
   "source": [
    "msg = 'Necesito una receta de mayonesa'\n",
    "response = qa_chain.ainvoke(msg)"
   ]
  },
  {
   "cell_type": "code",
   "execution_count": 26,
   "metadata": {},
   "outputs": [
    {
     "name": "stdout",
     "output_type": "stream",
     "text": [
      "\n",
      "\n",
      "\u001b[1m> Entering new RetrievalQA chain...\u001b[0m\n",
      "\n",
      "\u001b[1m> Finished chain.\u001b[0m\n"
     ]
    },
    {
     "data": {
      "text/plain": [
       "{'query': 'Necesito una receta de mayonesa',\n",
       " 'result': ' No conozco una receta de mayonesa.',\n",
       " 'source_documents': [Document(page_content='que ella y sus coberturas se encuentren vigentes a esa fecha y que haya transcurrido el período de carencia\\nseñalado en las Condiciones Particulares.', metadata={'page': 1, 'source': 'c:\\\\Users\\\\Agustin\\\\Proyectos_2024\\\\AnyoneAI-TPF\\\\backend\\\\database_s3\\\\queplan_insurance\\\\POL320130223.pdf'}),\n",
       "  Document(page_content='que ella y sus coberturas se encuentren vigentes a esa fecha y que haya transcurrido el período de carencia\\nseñalado en las Condiciones Particulares.', metadata={'page': 16, 'source': 'c:\\\\Users\\\\Agustin\\\\Proyectos_2024\\\\AnyoneAI-TPF\\\\backend\\\\database_s3\\\\queplan_insurance\\\\POL320190074.pdf'}),\n",
       "  Document(page_content='cuyo reembolso se solicita, salvo que se indique otro plazo en las Condiciones Particulares de la póliza. Con\\ntodo, en caso de no renovación de la póliza el plazo de aviso de siniestro no podrá ser superior a treinta (30)\\ndías contados desde la fecha de término de la vigencia de la póliza.', metadata={'page': 35, 'source': 'c:\\\\Users\\\\Agustin\\\\Proyectos_2024\\\\AnyoneAI-TPF\\\\backend\\\\database_s3\\\\queplan_insurance\\\\POL320130223.pdf'}),\n",
       "  Document(page_content='cuyo reembolso se solicita, salvo que se indique otro plazo en las Condiciones Particulares de la póliza. Con\\ntodo, en caso de no renovación de la póliza el plazo de aviso de siniestro no podrá ser superior a treinta (30)\\ndías contados desde la fecha de término de la vigencia de la póliza.', metadata={'page': 50, 'source': 'c:\\\\Users\\\\Agustin\\\\Proyectos_2024\\\\AnyoneAI-TPF\\\\backend\\\\database_s3\\\\queplan_insurance\\\\POL320190074.pdf'})]}"
      ]
     },
     "execution_count": 26,
     "metadata": {},
     "output_type": "execute_result"
    }
   ],
   "source": [
    "result = await response\n",
    "result"
   ]
  },
  {
   "cell_type": "markdown",
   "metadata": {},
   "source": [
    "# Inspeccion de los parametros del Retriever"
   ]
  },
  {
   "cell_type": "code",
   "execution_count": 27,
   "metadata": {},
   "outputs": [
    {
     "data": {
      "text/plain": [
       "'similarity'"
      ]
     },
     "execution_count": 27,
     "metadata": {},
     "output_type": "execute_result"
    }
   ],
   "source": [
    "qa_chain.retriever.search_type"
   ]
  },
  {
   "cell_type": "code",
   "execution_count": null,
   "metadata": {},
   "outputs": [],
   "source": [
    "qa_chain.retriever.search_type = \"semantic\""
   ]
  },
  {
   "cell_type": "code",
   "execution_count": 28,
   "metadata": {},
   "outputs": [
    {
     "data": {
      "text/plain": [
       "<langchain_community.vectorstores.chroma.Chroma at 0x2768fba5d50>"
      ]
     },
     "execution_count": 28,
     "metadata": {},
     "output_type": "execute_result"
    }
   ],
   "source": [
    "qa_chain.retriever.vectorstore"
   ]
  },
  {
   "cell_type": "code",
   "execution_count": 29,
   "metadata": {},
   "outputs": [
    {
     "name": "stdout",
     "output_type": "stream",
     "text": [
      "Use the following pieces of context to answer the question at the end. If you don't know the answer, just say that you don't know, don't try to make up an answer.\n",
      "\n",
      "{context}\n",
      "\n",
      "Question: {question}\n",
      "Helpful Answer:\n"
     ]
    }
   ],
   "source": [
    "# System Prompt and Human Prompt:\n",
    "\n",
    "print(qa_chain.combine_documents_chain.llm_chain.prompt.template)"
   ]
  },
  {
   "cell_type": "markdown",
   "metadata": {},
   "source": [
    "# Second Retrieval Chain"
   ]
  },
  {
   "cell_type": "code",
   "execution_count": 31,
   "metadata": {},
   "outputs": [],
   "source": [
    "from langchain_openai import ChatOpenAI\n",
    "\n",
    "\n",
    "turbo_llm = ChatOpenAI(\n",
    "    temperature=0.1777,\n",
    "    model_name='gpt-3.5-turbo'\n",
    ")\n",
    "\n",
    "qa_chain_turbo = RetrievalQA.from_chain_type(\n",
    "    chain_type=\"stuff\",\n",
    "    retriever=retriever,\n",
    "    llm=turbo_llm,\n",
    "    return_source_documents=True,\n",
    "    verbose=True\n",
    ")"
   ]
  },
  {
   "cell_type": "code",
   "execution_count": 32,
   "metadata": {},
   "outputs": [
    {
     "name": "stdout",
     "output_type": "stream",
     "text": [
      "\n",
      "\n",
      "\u001b[1m> Entering new RetrievalQA chain...\u001b[0m\n",
      "\n",
      "\u001b[1m> Finished chain.\u001b[0m\n"
     ]
    }
   ],
   "source": [
    "msg = 'Requiero recomendaciones para un ARTICULO: \"cobertura\"'\n",
    "llm_response = qa_chain_turbo.invoke(msg)"
   ]
  },
  {
   "cell_type": "code",
   "execution_count": 33,
   "metadata": {},
   "outputs": [
    {
     "name": "stdout",
     "output_type": "stream",
     "text": [
      "Para redactar un artículo sobre \"cobertura\" en el contexto de seguros, podrías considerar los siguientes puntos:\n",
      "\n",
      "1. **Definición de Cobertura**: Explica qué se entiende por cobertura en el ámbito de los seguros. Puedes mencionar que se refiere a las garantías y protecciones que ofrece una póliza de seguro en caso de determinados eventos.\n",
      "\n",
      "2. **Tipos de Cobertura**: Describe los diferentes tipos de cobertura que suelen ofrecer las pólizas de seguros, como cobertura médica, cobertura de responsabilidad civil, cobertura de daños materiales, entre otros.\n",
      "\n",
      "3. **Importancia de la Cobertura**: Destaca la importancia de contar con una cobertura adecuada en un seguro, ya que brinda tranquilidad y protección financiera en situaciones imprevistas.\n",
      "\n",
      "4. **Periodo de Cobertura**: Menciona que la cobertura de un seguro suele tener un periodo determinado, que puede variar según el tipo de póliza y las condiciones particulares del contrato.\n",
      "\n",
      "5. **Exclusiones y Limitaciones**: Es importante mencionar que las pólizas de seguro también suelen incluir exclusiones y limitaciones en la cobertura, por lo que es fundamental que los asegurados conozcan estos detalles.\n",
      "\n",
      "6. **Renovación y Terminación de la Cobertura**: Explora cómo funciona la renovación de la cobertura al finalizar el periodo de la póliza, así como las circunstancias en las que la cobertura puede terminar antes de tiempo.\n",
      "\n",
      "7. **Consejos para Elegir la Cobertura Adecuada**: Ofrece recomendaciones a los lectores sobre cómo seleccionar la cobertura de seguro más adecuada para sus necesidades, considerando factores como el tipo de riesgos a cubrir, el costo y las condiciones del contrato.\n",
      "\n",
      "Al abordar estos puntos, podrás crear un artículo informativo y útil sobre el concepto de \"cobertura\" en el contexto de los seguros.\n",
      "\n",
      "\n",
      "Sources:\n",
      "c:\\Users\\Agustin\\Proyectos_2024\\AnyoneAI-TPF\\backend\\database_s3\\queplan_insurance\\POL320150503.pdf\n",
      "c:\\Users\\Agustin\\Proyectos_2024\\AnyoneAI-TPF\\backend\\database_s3\\queplan_insurance\\POL320150503.pdf\n",
      "c:\\Users\\Agustin\\Proyectos_2024\\AnyoneAI-TPF\\backend\\database_s3\\queplan_insurance\\POL320130223.pdf\n",
      "c:\\Users\\Agustin\\Proyectos_2024\\AnyoneAI-TPF\\backend\\database_s3\\queplan_insurance\\POL320190074.pdf\n",
      "\n",
      "\n",
      "\n"
     ]
    }
   ],
   "source": [
    "process_llm_response(llm_response)"
   ]
  },
  {
   "cell_type": "code",
   "execution_count": 36,
   "metadata": {},
   "outputs": [
    {
     "name": "stdout",
     "output_type": "stream",
     "text": [
      "Use the following pieces of context to answer the user's question. \n",
      "If you don't know the answer, just say that you don't know, don't try to make up an answer.\n",
      "----------------\n",
      "{context}\n"
     ]
    }
   ],
   "source": [
    "# System Prompt\n",
    "print(qa_chain_turbo.combine_documents_chain.llm_chain.prompt.messages[0].prompt.template)"
   ]
  },
  {
   "cell_type": "code",
   "execution_count": 37,
   "metadata": {},
   "outputs": [
    {
     "name": "stdout",
     "output_type": "stream",
     "text": [
      "{question}\n"
     ]
    }
   ],
   "source": [
    "# Human Prompt\n",
    "print(qa_chain_turbo.combine_documents_chain.llm_chain.prompt.messages[1].prompt.template)"
   ]
  },
  {
   "cell_type": "markdown",
   "metadata": {},
   "source": [
    "# from week 2: 29/02/2024"
   ]
  },
  {
   "cell_type": "code",
   "execution_count": 1,
   "metadata": {},
   "outputs": [
    {
     "name": "stdout",
     "output_type": "stream",
     "text": [
      "c:\\Users\\Agustin\\Proyectos_2024\\AnyoneAI-TPF\\backend\n"
     ]
    }
   ],
   "source": [
    "import pickle, os\n",
    "\n",
    "print(os.getcwd())\n",
    "\n",
    "with open('pdf_dict.pkl', 'rb') as f:\n",
    "    data = pickle.load(f)"
   ]
  },
  {
   "cell_type": "code",
   "execution_count": 9,
   "metadata": {},
   "outputs": [
    {
     "data": {
      "text/plain": [
       "dict_keys(['POL120190177.pdf', 'POL320130223.pdf', 'POL320150503.pdf', 'POL320180100.pdf', 'POL320190074.pdf', 'POL320200071.pdf', 'POL320200214.pdf', 'POL320210063.pdf', 'POL320210210.pdf'])"
      ]
     },
     "execution_count": 9,
     "metadata": {},
     "output_type": "execute_result"
    }
   ],
   "source": [
    "data.keys()"
   ]
  },
  {
   "cell_type": "code",
   "execution_count": 10,
   "metadata": {},
   "outputs": [
    {
     "data": {
      "text/plain": [
       "dict_keys(['text', 'chunks', 'metadatas', 'retriever'])"
      ]
     },
     "execution_count": 10,
     "metadata": {},
     "output_type": "execute_result"
    }
   ],
   "source": [
    "data[\"POL120190177.pdf\"].keys()"
   ]
  },
  {
   "cell_type": "code",
   "execution_count": 11,
   "metadata": {},
   "outputs": [
    {
     "data": {
      "text/plain": [
       "110"
      ]
     },
     "execution_count": 11,
     "metadata": {},
     "output_type": "execute_result"
    }
   ],
   "source": [
    "type(data[\"POL120190177.pdf\"][\"chunks\"])\n",
    "len(data[\"POL120190177.pdf\"][\"chunks\"])"
   ]
  },
  {
   "cell_type": "code",
   "execution_count": 12,
   "metadata": {},
   "outputs": [
    {
     "data": {
      "text/plain": [
       "str"
      ]
     },
     "execution_count": 12,
     "metadata": {},
     "output_type": "execute_result"
    }
   ],
   "source": [
    "type(data[\"POL120190177.pdf\"][\"text\"])"
   ]
  },
  {
   "cell_type": "code",
   "execution_count": 16,
   "metadata": {},
   "outputs": [
    {
     "data": {
      "text/plain": [
       "['config_specs',\n",
       " 'configurable_alternatives',\n",
       " 'configurable_fields',\n",
       " 'construct',\n",
       " 'copy',\n",
       " 'dict',\n",
       " 'docs',\n",
       " 'from_documents',\n",
       " 'from_orm',\n",
       " 'from_texts',\n",
       " 'get_graph',\n",
       " 'get_input_schema',\n",
       " 'get_lc_namespace',\n",
       " 'get_name',\n",
       " 'get_output_schema',\n",
       " 'get_prompts',\n",
       " 'get_relevant_documents',\n",
       " 'input_schema',\n",
       " 'invoke',\n",
       " 'is_lc_serializable',\n",
       " 'json',\n",
       " 'k',\n",
       " 'lc_attributes',\n",
       " 'lc_id',\n",
       " 'lc_secrets',\n",
       " 'map']"
      ]
     },
     "execution_count": 16,
     "metadata": {},
     "output_type": "execute_result"
    }
   ],
   "source": [
    "type(data[\"POL120190177.pdf\"][\"retriever\"])\n",
    "\"invoke\"\n",
    "dir(data[\"POL120190177.pdf\"][\"retriever\"])[-50:-24]"
   ]
  },
  {
   "cell_type": "code",
   "execution_count": 4,
   "metadata": {},
   "outputs": [],
   "source": [
    "retriever = data[\"POL120190177.pdf\"][\"retriever\"]"
   ]
  },
  {
   "cell_type": "code",
   "execution_count": 5,
   "metadata": {},
   "outputs": [
    {
     "data": {
      "text/plain": [
       "[Document(page_content='aseguradora sobre los riesgos que asume y ésta no tendrá obligación alguna respecto de los siniestros que\\nocurran con posterioridad a esa fecha.\\nARTÍCULO 14°: INCORPORACIÓN DE ASEGURADOS E INICIO DE LA VIGENCIA DE LA COBERTURA\\nINDIVIDUAL\\nSi durante la vigencia del seguro, un Asegurado Titular deseare incorporar a nuevos asegurados\\ndependientes, deberá solicitarlo a la Compañía de Seguros. Para los efectos de incorporarse como\\nasegurados, los nuevos dependientes deberán someterse a la evaluación y calificación de su estado de', metadata={'source': '92-lt'}),\n",
       " Document(page_content='(15) contado desde la notificación que, conforme al Artículo 21° de estas Condiciones Generales, dirija la\\nCompañía Aseguradora al Asegurado y dará derecho al asegurador para exigir que se le pague la prima\\ndevengada hasta la fecha de terminación y los gastos de formalización del contrato.\\nProducida la terminación, la responsabilidad del asegurador por los siniestros posteriores cesará de pleno\\nderecho, sin necesidad de declaración judicial alguna.\\nARTÍCULO 9º: DENUNCIA DE SINIESTRO \\nEn caso que el Asegurado, a causa de un Evento, incurra en un gasto susceptible de ser reembolsado o', metadata={'source': '69-lt'}),\n",
       " Document(page_content='aportadas, bonificadas o reembolsadas al Asegurado por instituciones o entidades a las que se refiere el\\npárrafo anterior y que otorguen reintegros, aportes, bonificaciones o reembolsos médicos y prestaciones\\neconómicas al Asegurado.\\nQueda expresamente establecido que las coberturas de esta Póliza no se duplicarán con los beneficios o\\ncoberturas de cualquier otro seguro, sistema o institución que otorgue beneficios médicos, y al cual\\npertenezca el asegurado, de manera que esta Póliza no cubrirá los gastos médicos que deben pagar o', metadata={'source': '79-lt'}),\n",
       " Document(page_content='de salud que el asegurador determine, durante el período de duración del Reembolso que se establezca en\\nlas Condiciones Particulares de la Póliza, que se inicia desde la fecha de ocurrencia del Accidente y que\\nsean originados por éste. Las definiciones de estos conceptos se encuentran contenidos en el artículo 4° de\\nestas Condiciones Generales.\\nLa compañía reembolsará los gastos referidos precedentemente, siempre que se cumplan copulativamente\\nlos siguientes requisitos: 1) el Accidente que los origina haya ocurrido durante la vigencia del Asegurado en', metadata={'source': '2-lt'}),\n",
       " Document(page_content='17. Gastos Médicos Razonables y Acostumbrados: Es el monto promedio que se cobra por prestaciones de\\ncarácter similar a los Gastos Ambulatorios y/o Gastos de Hospitalización que se solicita reembolsar o pagar\\nal prestador, en la localidad donde éstas son efectuadas a personas del mismo sexo y edad. En este análisis\\nse deberá considerar, además: (a) que sean las prestaciones que son suministradas en todos los\\nestablecimientos para el tratamiento de la Lesión y que no sean consideradas como tratamientos o estudios', metadata={'source': '36-lt'})]"
      ]
     },
     "execution_count": 5,
     "metadata": {},
     "output_type": "execute_result"
    }
   ],
   "source": [
    "rta = retriever.invoke(\"Articulos que mencionen siniestros\")\n",
    "rta"
   ]
  },
  {
   "cell_type": "code",
   "execution_count": 22,
   "metadata": {},
   "outputs": [
    {
     "name": "stdout",
     "output_type": "stream",
     "text": [
      "aseguradora sobre los riesgos que asume y ésta no tendrá obligación alguna respecto de los siniestros que\n",
      "ocurran con posterioridad a esa fecha.\n",
      "ARTÍCULO 14°: INCORPORACIÓN DE ASEGURADOS E INICIO DE LA VIGENCIA DE LA COBERTURA\n",
      "INDIVIDUAL\n",
      "Si durante la vigencia del seguro, un Asegurado Titular deseare incorporar a nuevos asegurados\n",
      "dependientes, deberá solicitarlo a la Compañía de Seguros. Para los efectos de incorporarse como\n",
      "asegurados, los nuevos dependientes deberán someterse a la evaluación y calificación de su estado de\n"
     ]
    }
   ],
   "source": [
    "print(rta[0].page_content)"
   ]
  },
  {
   "cell_type": "code",
   "execution_count": 23,
   "metadata": {},
   "outputs": [
    {
     "name": "stdout",
     "output_type": "stream",
     "text": [
      "(15) contado desde la notificación que, conforme al Artículo 21° de estas Condiciones Generales, dirija la\n",
      "Compañía Aseguradora al Asegurado y dará derecho al asegurador para exigir que se le pague la prima\n",
      "devengada hasta la fecha de terminación y los gastos de formalización del contrato.\n",
      "Producida la terminación, la responsabilidad del asegurador por los siniestros posteriores cesará de pleno\n",
      "derecho, sin necesidad de declaración judicial alguna.\n",
      "ARTÍCULO 9º: DENUNCIA DE SINIESTRO \n",
      "En caso que el Asegurado, a causa de un Evento, incurra en un gasto susceptible de ser reembolsado o\n"
     ]
    }
   ],
   "source": [
    "print(rta[1].page_content)"
   ]
  },
  {
   "cell_type": "code",
   "execution_count": 24,
   "metadata": {},
   "outputs": [
    {
     "name": "stdout",
     "output_type": "stream",
     "text": [
      "aportadas, bonificadas o reembolsadas al Asegurado por instituciones o entidades a las que se refiere el\n",
      "párrafo anterior y que otorguen reintegros, aportes, bonificaciones o reembolsos médicos y prestaciones\n",
      "económicas al Asegurado.\n",
      "Queda expresamente establecido que las coberturas de esta Póliza no se duplicarán con los beneficios o\n",
      "coberturas de cualquier otro seguro, sistema o institución que otorgue beneficios médicos, y al cual\n",
      "pertenezca el asegurado, de manera que esta Póliza no cubrirá los gastos médicos que deben pagar o\n"
     ]
    }
   ],
   "source": [
    "print(rta[2].page_content)"
   ]
  },
  {
   "cell_type": "code",
   "execution_count": 25,
   "metadata": {},
   "outputs": [
    {
     "data": {
      "text/plain": [
       "['_init_private_attributes',\n",
       " '_iter',\n",
       " '_lc_kwargs',\n",
       " 'construct',\n",
       " 'copy',\n",
       " 'dict',\n",
       " 'from_orm',\n",
       " 'get_lc_namespace',\n",
       " 'is_lc_serializable',\n",
       " 'json',\n",
       " 'lc_attributes',\n",
       " 'lc_id',\n",
       " 'lc_secrets',\n",
       " 'metadata',\n",
       " 'page_content',\n",
       " 'parse_file',\n",
       " 'parse_obj',\n",
       " 'parse_raw',\n",
       " 'schema',\n",
       " 'schema_json',\n",
       " 'to_json',\n",
       " 'to_json_not_implemented',\n",
       " 'type',\n",
       " 'update_forward_refs',\n",
       " 'validate']"
      ]
     },
     "execution_count": 25,
     "metadata": {},
     "output_type": "execute_result"
    }
   ],
   "source": [
    "\"metadata\"\n",
    "dir(rta[2])[-25:]"
   ]
  },
  {
   "cell_type": "code",
   "execution_count": 6,
   "metadata": {},
   "outputs": [
    {
     "data": {
      "text/plain": [
       "{'source': '79-lt'}"
      ]
     },
     "execution_count": 6,
     "metadata": {},
     "output_type": "execute_result"
    }
   ],
   "source": [
    "rta[2].metadata"
   ]
  },
  {
   "cell_type": "code",
   "execution_count": 7,
   "metadata": {},
   "outputs": [
    {
     "data": {
      "text/plain": [
       "['Config',\n",
       " 'InputType',\n",
       " 'OutputType',\n",
       " '__abstractmethods__',\n",
       " '__annotations__',\n",
       " '__class__',\n",
       " '__class_getitem__',\n",
       " '__class_vars__',\n",
       " '__config__',\n",
       " '__custom_root_type__',\n",
       " '__delattr__',\n",
       " '__dict__',\n",
       " '__dir__',\n",
       " '__doc__',\n",
       " '__eq__',\n",
       " '__exclude_fields__',\n",
       " '__fields__',\n",
       " '__fields_set__',\n",
       " '__format__',\n",
       " '__ge__',\n",
       " '__get_validators__',\n",
       " '__getattribute__',\n",
       " '__getstate__',\n",
       " '__gt__',\n",
       " '__hash__',\n",
       " '__include_fields__',\n",
       " '__init__',\n",
       " '__init_subclass__',\n",
       " '__iter__',\n",
       " '__json_encoder__',\n",
       " '__le__',\n",
       " '__lt__',\n",
       " '__module__',\n",
       " '__ne__',\n",
       " '__new__',\n",
       " '__or__',\n",
       " '__orig_bases__',\n",
       " '__parameters__',\n",
       " '__post_root_validators__',\n",
       " '__pre_root_validators__',\n",
       " '__pretty__',\n",
       " '__private_attributes__',\n",
       " '__reduce__',\n",
       " '__reduce_ex__',\n",
       " '__repr__',\n",
       " '__repr_args__',\n",
       " '__repr_name__',\n",
       " '__repr_str__',\n",
       " '__rich_repr__',\n",
       " '__ror__',\n",
       " '__schema_cache__',\n",
       " '__setattr__',\n",
       " '__setstate__',\n",
       " '__signature__',\n",
       " '__sizeof__',\n",
       " '__slots__',\n",
       " '__str__',\n",
       " '__subclasshook__',\n",
       " '__try_update_forward_refs__',\n",
       " '__validators__',\n",
       " '__weakref__',\n",
       " '_abatch_with_config',\n",
       " '_abc_impl',\n",
       " '_acall_with_config',\n",
       " '_aget_relevant_documents',\n",
       " '_atransform_stream_with_config',\n",
       " '_batch_with_config',\n",
       " '_calculate_keys',\n",
       " '_call_with_config',\n",
       " '_copy_and_set_values',\n",
       " '_decompose_class',\n",
       " '_enforce_dict_if_root',\n",
       " '_expects_other_args',\n",
       " '_get_relevant_documents',\n",
       " '_get_value',\n",
       " '_init_private_attributes',\n",
       " '_is_protocol',\n",
       " '_iter',\n",
       " '_lc_kwargs',\n",
       " '_new_arg_supported',\n",
       " '_transform_stream_with_config',\n",
       " 'abatch',\n",
       " 'aget_relevant_documents',\n",
       " 'ainvoke',\n",
       " 'assign',\n",
       " 'astream',\n",
       " 'astream_events',\n",
       " 'astream_log',\n",
       " 'atransform',\n",
       " 'batch',\n",
       " 'bind',\n",
       " 'config_schema',\n",
       " 'config_specs',\n",
       " 'configurable_alternatives',\n",
       " 'configurable_fields',\n",
       " 'construct',\n",
       " 'copy',\n",
       " 'dict',\n",
       " 'docs',\n",
       " 'from_documents',\n",
       " 'from_orm',\n",
       " 'from_texts',\n",
       " 'get_graph',\n",
       " 'get_input_schema',\n",
       " 'get_lc_namespace',\n",
       " 'get_name',\n",
       " 'get_output_schema',\n",
       " 'get_prompts',\n",
       " 'get_relevant_documents',\n",
       " 'input_schema',\n",
       " 'invoke',\n",
       " 'is_lc_serializable',\n",
       " 'json',\n",
       " 'k',\n",
       " 'lc_attributes',\n",
       " 'lc_id',\n",
       " 'lc_secrets',\n",
       " 'map',\n",
       " 'metadata',\n",
       " 'name',\n",
       " 'output_schema',\n",
       " 'parse_file',\n",
       " 'parse_obj',\n",
       " 'parse_raw',\n",
       " 'pick',\n",
       " 'pipe',\n",
       " 'preprocess_func',\n",
       " 'schema',\n",
       " 'schema_json',\n",
       " 'stream',\n",
       " 'tags',\n",
       " 'to_json',\n",
       " 'to_json_not_implemented',\n",
       " 'transform',\n",
       " 'update_forward_refs',\n",
       " 'validate',\n",
       " 'vectorizer',\n",
       " 'with_config',\n",
       " 'with_fallbacks',\n",
       " 'with_listeners',\n",
       " 'with_retry',\n",
       " 'with_types']"
      ]
     },
     "execution_count": 7,
     "metadata": {},
     "output_type": "execute_result"
    }
   ],
   "source": [
    "\"docs\"\n",
    "dir(retriever)"
   ]
  },
  {
   "cell_type": "code",
   "execution_count": 11,
   "metadata": {},
   "outputs": [
    {
     "data": {
      "text/plain": [
       "{'source': '0-lt'}"
      ]
     },
     "execution_count": 11,
     "metadata": {},
     "output_type": "execute_result"
    }
   ],
   "source": [
    "\"docs\"\n",
    "retriever.docs\n",
    "retriever.docs[0].metadata"
   ]
  },
  {
   "cell_type": "code",
   "execution_count": 13,
   "metadata": {},
   "outputs": [],
   "source": [
    "# Obtaining the relevant document arround the recomendation\n",
    "# Inspecting recomendation number 3 with index 2\n",
    "\n",
    "recomendation = rta[2].metadata['source']\n",
    "for i in range(len(retriever.docs)):\n",
    "    if recomendation == retriever.docs[i].metadata['source']:\n",
    "        relevant_docs = [\n",
    "            retriever.docs[i-2].page_content,\n",
    "            retriever.docs[i-1].page_content,\n",
    "            retriever.docs[i].page_content,\n",
    "            retriever.docs[i+1].page_content,\n",
    "            retriever.docs[i+2].page_content\n",
    "        ]\n",
    "        break\n",
    "\n"
   ]
  },
  {
   "cell_type": "code",
   "execution_count": 14,
   "metadata": {},
   "outputs": [
    {
     "name": "stdout",
     "output_type": "stream",
     "text": [
      "ARTÍCULO 10°: CALCULO DE LOS GASTOS REEMBOLSABLES\n",
      "El Asegurado, conforme al Artículo 9°, letra b), deberá declarar en su denuncia de siniestro sobre el sistema\n",
      "previsional o de salud al que se encuentre afiliado o adherido, Isapres, Fonasa, cajas de previsión,\n",
      "departamentos o servicios de bienestar, el Seguro Obligatorio de Accidentes Personales establecido en la\n",
      "Ley Nº 18.490, las Cajas de Compensación de Asignación Familiar, otros Seguros de Salud contratados en\n",
      "favor del Asegurado por otras instituciones, públicas o privadas, u otros seguros contratados en forma\n",
      "individual por él, que contemplen algún aporte, indemnización, reembolso o bonificación, a favor del\n",
      "Asegurado, efectuado o por efectuar, respecto de los gastos susceptibles de ser reembolsados o pagados al\n",
      "Prestador.\n",
      "Para los efectos de esta Póliza, el procedimiento de cálculo de los Gastos Reembolsables considerará\n",
      "únicamente los Gastos Efectivamente Incurridos, esto es, la diferencia entre el monto total de los Gastos\n",
      "Médicos Razonables y Acostumbrados a causa de un Evento y aquellas cantidades que sean restituidas,\n",
      "aportadas, bonificadas o reembolsadas al Asegurado por instituciones o entidades a las que se refiere el\n",
      "párrafo anterior y que otorguen reintegros, aportes, bonificaciones o reembolsos médicos y prestaciones\n",
      "económicas al Asegurado.\n",
      "Queda expresamente establecido que las coberturas de esta Póliza no se duplicarán con los beneficios o\n",
      "coberturas de cualquier otro seguro, sistema o institución que otorgue beneficios médicos, y al cual\n",
      "pertenezca el asegurado, de manera que esta Póliza no cubrirá los gastos médicos que deben pagar o\n",
      "reintegrar las empresas, bienestar, el Seguro Obligatorio de Accidentes Personales establecido en la Ley Nº\n",
      "18.490, instituciones médicas o similares que otorguen tales beneficios o coberturas.\n",
      "ARTÍCULO 11°: LIQUIDACIÓN DE LOS GASTOS, FORMA DE PAGO Y MONTO MÁXIMO DE GASTOS\n",
      "REEMBOLSABLES\n",
      "La compañía reembolsará al Asegurado Titular que haya incurrido en los gastos a causa de un Evento o, en\n",
      "su defecto, a los herederos legales de éste conforme lo determina la ley, o pagará al Prestador, los Gastos\n",
      "Reembolsables de acuerdo a los porcentajes que se señalan en las Condiciones Particulares de la Póliza,\n",
      "en la medida que tales gastos hayan sido incurridos dentro del Período de Duración de Reembolso, siempre\n",
      "hasta el Monto Máximo de Gastos Reembolsables, y que dichos gastos excedan el Deducible indicado en el\n",
      "Artículo 12° de estas Condiciones Generales.\n",
      "Presentados los documentos que acrediten los gastos efectivamente incurridos por el Asegurado, la\n",
      "Compañía Aseguradora efectuará el análisis de los antecedentes respectivos y, en caso de ser procedente\n"
     ]
    }
   ],
   "source": [
    "print(relevant_docs[0])\n",
    "print(relevant_docs[1])\n",
    "print(relevant_docs[2])\n",
    "print(relevant_docs[3])\n",
    "print(relevant_docs[4])"
   ]
  }
 ],
 "metadata": {
  "kernelspec": {
   "display_name": "venv",
   "language": "python",
   "name": "python3"
  },
  "language_info": {
   "codemirror_mode": {
    "name": "ipython",
    "version": 3
   },
   "file_extension": ".py",
   "mimetype": "text/x-python",
   "name": "python",
   "nbconvert_exporter": "python",
   "pygments_lexer": "ipython3",
   "version": "3.11.4"
  }
 },
 "nbformat": 4,
 "nbformat_minor": 2
}
