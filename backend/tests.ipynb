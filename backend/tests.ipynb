{
 "cells": [
  {
   "cell_type": "markdown",
   "metadata": {},
   "source": [
    "# Loading the vector database"
   ]
  },
  {
   "cell_type": "code",
   "execution_count": 1,
   "metadata": {},
   "outputs": [],
   "source": [
    "import os\n",
    "from langchain.vectorstores import Chroma\n",
    "from langchain.embeddings import GPT4AllEmbeddings"
   ]
  },
  {
   "cell_type": "code",
   "execution_count": 10,
   "metadata": {},
   "outputs": [
    {
     "name": "stdout",
     "output_type": "stream",
     "text": [
      "This should not be running on a notebook.\n"
     ]
    }
   ],
   "source": [
    "try:\n",
    "    PROJECT_ROOT = os.path.dirname(os.path.abspath(__file__))\n",
    "except:\n",
    "    print(\"This should not be running on a notebook.\")\n",
    "    PROJECT_ROOT = os.path.abspath('.')\n",
    "    \n",
    "DATA_PATH = os.path.join(PROJECT_ROOT, \"database_s3\", \"queplan_insurance\")\n",
    "DB_PATH = os.path.join(PROJECT_ROOT, \"database_chromadb\", \"db\")"
   ]
  },
  {
   "cell_type": "code",
   "execution_count": 11,
   "metadata": {},
   "outputs": [],
   "source": [
    "vectorstore = Chroma(\n",
    "    persist_directory=DB_PATH,\n",
    "    embedding_function=GPT4AllEmbeddings()\n",
    ")"
   ]
  },
  {
   "cell_type": "markdown",
   "metadata": {},
   "source": [
    "# First retriever"
   ]
  },
  {
   "cell_type": "code",
   "execution_count": 12,
   "metadata": {},
   "outputs": [],
   "source": [
    "retriever = vectorstore.as_retriever()"
   ]
  },
  {
   "cell_type": "code",
   "execution_count": 13,
   "metadata": {},
   "outputs": [],
   "source": [
    "docs = retriever.aget_relevant_documents(\"Que contrato me recomiendas\")"
   ]
  },
  {
   "cell_type": "code",
   "execution_count": 15,
   "metadata": {},
   "outputs": [
    {
     "data": {
      "text/plain": [
       "[Document(page_content='obligaciones del contrato, salvo aquellas que por su naturaleza deben ser cumplidos por el asegurado. Las', metadata={'page': 18, 'source': 'c:\\\\Users\\\\Agustin\\\\Proyectos_2024\\\\AnyoneAI-TPF\\\\backend\\\\database_s3\\\\queplan_insurance\\\\POL320200071.pdf'}),\n",
       " Document(page_content='4° Notificar al Asegurador, tan pronto sea posible una vez tomado conocimiento, de la ocurrencia de\\ncualquier hecho que pueda constituir o constituya un siniestro, y\\n \\n5° Acreditar la ocurrencia del siniestro denunciado, y declarar fielmente y sin reticencia, sus circunstancias y\\nconsecuencias.\\n \\nSi el Tomador o Contratante del seguro y el Asegurado son personas distintas, corresponde al Tomador o\\nContratante el cumplimiento de las obligaciones del contrato, salvo aquellas que por su naturaleza deben ser\\ncumplidas por el Asegurado. Las obligaciones del Tomador o Contratante podrán ser cumplidas por el\\nAsegurado.', metadata={'page': 12, 'source': 'c:\\\\Users\\\\Agustin\\\\Proyectos_2024\\\\AnyoneAI-TPF\\\\backend\\\\database_s3\\\\queplan_insurance\\\\POL320180100.pdf'}),\n",
       " Document(page_content='quien recaen, en general, las obligaciones y cargas del contrato, excepto las que por disposiciones de este\\ncontrato o su naturaleza deben ser cumplidas por el Asegurado si se tratara de una persona distinta. El\\ncontratante se indica como tal en las Condiciones Particulares de la Póliza.\\n \\n8. Cuadro de Cobertura: Corresponde al detalle de todas las coberturas, servicios o prestaciones que otorga\\nesta Póliza y se entiende forman parte integrante de la misma.', metadata={'page': 6, 'source': 'c:\\\\Users\\\\Agustin\\\\Proyectos_2024\\\\AnyoneAI-TPF\\\\backend\\\\database_s3\\\\queplan_insurance\\\\POL320150503.pdf'}),\n",
       " Document(page_content='asegurado titular y/o contratante por beneficios recibidos pero no cubiertos por esta póliza, el Asegurador se\\nreserva el derecho de reducir dicha cantidad de cualquier pago de siniestros futuros o de solicitar el\\nreembolso directo al asegurado titular y/o contratante.', metadata={'page': 29, 'source': 'c:\\\\Users\\\\Agustin\\\\Proyectos_2024\\\\AnyoneAI-TPF\\\\backend\\\\database_s3\\\\queplan_insurance\\\\POL320200214.pdf'})]"
      ]
     },
     "execution_count": 15,
     "metadata": {},
     "output_type": "execute_result"
    }
   ],
   "source": [
    "await docs"
   ]
  },
  {
   "cell_type": "markdown",
   "metadata": {},
   "source": [
    "# First Retrieval Chain"
   ]
  },
  {
   "cell_type": "code",
   "execution_count": 17,
   "metadata": {},
   "outputs": [],
   "source": [
    "from langchain.chains import RetrievalQA, RetrievalQAWithSourcesChain\n",
    "from langchain.llms import OpenAI"
   ]
  },
  {
   "cell_type": "code",
   "execution_count": 19,
   "metadata": {},
   "outputs": [],
   "source": [
    "qa_chain = RetrievalQA.from_chain_type(\n",
    "    chain_type=\"stuff\",\n",
    "    retriever=retriever,\n",
    "    llm=OpenAI(),\n",
    "    return_source_documents=True,\n",
    "    verbose=True\n",
    ")"
   ]
  },
  {
   "cell_type": "code",
   "execution_count": 20,
   "metadata": {},
   "outputs": [],
   "source": [
    "def process_llm_response(response):\n",
    "    print(response['result'])\n",
    "    print('\\n\\nSources:')\n",
    "    [print(source.metadata['source']) for source in response['source_documents']]\n",
    "    print(\"\\n\\n\")"
   ]
  },
  {
   "cell_type": "code",
   "execution_count": 22,
   "metadata": {},
   "outputs": [
    {
     "name": "stdout",
     "output_type": "stream",
     "text": [
      "\n",
      "\n",
      "\u001b[1m> Entering new RetrievalQA chain...\u001b[0m\n",
      "\n",
      "\u001b[1m> Finished chain.\u001b[0m\n"
     ]
    }
   ],
   "source": [
    "msg = 'Que contrato me recomiendas'\n",
    "response = qa_chain.invoke(msg)"
   ]
  },
  {
   "cell_type": "code",
   "execution_count": 23,
   "metadata": {},
   "outputs": [
    {
     "data": {
      "text/plain": [
       "{'query': 'Que contrato me recomiendas',\n",
       " 'result': ' No puedo recomendar un contrato en particular ya que soy un programa de ordenador y no tengo conocimiento de las necesidades o preferencias específicas de cada individuo. Es importante que consultes con un experto o investigues detenidamente antes de decidir qué contrato es el mejor para ti.',\n",
       " 'source_documents': [Document(page_content='obligaciones del contrato, salvo aquellas que por su naturaleza deben ser cumplidos por el asegurado. Las', metadata={'page': 18, 'source': 'c:\\\\Users\\\\Agustin\\\\Proyectos_2024\\\\AnyoneAI-TPF\\\\backend\\\\database_s3\\\\queplan_insurance\\\\POL320200071.pdf'}),\n",
       "  Document(page_content='4° Notificar al Asegurador, tan pronto sea posible una vez tomado conocimiento, de la ocurrencia de\\ncualquier hecho que pueda constituir o constituya un siniestro, y\\n \\n5° Acreditar la ocurrencia del siniestro denunciado, y declarar fielmente y sin reticencia, sus circunstancias y\\nconsecuencias.\\n \\nSi el Tomador o Contratante del seguro y el Asegurado son personas distintas, corresponde al Tomador o\\nContratante el cumplimiento de las obligaciones del contrato, salvo aquellas que por su naturaleza deben ser\\ncumplidas por el Asegurado. Las obligaciones del Tomador o Contratante podrán ser cumplidas por el\\nAsegurado.', metadata={'page': 12, 'source': 'c:\\\\Users\\\\Agustin\\\\Proyectos_2024\\\\AnyoneAI-TPF\\\\backend\\\\database_s3\\\\queplan_insurance\\\\POL320180100.pdf'}),\n",
       "  Document(page_content='quien recaen, en general, las obligaciones y cargas del contrato, excepto las que por disposiciones de este\\ncontrato o su naturaleza deben ser cumplidas por el Asegurado si se tratara de una persona distinta. El\\ncontratante se indica como tal en las Condiciones Particulares de la Póliza.\\n \\n8. Cuadro de Cobertura: Corresponde al detalle de todas las coberturas, servicios o prestaciones que otorga\\nesta Póliza y se entiende forman parte integrante de la misma.', metadata={'page': 6, 'source': 'c:\\\\Users\\\\Agustin\\\\Proyectos_2024\\\\AnyoneAI-TPF\\\\backend\\\\database_s3\\\\queplan_insurance\\\\POL320150503.pdf'}),\n",
       "  Document(page_content='asegurado titular y/o contratante por beneficios recibidos pero no cubiertos por esta póliza, el Asegurador se\\nreserva el derecho de reducir dicha cantidad de cualquier pago de siniestros futuros o de solicitar el\\nreembolso directo al asegurado titular y/o contratante.', metadata={'page': 29, 'source': 'c:\\\\Users\\\\Agustin\\\\Proyectos_2024\\\\AnyoneAI-TPF\\\\backend\\\\database_s3\\\\queplan_insurance\\\\POL320200214.pdf'})]}"
      ]
     },
     "execution_count": 23,
     "metadata": {},
     "output_type": "execute_result"
    }
   ],
   "source": [
    "response"
   ]
  },
  {
   "cell_type": "code",
   "execution_count": 24,
   "metadata": {},
   "outputs": [
    {
     "name": "stdout",
     "output_type": "stream",
     "text": [
      " No puedo recomendar un contrato en particular ya que soy un programa de ordenador y no tengo conocimiento de las necesidades o preferencias específicas de cada individuo. Es importante que consultes con un experto o investigues detenidamente antes de decidir qué contrato es el mejor para ti.\n",
      "\n",
      "\n",
      "Sources:\n",
      "c:\\Users\\Agustin\\Proyectos_2024\\AnyoneAI-TPF\\backend\\database_s3\\queplan_insurance\\POL320200071.pdf\n",
      "c:\\Users\\Agustin\\Proyectos_2024\\AnyoneAI-TPF\\backend\\database_s3\\queplan_insurance\\POL320180100.pdf\n",
      "c:\\Users\\Agustin\\Proyectos_2024\\AnyoneAI-TPF\\backend\\database_s3\\queplan_insurance\\POL320150503.pdf\n",
      "c:\\Users\\Agustin\\Proyectos_2024\\AnyoneAI-TPF\\backend\\database_s3\\queplan_insurance\\POL320200214.pdf\n",
      "\n",
      "\n",
      "\n"
     ]
    }
   ],
   "source": [
    "process_llm_response(response)"
   ]
  },
  {
   "cell_type": "code",
   "execution_count": 25,
   "metadata": {},
   "outputs": [],
   "source": [
    "msg = 'Necesito una receta de mayonesa'\n",
    "response = qa_chain.ainvoke(msg)"
   ]
  },
  {
   "cell_type": "code",
   "execution_count": 26,
   "metadata": {},
   "outputs": [
    {
     "name": "stdout",
     "output_type": "stream",
     "text": [
      "\n",
      "\n",
      "\u001b[1m> Entering new RetrievalQA chain...\u001b[0m\n",
      "\n",
      "\u001b[1m> Finished chain.\u001b[0m\n"
     ]
    },
    {
     "data": {
      "text/plain": [
       "{'query': 'Necesito una receta de mayonesa',\n",
       " 'result': ' No conozco una receta de mayonesa.',\n",
       " 'source_documents': [Document(page_content='que ella y sus coberturas se encuentren vigentes a esa fecha y que haya transcurrido el período de carencia\\nseñalado en las Condiciones Particulares.', metadata={'page': 1, 'source': 'c:\\\\Users\\\\Agustin\\\\Proyectos_2024\\\\AnyoneAI-TPF\\\\backend\\\\database_s3\\\\queplan_insurance\\\\POL320130223.pdf'}),\n",
       "  Document(page_content='que ella y sus coberturas se encuentren vigentes a esa fecha y que haya transcurrido el período de carencia\\nseñalado en las Condiciones Particulares.', metadata={'page': 16, 'source': 'c:\\\\Users\\\\Agustin\\\\Proyectos_2024\\\\AnyoneAI-TPF\\\\backend\\\\database_s3\\\\queplan_insurance\\\\POL320190074.pdf'}),\n",
       "  Document(page_content='cuyo reembolso se solicita, salvo que se indique otro plazo en las Condiciones Particulares de la póliza. Con\\ntodo, en caso de no renovación de la póliza el plazo de aviso de siniestro no podrá ser superior a treinta (30)\\ndías contados desde la fecha de término de la vigencia de la póliza.', metadata={'page': 35, 'source': 'c:\\\\Users\\\\Agustin\\\\Proyectos_2024\\\\AnyoneAI-TPF\\\\backend\\\\database_s3\\\\queplan_insurance\\\\POL320130223.pdf'}),\n",
       "  Document(page_content='cuyo reembolso se solicita, salvo que se indique otro plazo en las Condiciones Particulares de la póliza. Con\\ntodo, en caso de no renovación de la póliza el plazo de aviso de siniestro no podrá ser superior a treinta (30)\\ndías contados desde la fecha de término de la vigencia de la póliza.', metadata={'page': 50, 'source': 'c:\\\\Users\\\\Agustin\\\\Proyectos_2024\\\\AnyoneAI-TPF\\\\backend\\\\database_s3\\\\queplan_insurance\\\\POL320190074.pdf'})]}"
      ]
     },
     "execution_count": 26,
     "metadata": {},
     "output_type": "execute_result"
    }
   ],
   "source": [
    "result = await response\n",
    "result"
   ]
  },
  {
   "cell_type": "markdown",
   "metadata": {},
   "source": [
    "# Inspeccion de los parametros del Retriever"
   ]
  },
  {
   "cell_type": "code",
   "execution_count": 27,
   "metadata": {},
   "outputs": [
    {
     "data": {
      "text/plain": [
       "'similarity'"
      ]
     },
     "execution_count": 27,
     "metadata": {},
     "output_type": "execute_result"
    }
   ],
   "source": [
    "qa_chain.retriever.search_type"
   ]
  },
  {
   "cell_type": "code",
   "execution_count": null,
   "metadata": {},
   "outputs": [],
   "source": [
    "qa_chain.retriever.search_type = \"semantic\""
   ]
  },
  {
   "cell_type": "code",
   "execution_count": 28,
   "metadata": {},
   "outputs": [
    {
     "data": {
      "text/plain": [
       "<langchain_community.vectorstores.chroma.Chroma at 0x2768fba5d50>"
      ]
     },
     "execution_count": 28,
     "metadata": {},
     "output_type": "execute_result"
    }
   ],
   "source": [
    "qa_chain.retriever.vectorstore"
   ]
  },
  {
   "cell_type": "code",
   "execution_count": 29,
   "metadata": {},
   "outputs": [
    {
     "name": "stdout",
     "output_type": "stream",
     "text": [
      "Use the following pieces of context to answer the question at the end. If you don't know the answer, just say that you don't know, don't try to make up an answer.\n",
      "\n",
      "{context}\n",
      "\n",
      "Question: {question}\n",
      "Helpful Answer:\n"
     ]
    }
   ],
   "source": [
    "# System Prompt and Human Prompt:\n",
    "\n",
    "print(qa_chain.combine_documents_chain.llm_chain.prompt.template)"
   ]
  },
  {
   "cell_type": "markdown",
   "metadata": {},
   "source": [
    "# Second Retrieval Chain"
   ]
  },
  {
   "cell_type": "code",
   "execution_count": 31,
   "metadata": {},
   "outputs": [],
   "source": [
    "from langchain_openai import ChatOpenAI\n",
    "\n",
    "\n",
    "turbo_llm = ChatOpenAI(\n",
    "    temperature=0.1777,\n",
    "    model_name='gpt-3.5-turbo'\n",
    ")\n",
    "\n",
    "qa_chain_turbo = RetrievalQA.from_chain_type(\n",
    "    chain_type=\"stuff\",\n",
    "    retriever=retriever,\n",
    "    llm=turbo_llm,\n",
    "    return_source_documents=True,\n",
    "    verbose=True\n",
    ")"
   ]
  },
  {
   "cell_type": "code",
   "execution_count": 32,
   "metadata": {},
   "outputs": [
    {
     "name": "stdout",
     "output_type": "stream",
     "text": [
      "\n",
      "\n",
      "\u001b[1m> Entering new RetrievalQA chain...\u001b[0m\n",
      "\n",
      "\u001b[1m> Finished chain.\u001b[0m\n"
     ]
    }
   ],
   "source": [
    "msg = 'Requiero recomendaciones para un ARTICULO: \"cobertura\"'\n",
    "llm_response = qa_chain_turbo.invoke(msg)"
   ]
  },
  {
   "cell_type": "code",
   "execution_count": 33,
   "metadata": {},
   "outputs": [
    {
     "name": "stdout",
     "output_type": "stream",
     "text": [
      "Para redactar un artículo sobre \"cobertura\" en el contexto de seguros, podrías considerar los siguientes puntos:\n",
      "\n",
      "1. **Definición de Cobertura**: Explica qué se entiende por cobertura en el ámbito de los seguros. Puedes mencionar que se refiere a las garantías y protecciones que ofrece una póliza de seguro en caso de determinados eventos.\n",
      "\n",
      "2. **Tipos de Cobertura**: Describe los diferentes tipos de cobertura que suelen ofrecer las pólizas de seguros, como cobertura médica, cobertura de responsabilidad civil, cobertura de daños materiales, entre otros.\n",
      "\n",
      "3. **Importancia de la Cobertura**: Destaca la importancia de contar con una cobertura adecuada en un seguro, ya que brinda tranquilidad y protección financiera en situaciones imprevistas.\n",
      "\n",
      "4. **Periodo de Cobertura**: Menciona que la cobertura de un seguro suele tener un periodo determinado, que puede variar según el tipo de póliza y las condiciones particulares del contrato.\n",
      "\n",
      "5. **Exclusiones y Limitaciones**: Es importante mencionar que las pólizas de seguro también suelen incluir exclusiones y limitaciones en la cobertura, por lo que es fundamental que los asegurados conozcan estos detalles.\n",
      "\n",
      "6. **Renovación y Terminación de la Cobertura**: Explora cómo funciona la renovación de la cobertura al finalizar el periodo de la póliza, así como las circunstancias en las que la cobertura puede terminar antes de tiempo.\n",
      "\n",
      "7. **Consejos para Elegir la Cobertura Adecuada**: Ofrece recomendaciones a los lectores sobre cómo seleccionar la cobertura de seguro más adecuada para sus necesidades, considerando factores como el tipo de riesgos a cubrir, el costo y las condiciones del contrato.\n",
      "\n",
      "Al abordar estos puntos, podrás crear un artículo informativo y útil sobre el concepto de \"cobertura\" en el contexto de los seguros.\n",
      "\n",
      "\n",
      "Sources:\n",
      "c:\\Users\\Agustin\\Proyectos_2024\\AnyoneAI-TPF\\backend\\database_s3\\queplan_insurance\\POL320150503.pdf\n",
      "c:\\Users\\Agustin\\Proyectos_2024\\AnyoneAI-TPF\\backend\\database_s3\\queplan_insurance\\POL320150503.pdf\n",
      "c:\\Users\\Agustin\\Proyectos_2024\\AnyoneAI-TPF\\backend\\database_s3\\queplan_insurance\\POL320130223.pdf\n",
      "c:\\Users\\Agustin\\Proyectos_2024\\AnyoneAI-TPF\\backend\\database_s3\\queplan_insurance\\POL320190074.pdf\n",
      "\n",
      "\n",
      "\n"
     ]
    }
   ],
   "source": [
    "process_llm_response(llm_response)"
   ]
  },
  {
   "cell_type": "code",
   "execution_count": 36,
   "metadata": {},
   "outputs": [
    {
     "name": "stdout",
     "output_type": "stream",
     "text": [
      "Use the following pieces of context to answer the user's question. \n",
      "If you don't know the answer, just say that you don't know, don't try to make up an answer.\n",
      "----------------\n",
      "{context}\n"
     ]
    }
   ],
   "source": [
    "# System Prompt\n",
    "print(qa_chain_turbo.combine_documents_chain.llm_chain.prompt.messages[0].prompt.template)"
   ]
  },
  {
   "cell_type": "code",
   "execution_count": 37,
   "metadata": {},
   "outputs": [
    {
     "name": "stdout",
     "output_type": "stream",
     "text": [
      "{question}\n"
     ]
    }
   ],
   "source": [
    "# Human Prompt\n",
    "print(qa_chain_turbo.combine_documents_chain.llm_chain.prompt.messages[1].prompt.template)"
   ]
  },
  {
   "cell_type": "code",
   "execution_count": null,
   "metadata": {},
   "outputs": [],
   "source": []
  },
  {
   "cell_type": "code",
   "execution_count": null,
   "metadata": {},
   "outputs": [],
   "source": []
  },
  {
   "cell_type": "code",
   "execution_count": null,
   "metadata": {},
   "outputs": [],
   "source": []
  }
 ],
 "metadata": {
  "kernelspec": {
   "display_name": "venv",
   "language": "python",
   "name": "python3"
  },
  "language_info": {
   "codemirror_mode": {
    "name": "ipython",
    "version": 3
   },
   "file_extension": ".py",
   "mimetype": "text/x-python",
   "name": "python",
   "nbconvert_exporter": "python",
   "pygments_lexer": "ipython3",
   "version": "3.11.4"
  }
 },
 "nbformat": 4,
 "nbformat_minor": 2
}
