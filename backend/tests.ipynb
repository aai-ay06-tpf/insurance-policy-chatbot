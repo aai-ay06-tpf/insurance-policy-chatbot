{
 "cells": [
  {
   "cell_type": "markdown",
   "metadata": {},
   "source": [
    "## Summarization"
   ]
  },
  {
   "cell_type": "code",
   "execution_count": 25,
   "metadata": {},
   "outputs": [],
   "source": [
    "import os, pickle\n",
    "\n",
    "response_path = \".summarization_backup/\""
   ]
  },
  {
   "cell_type": "code",
   "execution_count": 30,
   "metadata": {},
   "outputs": [],
   "source": [
    "# crear una funcion que reciba un string y formatee el texto para que sea legible\n",
    "# utilizar un maximo de 50 caracteres por linea\n",
    "\n",
    "def format_text(text):\n",
    "    formatted_text = \"\"\n",
    "    for i in range(0, len(text), 50):\n",
    "        formatted_text += text[i:i+50] + \"\\n\"\n",
    "    return formatted_text\n"
   ]
  },
  {
   "cell_type": "code",
   "execution_count": 32,
   "metadata": {},
   "outputs": [
    {
     "name": "stdout",
     "output_type": "stream",
     "text": [
      "La póliza de accidentes personales/reembolso de ga\n",
      "stos médicos establece que la compañía aseguradora\n",
      " reembolsará al asegurado los gastos médicos razon\n",
      "ables y acostumbrados incurridos durante la vigenc\n",
      "ia de la póliza, siempre y cuando se cumplan ciert\n",
      "os requisitos. Estos requisitos incluyen que el ac\n",
      "cidente ocurra durante la vigencia de la póliza, q\n",
      "ue los gastos se realicen dentro del período de du\n",
      "ración de reembolso, que el monto de gastos supere\n",
      " el deducible establecido, que la suma de los reem\n",
      "bolsos no supere el monto máximo establecido, que \n",
      "los gastos no sean excluidos y que las prestacione\n",
      "s médicas sean entregadas por los prestadores indi\n",
      "cados. Los reembolsos se realizarán hasta el monto\n",
      " máximo establecido y de acuerdo a los términos y \n",
      "límites establecidos en las condiciones particular\n",
      "es de la póliza. Además, se establece que el reemb\n",
      "olso será complementario a lo que cubra el sistema\n",
      " previsional o de salud al que esté afiliado el as\n",
      "egurado. En caso de contar con Isapre, el reembols\n",
      "o será del saldo total remanente con un límite est\n",
      "ablecido. En caso de otros sistemas previsionales \n",
      "de salud o su ausencia, se exigirá un copago mínim\n",
      "o.\n",
      "\n"
     ]
    }
   ],
   "source": [
    "# Primer run: response_1709556534.pkl\n",
    "# documento index = 0\n",
    "# pagina index = 0\n",
    "# prompt_template = \"\"\"Generar un resumen que capture los patrones relevantes\\\n",
    "#  en los datos del TEXTO. La respuesta debe ser de 1000 caracteres como maximo.\n",
    "# TEXTO:\n",
    "# \"{text}\"\n",
    "# RESUMEN:\"\"\"\n",
    "\n",
    "with open(response_path + \"response_1709556534.pkl\", \"rb\") as f:\n",
    "    response = pickle.load(f)\n",
    "\n",
    "print(format_text(response))"
   ]
  },
  {
   "cell_type": "code",
   "execution_count": 36,
   "metadata": {},
   "outputs": [
    {
     "name": "stdout",
     "output_type": "stream",
     "text": [
      "- El contrato de seguro se regirá por las disposiciones legales y las estipulaciones más beneficiosas para el asegurado o beneficiario.\n",
      "- La cobertura de la póliza incluye el reembolso de los gastos médicos razonables y acostumbrados incurridos por el asegurado en caso de accidente.\n",
      "- Los gastos deben ser realizados en los prestadores de salud determinados por la aseguradora y durante el período de duración del reembolso.\n",
      "- Se establecen requisitos para el reembolso de los gastos, como que el accidente haya ocurrido durante la vigencia de la póliza, que se haya incurrido en los gastos dentro del período de duración de reembolso, que el monto de gastos supere el deducible establecido, entre otros.\n",
      "- Los reembolsos están sujetos a límites y topes establecidos en las condiciones particulares de la póliza, así como a porcentajes de bonificación o reembolso entregados por el sistema de salud previsional al que esté afiliado el asegurado.\n",
      "- La aseguradora reembolsará los gastos médicos como complemento de lo que cubra el sistema previsional o de salud al que esté afiliado el asegurado, como Isapres, Fonasa, Cajas de Previsión, entre otros.\n",
      "- En caso de contar con Isapre, el reembolso estará limitado al monto estipulado en las condiciones particulares y se exigirá un copago mínimo en otros sistemas previsionales de salud o en su ausencia.\n"
     ]
    }
   ],
   "source": [
    "# Segundo run: response_1709557379.pkl\n",
    "# documento index = 0\n",
    "# pagina index = 0\n",
    "# prompt_template = \"\"\"Extraer los bullet-points de los articulos\\\n",
    "#  contenidos en el TEXTO. La respuesta debe ser de 1000 caracteres como maximo.\n",
    "# TEXTO:\n",
    "# \"{text}\"\n",
    "# RESUMEN:\"\"\"\n",
    "\n",
    "with open(response_path + \"response_1709557379.pkl\", \"rb\") as f:\n",
    "    response = pickle.load(f)\n",
    "    \n",
    "print(response[\"output_text\"])\n"
   ]
  },
  {
   "cell_type": "code",
   "execution_count": 37,
   "metadata": {},
   "outputs": [
    {
     "name": "stdout",
     "output_type": "stream",
     "text": [
      "1353\n"
     ]
    }
   ],
   "source": [
    "print(len(response[\"output_text\"]))"
   ]
  },
  {
   "cell_type": "markdown",
   "metadata": {},
   "source": [
    "## func 1"
   ]
  },
  {
   "cell_type": "code",
   "execution_count": 1,
   "metadata": {},
   "outputs": [
    {
     "name": "stdout",
     "output_type": "stream",
     "text": [
      "POL320210210.pdf\n"
     ]
    },
    {
     "data": {
      "text/plain": [
       "['ARTICULO 1°: REGLAS APLICABLES AL CONTRATO',\n",
       " 'ARTÍCULO 2º: COBERTURA',\n",
       " 'ARTÍCULO 3º: DEFINICIONES.',\n",
       " 'ARTÍCULO 4º: EXCLUSIONES.',\n",
       " 'ARTICULO 5º: CARENCIA',\n",
       " 'ARTÍCULO 6°: OBLIGACIONES DEL ASEGURADO',\n",
       " 'ARTICULO 7°: DECLARACIONES DEL ASEGURADO',\n",
       " 'ARTICULO 8º: PRIMAS Y EFECTOS DEL NO PAGO DE LAS PRIMAS',\n",
       " 'ARTICULO 9°: BENEFICIARIOS',\n",
       " 'ARTÍCULO 10º: DENUNCIA DE SINIESTROS',\n",
       " 'ARTICULO 11º: VIGENCIA Y TERMINACIÓN',\n",
       " 'ARTÍCULO 12º: COMUNICACIÓN ENTRE LAS PARTES',\n",
       " 'ARTÍCULO 13º: SOLUCIÓN DE CONTROVERSIAS',\n",
       " 'ARTÍCULO 14°: CLAUSULAS ADICIONALES',\n",
       " 'ARTÍCULO 15°: DOMICILIO']"
      ]
     },
     "execution_count": 1,
     "metadata": {},
     "output_type": "execute_result"
    }
   ],
   "source": [
    "import os\n",
    "from utils.config import DOWNLOAD_PATH\n",
    "\n",
    "\n",
    "file_n = 8\n",
    "pdf_files = os.listdir(DOWNLOAD_PATH)\n",
    "selected_file = os.path.join(DOWNLOAD_PATH, pdf_files[file_n])\n",
    "pattern = \"ART.CULO\\s\\d+.+:?\"\n",
    "\n",
    "\n",
    "# func 1:\n",
    "from eda_tools.pdf_file_tools import extract_patterns\n",
    "\n",
    "print(selected_file.split(\"\\\\\")[-1])\n",
    "extract_patterns(selected_file, pattern)\n"
   ]
  },
  {
   "cell_type": "markdown",
   "metadata": {},
   "source": [
    "## Spliting documents by article\n",
    "\n",
    "**TRATAMIENTO FILE NUMBER 8**"
   ]
  },
  {
   "cell_type": "code",
   "execution_count": 1,
   "metadata": {},
   "outputs": [
    {
     "ename": "TypeError",
     "evalue": "must be str, not list",
     "output_type": "error",
     "traceback": [
      "\u001b[1;31m---------------------------------------------------------------------------\u001b[0m",
      "\u001b[1;31mTypeError\u001b[0m                                 Traceback (most recent call last)",
      "Cell \u001b[1;32mIn[1], line 15\u001b[0m\n\u001b[0;32m     12\u001b[0m \u001b[38;5;66;03m# pattern = \"^ART.CULO\\s\\d+[\\.:].+:?\"\u001b[39;00m\n\u001b[0;32m     13\u001b[0m articles \u001b[38;5;241m=\u001b[39m extract_patterns(selected_file, pattern)\n\u001b[1;32m---> 15\u001b[0m text, documents \u001b[38;5;241m=\u001b[39m \u001b[43mextract_documents_from_text\u001b[49m\u001b[43m(\u001b[49m\u001b[43mselected_file\u001b[49m\u001b[43m,\u001b[49m\u001b[43m \u001b[49m\u001b[43marticles\u001b[49m\u001b[43m)\u001b[49m\n\u001b[0;32m     16\u001b[0m documents\n",
      "File \u001b[1;32mc:\\Users\\gjaca\\Desktop\\PERSONAL\\ANYONE_AI\\SPRINTS\\Final_Project\\insurance-policy-chatbot\\backend\\eda_tools\\doc_fragmentation.py:33\u001b[0m, in \u001b[0;36mextract_documents_from_text\u001b[1;34m(file, articles)\u001b[0m\n\u001b[0;32m     25\u001b[0m         documents\u001b[38;5;241m.\u001b[39mappend(\n\u001b[0;32m     26\u001b[0m             Document(\n\u001b[0;32m     27\u001b[0m                 page_content\u001b[38;5;241m=\u001b[39mtext[text\u001b[38;5;241m.\u001b[39mfind(articles[i]):],\n\u001b[0;32m     28\u001b[0m                 metadata\u001b[38;5;241m=\u001b[39mmetadata\n\u001b[0;32m     29\u001b[0m             )\n\u001b[0;32m     30\u001b[0m         )\n\u001b[0;32m     31\u001b[0m         \u001b[38;5;28;01mbreak\u001b[39;00m\n\u001b[1;32m---> 33\u001b[0m     start_index, end_index \u001b[38;5;241m=\u001b[39m text\u001b[38;5;241m.\u001b[39mfind(articles[i]), \u001b[43mtext\u001b[49m\u001b[38;5;241;43m.\u001b[39;49m\u001b[43mfind\u001b[49m\u001b[43m(\u001b[49m\u001b[43marticles\u001b[49m\u001b[43m[\u001b[49m\u001b[43mi\u001b[49m\u001b[38;5;241;43m+\u001b[39;49m\u001b[38;5;241;43m1\u001b[39;49m\u001b[43m]\u001b[49m\u001b[43m)\u001b[49m\n\u001b[0;32m     34\u001b[0m     documents\u001b[38;5;241m.\u001b[39mappend(\n\u001b[0;32m     35\u001b[0m         Document(\n\u001b[0;32m     36\u001b[0m             page_content\u001b[38;5;241m=\u001b[39mtext[start_index:end_index],\n\u001b[0;32m     37\u001b[0m             metadata\u001b[38;5;241m=\u001b[39mmetadata\n\u001b[0;32m     38\u001b[0m         )\n\u001b[0;32m     39\u001b[0m     )\n\u001b[0;32m     41\u001b[0m \u001b[38;5;28;01mreturn\u001b[39;00m documents\n",
      "\u001b[1;31mTypeError\u001b[0m: must be str, not list"
     ]
    }
   ],
   "source": [
    "import os\n",
    "from eda_tools.pdf_file_tools import extract_patterns\n",
    "from eda_tools.doc_fragmentation import extract_documents_from_text\n",
    "from utils.config import DOWNLOAD_PATH\n",
    "\n",
    "# File 8 \n",
    "file_n = 4\n",
    "pdf_files = os.listdir(DOWNLOAD_PATH)\n",
    "\n",
    "selected_file = os.path.join(DOWNLOAD_PATH, pdf_files[file_n])\n",
    "pattern = \"^\\s?ART.CULO\\s*(N|Nº|N°)?\\s*\\d+[°º]?[\\.:]+\"\n",
    "# pattern = \"^ART.CULO\\s\\d+[\\.:].+:?\"\n",
    "articles = extract_patterns(selected_file, pattern)\n",
    "\n",
    "documents = extract_documents_from_text(selected_file, articles)\n",
    "documents"
   ]
  },
  {
   "cell_type": "code",
   "execution_count": 2,
   "metadata": {},
   "outputs": [
    {
     "data": {
      "text/plain": [
       "[Document(page_content='ARTÍCULO 1°: REGLAS APLICABLES AL CONTRATO\\nSe aplicarán al presente contrato de seguro las disposiciones contenidas en los artículos siguientes y las\\nnormas legales de carácter imperativo establecidas en el título VIII, del Libro II, del Código de Comercio. Sin\\nembargo, se entenderán válidas las estipulaciones contractuales que sean más beneficiosas para el\\nasegurado o el beneficiario.\\n', metadata={'file': 'POL120190177.pdf', 'policy_header': 'PÓLIZA DE ACCIDENTES PERSONALES / REEMBOLSO GASTOS MÉDICOS', 'article_title': 'ARTÍCULO 1°: REGLAS APLICABLES AL CONTRATO'}),\n",
       " Document(page_content='ARTÍCULO 2º: COBERTURA Y MATERIA ASEGURADA\\nLa Compañía Aseguradora reembolsará al asegurado o pagará directamente al prestador de salud los\\nGastos Médicos Razonables y Acostumbrados y Efectivamente Incurridos, una vez se haya otorgado y\\npagado la cobertura del sistema de salud previsional, seguros complementarios u otros beneficios\\ncontratados por el asegurado. Lo anterior, cuando al asegurado le ocurra un accidente durante la vigencia de\\nesta póliza que demande su internación hospitalaria y cuando este gasto se realice en el o los prestadores\\nde salud que el asegurador determine, durante el período de duración del Reembolso que se establezca en\\nlas Condiciones Particulares de la Póliza, que se inicia desde la fecha de ocurrencia del Accidente y que\\nsean originados por éste. Las definiciones de estos conceptos se encuentran contenidos en el artículo 4° de\\nestas Condiciones Generales.\\nLa compañía reembolsará los gastos referidos precedentemente, siempre que se cumplan copulativamente\\nlos siguientes requisitos: 1) el Accidente que los origina haya ocurrido durante la vigencia del Asegurado en\\nesta Póliza; 2) Que se haya incurrido en los gastos dentro del Período de Duración de Reembolso; 3) Que el\\nmonto de gastos supere el Deducible establecido en las Condiciones Particulares de la Póliza; 4) Que la\\nsuma de los reembolsos de gastos realizados al asegurado, durante su vigencia anual en la Póliza, no\\nsuperen el Monto Máximo de Gastos Reembolsables establecido en las Condiciones Particulares de la\\nPóliza; 5) Que estos gastos no provengan ni se originen por una causa excluida en el Artículo 5° de estas\\nCondiciones Generales; 6) Que las prestaciones médicas sean entregadas por el o los prestador(es)\\nindicados en las Condiciones Particulares de esta Póliza; 7) Que el accidente haya ocurrido dentro de\\nterritorio nacional.\\nLos reembolsos al Asegurado o pago al Prestador de los Gastos Médicos Razonables y Acostumbrados,\\nEfectivamente Incurridos por el Asegurado, serán efectuados por la Compañía Aseguradora hasta el Monto\\nMáximo de Gastos Reembolsables por asegurado y de acuerdo a los términos, porcentajes, límites y topes\\nde reembolso por gasto o por asegurado; límites y topes de montos en dinero por atención o prestación;\\nlímites y topes según sea el porcentaje de bonificación o reembolso entregado por el sistema de salud\\nprevisional privado o estatal al que se encuentre afiliado o adherido el Asegurado; límites y topes por\\npatologías y rangos etarios; establecido para cada Gasto incluido en las coberturas contratadas y/o para\\ncada cobertura contratada, todo lo que se detalla en el Cuadro de Coberturas de las Condiciones\\nParticulares de la Póliza.\\nLa Compañía Aseguradora reembolsará al Asegurado o pagará al Prestador los Gastos Médicos\\nRazonables y Acostumbrados, efectivamente incurridos por el Asegurado, respecto del Accidente, como\\ncomplemento de lo que le cubra el sistema previsional o de salud al que se encuentre afiliado o adherido,\\nIsapres, Fonasa, Cajas de Previsión, Departamentos o Servicios de Bienestar, el Seguro Obligatorio de\\nAccidentes Personales establecido en la Ley Nº 18.490, las Cajas de Compensación de Asignación Familiar\\ny otros Seguros de Salud contratados en favor del Asegurado por otras instituciones, públicas o privadas. \\nEn caso de contar con Isapre, el reembolso de la prestación será del saldo total remanente teniendo como\\nlímite el monto estipulado en las condiciones particulares. En caso de contar con cualquier otro sistema\\nprevisional de salud o en la ausencia de estos, se exigirá un copago mínimo del valor de la prestación segúnlo establecido en las condiciones particulares de la póliza, debiendo así la compañía aseguradora pagar lo\\ncorrespondiente al remanente de los gastos descritos y cubiertos de la presente póliza, con tope el valor\\nindicado en las condiciones particulares.\\nEl Monto Máximo de Gastos Reembolsables se define en el Artículo 4°, numeral 24 de estas Condiciones\\nGenerales y establecerá en las Condiciones particulares de la Póliza, se aplicará a cada Asegurado durante\\ncada período de vigencia del contrato de seguro. Asimismo, si la suma de los reembolsos de gastos\\nrealizados a un asegurado o pagado al Prestador, alcanza el Monto Máximo de Gastos Reembolsables\\ndurante cada período de vigencia del contrato de seguro o vencido el Período de Duración de Reembolso, lo\\nque ocurra primero, el asegurado no tendrá derecho a reembolso alguno ni pago al Prestador por el período\\nque reste para el término de su vigencia en este contrato de seguro.\\nEl Período de Duración de Reembolso, que se define en el Artículo 4°, numeral 27 de estas Condiciones\\nGenerales y cuya extensión se determina en las Condiciones Particulares de la Póliza, es contado desde la\\nfecha de ocurrencia de un Accidente, durante el cual los gastos originados en dicho plazo serán\\nreembolsados al Asegurado o pagados al Prestador de conformidad a los términos de esta Póliza. Todo\\ngasto que se origine o en que se incurra con posterioridad al vencimiento del citado plazo, respecto de un\\nmismo Accidente, no será reembolsado por la compañía ni pagado al Prestador.\\nSerán de cargo del asegurador únicamente los gastos médicos relacionados con y provenientes\\nexclusivamente de:\\nA. Cobertura para Gastos Médicos de Hospitalización: Gastos Médicos provenientes de prestaciones\\nrealizadas durante una Hospitalización, efectuadas o prescritas por un médico tratante y que se detallan a\\ncontinuación:\\n1. Días cama hospitalización: Es el gasto diario por habitación, alimentación y atención general de\\nenfermería suministrada al Asegurado durante su Hospitalización. Incluye Día Cama Cuidado Intensivo e\\nIntermedio.\\n2. Servicios hospitalarios: Son los gastos por concepto de servicios de Hospital no incluidos en el Día Cama\\nde Hospitalización, tales como: salas de urgencia, derecho de pabellón, unidad de tratamiento intensivo,\\nexámenes de laboratorio y radiología, procedimientos especiales, equipos, insumos, medicamentos y otras\\nprestaciones médicas suministrados al Asegurado durante su Hospitalización, que hayan sido debidamente\\nprescritos por el Médico tratante como necesarios para el tratamiento de la Lesión.\\n3. Honorarios médicos quirúrgicos: Son los honorarios de médicos, paramédicos y arsenaleras que\\nIntervengan en una Operación Quirúrgica al Asegurado.\\n4. Prótesis Quirúrgicas: Son los gastos por concepto de prótesis fijas o removibles requeridos a\\nconsecuencia de una intervención quirúrgica.\\n5. Cirugía dental por accidente: El tratamiento de lesiones a los dientes naturales del Asegurado proveniente\\no a causa de un Accidente y que sea efectuado por un médico cirujano maxilofacial o un odontólogo. El\\ntratamiento incluye también el reemplazo de dichas piezas dentales accidentadas.\\n6. Servicio de Ambulancia Terrestre: Es el traslado terrestre del Asegurado hasta y hacia el Hospital en una\\nambulancia, en los términos, condiciones, porcentajes y límites establecidos para este beneficio que se\\nindicarán en el Cuadro de Coberturas de las Condiciones Particulares de la Póliza.\\nB. Cobertura para Gastos Médicos Ambulatorios: Gastos Médicos Ambulatorios provenientes de\\nprestaciones realizadas en forma ambulatoria o sin Hospitalización, efectuadas o prescritas por un médico\\ntratante y que se detallan expresamente a continuación:\\n1. Cirugía Ambulatoria: Es aquella cirugía que no requiere de una Hospitalización. \\n2. Consultas Médicas: Es el tiempo en que el paciente está junto al profesional en un espacio determinado\\n(el consultorio ubicado en cualquiera de las instalaciones de el o los prestadores de salud que el asegurador\\ndetermine), mientras el médico brinda su parecer y recomienda los pasos a seguir.\\n3. Exámenes de Laboratorio: Son los gastos por concepto de la exploración complementaria solicitada al\\nlaboratorio clínico por un médico para confirmar o descartar un diagnóstico.\\n4. Radiografías: Es aquella imagen registrada en una placa fotográfica sensible a los rayos X. Estos rayos\\natraviesan el cuerpo humano en distintos grados según la densidad de los tejidos.\\n5. Imagenología: Es el conjunto de técnicas y procedimientos usados para crear imágenes del cuerpo\\nhumano o partes de él, con propósitos clínicos y diagnósticos.\\n6. Ultrasonografía: Es aquella técnica de imagen basada en la diferente capacidad de los tejidos para reflejaro refractar las ondas de ultrasonido emitidas por un equipo. Dichas ondas son emitidas y detectadas por un\\nequipo que, mediante la codificación, en un plano, de los diferentes puntos de reflexión generados por el\\ntejido, los representa en una imagen en gama de grises, de forma proporcional a la intensidad de la\\nreflexión, según su frecuencia y el tiempo en que son detectados.\\n7. Medicina Nuclear: es la rama de la medicina que emplea los isótopos radiactivos, las radiaciones\\nnucleares, las variaciones electromagnéticas de los componentes del núcleo atómico y técnicas biofísicas\\nafines, para la prevención, diagnóstico, terapéutica e investigación médica.\\n8. Procedimientos de diagnóstico y terapéuticos: Procedimientos por los cuales se identifica una lesión.\\nCorresponden a su vez al conjunto de medios cuya finalidad es la curación o el alivio (paliación) de las\\nlesiones.\\n', metadata={'file': 'POL120190177.pdf', 'policy_header': 'PÓLIZA DE ACCIDENTES PERSONALES / REEMBOLSO GASTOS MÉDICOS', 'article_title': 'ARTÍCULO 2º: COBERTURA Y MATERIA ASEGURADA'}),\n",
       " Document(page_content='ARTÍCULO 3°: LIMITACIONES DE LAS COBERTURAS\\nSin perjuicio de los términos, porcentajes, límites y topes de reembolso que se establezcan en el Cuadro de\\nCoberturas de las Condiciones Particulares de la Póliza. Ésta última contempla las siguientes limitaciones de\\ncobertura:\\na) En aquellos casos en que el asegurado no esté afiliado a un sistema de salud previsional, privado o\\nestatal, la compañía calculará los gastos a ser reembolsados o pagados al Prestador y sobre ellos aplicará el\\nporcentaje de reembolso o pago al prestador que se indica para estos efectos en el Cuadro de Coberturas\\nde las Condiciones Particulares de la Póliza.\\nb) En aquellos casos en que el asegurado esté afiliado a un sistema de salud previsional, privado o estatal, y\\nlas prestaciones o gastos reclamados no cuenten con bonificación, aporte y/o reembolso mayor que cero (0)\\npesos en conformidad al plan o contrato de salud previsional contratado en tales instituciones, por cualquier\\ncausa que sea, la compañía calculará los gastos a ser reembolsados o pagado al Prestador y sobre ellos\\naplicará el porcentaje de reembolso o de pago al Prestador que se indica para estos efectos en el Cuadro de\\nCoberturas de las Condiciones Particulares de la Póliza.\\nc) En aquellos casos en que el asegurado esté afiliado a un sistema de salud previsional, privado o estatal y\\nlas prestaciones o gastos reclamados cuenten con una bonificación que resulte menor al porcentaje de\\nbonificación mínimo exigido como cobertura del sistema previsional de salud del asegurado, indicado en las\\nCondiciones Particulares de esta póliza, la compañía calculará los gastos a ser reembolsados o pagados al\\nPrestador y sobre ellos aplicará el porcentaje de reembolso o de pago al Prestador que se indica para estos\\nefectos en el Cuadro de Coberturas de las Condiciones de la Póliza.\\nd) En el Cuadro de Coberturas de las Condiciones Particulares de la Póliza, se podrán establecer términos,\\nporcentajes, límites y topes de reembolso o pago al Prestador diferenciando por el sistema de salud\\nprevisional al que el asegurado se encuentre afiliado, el plan contratado, el prestador médico que originó el\\ngasto, el tramo al que pertenece el beneficiario en caso de sistema de salud estatal, y/o cualquier otro\\nconcepto indicado en las Condiciones Particulares de la Póliza.\\ne) El pago al prestador o reembolso al asegurado, tendrá como límite para todas las prestaciones cubiertas\\npor esta póliza el monto definido en el Arancel del Prestador, que se indique en las condiciones particulares.\\nf) La cobertura será solamente mientras el asegurado se encuentre dentro del territorio nacional.\\nCon todo, la Compañía Aseguradora no reembolsará al Asegurado ni pagará al Prestador, más allá del gasto\\nefectivamente incurrido por el asegurado, así como tampoco más allá del Monto Máximo de Reembolso\\nindicado en el Cuadro de Coberturas de las Condiciones Particulares de la Póliza.\\n', metadata={'file': 'POL120190177.pdf', 'policy_header': 'PÓLIZA DE ACCIDENTES PERSONALES / REEMBOLSO GASTOS MÉDICOS', 'article_title': 'ARTÍCULO 3°: LIMITACIONES DE LAS COBERTURAS'}),\n",
       " Document(page_content='ARTÍCULO 4º: DEFINICIONES\\nPara los efectos de esta Póliza las siguientes expresiones tendrán el significado que se indica a\\ncontinuación:\\n1. Accidente: Corresponde a todo suceso imprevisto, involuntario, repentino y fortuito, debidamente\\nacreditado, causado por medios externos y de un modo violento que afecte al organismo del Asegurado,\\nocasionándole una o más lesiones que se manifiesten por contusiones o heridas visibles y también los casos\\nde inmersión y lesiones internas reveladas por los exámenes correspondientes. Se considera como un\\naccidente las consecuencias que puedan resultar al tratar de salvar vidas humanas. Se considera comoaccidente las consecuencias provenientes de infecciones piogénicas que sean consecuencia de una herida,\\ncortadura o amputación accidental.\\nNo se considera como accidente el suicidio, los ataques cardíacos, ataques epilépticos, enfermedades\\nvasculares, accidente vascular encefálico, accidente vascular periférico, derrame cerebral, trastornos\\nmentales, desvanecimientos o sonambulismo, infecciones virales o bacterianas, o cualesquiera otras\\nenfermedades, ni los hechos o sucesos que sean consecuencia de lo anterior y que afecten al organismo del\\nAsegurado. Tampoco se consideran como accidentes aquellos sucesos sobrevenidos a consecuencia de\\ntratamientos médicos, fisioterapéuticos, quirúrgicos o anestésicos.\\n2. Alta Hospitalaria: Se considera el momento en que el médico tratante determine que los cuidados del\\npaciente no requieren necesariamente de hospitalización.\\n3. Arancel del Prestador: Documento que contiene los precios vigentes del Prestador y de Honorarios\\nMédicos vigentes en el Prestador. En caso de que alguna prestación exceda dichos aranceles, la compañía\\naseguradora reembolsará de acuerdo con estos aranceles y cualquier diferencia será de costo del\\nAsegurado.\\nEste Arancel forma parte integrante del contrato de seguro y se encuentra disponible en las oficinas de\\nAtención de Clientes de la Compañía.\\n4. Asegurado: Es aquel a quien afecta el riesgo que se transfiere al asegurador. Para obtener la cobertura de\\nesta Póliza, el asegurado debe ser persona natural; cumplir con los requisitos de asegurabilidad, edad\\nmínima de ingreso y edad máxima de permanencia establecidos en las en las Condiciones Particulares de la\\npóliza, distinguiéndose entre:\\na) Asegurado Titular: Es el contratante de la Póliza, a menos que se indique lo contrario en las Condiciones\\nParticulares de la Póliza.\\nb) Asegurado Dependiente: Es el (la) cónyuge o el (la) conviviente y/o los hijos del asegurado titular, cuya\\nincorporación ha sido solicitada por este último y aceptada expresamente por la Compañía Aseguradora y se\\nencuentre individualizado(a) en las Condiciones Particulares de la Póliza.\\nCuando en esta Póliza se utilice el término \"asegurado\", sin indicar si se trata de asegurado titular o\\ndependiente, se deberá entender que dicho término abarca y comprende tanto al asegurado titular como al\\nasegurado dependiente.\\n5. Cirugía y Tratamientos Dentales y Maxilofaciales: todos aquellos tratamientos efectuados en piezas\\ndentales y por afecciones de tipo esquelético articulares temporo-mandibulares.\\n6. Compañía Aseguradora o Compañía: Compañía de Seguros que toma de su cuenta el riesgo.\\n7. Contratante, Contrayente o Tomador: El que celebra el contrato con la Compañía Aseguradora y sobre\\nquien recaen, en general, las obligaciones y cargas del contrato, excepto las que por disposiciones de este\\ncontrato o su naturaleza deben ser cumplidas por el Asegurado si se tratara de una persona distinta. El\\ncontratante se indica como tal en las Condiciones Particulares de la Póliza.\\n8. Cuadro de Coberturas: Corresponde al detalle de todas las coberturas, servicios o prestaciones que\\notorga esta Póliza y se entiende forman parte integrante de la misma.\\n9. Deducible: Es el monto de los gastos cubiertos bajo esta Póliza, expresado en Unidades de Fomento,\\nestablecido en las Condiciones Particulares de la Póliza que siempre son de cargo del Asegurado. La\\nliquidación de los gastos se explica en el Artículo 11° y la aplicación del Deducible se detalla en el Artículo\\n12°, ambos de estas Condiciones Generales.\\n10. Diagnóstico: La constancia médica de una lesión, basada en la historia clínica del asegurado o en sus\\nrespectivos exámenes.\\n11. Enfermedad: Es un estado que se produce por la pérdida de la función de cualquier sistema u órgano,\\nque se traduce en un malestar acompañado de un conjunto de signos y síntomas que altera la función vital\\nnormal.\\nSu diagnóstico y confirmación deben ser efectuados por un Médico. Todas las consecuencias posteriores\\nrelacionadas a una enfermedad o asociadas a la misma familia de enfermedades se considerarán como una\\nmisma enfermedad.\\nLas enfermedades que se produzcan como consecuencia inmediata o directa de un tratamiento médico o\\nquirúrgico, así como sus recurrencias o recaídas, complicaciones y secuelas, se consideran como una\\nmisma enfermedad.\\nTodas las enfermedades que existan simultáneamente debidas a la misma causa o a otras relacionadas, o aenfermedades asociadas entre sí, serán consideradas como una misma enfermedad.\\n12. Enfermedades, lesiones, dolencias o situación de salud, preexistentes: Se entiende por tales aquellas\\ndiagnosticadas o conocidas por el asegurado o por quien contrata a su favor, antes de la contratación del\\nseguro.\\n13. Evento: Es la ocurrencia de un Accidente confirmado, que origina gastos por prestaciones médicas\\nhospitalarias y/o ambulatorias, derivadas directamente de tal situación, así como complicaciones\\nrelacionadas directamente o a consecuencia del Accidente, todo considerando el Período de Duración del\\nEvento. El Asegurado podrá presentar más de un Evento durante la vigencia de su cobertura en esta Póliza.\\n14. Gastos Efectivamente Incurridos: es la diferencia entre el monto total de los Gastos Médicos Razonables\\ny Acostumbrados a causa de un Evento y aquellas cantidades que sean restituidas, aportadas, bonificadas o\\nreembolsadas al Asegurado o pagadas al Prestador, por instituciones o entidades que otorguen reintegros,\\naportes, bonificaciones o reembolsos médicos y prestaciones económicas al Asegurado.\\n15. Gastos Médicos Ambulatorios: Son aquellos gastos provenientes de prestaciones realizadas en forma\\nambulatoria o sin Hospitalización, esto aun cuando el tratamiento se haya efectuado en un Hospital.\\n16. Gastos Médicos de Hospitalización: Son aquellos gastos médicos provenientes de prestaciones\\nrealizadas al Asegurado durante una Hospitalización prescrita por un Médico.\\n17. Gastos Médicos Razonables y Acostumbrados: Es el monto promedio que se cobra por prestaciones de\\ncarácter similar a los Gastos Ambulatorios y/o Gastos de Hospitalización que se solicita reembolsar o pagar\\nal prestador, en la localidad donde éstas son efectuadas a personas del mismo sexo y edad. En este análisis\\nse deberá considerar, además: (a) que sean las prestaciones que son suministradas en todos los\\nestablecimientos para el tratamiento de la Lesión y que no sean consideradas como tratamientos o estudios\\nexperimentales; (b) la característica y nivel de los tratamientos otorgados; y (c) la experiencia de las\\npersonas encargadas de la atención. Para efectos de la determinación de los Gastos Médicos Razonables y\\nAcostumbrados, la Compañía Aseguradora utilizará como referencia el arancel del Prestador en primer\\ntérmino, y los valores sugeridos por las asociaciones gremiales de los profesionales de la salud cuyo cobro\\nse esté efectuando en segundo término.\\n18. Gastos Reembolsables: Corresponden al costo efectivo de los Gastos Ambulatorios, Gastos de\\nHospitalización y Gastos por Medicamentos Ambulatorios, que son susceptibles de ser reembolsados al\\nAsegurado o pagados al Prestador en virtud de lo dispuesto en estas Condiciones Generales por constituir\\nGastos Médicos Razonables y Acostumbrados, en los términos y condiciones señalados en el Artículo 10°\\nde estas Condiciones Generales.\\n19. Hospital o Establecimiento Hospitalario: Todo establecimiento público o privado legalmente autorizado\\npor el Ministerio de Salud para el tratamiento médico de personas enfermas o lesionadas, que proporcionen\\nasistencia de enfermería las 24 horas del día y que cuenten con instalaciones y facilidades para efectuar\\ndiagnósticos e intervenciones quirúrgicas. Se excluye expresamente toda clase de hoteles, termas, asilos,\\ncasas de reposo, sanatorios particulares, domicilios particulares, casas para convalecientes o lugares\\nusados principalmente para la internación o tratamiento de enfermedades mentales y adicciones tales como\\ndrogas, tabaco y/o alcohol.\\n20. Hospitalización: Corresponde a la situación que se presenta cuando una persona está registrada como\\npaciente de un Hospital por prescripción médica, de acuerdo con la práctica común, y que utilice a lo menos,\\nun día completo de servicio de habitación, pernoctando a lo menos una noche, utilizando el servicio de\\nhabitación, alimentación y atención general de enfermería. El concepto de Hospitalización no considera, bajo\\nningún respecto, la asistencia domiciliaria.\\n21. Lesión: Para estos efectos se considerará como tal la consecuencia de toda dolencia corporal sufrida\\ncomo resultado de un Accidente que afecte al organismo del Asegurado, que presente o no síntomas\\nasociados a esa Lesión y requiera tratamiento médico. Para efectos de esta Póliza, todas las Lesiones que\\nexistan simultáneamente debidas al mismo Accidente serán consideradas como parte del mismo Evento.\\n22. Medicamento: Es todo producto farmacéutico alópata registrado como tal en el Instituto de Salud Pública\\nde Chile cuya finalidad sea tratar o mitigar directamente una Lesión. No se considera Medicamento todo\\naquel indicado para el reemplazo de alimentos, con propósito de cosmética o de higiene ni aquel que sea\\ncatalogado como producto de tratamiento experimental, homeopatía, natural y/o alternativo.\\n23. Médico: Es la persona habilitada y autorizada legalmente para practicar la medicina humana, calificada\\npara efectuar el tratamiento alópata requerido y que posee título de médico cirujano otorgado o validado poruna universidad reconocida por el Estado de Chile de acuerdo con lo dispuesto en el Código Sanitario o por\\nla autoridad de salud extranjera respectiva si la prestación o gasto médico se produjo fuera de Chile.\\n24. Monto Máximo de Gastos Reembolsables: Corresponde a la cantidad máxima, expresada en Unidades\\nde Fomento u otra moneda legalmente autorizada y que se indica en las Condiciones Particulares de la\\nPóliza, que, habiendo superado el Deducible, la compañía reembolsará al Asegurado Titular o en su defecto,\\na los herederos legales de éste, o pagará al Prestador, los Gastos Reembolsables durante la vigencia de\\neste contrato de seguro y en los términos y condiciones señalados en estas Condiciones Generales, todo lo\\nque por su naturaleza, se indica en las Condiciones Particulares de la Póliza.\\n25. Operación Quirúrgica: Es la práctica de una o más intervenciones quirúrgicas realizadas al Asegurado\\npor un Médico en un pabellón quirúrgico o en una sala de procedimiento especialmente acondicionada para\\ntal efecto en un Hospital.\\n26. Ortesis: dispositivo o aparato externo que se utiliza para sostener, alinear o prevenir deformidades, o\\nmejorar la función de partes móviles del cuerpo.\\n27. Período de Duración de Reembolso: Corresponde al plazo definido en las Condiciones Particulares de la\\nPóliza contado desde la fecha de ocurrencia de un Evento, durante el cual los gastos médicos originados por\\nel Accidente dentro de dicho plazo serán reembolsados al asegurado o pagados al prestador, de\\nconformidad a los términos de estas Condiciones Generales. Todo gasto que se origine o en que se incurra\\ncon posterioridad al vencimiento del citado plazo, respecto de un mismo Evento, no será reembolsado por la\\nCompañía Aseguradora ni pagado al Prestador.\\n28. Póliza: El documento justificativo del seguro. Se encuentra compuesto fundamentalmente por la\\npropuesta, la declaración personal de salud, las condiciones generales, condiciones particulares y las\\ndeclaraciones, informaciones y antecedentes proporcionados por el asegurado a solicitud de la Compañía\\nAseguradora. En ella se especifican las condiciones bajo las cuales rige la cobertura.\\n29. Prestador de Salud Preferente o Prestador: Es aquel establecimiento hospitalario que se individualiza\\ncomo preferente en las condiciones particulares de esta Póliza. El prestador es aquel que le cobra\\ndirectamente al Asegurado o factura los Gastos Reembolsables correspondientes del servicio que debe\\nasumir la Aseguradora.\\n30. Propuesta de Seguros: La oferta escrita de contratar el seguro, formulada al asegurador por el\\ncontratante, o por un tercero a su nombre.\\n31. Prótesis: Es un dispositivo diseñado para reemplazar una parte faltante del cuerpo o para hacer que una\\nparte del cuerpo trabaje mejor.\\n32. Riesgo Vital: Toda condición clínica que implique riesgo de muerte o de secuela funcional grave, que\\nrequiera atención de urgencia de manera inmediata e impostergable, y que corresponda a un Evento\\ncubierto por esta Póliza, diagnosticado por un médico y conformado con evidencia clínica, radiológica,\\nhistológica y de laboratorio.\\n', metadata={'file': 'POL120190177.pdf', 'policy_header': 'PÓLIZA DE ACCIDENTES PERSONALES / REEMBOLSO GASTOS MÉDICOS', 'article_title': 'ARTÍCULO 4º: DEFINICIONES'}),\n",
       " Document(page_content='ARTÍCULO 5º: EXCLUSIONES\\nLa cobertura otorgada en virtud de esta Póliza no cubre los gastos médicos que no tengan como causa un\\nEvento\\nAsimismo, la cobertura otorgada en virtud de esta Póliza no cubre los gastos susceptibles de ser\\nreembolsados cuando ellos provengan o se originen por, o sean consecuencia de, o correspondan a\\ncomplicaciones de:\\na) Lesiones o dolencias o situación de salud preexistentes. En las Condiciones Particulares de la Póliza, se\\ndeberá dejar constancia de las lesiones, dolencias o situaciones de salud preexistentes declaradas por el\\nAsegurado, las que no serán cubiertas. Sin perjuicio de lo anterior, la Compañía podrá indicar en las\\nCondiciones Particulares las condiciones en que le otorgará cobertura, debiendo en tal caso el Asegurable,\\nentregar su consentimiento a las mismas mediante declaración especial firmada por él, la cual formará parte\\nintegrante de la Póliza.\\nb) Tratamientos médicos quirúrgicos distintos de los necesarios a consecuencia de lesiones cubiertas por\\nesta póliza.\\nc) Catástrofes Naturales\\nd) Cirugías y/o tratamientos estéticos, cosméticos, plásticos, reparadores, maxilofaciales, ortopédicos y otrostratamientos que sean con fines de embellecimiento, a menos que sean necesarios para el tratamiento a\\ncausa de un accidente que ocurra mientras el Asegurado se encuentre amparado por esta Póliza.\\ne) Cirugías y/o tratamientos estéticos, cosméticos, plásticos, reparadores, dentales, maxilofaciales,\\nortopédicos y otros tratamientos para corregir malformaciones congénitas.\\nf) Lesión causada por guerra civil o internacional, sea que ésta haya sido declarada o no, invasión y\\nactividades u hostilidades de enemigos extranjeros.\\ng) Lesión causada por participación del Asegurado en rebelión, revolución, insurrección, sublevación,\\nsedición, conspiración o motín, poder militar, sabotaje, tumulto o conmoción contra el orden público, dentro y\\nfuera del país.\\nh) Lesión causada por participación del Asegurado en acto terrorista o en actos calificados por la ley como\\ndelitos. Entendiéndose por acto terrorista toda conducta calificada como tal por la ley, así como el uso de\\nfuerza o violencia o la amenaza de ésta, por parte de cualquier persona o grupo, motivado por causas\\npolíticas, religiosas, ideológicas o similares, con la intención de ejercer influencia sobre cualquier gobierno,\\natemorizar a la población o a cualquier segmento de esta.\\ni) Negligencia, imprudencia o culpa grave por parte del asegurado, incluyéndose toda lesión o enfermedad\\nocurrida a causa o con ocasión del estado de ebriedad o efectos de las drogas o alucinógenos o somníferos\\no de cualquier sustancia que produzca efectos desinhibidores, de acuerdo a la graduación establecida en la\\nlegislación vigente a la fecha del Evento, constatado mediante la documentación emanada de la autoridad u\\norganismo competente; o lesión o enfermedad causada por la conducción de cualquier vehículo o medio de\\ntransporte y la operación de cualquier maquinaria ejecutada en este estado.\\nj) Lesiones autoprovocadas, suicidio, intento de suicidio, heridas auto infringidas, abortos autoprovocados,\\nlesiones inferidas al asegurado por terceros con su consentimiento, intoxicaciones por la ingestión voluntaria\\nde somníferos, barbitúricos, drogas y demás sustancias de efectos análogos o similares y de cualquier lesión\\nderivada de dicha ingestión; cualquiera sea la época en que ocurra ya sea estando en su pleno juicio o\\nenajenado mentalmente.\\nk) Todo tipo de exámenes dentales, extracciones, empastes y tratamiento dental, prótesis y órtesis y\\ntratamiento maxilofaciales en general siempre que no estén incluidos dentro de lo definido en Cirugía Dental\\npor Accidente descrita en el Artículo 2°, letra A, numeral 5 de estas Condiciones Generales. \\nl) Cirugía ocular para la corrección de los vicios de refracción, cualquiera sea su técnica, lentes o anteojos\\nópticos.\\nm) Aparatos auditivos, implante coclear y otras tecnologías que se desarrollen para corregir alguna\\nalteración de los sentidos.\\nn) Cualquier tipo de prótesis y órtesis incluidas las prótesis maxilofaciales. Salvo las consignadas en el\\nArtículo 2°, letra A, numeral 4, de estas Condiciones Generales.\\no) La atención particular de enfermería fuera del hospital e intrahospitalaria.\\np) Gastos por acompañantes, mientras el Asegurado se encuentre hospitalizado, incluyendo alojamiento,\\ncomida y similares.\\nq) Lesión a consecuencia de la ocupación del asegurado, cubierta por la legislación de Accidentes de\\nTrabajo y Enfermedades Profesionales.\\nr) Lesión a consecuencia de la práctica de cualquier actividad objetivamente riesgosa, cuando no haya sido\\ninformado a la compañía y aceptado explícitamente por ésta al momento de contratar esta Póliza o durante\\nsu vigencia. A vía de ejemplo y sin ser restrictivos en su enumeración, se considera riesgoso: el manejo de\\nexplosivos; minería subterránea; trabajo o deporte o actividad en altura superior a 20 metros o en líneas de\\nalta tensión; inmersión submarina a más de 20 metros de profundidad; andar en lancha, moto o cuadrimoto o\\nmotocicleta, como conductor o pasajero; carreras de auto; montañismo sobre 3.000 metros del nivel del mar;\\ncarreras de caballo u otro deporte que involucre equinos; ski dentro y fuera de canchas o pistas habilitadas;\\nPráctica de deporte de alto contacto, como rugby, artes marciales y/o boxeo; así como los conocidos como\\ndeportes extremos tales como parapente, benji, canopy, paracaidismo, alas delta u otros del mismo género y\\nen general aquellas actividades que requieren el uso de protecciones y medidas especiales de seguridad\\npara garantizar la integridad física de quien lo practica.\\ns) Lesión a consecuencia de la práctica como deportista profesional de alto rendimiento según la Ley\\n19.712., cuando no haya sido informado a la compañía y aceptado explícitamente por ésta al momento de\\ncontratar esta Póliza o durante su vigencia.t) Eventos que sean consecuencia del viaje o vuelo en vehículo aéreo de cualquier clase realizados en forma\\nhabitual o regular por el asegurado, como pasajero o piloto, excepto como pasajero en uno operado por una\\nempresa de transporte aéreo comercial reconocida por I.A.T.A., sobre una ruta establecida para el transporte\\nde pasajeros sujeto a itinerario.\\nu) Lesión causada por prestación de servicios del asegurado en las Fuerzas Armadas o funciones policiales\\nde cualquier tipo incluyendo las funciones de policía civil y gendarmería.\\nv) Adquisición o arriendo de equipos, tales como: sillas de rueda, camas médicas, ventiladores mecánicos,\\netc.\\nw) Tratamientos efectuados a través de medios de medicina alternativa, tales como: acupuntura, iriólogos,\\nreflexología, quiropraxia, y otros similares.\\nx) Gastos de exámenes y procedimientos a través de nuevas tecnologías no reconocidas por el Sistema de\\nSalud Previsional, los cuales serán cubiertos siempre que exista un pronunciamiento de la Compañía\\nAseguradora y de Fonasa en ese sentido.\\ny) Evaluaciones o tratamientos por terapia ocupacional.\\nz) Gastos de comunicación como llamadas de larga distancia y a teléfonos celulares.\\nLas exclusiones precedentes, relativas a gastos que provengan o se originen por determinadas prestaciones\\ny servicios médicos, no tendrán aplicación, cuando los porcentajes y límites de reembolso o pago de dichos\\ngastos se encuentren expresamente indicados en las Condiciones Particulares de la Póliza.\\n', metadata={'file': 'POL120190177.pdf', 'policy_header': 'PÓLIZA DE ACCIDENTES PERSONALES / REEMBOLSO GASTOS MÉDICOS', 'article_title': 'ARTÍCULO 5º: EXCLUSIONES'}),\n",
       " Document(page_content='ARTÍCULO 6°: OBLIGACIONES DEL ASEGURADO\\nEl Asegurado, conforme al artículo 524 del Código de Comercio, está obligado a:\\n1. Declarar sinceramente todas las circunstancias que solicite el asegurador para identificar la cosa\\nasegurada y apreciar la extensión de los riesgos;\\n2. Informar, a requerimiento del Asegurador, sobre la existencia de otros seguros que amparen el mismo\\nobjeto;\\n3. Pagar la prima en la forma y época pactadas;\\n4. Notificar al asegurador, tan pronto sea posible una vez tomado conocimiento, de la ocurrencia de\\ncualquier hecho que pueda constituir o constituya un siniestro, y\\n5. Acreditar la ocurrencia del siniestro denunciado, y declarar fielmente y sin reticencia, sus circunstancias y\\nconsecuencias.\\nSi el Tomador del seguro o Contratante y el Asegurado son personas distintas, corresponde al Tomador o\\nContratante el cumplimiento de las obligaciones del contrato, salvo aquellas que por su naturaleza deben ser\\ncumplidas por el Asegurado. Las obligaciones del Tomador o Contratante podrán ser cumplidas por el\\nAsegurado.\\n', metadata={'file': 'POL120190177.pdf', 'policy_header': 'PÓLIZA DE ACCIDENTES PERSONALES / REEMBOLSO GASTOS MÉDICOS', 'article_title': 'ARTÍCULO 6°: OBLIGACIONES DEL ASEGURADO'}),\n",
       " Document(page_content='ARTÍCULO 7°: DECLARACIONES DEL CONTRATANTE Y DEL ASEGURADO\\nLa Póliza se otorga en base a las declaraciones, informaciones y antecedentes proporcionados por el\\nasegurado a solicitud de la Compañía Aseguradora en cumplimiento de la obligación referida en el numeral 1\\ndel artículo anterior, las que deberán prestarse en los formularios o documentos que proporcione la\\ncompañía con tal finalidad. Para estos efectos, regirá lo dispuesto en los artículos 525 y 539 del Código de\\nComercio.\\n', metadata={'file': 'POL120190177.pdf', 'policy_header': 'PÓLIZA DE ACCIDENTES PERSONALES / REEMBOLSO GASTOS MÉDICOS', 'article_title': 'ARTÍCULO 7°: DECLARACIONES DEL CONTRATANTE Y DEL ASEGURADO'}),\n",
       " Document(page_content='ARTÍCULO 8º: PRIMAS Y EFECTO DEL NO PAGO DE LA PRIMA\\nLa prima es la retribución o precio del seguro, cuyo monto se determina en las Condiciones Particulares de\\nla Póliza.\\nLos cambios en el monto de la prima estarán expresamente indicados en las Condiciones Particulares de la\\nPóliza. Su monto podrá ser fijo o ir variando según la edad del Asegurado Titular y el número de Asegurados\\nDependientes cubiertos por esta Póliza.\\na) Pago de Primas:\\nLa periodicidad de pago de las primas de este seguro podrá ser mensual, trimestral, semestral o anual,\\nsegún se señale en las Condiciones Particulares de la Póliza, y deberán ser pagadas a más tardar, el últimodía hábil del mes de inicio del período a que corresponden.\\nEl contratante del seguro deberá pagar durante la vigencia del seguro, la prima por el monto, condiciones y\\nforma de pago que se detallan en las Condiciones Particulares de la Póliza, en las oficinas de la Compañía\\nAseguradora o en lugares que éste designe, todo ello, sin perjuicio de otros mecanismos de pago o\\ndescuento que el asegurador podrá poner a disposición del contratante para facilitar el pago.\\nLa obligación de pagar la prima en la forma y época pactadas le corresponderá al contratante o al\\nasegurado, según se especifica en las Condicione Particulares de la Póliza.\\nEl pago de la prima deberá efectuarse de tal manera que la compañía Aseguradora pueda identificar\\naquellos Asegurado que efectivamente están pagando la prima correspondiente a su o sus coberturas\\ncontratadas y de la forma determinada en las condiciones particulares.\\nLas primas se entenderán pagadas cuando hayan sido efectivamente percibidas por la Compañía\\nAseguradora.\\nLa Compañía Aseguradora no será responsable por las omisiones o faltas de diligencia que no le sean\\nimputables y que produzcan atraso en el pago de la prima, aunque éste se efectúe mediante algún cargo o\\ndescuento convenido. En caso de no poder hacerse el cargo pactado en el medio de pago señalado por el\\nAsegurado, la prima correspondiente se considerará no pagada, generándose el efecto que se indica en el\\npárrafo siguiente.\\nb) Efecto del No pago de la prima:\\nLa falta de pago de la prima producirá la terminación del contrato a la expiración del plazo de quince días\\n(15) contado desde la notificación que, conforme al Artículo 21° de estas Condiciones Generales, dirija la\\nCompañía Aseguradora al Asegurado y dará derecho al asegurador para exigir que se le pague la prima\\ndevengada hasta la fecha de terminación y los gastos de formalización del contrato.\\nProducida la terminación, la responsabilidad del asegurador por los siniestros posteriores cesará de pleno\\nderecho, sin necesidad de declaración judicial alguna.\\n', metadata={'file': 'POL120190177.pdf', 'policy_header': 'PÓLIZA DE ACCIDENTES PERSONALES / REEMBOLSO GASTOS MÉDICOS', 'article_title': 'ARTÍCULO 8º: PRIMAS Y EFECTO DEL NO PAGO DE LA PRIMA'}),\n",
       " Document(page_content='ARTÍCULO 9º: DENUNCIA DE SINIESTRO \\nEn caso que el Asegurado, a causa de un Evento, incurra en un gasto susceptible de ser reembolsado o\\npagado al Prestador en virtud de esta Póliza, el asegurado deberá notificar el Evento a la compañía\\naseguradora, tan pronto sea posible una vez efectivamente incurrido en el Gasto Reembolsable, lo cual no\\npodrá ser mayor a 30 días corridos, de acuerdo a los procedimientos y a través de los medios que la\\ncompañía aseguradora ponga a su disposición, las que se indican en las Condiciones Particulares de la\\nPóliza.\\nEl plazo máximo para que la Compañía Aseguradora acepte a tramitación un Gasto Médico presentado para\\nsu reembolso por el asegurado o por quien él designe para este efecto, será definido en las Condiciones\\nParticulares de la Póliza y será contado desde la fecha de emisión del documento que da cuenta del Gasto\\nReembolsable.\\nSon antecedentes necesarios de entregar a la compañía para acreditar el Evento y la ocurrencia de gastos\\nsusceptibles de ser reembolsados o pagados al Prestador a causa de dicho Evento, los siguientes:\\na) Formulario proporcionado por la compañía, con toda la información que en él se indique, suscrito por el\\nAsegurado y por el médico tratante, cuando corresponda.\\nb) Declaración del Asegurado respecto del sistema previsional o de salud al que se encuentre afiliado o\\nadherido, Isapres, Fonasa, cajas de previsión, departamentos o servicios de bienestar, el Seguro Obligatorio\\nde Accidentes Personales establecido en la Ley Nº 18.490, las Cajas de Compensación de Asignación\\nFamiliar, otros Seguros de Salud contratados en favor del Asegurado por otras instituciones, públicas o\\nprivadas, u otros seguros contratados en forma individual por él, que contemplen algún aporte,\\nindemnización, reembolso o bonificación, a favor del Asegurado, efectuado o por efectuar, respecto de los\\ngastos susceptibles de ser reembolsados o pagados al Prestador.\\nc) Originales de recibos, boletas y facturas cuando corresponda, copia de bonos, copia de órdenes de\\natención, copia de programas médicos u otros documentos extendidos a nombre del Asegurado que den\\ncuenta del gasto incurrido y su pago. Asimismo, el Asegurado deberá presentar a la compañía los\\ndocumentos que den cuenta de cualquier aporte, indemnización, reembolso o bonificación, efectuado o por\\nefectuar en favor de él, por instituciones o entidades, públicas o privadas, a las que pertenezca elAsegurado, y que otorguen beneficios médicos o prestaciones económicas al Asegurado.\\nEl Asegurado está obligado a acreditar la ocurrencia del siniestro denunciado y por ello debe proporcionar a\\nla Compañía los antecedentes médicos y exámenes, como también aquellos documentos legales\\nnecesarios, que se relacionen directamente con el Evento denunciado al objeto de acreditar a satisfacción\\nde la Compañía que ha ocurrido un Evento cubierto por este Póliza y determinar su monto. En el mismo\\nsentido, la Compañía Aseguradora podrá solicitar la realización de las pericias y exámenes médicos. El\\nasegurado deberá requerir de sus médicos tratantes y/o Instituciones de Salud, incluido el Instituto de Salud\\nPública de Chile, los antecedentes que ellos posean y que sean necesarios para la acreditación del Evento\\ndenunciado o autorizar a la Compañía Aseguradora o al liquidador de seguro, para efectuar tal\\nrequerimiento, todo con el objeto de acreditar el Evento denunciado y los gastos consecuentes.\\nQueda expresamente establecido que el asegurado deberá prestar los consentimientos y autorizaciones que\\nel asegurador estime convenientes para efectos de permitir la evaluación y liquidación del siniestro conforme\\na la normativa aplicable.\\nEn el caso que se hubiere contratado más de un seguro que cubra la misma materia, interés y riesgo, al\\ndenunciar el siniestro el Asegurado debe comunicar a todos los aseguradores con quienes hubiere\\ncontratado, los otros seguros que lo cubran, de acuerdo con el Artículo 556 del Código de Comercio.\\n', metadata={'file': 'POL120190177.pdf', 'policy_header': 'PÓLIZA DE ACCIDENTES PERSONALES / REEMBOLSO GASTOS MÉDICOS', 'article_title': 'ARTÍCULO 9º: DENUNCIA DE SINIESTRO '}),\n",
       " Document(page_content='ARTÍCULO 10°: CALCULO DE LOS GASTOS REEMBOLSABLES\\nEl Asegurado, conforme al Artículo 9°, letra b), deberá declarar en su denuncia de siniestro sobre el sistema\\nprevisional o de salud al que se encuentre afiliado o adherido, Isapres, Fonasa, cajas de previsión,\\ndepartamentos o servicios de bienestar, el Seguro Obligatorio de Accidentes Personales establecido en la\\nLey Nº 18.490, las Cajas de Compensación de Asignación Familiar, otros Seguros de Salud contratados en\\nfavor del Asegurado por otras instituciones, públicas o privadas, u otros seguros contratados en forma\\nindividual por él, que contemplen algún aporte, indemnización, reembolso o bonificación, a favor del\\nAsegurado, efectuado o por efectuar, respecto de los gastos susceptibles de ser reembolsados o pagados al\\nPrestador.\\nPara los efectos de esta Póliza, el procedimiento de cálculo de los Gastos Reembolsables considerará\\núnicamente los Gastos Efectivamente Incurridos, esto es, la diferencia entre el monto total de los Gastos\\nMédicos Razonables y Acostumbrados a causa de un Evento y aquellas cantidades que sean restituidas,\\naportadas, bonificadas o reembolsadas al Asegurado por instituciones o entidades a las que se refiere el\\npárrafo anterior y que otorguen reintegros, aportes, bonificaciones o reembolsos médicos y prestaciones\\neconómicas al Asegurado.\\nQueda expresamente establecido que las coberturas de esta Póliza no se duplicarán con los beneficios o\\ncoberturas de cualquier otro seguro, sistema o institución que otorgue beneficios médicos, y al cual\\npertenezca el asegurado, de manera que esta Póliza no cubrirá los gastos médicos que deben pagar o\\nreintegrar las empresas, bienestar, el Seguro Obligatorio de Accidentes Personales establecido en la Ley Nº\\n18.490, instituciones médicas o similares que otorguen tales beneficios o coberturas.\\n', metadata={'file': 'POL120190177.pdf', 'policy_header': 'PÓLIZA DE ACCIDENTES PERSONALES / REEMBOLSO GASTOS MÉDICOS', 'article_title': 'ARTÍCULO 10°: CALCULO DE LOS GASTOS REEMBOLSABLES'}),\n",
       " Document(page_content='ARTÍCULO 11°: LIQUIDACIÓN DE LOS GASTOS, FORMA DE PAGO Y MONTO MÁXIMO DE GASTOS\\nREEMBOLSABLES\\nLa compañía reembolsará al Asegurado Titular que haya incurrido en los gastos a causa de un Evento o, en\\nsu defecto, a los herederos legales de éste conforme lo determina la ley, o pagará al Prestador, los Gastos\\nReembolsables de acuerdo a los porcentajes que se señalan en las Condiciones Particulares de la Póliza,\\nen la medida que tales gastos hayan sido incurridos dentro del Período de Duración de Reembolso, siempre\\nhasta el Monto Máximo de Gastos Reembolsables, y que dichos gastos excedan el Deducible indicado en el\\nArtículo 12° de estas Condiciones Generales.\\nPresentados los documentos que acrediten los gastos efectivamente incurridos por el Asegurado, la\\nCompañía Aseguradora efectuará el análisis de los antecedentes respectivos y, en caso de ser procedente\\npor cumplirse las condiciones exigidas en esta Póliza, efectuará, previa liquidación correspondiente, el pago\\nde los Gastos Reembolsables al Asegurado o el pago al Prestador. El reembolso al Asegurado o pago\\ndirecto al Prestador que corresponda se efectuará en las oficinas principales de la Compañía Aseguradora al\\nrespectivo asegurado o prestador de salud.\\nEl Monto Máximo de Gastos Reembolsables se indica en las Condiciones Particulares de la Póliza y seaplicará por Asegurado durante la vigencia de su cobertura en esta Póliza. Una vez alcanzado el Monto\\nMáximo de Gastos Reembolsables o vencido el Período de Duración de Reembolso, lo que ocurra primero,\\nterminará la obligación de la compañía para con el Asegurado en relación con el Evento cubierto.\\nLa Compañía sólo reembolsará o pagará al prestador, el porcentaje y límite señalado en las Condiciones\\nParticulares de la Póliza, por los Gastos Efectivamente Incurridos por el asegurado en la medida que tales\\ngastos excedan el deducible que se hubiere estipulado.\\nPara la aplicación de los porcentajes de reembolso o de pago al Prestador establecidos en el Cuadro de\\nCoberturas contenido en las Condiciones Particulares de la Póliza, se atenderá a las siguientes situaciones\\nen que se encuentre el Asegurado afectado por el Evento:\\na) En aquellos casos en que el Asegurado no esté afiliado a un sistema de salud previsional, privado o\\nestatal, la compañía calculará los gastos a ser reembolsados o pagados al Prestador y sobre ellos aplicará el\\nporcentaje de reembolso o de pago al Prestador que se indica en el Cuadro de Coberturas contenido en las\\nCondiciones Particulares de la Póliza. \\nb) El mismo procedimiento de la letra a) precedente, se aplicará respecto de aquellos Asegurados que,\\nestando afiliados a un sistema de salud previsional, privado o estatal, los gastos efectivamente incurridos por\\nél no cuenten con bonificación, aporte y/o reembolso mayor que cero (0) peso en tales instituciones.\\nc) En aquellos casos en que el Asegurado esté afiliado a un sistema de salud previsional, privado o estatal, y\\nlos gastos efectivamente incurridos por él cuenten con bonificación, aporte y/o reembolso mayor que cero (0)\\npeso, en tales instituciones, la compañía determinará los gastos susceptibles de ser reembolsados o\\npagados al Prestador y sobre la parte de dichos gastos que no han sido objeto de bonificación, aporte y/o\\nreembolso por tales instituciones, aplicará el porcentaje de reembolso o de pago al Prestador que se indica\\nen el Cuadro de Coberturas contenido en las Condiciones Particulares de la Póliza.\\nEl pago al Prestador o de los eventuales reembolsos se efectuará siempre y cuando se dé íntegro\\ncumplimiento a los términos y condiciones establecidos en estas Condiciones Generales.\\nEn caso de requerirse mayores antecedentes sobre la procedencia y monto a reembolsar o a pagar al\\nPrestador, la Compañía dispondrá la liquidación del siniestro conforme al procedimiento de liquidación\\nestablecido en el D.S. N° 1055, de 2012, sobre Reglamento de los Auxiliares del Comercio de Seguros, u\\notro que lo modifique.\\nEn caso de que los gastos cuya cobertura se esté solicitando, se hubieren efectuado en moneda extranjera,\\nel reembolso al Asegurado o pago al Prestador se hará en su equivalencia en moneda nacional, según el\\ntipo de cambio oficial vendedor que exista a la fecha de pago, conforme al procedimiento establecido en el\\nTitulo II de la Ley N° 18.010.\\n', metadata={'file': 'POL120190177.pdf', 'policy_header': 'PÓLIZA DE ACCIDENTES PERSONALES / REEMBOLSO GASTOS MÉDICOS', 'article_title': 'ARTÍCULO 11°: LIQUIDACIÓN DE LOS GASTOS, FORMA DE PAGO Y MONTO MÁXIMO DE GASTOS'}),\n",
       " Document(page_content='ARTÍCULO 12°: APLICACIÓN DEL DEDUCIBLE\\nLas Condiciones Particulares de la Póliza podrán establecer deducibles por Evento, por Asegurado, por la\\nedad de éste y según el porcentaje de reembolso sobre el monto total de los Gastos Médicos que realice\\ncualquiera institución pública o privada del sistema previsional o de salud al que el Asegurado se encuentre\\nafiliado o adherido, indicando su monto expresado en Unidades de Fomento.\\nLa aplicación del Deducible se sujetará al siguiente procedimiento: 1°) Determinación del monto de los\\nGastos Reembolsables cubiertos por esta Póliza; 2°) Aplicación de los porcentajes de reembolso o de pago\\nal Prestador que se indica en el Cuadro de Coberturas contenido en las Condiciones Particulares de la\\nPóliza y/o en la propuesta de seguros sobre el monto determinado conforme al número anterior; y 3°) Al\\nmonto resultante de la operación anterior se le aplicará el monto del Deducible.\\nEn los casos en que, el monto del Deducible se determine por la edad que tenga el Asegurado al momento\\nde ocurrencia del Evento, monto de Deducible quedará fijo para dicho Evento por todo el Período de\\nDuración del Reembolso del Evento, según se indica en las Condiciones de la Póliza.\\nLa Compañía Aseguradora podrá establecer montos diferenciados de Deducible para ciertas lesiones, y\\npodrá establecer deducibles diferenciados y situaciones exentas de pago de deducibles asociadas al pago\\nde primas adicionales circunstancia que será especificada en las Condiciones Particulares de la Póliza.\\n', metadata={'file': 'POL120190177.pdf', 'policy_header': 'PÓLIZA DE ACCIDENTES PERSONALES / REEMBOLSO GASTOS MÉDICOS', 'article_title': 'ARTÍCULO 12°: APLICACIÓN DEL DEDUCIBLE'}),\n",
       " Document(page_content='ARTÍCULO 13°: VIGENCIA Y DURACIÓN DEL CONTRATO DE SEGURO\\nLa vigencia de las coberturas contempladas en las presentes Condiciones Generales, así como la de lascoberturas adicionales que se contraten en conjunto, si las hubiere, se iniciará en la fecha indicada en las\\nCondiciones Particulares de la Póliza, tendrá la duración señalada en las mismas Condiciones Particulares,\\ny podrá ser renovada por el lapso, condiciones y prima que autorice el Contratante.\\nTerminada la vigencia del contrato, sea anticipada o no, cesará toda responsabilidad de la compañía\\naseguradora sobre los riesgos que asume y ésta no tendrá obligación alguna respecto de los siniestros que\\nocurran con posterioridad a esa fecha.\\n', metadata={'file': 'POL120190177.pdf', 'policy_header': 'PÓLIZA DE ACCIDENTES PERSONALES / REEMBOLSO GASTOS MÉDICOS', 'article_title': 'ARTÍCULO 13°: VIGENCIA Y DURACIÓN DEL CONTRATO DE SEGURO'}),\n",
       " Document(page_content='ARTÍCULO 14°: INCORPORACIÓN DE ASEGURADOS E INICIO DE LA VIGENCIA DE LA COBERTURA\\nINDIVIDUAL\\nSi durante la vigencia del seguro, un Asegurado Titular deseare incorporar a nuevos asegurados\\ndependientes, deberá solicitarlo a la Compañía de Seguros. Para los efectos de incorporarse como\\nasegurados, los nuevos dependientes deberán someterse a la evaluación y calificación de su estado de\\nsalud presentando para estos efectos una declaración de salud, documentos accesorios o complementarios,\\nrealizarse exámenes médicos, de laboratorio y someterse a reconocimiento médico, todo cuando\\ncorresponda, de acuerdo a los requisitos de asegurabilidad indicados en las Condiciones Particulares de la\\nPóliza y ser aceptados por la Compañía de Seguros, en cuyo caso la fecha de inicio de vigencia de las\\ncoberturas y el correspondiente cobro de prima para el o los nuevos asegurados dependientes se iniciará el\\ndía primero del me siguiente de la fecha de aceptación por parte de la Compañía de Seguros u otra que se\\nindique en las Condiciones Particulares de la Póliza.\\nEn caso de ser aceptada la solicitud, la Compañía Aseguradora cubrirá el riesgo a partir de la fecha de\\naceptación del nuevo Asegurado y notificará dicha circunstancia a la Asegurada Titular.\\n', metadata={'file': 'POL120190177.pdf', 'policy_header': 'PÓLIZA DE ACCIDENTES PERSONALES / REEMBOLSO GASTOS MÉDICOS', 'article_title': 'ARTÍCULO 14°: INCORPORACIÓN DE ASEGURADOS E INICIO DE LA VIGENCIA DE LA COBERTURA'}),\n",
       " Document(page_content='ARTÍCULO 15°: TERMINACIÓN DEL CONTRATO\\nLa cobertura de esta Póliza, y la de sus cláusulas adicionales, si las hubiere terminará para todos los\\nAsegurados:\\na) Al vencimiento del plazo establecido para su duración en las Condiciones Particulares de la Póliza.\\nb) A las 24:00 horas del día en que el asegurado cumpla la edad máxima de permanencia establecida en las\\nCondiciones Particulares de la Póliza;\\nc) Por efecto del no pago de la prima, en los términos señalados en el Artículo 8°;\\nd) Por fallecimiento del Asegurado Titular;\\ne) Por incurrir cualquiera de los Asegurados en el delito de fraude al seguro, tipificado en el Artículo 470, N°\\n10 del Código Penal.\\nf) En caso de que la moneda o unidad estipulada dejare de existir y el contratante no aceptare la nueva\\nunidad propuesta por la Compañía Aseguradora, según lo establecido en el Artículo 17° siguiente.\\nAsimismo, el contrato de seguro terminará anticipadamente respecto de un Asegurado Dependiente, en las\\nsiguientes circunstancias:\\ng) Cuando deje de cumplir los requisitos de asegurabilidad y/o cuando cumpla la edad máxima de\\npermanencia establecidos en las Condiciones Particulares de la póliza;\\nh) Cuando el Contratante o Asegurado Titular lo elimine de la póliza.\\ni) Por no pago de prima correspondiente al Asegurado Dependiente, en los términos señalados en el artículo\\n8º letra b) de estas Condiciones Generales.\\nj) Por fallecimiento del Asegurado Dependiente;\\nEl término anticipado de la Póliza, como efecto del no pago de la prima se regulará conforme a lo\\nestablecido en el artículo 528 del Código de Comercio. Si la terminación se produjera como consecuencia de\\ncualquiera de las restantes causales, o como consecuencia de la voluntad propia del Asegurado, se estará a\\nlo dispuesto en el artículo 537 del mismo cuerpo legal. En cualquiera de los casos precedentes, terminada la\\nvigencia de la póliza, cesará la cobertura del seguro respecto del o los asegurados afectados por la causal\\nde terminación de que se trate, cesando las obligaciones de la Compañía respecto de los eventos que\\nocurran con posterioridad a esa fecha.\\n', metadata={'file': 'POL120190177.pdf', 'policy_header': 'PÓLIZA DE ACCIDENTES PERSONALES / REEMBOLSO GASTOS MÉDICOS', 'article_title': 'ARTÍCULO 15°: TERMINACIÓN DEL CONTRATO'}),\n",
       " Document(page_content='ARTÍCULO 16º: AJUSTE DE LA PRIMAEn el evento que, con motivo de una renovación de póliza, las primas sufran una modificación en su monto\\ndistinta a los cambios por tramo de edad preestablecidos y señalados en las Condiciones Particulares de la\\nPóliza, la Compañía de Seguros informará por escrito al contratante de la póliza sobre esta circunstancia,\\ncon una anticipación de a lo menos sesenta (60) días a la fecha de renovación de la Póliza. El contratante\\ntendrá el derecho a aceptar o renunciar a la renovación de la Póliza, lo cual deberá informar por escrito a la\\nCompañía Aseguradora en un plazo de treinta (30) días, contados desde la recepción de la comunicación en\\nque se propone su renovación.\\n', metadata={'file': 'POL120190177.pdf', 'policy_header': 'PÓLIZA DE ACCIDENTES PERSONALES / REEMBOLSO GASTOS MÉDICOS', 'article_title': 'ARTÍCULO 16º: AJUSTE DE LA PRIMAEn el evento que, con motivo de una renovación de póliza, las primas sufran una modificación en su monto'}),\n",
       " Document(page_content='ARTÍCULO 17°: MONEDA O UNIDAD DEL CONTRATO\\nEl capital asegurado y el monto de la prima se expresarán en moneda extranjera, en unidades de fomento u\\notra unidad reajustable autorizada por la Superintendencia de Valores y Seguros, que se establezca en las\\nCondiciones Particulares de la Póliza.\\nEl valor de la unidad de fomento o de la unidad reajustable señalada en las Condiciones Particulares de la\\nPóliza, que se considerará para el pago de prima, coberturas y beneficios, será el vigente al momento de su\\npago efectivo.\\nEn el evento que no se determinare el valor de la unidad de fomento por la autoridad competente, el\\nasegurador podrá modificar la reajustabilidad del presente contrato a la unidad que la Superintendencia de\\nValores y Seguros determine conforme al Artículo 10 del D.F.L. 251, de Hacienda, de 1931.\\nSi la moneda o unidad estipulada dejare de existir, se aplicará en su lugar aquella que oficialmente la\\nreemplace, a menos que el contratante no aceptare la nueva unidad y lo comunicare así a la Compañía\\nAseguradora dentro de los treinta (30) días siguientes a la notificación que ésta le hiciere sobre el cambio de\\nunidad, en cuyo caso se producirá la terminación anticipada del contrato.\\nLa nueva unidad determinada por la Superintendencia de Valores y Seguros regirá provisoriamente para\\ntodos los efectos de este contrato, entre la fecha de la resolución que la apruebe y la indicada en los incisos\\nprecedentes.\\n', metadata={'file': 'POL120190177.pdf', 'policy_header': 'PÓLIZA DE ACCIDENTES PERSONALES / REEMBOLSO GASTOS MÉDICOS', 'article_title': 'ARTÍCULO 17°: MONEDA O UNIDAD DEL CONTRATO'}),\n",
       " Document(page_content='ARTICULO 18°: REHABILITACIÓN DE LA PÓLIZA\\nProducida la terminación anticipada de la Póliza o la terminación de la cobertura para un Asegurado en\\nparticular por no pago de prima, podrá el Contratante O Asegurado Titular solicitar por escrito su\\nrehabilitación dentro de los tres meses siguientes a la fecha de la terminación anticipada.\\nA tal efecto, deberá acreditar que todos los Asegurados que sean rehabilitados reúnan las condiciones y\\nrequisitos de asegurabilidad a satisfacción de la Compañía Aseguradora y pagar toda la prima vencida.\\nLa sola entrega a la Compañía Aseguradora del valor de la prima vencida no producirá el efecto de\\nrehabilitar las coberturas de cada Asegurado o de la Póliza, en su caso, si previamente no ha habido\\naceptación escrita de la Compañía Aseguradora a la solicitud de rehabilitación presentada por el\\nContratante. El rechazo de la solicitud sólo generará la obligación de la Compañía Aseguradora de devolver\\nla prima recibida por este concepto, sin responsabilidad ulterior.\\n', metadata={'file': 'POL120190177.pdf', 'policy_header': 'PÓLIZA DE ACCIDENTES PERSONALES / REEMBOLSO GASTOS MÉDICOS', 'article_title': 'ARTICULO 18°: REHABILITACIÓN DE LA PÓLIZA'}),\n",
       " Document(page_content='ARTÍCULO 19º: CONTRIBUCIONES E IMPUESTOS \\nLos impuestos que se establezcan durante la vigencia de la Póliza y que afecten al presente contrato, serán\\nde cargo del asegurado, salvo que por ley fuesen del cargo de la Compañía Aseguradora.\\n', metadata={'file': 'POL120190177.pdf', 'policy_header': 'PÓLIZA DE ACCIDENTES PERSONALES / REEMBOLSO GASTOS MÉDICOS', 'article_title': 'ARTÍCULO 19º: CONTRIBUCIONES E IMPUESTOS '}),\n",
       " Document(page_content='ARTÍCULO 20º: COMUNICACIÓN ENTRE LAS PARTES\\nCualquier comunicación, declaración notificación que deba efectuar la Compañía Aseguradora al\\nContratante o el Asegurado con motivo de esta Póliza, deberá efectuarse a su dirección de correo\\nelectrónico u otro medio electrónico indicada en las Condiciones Particulares de la Póliza, salvo que éste no\\ndispusiere de correo electrónico o se opusiere a esa forma de notificación. La forma de notificación, como la\\nposibilidad de oponerse a la comunicación vía correo electrónico, deberá ser comunicada por cualquier\\nmedio que garantice su debido y efectivo conocimiento por el asegurado, o estipulada en las condicionesparticulares de esta Póliza. En caso de oposición, de desconocerse su correo electrónico o de recibir una\\nconstancia de que dicho correo no fue enviado o recibido exitosamente, las comunicaciones deberán\\nefectuarse mediante el envío de carta certificada dirigida a su domicilio señalado en las Condiciones de la\\nPóliza o en la solicitud de seguro respectiva.\\nLas notificaciones efectuadas vía correo electrónico se entenderán realizadas al día hábil siguiente de\\nhaberse enviado éstas, en tanto que las notificaciones hechas por carta certificada se entenderán realizadas\\nal tercer día hábil siguiente al ingreso a correo de la carta, según el timbre que conste en el sobre respectivo.\\n', metadata={'file': 'POL120190177.pdf', 'policy_header': 'PÓLIZA DE ACCIDENTES PERSONALES / REEMBOLSO GASTOS MÉDICOS', 'article_title': 'ARTÍCULO 20º: COMUNICACIÓN ENTRE LAS PARTES'}),\n",
       " Document(page_content='ARTÍCULO 21º: SOLUCIÓN DE CONTROVERSIAS\\nCualquier dificultad que se suscite entre el (los)asegurado(s), el contratante o el beneficiario, según\\ncorresponda, y el asegurador, sea en relación con la validez o ineficacia del contrato de seguro de que da\\ncuenta esta Póliza, o con motivo de la interpretación o aplicación de sus Condiciones Generales o\\nParticulares, su cumplimiento o incumplimiento, o sobre la procedencia o el monto de una indemnización\\nreclamada al amparo del mismo, será resuelta en los términos establecidos en el Artículo 543 del Código de\\nComercio.\\nNo obstante lo anterior, el asegurado podrá por sí solo y en cualquier momento, someter al arbitraje de la\\nSuperintendencia de Valores y Seguros las dificultades que se susciten con la Compañía Aseguradora\\ncuando el monto de los daños reclamados no sea superior a 120 Unidades de Fomento, de conformidad a lo\\ndispuesto en la letra i) del artículo 3º del Decreto con Fuerza de Ley Nº 251, de Hacienda, de 1931.\\n', metadata={'file': 'POL120190177.pdf', 'policy_header': 'PÓLIZA DE ACCIDENTES PERSONALES / REEMBOLSO GASTOS MÉDICOS', 'article_title': 'ARTÍCULO 21º: SOLUCIÓN DE CONTROVERSIAS'}),\n",
       " Document(page_content='ARTÍCULO 22º: CLÁUSULAS ADICIONALES\\nLas cláusulas adicionales que se contraten en forma accesoria con esta Póliza complementan o amplían la\\ncobertura establecida en ella, se regirán en todo lo no previsto en el texto de éstas por lo dispuesto en estas\\nCondiciones Generales.\\n', metadata={'file': 'POL120190177.pdf', 'policy_header': 'PÓLIZA DE ACCIDENTES PERSONALES / REEMBOLSO GASTOS MÉDICOS', 'article_title': 'ARTÍCULO 22º: CLÁUSULAS ADICIONALES'}),\n",
       " Document(page_content='ARTÍCULO 23°: DOMICILIO\\nPara todos los efectos legales del presente contrato de seguro, las partes señalan como domicilio especial el\\nque aparece detallado con tal carácter en las Condiciones Particulares de la Póliza.\\n ', metadata={'file': 'POL120190177.pdf', 'policy_header': 'PÓLIZA DE ACCIDENTES PERSONALES / REEMBOLSO GASTOS MÉDICOS', 'article_title': 'ARTÍCULO 23°: DOMICILIO'})]"
      ]
     },
     "execution_count": 2,
     "metadata": {},
     "output_type": "execute_result"
    }
   ],
   "source": [
    "documents"
   ]
  },
  {
   "cell_type": "raw",
   "metadata": {},
   "source": [
    "\"\"\"\n",
    "Notas y conclusiones:\n",
    "\n",
    "- [0]: POL120190177.pdf y [2]: POL320150503.pdf y [3]: POL320180100.pdf parecen iguales\n",
    "- [1]: POL320130223.pdf y [5]: POL320200071.pdf error de patron\n",
    "- [4]: POL320190074.pdf error en la numeracion de los articulos\n",
    "- [7]: POL320200214.pdf falta el articulo 9\n",
    "\n",
    "\"\"\";"
   ]
  },
  {
   "cell_type": "code",
   "execution_count": 79,
   "metadata": {},
   "outputs": [
    {
     "name": "stdout",
     "output_type": "stream",
     "text": [
      "POL320150503.pdf\n"
     ]
    },
    {
     "data": {
      "text/plain": [
       "['ARTÍCULO 1°: REGLAS APLICABLES AL CONTRATO',\n",
       " 'ARTÍCULO 2º: COBERTURA Y MATERIA ASEGURADA',\n",
       " 'ARTÍCULO 3°: LIMITACIONES DE LAS COBERTURAS',\n",
       " 'ARTÍCULO 4º: DEFINICIONES',\n",
       " 'ARTÍCULO 5º: EXCLUSIONES',\n",
       " 'ARTÍCULO 6°: OBLIGACIONES DEL ASEGURADO',\n",
       " 'ARTÍCULO 7°: DECLARACIONES DEL CONTRATANTE Y DEL ASEGURADO',\n",
       " 'ARTÍCULO 8º: PRIMAS Y EFECTO DEL NO PAGO DE LA PRIMA',\n",
       " 'ARTÍCULO 9º: DENUNCIA DE SINIESTROS',\n",
       " 'ARTÍCULO 10°: CALCULO DE LOS GASTOS REEMBOLSABLES',\n",
       " 'ARTICULO 11°: LIQUIDACION DE LOS GASTOS, FORMA DE PAGO Y MONTO MAXIMO DE GASTOS',\n",
       " 'ARTÍCULO 12°: APLICACION DEL DEDUCIBLE',\n",
       " ' ARTÍCULO 13°: VIGENCIA Y DURACIÓN DEL CONTRATO DE SEGURO',\n",
       " 'ARTÍCULO 14°: INCORPORACIÓN DE ASEGURADOS E INICIO DE LA VIGENCIA DE LA COBERTURA',\n",
       " 'ARTÍCULO 15°: TERMINACIÓN DEL CONTRATO',\n",
       " ' ARTÍCULO 16º: AJUSTE DE LA PRIMA',\n",
       " 'ARTÍCULO 17°: MONEDA O UNIDAD DEL CONTRATO',\n",
       " 'ARTICULO 18°: REHABILITACION DE LA PÓLIZA',\n",
       " 'ARTÍCULO 19º: CONTRIBUCIONES E IMPUESTOS',\n",
       " 'ARTÍCULO 20º: COMUNICACIÓN ENTRE LAS PARTES',\n",
       " 'ARTÍCULO 21º: SOLUCIÓN DE CONTROVERSIAS',\n",
       " 'ARTÍCULO 22º: CLÁUSULAS ADICIONALES',\n",
       " 'ARTÍCULO 23°: DOMICILIO']"
      ]
     },
     "execution_count": 79,
     "metadata": {},
     "output_type": "execute_result"
    }
   ],
   "source": [
    "file_n = 2\n",
    "selected_file = os.path.join(DOWNLOAD_PATH, pdf_files[file_n])\n",
    "print(selected_file.split(\"\\\\\")[-1])\n",
    "extract_patterns(selected_file, pattern)"
   ]
  },
  {
   "cell_type": "markdown",
   "metadata": {},
   "source": [
    "# func 2"
   ]
  },
  {
   "cell_type": "code",
   "execution_count": 73,
   "metadata": {},
   "outputs": [
    {
     "data": {
      "text/plain": [
       "[['ARTÍCULO 1°: REGLAS APLICABLES AL CONTRATO',\n",
       "  'ARTÍCULO 2º: COBERTURA Y MATERIA ASEGURADA'],\n",
       " [],\n",
       " ['ARTÍCULO 3°: LIMITACIONES DE LAS COBERTURAS', 'ARTÍCULO 4º: DEFINICIONES'],\n",
       " [],\n",
       " [],\n",
       " ['ARTÍCULO 5º: EXCLUSIONES'],\n",
       " [],\n",
       " ['ARTÍCULO 6°: OBLIGACIONES DEL ASEGURADO',\n",
       "  'ARTÍCULO 7°: DECLARACIONES DEL CONTRATANTE Y DEL ASEGURADO',\n",
       "  'ARTÍCULO 8º: PRIMAS Y EFECTO DEL NO PAGO DE LA PRIMA'],\n",
       " ['ARTÍCULO 9º: DENUNCIA DE SINIESTRO '],\n",
       " ['ARTÍCULO 10°: CALCULO DE LOS GASTOS REEMBOLSABLES',\n",
       "  'ARTÍCULO 11°: LIQUIDACIÓN DE LOS GASTOS, FORMA DE PAGO Y MONTO MÁXIMO DE GASTOS'],\n",
       " ['ARTÍCULO 12°: APLICACIÓN DEL DEDUCIBLE',\n",
       "  'ARTÍCULO 13°: VIGENCIA Y DURACIÓN DEL CONTRATO DE SEGURO'],\n",
       " ['ARTÍCULO 14°: INCORPORACIÓN DE ASEGURADOS E INICIO DE LA VIGENCIA DE LA COBERTURA',\n",
       "  'ARTÍCULO 15°: TERMINACIÓN DEL CONTRATO',\n",
       "  'ARTÍCULO 16º: AJUSTE DE LA PRIMA'],\n",
       " ['ARTÍCULO 17°: MONEDA O UNIDAD DEL CONTRATO',\n",
       "  'ARTICULO 18°: REHABILITACIÓN DE LA PÓLIZA',\n",
       "  'ARTÍCULO 19º: CONTRIBUCIONES E IMPUESTOS ',\n",
       "  'ARTÍCULO 20º: COMUNICACIÓN ENTRE LAS PARTES'],\n",
       " ['ARTÍCULO 21º: SOLUCIÓN DE CONTROVERSIAS',\n",
       "  'ARTÍCULO 22º: CLÁUSULAS ADICIONALES',\n",
       "  'ARTÍCULO 23°: DOMICILIO']]"
      ]
     },
     "execution_count": 73,
     "metadata": {},
     "output_type": "execute_result"
    }
   ],
   "source": [
    "import os\n",
    "from utils.config import DOWNLOAD_PATH\n",
    "\n",
    "\n",
    "file_n = 0\n",
    "pdf_files = os.listdir(DOWNLOAD_PATH)\n",
    "selected_file = os.path.join(DOWNLOAD_PATH, pdf_files[file_n])\n",
    "pattern = \"ART.CULO\\s\\d+.+:\"\n",
    "\n",
    "# func2\n",
    "from eda_tools.pdf_file_tools import extract_patterns_per_page\n",
    "\n",
    "results = extract_patterns_per_page(selected_file, pattern, extend=False)\n",
    "results"
   ]
  },
  {
   "cell_type": "markdown",
   "metadata": {},
   "source": [
    "# Experiment for EnsambleRetriever"
   ]
  },
  {
   "cell_type": "code",
   "execution_count": 52,
   "metadata": {},
   "outputs": [],
   "source": [
    "# Important for EnsambleRetriever\n",
    "\n",
    "def distribute_weights(string_list):\n",
    "    # Calculate the total length of all strings\n",
    "    total_length = sum(len(string) for string in string_list)\n",
    "    \n",
    "    # Calculate the weights of each string\n",
    "    weights = [len(string) / total_length for string in string_list]\n",
    "    \n",
    "    # Normalize the weights so that the sum is 1\n",
    "    sum_weights = sum(weights)\n",
    "    normalized_weights = [weight / sum_weights for weight in weights]\n",
    "    \n",
    "    return normalized_weights\n",
    "\n"
   ]
  },
  {
   "cell_type": "code",
   "execution_count": 53,
   "metadata": {},
   "outputs": [
    {
     "data": {
      "text/plain": [
       "[0.09855313092979125,\n",
       " 0.0,\n",
       " 0.08467741935483869,\n",
       " 0.0,\n",
       " 0.0,\n",
       " 0.038780834914611,\n",
       " 0.0,\n",
       " 0.14622865275142313,\n",
       " 0.05230075901328272,\n",
       " 0.1042457305502846,\n",
       " 0.06973434535104363,\n",
       " 0.092623339658444,\n",
       " 0.1979364326375711,\n",
       " 0.11491935483870964]"
      ]
     },
     "execution_count": 53,
     "metadata": {},
     "output_type": "execute_result"
    }
   ],
   "source": [
    "distribute_weights(results)"
   ]
  }
 ],
 "metadata": {
  "kernelspec": {
   "display_name": "venv",
   "language": "python",
   "name": "python3"
  },
  "language_info": {
   "codemirror_mode": {
    "name": "ipython",
    "version": 3
   },
   "file_extension": ".py",
   "mimetype": "text/x-python",
   "name": "python",
   "nbconvert_exporter": "python",
   "pygments_lexer": "ipython3",
   "version": "3.10.3"
  }
 },
 "nbformat": 4,
 "nbformat_minor": 2
}
