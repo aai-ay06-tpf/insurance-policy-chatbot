{
 "cells": [
  {
   "cell_type": "markdown",
   "metadata": {},
   "source": [
    "# Feature 1: feature by files"
   ]
  },
  {
   "cell_type": "code",
   "execution_count": 3,
   "metadata": {},
   "outputs": [],
   "source": [
    "import pickle\n",
    "\n",
    "with open(\"file_feature.pkl\", \"rb\") as f:\n",
    "    feature_files = pickle.load(f)"
   ]
  },
  {
   "cell_type": "code",
   "execution_count": 4,
   "metadata": {},
   "outputs": [
    {
     "data": {
      "text/plain": [
       "[Document(page_content='PÓLIZA DE SEGURO PARA PRESTACIONES MÉDICAS DERIVADAS DE ACCIDENTE REGLAS APLICABLES AL CONTRATO COBERTURA Y MATERIA ASEGURADA LIMITACIONES DE LAS COBERTURAS DEFINICIONES EXCLUSIONES OBLIGACIONES DEL ASEGURADO DECLARACIONES DEL CONTRATANTE Y DEL ASEGURADO PRIMAS Y EFECTO DEL NO PAGO DE LA PRIMA DENUNCIA DE SINIESTROS CALCULO DE LOS GASTOS REEMBOLSABLES LIQUIDACION DE LOS GASTOS, FORMA DE PAGO Y MONTO MAXIMO DE GASTOS APLICACION DEL DEDUCIBLE INCORPORACIÓN DE ASEGURADOS E INICIO DE LA VIGENCIA DE LA COBERTURA TERMINACIÓN DEL CONTRATO MONEDA O UNIDAD DEL CONTRATO REHABILITACION DE LA PÓLIZA CONTRIBUCIONES E IMPUESTOS COMUNICACIÓN ENTRE LAS PARTES SOLUCIÓN DE CONTROVERSIAS CLÁUSULAS ADICIONALES DOMICILIO', metadata={'file': 'POL320150503', 'policy_header': 'PÓLIZA DE SEGURO PARA PRESTACIONES MÉDICAS DERIVADAS DE ACCIDENTE'}),\n",
       " Document(page_content='PÓLIZA DE SEGURO PARA PRESTACIONES MÉDICAS DERIVADAS DE REGLAS APLICABLES AL CONTRATO COBERTURA Y MATERIA ASEGURADA LIMITACIONES DE LAS COBERTURAS DEFINICIONES EXCLUSIONES OBLIGACIONES DEL ASEGURADO DECLARACIONES DEL CONTRATANTE Y DEL ASEGURADO PRIMAS Y EFECTO DEL NO PAGO DE LA PRIMA DENUNCIA DE SINIESTROS CALCULO DE LOS GASTOS REEMBOLSABLES LIQUIDACION DE LOS GASTOS, FORMA DE PAGO Y MONTO MAXIMO DE GASTOS APLICACION DEL DEDUCIBLE VIGENCIA Y DURACIÓN DEL CONTRATO DE SEGURO INCORPORACIÓN DE ASEGURADOS E INICIO DE LA VIGENCIA DE LA COBERTURA TERMINACIÓN DEL CONTRATO AJUSTE DE LA PRIMA MONEDA O UNIDAD DEL CONTRATO REHABILITACION DE LA PÓLIZA CONTRIBUCIONES E IMPUESTOS COMUNICACIÓN ENTRE LAS PARTES SOLUCIÓN DE CONTROVERSIAS CLÁUSULAS ADICIONALES DOMICILIO', metadata={'file': 'POL320180100', 'policy_header': 'PÓLIZA DE SEGURO PARA PRESTACIONES MÉDICAS DERIVADAS DE'}),\n",
       " Document(page_content='SEGURO PARA PRESTACIONES MÉDICAS DE ALTO COSTO REGLAS APLICABLES AL CONTRATO COBERTURA DEFINICIONES. EXCLUSIONES. CARENCIA OBLIGACIONES DEL ASEGURADO DECLARACIONES DEL ASEGURADO PRIMAS Y EFECTOS DEL NO PAGO DE LAS PRIMAS BENEFICIARIOS DENUNCIA DE SINIESTROS VIGENCIA Y TERMINACIÓN COMUNICACIÓN ENTRE LAS PARTES SOLUCIÓN DE CONTROVERSIAS CLAUSULAS ADICIONALES DOMICILIO CLÁUSULAS APLICABLES REGLAS APLICABLES AL CONTRATO OBLIGACIONES DEL ASEGURADO DECLARACIONES DEL ASEGURADO COBERTURA Y MATERIA ASEGURADA DEFINICIONES EXCLUSIONES DENUNCIA DE SINIESTROS TERMINACIÓN', metadata={'file': 'POL320190074', 'policy_header': 'SEGURO PARA PRESTACIONES MÉDICAS DE ALTO COSTO'}),\n",
       " Document(page_content='SEGURO PARA PRESTACIONES MÉDICAS DE ALTO COSTO REGLAS APLICABLES AL CONTRATO COBERTURA DEFINICIONES EXCLUSIONES DEDUCIBLE COPAGO OBLIGACIONES DEL ASEGURADO DECLARACIONES DEL ASEGURADO AGRAVACIÓN DEL RIESGO PRIMAS Y EFECTOS DEL NO PAGO DE LAS PRIMAS DENUNCIA DE SINIESTROS VIGENCIA MODIFICACIONES A LA PÓLIZA PAÍS DE RESIDENCIA COMUNICACIÓN ENTRE LAS PARTES SOLUCIÓN DE CONTROVERSIAS CLÁUSULAS ADICIONALES DOMICILIO', metadata={'file': 'POL320200214', 'policy_header': 'SEGURO PARA PRESTACIONES MÉDICAS DE ALTO COSTO'}),\n",
       " Document(page_content='SEGURO PARA PRESTACIONES MÉDICAS DE ALTO COSTO REGLAS APLICABLES AL CONTRATO COBERTURA DEFINICIONES. EXCLUSIONES. CARENCIA OBLIGACIONES DEL ASEGURADO DECLARACIONES DEL ASEGURADO PRIMAS Y EFECTOS DEL NO PAGO DE LAS PRIMAS BENEFICIARIOS DENUNCIA DE SINIESTROS VIGENCIA Y TERMINACIÓN COMUNICACIÓN ENTRE LAS PARTES SOLUCIÓN DE CONTROVERSIAS CLAUSULAS ADICIONALES DOMICILIO', metadata={'file': 'POL320210210', 'policy_header': 'SEGURO PARA PRESTACIONES MÉDICAS DE ALTO COSTO'}),\n",
       " Document(page_content='SEGURO COLECTIVO COMPLEMENTARIO DE SALUD  COBERTURA DEFINICIONES MONTO MÁXIMO DE REEMBOLSO DUPLICACIÓN DE BENEFICIOS EXCLUSIONES RIESGOS CUBIERTOS BAJO ESTIPULACIÓN EXPRESA BENEFICIARIOS PRIMAS Y EFECTO DEL NO PAGO DE LAS PRIMAS DENUNCIO DE SINIESTRO VIGENCIA Y TERMINACIÓN DE DE LA PÓLIZA INCORPORACIÓN DE NUEVOS ASEGURADOS MONEDA O UNIDAD DE LA PÓLIZA COMUNICACIONES SOLUCIÓN DE CONTROVERSIAS DOMICILIO CLÁUSULAS ADICIONALES', metadata={'file': 'POL320130223', 'policy_header': 'SEGURO COLECTIVO COMPLEMENTARIO DE SALUD '})]"
      ]
     },
     "execution_count": 4,
     "metadata": {},
     "output_type": "execute_result"
    }
   ],
   "source": [
    "feature_files\n",
    "\n",
    "client = QdrantClient(...)\n",
    "\n",
    "qdrant = Qdrant(client, embeddings)\n",
    "\n",
    "retriever = qdrant.as_retriever(k=2, search_type=\"mmr\")\n",
    "\n",
    "retriever.invoke(\"PRESTACIONES ALTO COSTO\")"
   ]
  },
  {
   "cell_type": "code",
   "execution_count": 7,
   "metadata": {},
   "outputs": [
    {
     "name": "stdout",
     "output_type": "stream",
     "text": [
      "('PÓLIZA DE SEGURO PARA PRESTACIONES MÉDICAS DERIVADAS DE ACCIDENTE REGLAS '\n",
      " 'APLICABLES AL CONTRATO COBERTURA Y MATERIA ASEGURADA LIMITACIONES DE LAS '\n",
      " 'COBERTURAS DEFINICIONES EXCLUSIONES OBLIGACIONES DEL ASEGURADO DECLARACIONES '\n",
      " 'DEL CONTRATANTE Y DEL ASEGURADO PRIMAS Y EFECTO DEL NO PAGO DE LA PRIMA '\n",
      " 'DENUNCIA DE SINIESTROS CALCULO DE LOS GASTOS REEMBOLSABLES LIQUIDACION DE '\n",
      " 'LOS GASTOS, FORMA DE PAGO Y MONTO MAXIMO DE GASTOS APLICACION DEL DEDUCIBLE '\n",
      " 'INCORPORACIÓN DE ASEGURADOS E INICIO DE LA VIGENCIA DE LA COBERTURA '\n",
      " 'TERMINACIÓN DEL CONTRATO MONEDA O UNIDAD DEL CONTRATO REHABILITACION DE LA '\n",
      " 'PÓLIZA CONTRIBUCIONES E IMPUESTOS COMUNICACIÓN ENTRE LAS PARTES SOLUCIÓN DE '\n",
      " 'CONTROVERSIAS CLÁUSULAS ADICIONALES DOMICILIO')\n"
     ]
    }
   ],
   "source": [
    "from pprint import pprint\n",
    "\n",
    "pprint(feature_files[0].page_content)"
   ]
  },
  {
   "cell_type": "code",
   "execution_count": 9,
   "metadata": {},
   "outputs": [
    {
     "name": "stdout",
     "output_type": "stream",
     "text": [
      "{'file': 'POL320150503',\n",
      " 'policy_header': 'PÓLIZA DE SEGURO PARA PRESTACIONES MÉDICAS DERIVADAS DE '\n",
      "                  'ACCIDENTE'}\n"
     ]
    }
   ],
   "source": [
    "pprint(feature_files[0].metadata)"
   ]
  },
  {
   "cell_type": "code",
   "execution_count": null,
   "metadata": {},
   "outputs": [],
   "source": []
  },
  {
   "cell_type": "markdown",
   "metadata": {},
   "source": [
    "# Verifying the serialized features"
   ]
  },
  {
   "cell_type": "code",
   "execution_count": 29,
   "metadata": {},
   "outputs": [],
   "source": [
    "import os, pickle\n",
    "from eda_tools.pdf_file_tools import extract_text\n",
    "\n",
    "from utils.config import DOWNLOAD_PATH, FEATURES_PATH\n",
    "\n",
    "pdf_files = os.listdir(DOWNLOAD_PATH)\n",
    "selected_file = os.path.join(DOWNLOAD_PATH, pdf_files[0])\n",
    "extract_text(selected_file)\n",
    "\n",
    "feature_files = os.listdir(FEATURES_PATH)\n",
    "selected_feature = os.path.join(FEATURES_PATH, \"feature_files.pkl\")\n",
    "selected_feature\n",
    "\n",
    "with open(selected_feature, \"rb\") as f:\n",
    "    feature_files = pickle.load(f)"
   ]
  },
  {
   "cell_type": "code",
   "execution_count": 30,
   "metadata": {},
   "outputs": [
    {
     "data": {
      "text/plain": [
       "[Document(page_content='póliza de seguro para prestaciones médicas derivadas de accidente y enfermedad reglas aplicables al contrato cobertura y materia asegurada limitaciones de las coberturas definiciones exclusiones obligaciones del asegurado declaraciones del contratante y del asegurado primas y efecto del no pago de la prima denuncia de siniestros calculo de los gastos reembolsables liquidacion de los gastos, forma de pago y monto maximo de gastos aplicacion del deducible incorporación de asegurados e inicio de la vigencia de la cobertura terminación del contrato moneda o unidad del contrato rehabilitacion de la póliza contribuciones e impuestos comunicación entre las partes solución de controversias cláusulas adicionales domicilio', metadata={'file': 'POL320150503'}),\n",
       " Document(page_content='póliza de seguro para prestaciones médicas derivadas de hospitalización quirúrgica de emergencia reglas aplicables al contrato cobertura y materia asegurada limitaciones de las coberturas definiciones exclusiones obligaciones del asegurado declaraciones del contratante y del asegurado primas y efecto del no pago de la prima denuncia de siniestros calculo de los gastos reembolsables liquidacion de los gastos, forma de pago y monto maximo de gastos aplicacion del deducible vigencia y duración del contrato de seguro incorporación de asegurados e inicio de la vigencia de la cobertura terminación del contrato ajuste de la prima moneda o unidad del contrato rehabilitacion de la póliza contribuciones e impuestos comunicación entre las partes solución de controversias cláusulas adicionales domicilio', metadata={'file': 'POL320180100'}),\n",
       " Document(page_content='seguro para prestaciones médicas de alto costo reglas aplicables al contrato cobertura definiciones. exclusiones. carencia obligaciones del asegurado declaraciones del asegurado primas y efectos del no pago de las primas beneficiarios denuncia de siniestros vigencia y terminación comunicación entre las partes solución de controversias clausulas adicionales domicilio cláusulas aplicables reglas aplicables al contrato obligaciones del asegurado declaraciones del asegurado cobertura y materia asegurada definiciones exclusiones denuncia de siniestros terminación', metadata={'file': 'POL320190074'}),\n",
       " Document(page_content='seguro para prestaciones médicas de alto costo reglas aplicables al contrato cobertura definiciones exclusiones deducible copago obligaciones del asegurado declaraciones del asegurado agravación del riesgo primas y efectos del no pago de las primas denuncia de siniestros vigencia modificaciones a la póliza país de residencia comunicación entre las partes solución de controversias cláusulas adicionales domicilio', metadata={'file': 'POL320200214'}),\n",
       " Document(page_content='seguro para prestaciones médicas de alto costo reglas aplicables al contrato cobertura definiciones. exclusiones. carencia obligaciones del asegurado declaraciones del asegurado primas y efectos del no pago de las primas beneficiarios denuncia de siniestros vigencia y terminación comunicación entre las partes solución de controversias clausulas adicionales domicilio', metadata={'file': 'POL320210210'})]"
      ]
     },
     "execution_count": 30,
     "metadata": {},
     "output_type": "execute_result"
    }
   ],
   "source": [
    "feature_files"
   ]
  },
  {
   "cell_type": "code",
   "execution_count": null,
   "metadata": {},
   "outputs": [],
   "source": []
  },
  {
   "cell_type": "code",
   "execution_count": null,
   "metadata": {},
   "outputs": [],
   "source": []
  },
  {
   "cell_type": "code",
   "execution_count": 42,
   "metadata": {},
   "outputs": [],
   "source": [
    "#Random test\n",
    "\n",
    "import os, pickle\n",
    "\n",
    "file_path = \".serialized_features/feature_articles.pkl\"\n",
    "\n",
    "with open(file_path, \"rb\") as f:\n",
    "    docs = pickle.load(f)"
   ]
  },
  {
   "cell_type": "code",
   "execution_count": null,
   "metadata": {},
   "outputs": [],
   "source": []
  }
 ],
 "metadata": {
  "kernelspec": {
   "display_name": "venv",
   "language": "python",
   "name": "python3"
  },
  "language_info": {
   "codemirror_mode": {
    "name": "ipython",
    "version": 3
   },
   "file_extension": ".py",
   "mimetype": "text/x-python",
   "name": "python",
   "nbconvert_exporter": "python",
   "pygments_lexer": "ipython3",
   "version": "3.11.4"
  }
 },
 "nbformat": 4,
 "nbformat_minor": 2
}
