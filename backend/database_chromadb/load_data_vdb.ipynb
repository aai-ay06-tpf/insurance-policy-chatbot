{
 "cells": [
  {
   "cell_type": "code",
   "execution_count": 1,
   "metadata": {},
   "outputs": [],
   "source": [
    "import os\n",
    "\n",
    "PROJECT_ROOT = os.path.dirname(os.path.abspath(__file__))\n",
    "DATA_PATH = os.path.join(PROJECT_ROOT, \"database_s3\", \"queplan_insurance\")\n",
    "DB_PATH = os.path.join(PROJECT_ROOT, \"database_chromadb\", \"db\")\n",
    "\n",
    "# print(DB_PATH)\n",
    "\n",
    "from langchain.document_loaders.pdf import PyPDFDirectoryLoader\n",
    "from langchain.text_splitter import RecursiveCharacterTextSplitter"
   ]
  },
  {
   "cell_type": "code",
   "execution_count": 2,
   "metadata": {},
   "outputs": [],
   "source": [
    "from langchain.vectorstores import Chroma"
   ]
  },
  {
   "cell_type": "code",
   "execution_count": 3,
   "metadata": {},
   "outputs": [],
   "source": [
    "from langchain.embeddings import GPT4AllEmbeddings"
   ]
  },
  {
   "cell_type": "code",
   "execution_count": 4,
   "metadata": {},
   "outputs": [],
   "source": [
    "loader = PyPDFDirectoryLoader(DATA_PATH)"
   ]
  },
  {
   "cell_type": "code",
   "execution_count": 6,
   "metadata": {},
   "outputs": [],
   "source": [
    "documents = loader.load()"
   ]
  },
  {
   "cell_type": "code",
   "execution_count": 7,
   "metadata": {},
   "outputs": [
    {
     "data": {
      "text/plain": [
       "list"
      ]
     },
     "execution_count": 7,
     "metadata": {},
     "output_type": "execute_result"
    }
   ],
   "source": [
    "type(documents)"
   ]
  },
  {
   "cell_type": "code",
   "execution_count": 8,
   "metadata": {},
   "outputs": [
    {
     "data": {
      "text/plain": [
       "267"
      ]
     },
     "execution_count": 8,
     "metadata": {},
     "output_type": "execute_result"
    }
   ],
   "source": [
    "len(documents)"
   ]
  },
  {
   "cell_type": "code",
   "execution_count": 9,
   "metadata": {},
   "outputs": [
    {
     "data": {
      "text/plain": [
       "langchain_core.documents.base.Document"
      ]
     },
     "execution_count": 9,
     "metadata": {},
     "output_type": "execute_result"
    }
   ],
   "source": [
    "type(documents[0])"
   ]
  },
  {
   "cell_type": "code",
   "execution_count": 10,
   "metadata": {},
   "outputs": [
    {
     "data": {
      "text/plain": [
       "['_init_private_attributes',\n",
       " '_iter',\n",
       " '_lc_kwargs',\n",
       " 'construct',\n",
       " 'copy',\n",
       " 'dict',\n",
       " 'from_orm',\n",
       " 'get_lc_namespace',\n",
       " 'is_lc_serializable',\n",
       " 'json',\n",
       " 'lc_attributes',\n",
       " 'lc_id',\n",
       " 'lc_secrets',\n",
       " 'metadata',\n",
       " 'page_content',\n",
       " 'parse_file',\n",
       " 'parse_obj',\n",
       " 'parse_raw',\n",
       " 'schema',\n",
       " 'schema_json',\n",
       " 'to_json',\n",
       " 'to_json_not_implemented',\n",
       " 'type',\n",
       " 'update_forward_refs',\n",
       " 'validate']"
      ]
     },
     "execution_count": 10,
     "metadata": {},
     "output_type": "execute_result"
    }
   ],
   "source": [
    "dir(documents[0])[-25:]"
   ]
  },
  {
   "cell_type": "code",
   "execution_count": 11,
   "metadata": {},
   "outputs": [
    {
     "data": {
      "text/plain": [
       "{'lc': 1,\n",
       " 'type': 'constructor',\n",
       " 'id': ['langchain', 'schema', 'document', 'Document'],\n",
       " 'kwargs': {'page_content': 'PÓLIZA DE ACCIDENTES PERSONALES / REEMBOLSO GASTOS MÉDICOS\\nIncorporada al Depósito de Pólizas bajo el código POL120190177\\nARTÍCULO 1°: REGLAS APLICABLES AL CONTRATO\\nSe aplicarán al presente contrato de seguro las disposiciones contenidas en los artículos siguientes y las\\nnormas legales de carácter imperativo establecidas en el título VIII, del Libro II, del Código de Comercio. Sin\\nembargo, se entenderán válidas las estipulaciones contractuales que sean más beneficiosas para el\\nasegurado o el beneficiario.\\nARTÍCULO 2º: COBERTURA Y MATERIA ASEGURADA\\nLa Compañía Aseguradora reembolsará al asegurado o pagará directamente al prestador de salud los\\nGastos Médicos Razonables y Acostumbrados y Efectivamente Incurridos, una vez se haya otorgado y\\npagado la cobertura del sistema de salud previsional, seguros complementarios u otros beneficios\\ncontratados por el asegurado. Lo anterior, cuando al asegurado le ocurra un accidente durante la vigencia de\\nesta póliza que demande su internación hospitalaria y cuando este gasto se realice en el o los prestadores\\nde salud que el asegurador determine, durante el período de duración del Reembolso que se establezca en\\nlas Condiciones Particulares de la Póliza, que se inicia desde la fecha de ocurrencia del Accidente y que\\nsean originados por éste. Las definiciones de estos conceptos se encuentran contenidos en el artículo 4° de\\nestas Condiciones Generales.\\nLa compañía reembolsará los gastos referidos precedentemente, siempre que se cumplan copulativamente\\nlos siguientes requisitos: 1) el Accidente que los origina haya ocurrido durante la vigencia del Asegurado en\\nesta Póliza; 2) Que se haya incurrido en los gastos dentro del Período de Duración de Reembolso; 3) Que el\\nmonto de gastos supere el Deducible establecido en las Condiciones Particulares de la Póliza; 4) Que la\\nsuma de los reembolsos de gastos realizados al asegurado, durante su vigencia anual en la Póliza, no\\nsuperen el Monto Máximo de Gastos Reembolsables establecido en las Condiciones Particulares de la\\nPóliza; 5) Que estos gastos no provengan ni se originen por una causa excluida en el Artículo 5° de estas\\nCondiciones Generales; 6) Que las prestaciones médicas sean entregadas por el o los prestador(es)\\nindicados en las Condiciones Particulares de esta Póliza; 7) Que el accidente haya ocurrido dentro de\\nterritorio nacional.\\nLos reembolsos al Asegurado o pago al Prestador de los Gastos Médicos Razonables y Acostumbrados,\\nEfectivamente Incurridos por el Asegurado, serán efectuados por la Compañía Aseguradora hasta el Monto\\nMáximo de Gastos Reembolsables por asegurado y de acuerdo a los términos, porcentajes, límites y topes\\nde reembolso por gasto o por asegurado; límites y topes de montos en dinero por atención o prestación;\\nlímites y topes según sea el porcentaje de bonificación o reembolso entregado por el sistema de salud\\nprevisional privado o estatal al que se encuentre afiliado o adherido el Asegurado; límites y topes por\\npatologías y rangos etarios; establecido para cada Gasto incluido en las coberturas contratadas y/o para\\ncada cobertura contratada, todo lo que se detalla en el Cuadro de Coberturas de las Condiciones\\nParticulares de la Póliza.\\nLa Compañía Aseguradora reembolsará al Asegurado o pagará al Prestador los Gastos Médicos\\nRazonables y Acostumbrados, efectivamente incurridos por el Asegurado, respecto del Accidente, como\\ncomplemento de lo que le cubra el sistema previsional o de salud al que se encuentre afiliado o adherido,\\nIsapres, Fonasa, Cajas de Previsión, Departamentos o Servicios de Bienestar, el Seguro Obligatorio de\\nAccidentes Personales establecido en la Ley Nº 18.490, las Cajas de Compensación de Asignación Familiar\\ny otros Seguros de Salud contratados en favor del Asegurado por otras instituciones, públicas o privadas. \\nEn caso de contar con Isapre, el reembolso de la prestación será del saldo total remanente teniendo como\\nlímite el monto estipulado en las condiciones particulares. En caso de contar con cualquier otro sistema\\nprevisional de salud o en la ausencia de estos, se exigirá un copago mínimo del valor de la prestación según',\n",
       "  'metadata': {'source': 'c:\\\\Users\\\\Agustin\\\\Proyectos_2024\\\\AnyoneAI-TPF\\\\backend\\\\database_s3\\\\queplan_insurance\\\\POL120190177.pdf',\n",
       "   'page': 0}}}"
      ]
     },
     "execution_count": 11,
     "metadata": {},
     "output_type": "execute_result"
    }
   ],
   "source": [
    "documents[0].to_json()"
   ]
  },
  {
   "cell_type": "code",
   "execution_count": 13,
   "metadata": {},
   "outputs": [],
   "source": [
    "text_splitter = RecursiveCharacterTextSplitter(\n",
    "    chunk_size=1000,\n",
    "    chunk_overlap=100,\n",
    ")"
   ]
  },
  {
   "cell_type": "code",
   "execution_count": 14,
   "metadata": {},
   "outputs": [],
   "source": [
    "texts = text_splitter.split_documents(documents)"
   ]
  },
  {
   "cell_type": "code",
   "execution_count": 15,
   "metadata": {},
   "outputs": [
    {
     "data": {
      "text/plain": [
       "list"
      ]
     },
     "execution_count": 15,
     "metadata": {},
     "output_type": "execute_result"
    }
   ],
   "source": [
    "type(texts)"
   ]
  },
  {
   "cell_type": "code",
   "execution_count": 16,
   "metadata": {},
   "outputs": [
    {
     "data": {
      "text/plain": [
       "langchain_core.documents.base.Document"
      ]
     },
     "execution_count": 16,
     "metadata": {},
     "output_type": "execute_result"
    }
   ],
   "source": [
    "type(texts[0])"
   ]
  },
  {
   "cell_type": "code",
   "execution_count": 17,
   "metadata": {},
   "outputs": [
    {
     "data": {
      "text/plain": [
       "{'lc': 1,\n",
       " 'type': 'constructor',\n",
       " 'id': ['langchain', 'schema', 'document', 'Document'],\n",
       " 'kwargs': {'page_content': 'PÓLIZA DE ACCIDENTES PERSONALES / REEMBOLSO GASTOS MÉDICOS\\nIncorporada al Depósito de Pólizas bajo el código POL120190177\\nARTÍCULO 1°: REGLAS APLICABLES AL CONTRATO\\nSe aplicarán al presente contrato de seguro las disposiciones contenidas en los artículos siguientes y las\\nnormas legales de carácter imperativo establecidas en el título VIII, del Libro II, del Código de Comercio. Sin\\nembargo, se entenderán válidas las estipulaciones contractuales que sean más beneficiosas para el\\nasegurado o el beneficiario.\\nARTÍCULO 2º: COBERTURA Y MATERIA ASEGURADA\\nLa Compañía Aseguradora reembolsará al asegurado o pagará directamente al prestador de salud los\\nGastos Médicos Razonables y Acostumbrados y Efectivamente Incurridos, una vez se haya otorgado y\\npagado la cobertura del sistema de salud previsional, seguros complementarios u otros beneficios\\ncontratados por el asegurado. Lo anterior, cuando al asegurado le ocurra un accidente durante la vigencia de',\n",
       "  'metadata': {'source': 'c:\\\\Users\\\\Agustin\\\\Proyectos_2024\\\\AnyoneAI-TPF\\\\backend\\\\database_s3\\\\queplan_insurance\\\\POL120190177.pdf',\n",
       "   'page': 0}}}"
      ]
     },
     "execution_count": 17,
     "metadata": {},
     "output_type": "execute_result"
    }
   ],
   "source": [
    "texts[0].to_json()"
   ]
  },
  {
   "cell_type": "code",
   "execution_count": null,
   "metadata": {},
   "outputs": [],
   "source": []
  }
 ],
 "metadata": {
  "language_info": {
   "codemirror_mode": {
    "name": "ipython",
    "version": 3
   },
   "file_extension": ".py",
   "mimetype": "text/x-python",
   "name": "python",
   "nbconvert_exporter": "python",
   "pygments_lexer": "ipython3",
   "version": 3
  }
 },
 "nbformat": 4,
 "nbformat_minor": 2
}
