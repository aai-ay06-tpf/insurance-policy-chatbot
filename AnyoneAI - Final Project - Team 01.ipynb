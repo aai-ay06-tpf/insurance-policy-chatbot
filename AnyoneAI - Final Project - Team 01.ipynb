{
 "cells": [
  {
   "cell_type": "code",
   "execution_count": 11,
   "metadata": {},
   "outputs": [
    {
     "name": "stdout",
     "output_type": "stream",
     "text": [
      "This should not be in a Jupyter Notebook.\n",
      "database\\queplan_insurance\\POL120190177: Pages: 14, Titles: 17\n",
      "database\\queplan_insurance\\POL320130223: Pages: 47, Titles: 31\n",
      "database\\queplan_insurance\\POL320150503: Pages: 26, Titles: 17\n",
      "database\\queplan_insurance\\POL320180100: Pages: 25, Titles: 19\n",
      "database\\queplan_insurance\\POL320190074: Pages: 72, Titles: 68\n",
      "database\\queplan_insurance\\POL320200071: Pages: 25, Titles: 34\n",
      "database\\queplan_insurance\\POL320200214: Pages: 42, Titles: 44\n",
      "database\\queplan_insurance\\POL320210063: Pages: 6, Titles: 11\n",
      "database\\queplan_insurance\\POL320210210: Pages: 10, Titles: 11\n"
     ]
    }
   ],
   "source": [
    "import os\n",
    "from PyPDF2 import PdfReader\n",
    "import re\n",
    "\n",
    "\n",
    "# Get the database root directory\n",
    "try:\n",
    "    root_dir = os.path.join(os.path.dirname(__file__), 'database', 'queplan_insurance')\n",
    "except:\n",
    "    print(\"This should not be in a Jupyter Notebook.\")\n",
    "    root_dir = os.path.join(os.path.dirname('.'), 'database', 'queplan_insurance')\n",
    "\n",
    "# Get the list of PDF files in the directory\n",
    "pdf_files = [os.path.join(root_dir, file) for file in os.listdir(root_dir) if file.endswith('.pdf')]\n",
    "\n",
    "# Dictionary to store the results\n",
    "patron = \"cobertura\"\n",
    "\n",
    "# Function to count the pages of a PDF\n",
    "def count_pages(pdf_file):\n",
    "    with open(pdf_file, 'rb') as file:\n",
    "        reader = PdfReader(file)\n",
    "        return len(reader.pages)\n",
    "\n",
    "# Function to count the titles of a PDF\n",
    "def count_titles(pdf_file):\n",
    "    with open(pdf_file, 'rb') as file:\n",
    "        reader = PdfReader(file)\n",
    "        text = ''\n",
    "        for page in reader.pages:\n",
    "            text += page.extract_text()\n",
    "        return len(re.findall(r'\\b(cobertura)\\b', text))\n",
    "\n",
    "# Process each PDF file\n",
    "results = {}\n",
    "for pdf_file in pdf_files:\n",
    "    pdf_name = pdf_file.split('.')[0]\n",
    "    pages = count_pages(pdf_file)\n",
    "    titles = count_titles(pdf_file)\n",
    "    results[pdf_name] = {'pages': pages, 'titles': titles}\n",
    "\n",
    "# Print results\n",
    "for pdf, info in results.items():\n",
    "    print(f\"{pdf}: Pages: {info['pages']}, Titles: {info['titles']}\")\n"
   ]
  },
  {
   "cell_type": "code",
   "execution_count": 7,
   "metadata": {},
   "outputs": [
    {
     "data": {
      "text/plain": [
       "['POL120190177.pdf',\n",
       " 'POL320130223.pdf',\n",
       " 'POL320150503.pdf',\n",
       " 'POL320180100.pdf',\n",
       " 'POL320190074.pdf',\n",
       " 'POL320200071.pdf',\n",
       " 'POL320200214.pdf',\n",
       " 'POL320210063.pdf',\n",
       " 'POL320210210.pdf']"
      ]
     },
     "execution_count": 7,
     "metadata": {},
     "output_type": "execute_result"
    }
   ],
   "source": [
    "# root_dir = os.path.join(os.path.dirname(__file__), 'database', 'queplan_insurance')\n",
    "root_dir = os.path.join(os.path.dirname('.'), 'database', 'queplan_insurance')\n",
    "os.listdir(root_dir)"
   ]
  }
 ],
 "metadata": {
  "kernelspec": {
   "display_name": "venv",
   "language": "python",
   "name": "python3"
  },
  "language_info": {
   "codemirror_mode": {
    "name": "ipython",
    "version": 3
   },
   "file_extension": ".py",
   "mimetype": "text/x-python",
   "name": "python",
   "nbconvert_exporter": "python",
   "pygments_lexer": "ipython3",
   "version": "3.11.4"
  }
 },
 "nbformat": 4,
 "nbformat_minor": 2
}
