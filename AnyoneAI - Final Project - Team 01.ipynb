{
 "cells": [
  {
   "cell_type": "markdown",
   "metadata": {},
   "source": [
    "# Insurance Policy Chatbot\n",
    "\n",
    "**CARGAR LA BASE DE DATOS**\n",
    "\n",
    "The main objective of this notebook is to guide the reader through the process of understanding how the chatbot works and was build.\n",
    "\n",
    "The main functionality is to responde to the user's questions about insurance policies based on a PDF database (and WEB search).\n",
    "\n",
    "The beggining of the process start with the download of the PDFs from AWS S3 into the local storage (_folder:_ `backend/database_s3/queplan_insurance`), then we can start generating our embedding vectors for each of the documents."
   ]
  },
  {
   "cell_type": "code",
   "execution_count": 1,
   "metadata": {},
   "outputs": [
    {
     "ename": "ModuleNotFoundError",
     "evalue": "No module named 'utils'",
     "output_type": "error",
     "traceback": [
      "\u001b[1;31m---------------------------------------------------------------------------\u001b[0m",
      "\u001b[1;31mModuleNotFoundError\u001b[0m                       Traceback (most recent call last)",
      "Cell \u001b[1;32mIn[1], line 2\u001b[0m\n\u001b[0;32m      1\u001b[0m \u001b[38;5;66;03m# Download the PDF files\u001b[39;00m\n\u001b[1;32m----> 2\u001b[0m \u001b[38;5;28;01mfrom\u001b[39;00m \u001b[38;5;21;01mbackend\u001b[39;00m\u001b[38;5;21;01m.\u001b[39;00m\u001b[38;5;21;01mdownload\u001b[39;00m \u001b[38;5;28;01mimport\u001b[39;00m download_data\n\u001b[0;32m      4\u001b[0m download_data()\n",
      "File \u001b[1;32mc:\\Users\\Agustin\\Proyectos_2024\\AnyoneAI-TPF\\backend\\download.py:3\u001b[0m\n\u001b[0;32m      1\u001b[0m \u001b[38;5;28;01mimport\u001b[39;00m \u001b[38;5;21;01mos\u001b[39;00m\n\u001b[0;32m      2\u001b[0m \u001b[38;5;28;01mimport\u001b[39;00m \u001b[38;5;21;01mboto3\u001b[39;00m\n\u001b[1;32m----> 3\u001b[0m \u001b[38;5;28;01mfrom\u001b[39;00m \u001b[38;5;21;01mutils\u001b[39;00m\u001b[38;5;21;01m.\u001b[39;00m\u001b[38;5;21;01mconfig\u001b[39;00m \u001b[38;5;28;01mimport\u001b[39;00m DOWNLOAD_PATH, ACCESS_KEY, SECRET_KEY, BUCKET_NAME, prefix\n\u001b[0;32m      6\u001b[0m \u001b[38;5;28;01mdef\u001b[39;00m \u001b[38;5;21mdownload_data\u001b[39m():\n\u001b[0;32m      7\u001b[0m     \u001b[38;5;66;03m# Create an S3 client\u001b[39;00m\n\u001b[0;32m      8\u001b[0m     s3 \u001b[38;5;241m=\u001b[39m boto3\u001b[38;5;241m.\u001b[39mclient(\u001b[38;5;124m'\u001b[39m\u001b[38;5;124ms3\u001b[39m\u001b[38;5;124m'\u001b[39m, aws_access_key_id\u001b[38;5;241m=\u001b[39mACCESS_KEY, aws_secret_access_key\u001b[38;5;241m=\u001b[39mSECRET_KEY)\n",
      "\u001b[1;31mModuleNotFoundError\u001b[0m: No module named 'utils'"
     ]
    }
   ],
   "source": [
    "# Download the PDF files\n",
    "from backend.download import download_data\n",
    "\n",
    "download_data()"
   ]
  },
  {
   "cell_type": "markdown",
   "metadata": {},
   "source": [
    "That was an intended error.\n",
    "\n",
    "The architecture of the project intend to be converted into a microservice architecture, and so, it is necesary to use the `os` and `sys` libraries to indicate the microservice root path for executing the files."
   ]
  },
  {
   "cell_type": "markdown",
   "metadata": {},
   "source": [
    "For that reason, we kindly ask for you to move to the 'injection' directory by running the following command:\n",
    "\n",
    "`cd injection`\n",
    "\n",
    "Then, you can run the following command to execute the main file:\n",
    "\n",
    "- `python A_download_pdf.py`\n",
    "- `python B_...`\n",
    "\n",
    "<br />\n",
    "<br />\n",
    "<br />\n",
    "\n",
    "----\n",
    "\n",
    "This is how you could run the code from here:"
   ]
  },
  {
   "cell_type": "code",
   "execution_count": 2,
   "metadata": {},
   "outputs": [
    {
     "name": "stdout",
     "output_type": "stream",
     "text": [
      "Download queplan_insurance/POL120190177.pdf as c:\\Users\\Agustin\\Proyectos_2024\\AnyoneAI-TPF\\backend\\database_s3\\queplan_insurance\\POL120190177.pdf\n",
      "Download queplan_insurance/POL320130223.pdf as c:\\Users\\Agustin\\Proyectos_2024\\AnyoneAI-TPF\\backend\\database_s3\\queplan_insurance\\POL320130223.pdf\n",
      "Download queplan_insurance/POL320150503.pdf as c:\\Users\\Agustin\\Proyectos_2024\\AnyoneAI-TPF\\backend\\database_s3\\queplan_insurance\\POL320150503.pdf\n",
      "Download queplan_insurance/POL320180100.pdf as c:\\Users\\Agustin\\Proyectos_2024\\AnyoneAI-TPF\\backend\\database_s3\\queplan_insurance\\POL320180100.pdf\n",
      "Download queplan_insurance/POL320190074.pdf as c:\\Users\\Agustin\\Proyectos_2024\\AnyoneAI-TPF\\backend\\database_s3\\queplan_insurance\\POL320190074.pdf\n",
      "Download queplan_insurance/POL320200071.pdf as c:\\Users\\Agustin\\Proyectos_2024\\AnyoneAI-TPF\\backend\\database_s3\\queplan_insurance\\POL320200071.pdf\n",
      "Download queplan_insurance/POL320200214.pdf as c:\\Users\\Agustin\\Proyectos_2024\\AnyoneAI-TPF\\backend\\database_s3\\queplan_insurance\\POL320200214.pdf\n",
      "Download queplan_insurance/POL320210063.pdf as c:\\Users\\Agustin\\Proyectos_2024\\AnyoneAI-TPF\\backend\\database_s3\\queplan_insurance\\POL320210063.pdf\n",
      "Download queplan_insurance/POL320210210.pdf as c:\\Users\\Agustin\\Proyectos_2024\\AnyoneAI-TPF\\backend\\database_s3\\queplan_insurance\\POL320210210.pdf\n"
     ]
    }
   ],
   "source": [
    "import sys, os\n",
    "\n",
    "service = \"backend\"\n",
    "sys.path.insert(0, os.path.join(os.path.dirname('.'), service))\n",
    "\n",
    "from backend.download import download_data\n",
    "\n",
    "download_data()"
   ]
  }
 ],
 "metadata": {
  "kernelspec": {
   "display_name": "venv",
   "language": "python",
   "name": "python3"
  },
  "language_info": {
   "codemirror_mode": {
    "name": "ipython",
    "version": 3
   },
   "file_extension": ".py",
   "mimetype": "text/x-python",
   "name": "python",
   "nbconvert_exporter": "python",
   "pygments_lexer": "ipython3",
   "version": "3.11.4"
  }
 },
 "nbformat": 4,
 "nbformat_minor": 2
}
