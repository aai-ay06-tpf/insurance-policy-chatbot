{
 "cells": [
  {
   "cell_type": "markdown",
   "metadata": {},
   "source": [
    "# Insurance Policy Chatbot\n",
    "\n",
    "The main objective of this notebook is to guide the reader through the process of understanding how the chatbot works and was build.\n",
    "\n",
    "The main functionality is to responde to the user's questions about insurance policies based on a PDF database (and WEB search).\n",
    "\n",
    "The beggining of the process start with the download of the PDFs from AWS S3 into the local storage (_folder:_ `backend/database_s3/queplan_insurance`), then we can start generating our embedding vectors for each of the documents."
   ]
  },
  {
   "cell_type": "code",
   "execution_count": 1,
   "metadata": {},
   "outputs": [
    {
     "ename": "ModuleNotFoundError",
     "evalue": "No module named 'utils'",
     "output_type": "error",
     "traceback": [
      "\u001b[1;31m---------------------------------------------------------------------------\u001b[0m",
      "\u001b[1;31mModuleNotFoundError\u001b[0m                       Traceback (most recent call last)",
      "Cell \u001b[1;32mIn[1], line 2\u001b[0m\n\u001b[0;32m      1\u001b[0m \u001b[38;5;66;03m# Download the PDF files\u001b[39;00m\n\u001b[1;32m----> 2\u001b[0m \u001b[38;5;28;01mfrom\u001b[39;00m \u001b[38;5;21;01mbackend\u001b[39;00m\u001b[38;5;21;01m.\u001b[39;00m\u001b[38;5;21;01mdownload\u001b[39;00m \u001b[38;5;28;01mimport\u001b[39;00m download_data\n\u001b[0;32m      4\u001b[0m download_data()\n",
      "File \u001b[1;32mc:\\Users\\Agustin\\Proyectos_2024\\AnyoneAI-TPF\\backend\\download.py:3\u001b[0m\n\u001b[0;32m      1\u001b[0m \u001b[38;5;28;01mimport\u001b[39;00m \u001b[38;5;21;01mos\u001b[39;00m\n\u001b[0;32m      2\u001b[0m \u001b[38;5;28;01mimport\u001b[39;00m \u001b[38;5;21;01mboto3\u001b[39;00m\n\u001b[1;32m----> 3\u001b[0m \u001b[38;5;28;01mfrom\u001b[39;00m \u001b[38;5;21;01mutils\u001b[39;00m\u001b[38;5;21;01m.\u001b[39;00m\u001b[38;5;21;01mconfig\u001b[39;00m \u001b[38;5;28;01mimport\u001b[39;00m DOWNLOAD_PATH, ACCESS_KEY, SECRET_KEY, BUCKET_NAME, prefix\n\u001b[0;32m      6\u001b[0m \u001b[38;5;28;01mdef\u001b[39;00m \u001b[38;5;21mdownload_data\u001b[39m():\n\u001b[0;32m      7\u001b[0m     \u001b[38;5;66;03m# Create an S3 client\u001b[39;00m\n\u001b[0;32m      8\u001b[0m     s3 \u001b[38;5;241m=\u001b[39m boto3\u001b[38;5;241m.\u001b[39mclient(\u001b[38;5;124m'\u001b[39m\u001b[38;5;124ms3\u001b[39m\u001b[38;5;124m'\u001b[39m, aws_access_key_id\u001b[38;5;241m=\u001b[39mACCESS_KEY, aws_secret_access_key\u001b[38;5;241m=\u001b[39mSECRET_KEY)\n",
      "\u001b[1;31mModuleNotFoundError\u001b[0m: No module named 'utils'"
     ]
    }
   ],
   "source": [
    "# Download the PDF files\n",
    "from backend.download import download_data\n",
    "\n",
    "download_data()"
   ]
  },
  {
   "cell_type": "markdown",
   "metadata": {},
   "source": [
    "That was an intended error.\n",
    "\n",
    "The architecture of the project intend to be converted into a microservice architecture, and so, it is necesary to use the `os` and `sys` libraries to indicate the microservice root path for executing the files."
   ]
  },
  {
   "cell_type": "code",
   "execution_count": 2,
   "metadata": {},
   "outputs": [
    {
     "name": "stdout",
     "output_type": "stream",
     "text": [
      "Download queplan_insurance/POL120190177.pdf as c:\\Users\\Agustin\\Proyectos_2024\\AnyoneAI-TPF\\backend\\database_s3\\queplan_insurance\\POL120190177.pdf\n",
      "Download queplan_insurance/POL320130223.pdf as c:\\Users\\Agustin\\Proyectos_2024\\AnyoneAI-TPF\\backend\\database_s3\\queplan_insurance\\POL320130223.pdf\n",
      "Download queplan_insurance/POL320150503.pdf as c:\\Users\\Agustin\\Proyectos_2024\\AnyoneAI-TPF\\backend\\database_s3\\queplan_insurance\\POL320150503.pdf\n",
      "Download queplan_insurance/POL320180100.pdf as c:\\Users\\Agustin\\Proyectos_2024\\AnyoneAI-TPF\\backend\\database_s3\\queplan_insurance\\POL320180100.pdf\n",
      "Download queplan_insurance/POL320190074.pdf as c:\\Users\\Agustin\\Proyectos_2024\\AnyoneAI-TPF\\backend\\database_s3\\queplan_insurance\\POL320190074.pdf\n",
      "Download queplan_insurance/POL320200071.pdf as c:\\Users\\Agustin\\Proyectos_2024\\AnyoneAI-TPF\\backend\\database_s3\\queplan_insurance\\POL320200071.pdf\n",
      "Download queplan_insurance/POL320200214.pdf as c:\\Users\\Agustin\\Proyectos_2024\\AnyoneAI-TPF\\backend\\database_s3\\queplan_insurance\\POL320200214.pdf\n",
      "Download queplan_insurance/POL320210063.pdf as c:\\Users\\Agustin\\Proyectos_2024\\AnyoneAI-TPF\\backend\\database_s3\\queplan_insurance\\POL320210063.pdf\n",
      "Download queplan_insurance/POL320210210.pdf as c:\\Users\\Agustin\\Proyectos_2024\\AnyoneAI-TPF\\backend\\database_s3\\queplan_insurance\\POL320210210.pdf\n"
     ]
    }
   ],
   "source": [
    "import sys, os\n",
    "\n",
    "service = \"backend\"\n",
    "sys.path.insert(0, os.path.join(os.path.dirname('.'), service))\n",
    "\n",
    "from backend.download import download_data\n",
    "\n",
    "download_data()"
   ]
  },
  {
   "cell_type": "markdown",
   "metadata": {},
   "source": [
    "# 1. EDA and Summarization\n",
    "\n",
    "One of the main goals of the backend is to provide resources that allow the system to transform inputs into a wealthy context to feed an LLM.\n",
    "\n",
    "For that we implemented two processes:\n",
    "- **EDA:** using regular expression with the `re` library to extract the main patterns of the documents. The EDA is a exploratory analysis focused on identifying relevant keywords and formatting patterns.\n",
    "\n",
    "- **Summarization:** using the OpenAI LLM `gpt-3-turbo` (16k) and `langchain` document chains to obtain a bullet point summary of each page of the document. The summarization is a process that aims to reduce bias by obtaining a semantic aproximation of each of the pages.\n",
    "\n",
    "#### Summary:\n",
    "\n",
    "So, antes de que la consulta del usuario vaya a la base de datos vectorizada donde estan todos los documentos, lo que hacemos es evaluar dicha consulta con una serie de features generadas por nosotros.\n",
    "Basado en nuestros vectores de similitud y los vectores de semantica generados por nuestras features podemos traer los documentos o las paginas que mas se asemejen a la consulta del usuario. Y como la metadata de nuestras features es compartida en parte con la metadata de los documentos, utilizamos dicha informacion para obtener los segmentos más relevantes.\n",
    "\n",
    "#### Benefits:\n",
    "\n",
    "Nuestro trabajo es alimentar a un modelo LLM con el input del usuario y la mejor calidad posible de contexto. Este contexto no es infinito, esta limitado, por lo tanto si conseguimos separar el contenido mas relevante relacionado a la consulta del usuario, el contexto podrá ser más extenso, y el modelo más preciso.\n",
    "\n",
    "\n"
   ]
  },
  {
   "cell_type": "code",
   "execution_count": 7,
   "metadata": {},
   "outputs": [
    {
     "name": "stdout",
     "output_type": "stream",
     "text": [
      "- El contrato de seguro se regirá por las disposiciones legales y las estipulaciones más beneficiosas para el asegurado o beneficiario.\n",
      "- La cobertura de la póliza incluye el reembolso de los gastos médicos razonables y acostumbrados incurridos por el asegurado en caso de accidente.\n",
      "- Los gastos deben ser realizados en los prestadores de salud determinados por la aseguradora y durante el período de duración del reembolso.\n",
      "- Se establecen requisitos para el reembolso de los gastos, como que el accidente haya ocurrido durante la vigencia de la póliza, que se haya incurrido en los gastos dentro del período de duración de reembolso, que el monto de gastos supere el deducible establecido, entre otros.\n",
      "- Los reembolsos están sujetos a límites y topes establecidos en las condiciones particulares de la póliza, así como a porcentajes de bonificación o reembolso entregados por el sistema de salud previsional al que esté afiliado el asegurado.\n",
      "- La aseguradora reembolsará los gastos médicos como complemento de lo que cubra el sistema previsional o de salud al que esté afiliado el asegurado, como Isapres, Fonasa, Cajas de Previsión, entre otros.\n",
      "- En caso de contar con Isapre, el reembolso estará limitado al monto estipulado en las condiciones particulares y se exigirá un copago mínimo en otros sistemas previsionales de salud o en su ausencia.\n"
     ]
    }
   ],
   "source": [
    "# Example of an output of Summarization process\n",
    "\n",
    "# document index = 0\n",
    "# page index = 0\n",
    "# prompt_template = \"\"\"Extraer los bullet-points de los articulos\\\n",
    "#  contenidos en el TEXTO. La respuesta debe ser de 1000 caracteres como maximo.\n",
    "# TEXTO:\n",
    "# \"{text}\"\n",
    "# RESUMEN:\"\"\"\n",
    "\n",
    "import pickle\n",
    "\n",
    "response_path = f\"{service}/.summarization_backup/\"\n",
    "\n",
    "with open(response_path + \"response_1709557379.pkl\", \"rb\") as f:\n",
    "    response = pickle.load(f)\n",
    "    \n",
    "print(response[\"output_text\"])"
   ]
  },
  {
   "cell_type": "markdown",
   "metadata": {},
   "source": [
    "----\n",
    "\n",
    "La parte del EDA es bastante más compleja, primero se hace una exploración completa del documento.\n",
    "El primer punto es obtener todos los artículos que figuran dentro del documento. Si conseguimos hacer esto ya tenemos un vector que represente el contenido de todo el documento.\n",
    "\n",
    "Acá hay un ejemplo de como crear una feature que represente a un documento completo:\n"
   ]
  },
  {
   "cell_type": "code",
   "execution_count": 8,
   "metadata": {},
   "outputs": [
    {
     "name": "stdout",
     "output_type": "stream",
     "text": [
      "POL120190177.pdf\n"
     ]
    },
    {
     "data": {
      "text/plain": [
       "['ARTÍCULO 1°: REGLAS APLICABLES AL CONTRATO',\n",
       " 'ARTÍCULO 2º: COBERTURA Y MATERIA ASEGURADA',\n",
       " 'ARTÍCULO 3°: LIMITACIONES DE LAS COBERTURAS',\n",
       " 'ARTÍCULO 4º: DEFINICIONES',\n",
       " 'ARTÍCULO 5º: EXCLUSIONES',\n",
       " 'ARTÍCULO 6°: OBLIGACIONES DEL ASEGURADO',\n",
       " 'ARTÍCULO 7°: DECLARACIONES DEL CONTRATANTE Y DEL ASEGURADO',\n",
       " 'ARTÍCULO 8º: PRIMAS Y EFECTO DEL NO PAGO DE LA PRIMA',\n",
       " 'ARTÍCULO 9º: DENUNCIA DE SINIESTRO ',\n",
       " 'ARTÍCULO 10°: CALCULO DE LOS GASTOS REEMBOLSABLES',\n",
       " 'ARTÍCULO 11°: LIQUIDACIÓN DE LOS GASTOS, FORMA DE PAGO Y MONTO MÁXIMO DE GASTOS',\n",
       " 'ARTÍCULO 12°: APLICACIÓN DEL DEDUCIBLE',\n",
       " 'ARTÍCULO 13°: VIGENCIA Y DURACIÓN DEL CONTRATO DE SEGURO',\n",
       " 'ARTÍCULO 14°: INCORPORACIÓN DE ASEGURADOS E INICIO DE LA VIGENCIA DE LA COBERTURA',\n",
       " 'ARTÍCULO 15°: TERMINACIÓN DEL CONTRATO',\n",
       " 'ARTÍCULO 16º: AJUSTE DE LA PRIMAEn el evento que, con motivo de una renovación de póliza, las primas sufran una modificación en su monto',\n",
       " 'ARTÍCULO 17°: MONEDA O UNIDAD DEL CONTRATO',\n",
       " 'ARTICULO 18°: REHABILITACIÓN DE LA PÓLIZA',\n",
       " 'ARTÍCULO 19º: CONTRIBUCIONES E IMPUESTOS ',\n",
       " 'ARTÍCULO 20º: COMUNICACIÓN ENTRE LAS PARTES',\n",
       " 'ARTÍCULO 21º: SOLUCIÓN DE CONTROVERSIAS',\n",
       " 'ARTÍCULO 22º: CLÁUSULAS ADICIONALES',\n",
       " 'ARTÍCULO 23°: DOMICILIO']"
      ]
     },
     "execution_count": 8,
     "metadata": {},
     "output_type": "execute_result"
    }
   ],
   "source": [
    "import sys, os\n",
    "\n",
    "service = \"backend\"\n",
    "sys.path.insert(0, os.path.join(os.path.dirname('.'), service))\n",
    "\n",
    "\n",
    "from backend.eda_tools.pdf_file_tools import extract_patterns\n",
    "from backend.utils.config import DOWNLOAD_PATH\n",
    "\n",
    "file_n = 0 \n",
    "pdf_files = os.listdir(DOWNLOAD_PATH)\n",
    "selected_file = os.path.join(DOWNLOAD_PATH, pdf_files[file_n])\n",
    "pattern = \"ART.CULO\\s\\d+.+:\"\n",
    "\n",
    "print(selected_file.split(\"\\\\\")[-1])\n",
    "extract_patterns(selected_file, pattern)"
   ]
  },
  {
   "cell_type": "code",
   "execution_count": 9,
   "metadata": {},
   "outputs": [
    {
     "data": {
      "text/plain": [
       "'ARTÍCULO 1°: REGLAS APLICABLES AL CONTRATO ARTÍCULO 2º: COBERTURA Y MATERIA ASEGURADA ARTÍCULO 3°: LIMITACIONES DE LAS COBERTURAS ARTÍCULO 4º: DEFINICIONES ARTÍCULO 5º: EXCLUSIONES ARTÍCULO 6°: OBLIGACIONES DEL ASEGURADO ARTÍCULO 7°: DECLARACIONES DEL CONTRATANTE Y DEL ASEGURADO ARTÍCULO 8º: PRIMAS Y EFECTO DEL NO PAGO DE LA PRIMA ARTÍCULO 9º: DENUNCIA DE SINIESTRO  ARTÍCULO 10°: CALCULO DE LOS GASTOS REEMBOLSABLES ARTÍCULO 11°: LIQUIDACIÓN DE LOS GASTOS, FORMA DE PAGO Y MONTO MÁXIMO DE GASTOS ARTÍCULO 12°: APLICACIÓN DEL DEDUCIBLE ARTÍCULO 13°: VIGENCIA Y DURACIÓN DEL CONTRATO DE SEGURO ARTÍCULO 14°: INCORPORACIÓN DE ASEGURADOS E INICIO DE LA VIGENCIA DE LA COBERTURA ARTÍCULO 15°: TERMINACIÓN DEL CONTRATO ARTÍCULO 16º: AJUSTE DE LA PRIMAEn el evento que, con motivo de una renovación de póliza, las primas sufran una modificación en su monto ARTÍCULO 17°: MONEDA O UNIDAD DEL CONTRATO ARTICULO 18°: REHABILITACIÓN DE LA PÓLIZA ARTÍCULO 19º: CONTRIBUCIONES E IMPUESTOS  ARTÍCULO 20º: COMUNICACIÓN ENTRE LAS PARTES ARTÍCULO 21º: SOLUCIÓN DE CONTROVERSIAS ARTÍCULO 22º: CLÁUSULAS ADICIONALES ARTÍCULO 23°: DOMICILIO'"
      ]
     },
     "execution_count": 9,
     "metadata": {},
     "output_type": "execute_result"
    }
   ],
   "source": [
    "# Técnicamente debería ser así:\n",
    "# porque no necesitamos una lista con elementos\n",
    "# necesitamos un string\n",
    "# dicho string es la feature en lenguaje natural de todo el documento\n",
    "# Pero es menos legible por acá \n",
    "\n",
    "\" \".join(extract_patterns(selected_file, pattern))"
   ]
  },
  {
   "cell_type": "markdown",
   "metadata": {},
   "source": [
    "-----\n",
    "\n",
    "Luego tenemos una versión similar de dicha función, pero en vez de tratar todo el documento lo hace pagina por pagina. Además extraer las primeras 4 lineas posteriores al patron identificado.\n",
    "\n",
    "De ese modo se apunta a obtener una feature de cada página."
   ]
  },
  {
   "cell_type": "code",
   "execution_count": 11,
   "metadata": {},
   "outputs": [
    {
     "data": {
      "text/plain": [
       "[['ARTÍCULO 1°: REGLAS APLICABLES AL CONTRATO',\n",
       "  'Se aplicarán al presente contrato de seguro las disposiciones contenidas en los artículos siguientes y las',\n",
       "  'normas legales de carácter imperativo establecidas en el título VIII, del Libro II, del Código de Comercio. Sin',\n",
       "  'embargo, se entenderán válidas las estipulaciones contractuales que sean más beneficiosas para el',\n",
       "  'asegurado o el beneficiario.',\n",
       "  'ARTÍCULO 2º: COBERTURA Y MATERIA ASEGURADA',\n",
       "  'La Compañía Aseguradora reembolsará al asegurado o pagará directamente al prestador de salud los',\n",
       "  'Gastos Médicos Razonables y Acostumbrados y Efectivamente Incurridos, una vez se haya otorgado y',\n",
       "  'pagado la cobertura del sistema de salud previsional, seguros complementarios u otros beneficios',\n",
       "  'contratados por el asegurado. Lo anterior, cuando al asegurado le ocurra un accidente durante la vigencia de'],\n",
       " [],\n",
       " ['ARTÍCULO 3°: LIMITACIONES DE LAS COBERTURAS',\n",
       "  'Sin perjuicio de los términos, porcentajes, límites y topes de reembolso que se establezcan en el Cuadro de',\n",
       "  'Coberturas de las Condiciones Particulares de la Póliza. Ésta última contempla las siguientes limitaciones de',\n",
       "  'cobertura:',\n",
       "  'a) En aquellos casos en que el asegurado no esté afiliado a un sistema de salud previsional, privado o',\n",
       "  'ARTÍCULO 4º: DEFINICIONES',\n",
       "  'Para los efectos de esta Póliza las siguientes expresiones tendrán el significado que se indica a',\n",
       "  'continuación:',\n",
       "  '1. Accidente: Corresponde a todo suceso imprevisto, involuntario, repentino y fortuito, debidamente',\n",
       "  'acreditado, causado por medios externos y de un modo violento que afecte al organismo del Asegurado,'],\n",
       " [],\n",
       " [],\n",
       " ['ARTÍCULO 5º: EXCLUSIONES',\n",
       "  'La cobertura otorgada en virtud de esta Póliza no cubre los gastos médicos que no tengan como causa un',\n",
       "  'Evento',\n",
       "  'Asimismo, la cobertura otorgada en virtud de esta Póliza no cubre los gastos susceptibles de ser',\n",
       "  'reembolsados cuando ellos provengan o se originen por, o sean consecuencia de, o correspondan a'],\n",
       " [],\n",
       " ['ARTÍCULO 6°: OBLIGACIONES DEL ASEGURADO',\n",
       "  'El Asegurado, conforme al artículo 524 del Código de Comercio, está obligado a:',\n",
       "  '1. Declarar sinceramente todas las circunstancias que solicite el asegurador para identificar la cosa',\n",
       "  'asegurada y apreciar la extensión de los riesgos;',\n",
       "  '2. Informar, a requerimiento del Asegurador, sobre la existencia de otros seguros que amparen el mismo',\n",
       "  'ARTÍCULO 7°: DECLARACIONES DEL CONTRATANTE Y DEL ASEGURADO',\n",
       "  'La Póliza se otorga en base a las declaraciones, informaciones y antecedentes proporcionados por el',\n",
       "  'asegurado a solicitud de la Compañía Aseguradora en cumplimiento de la obligación referida en el numeral 1',\n",
       "  'del artículo anterior, las que deberán prestarse en los formularios o documentos que proporcione la',\n",
       "  'compañía con tal finalidad. Para estos efectos, regirá lo dispuesto en los artículos 525 y 539 del Código de',\n",
       "  'ARTÍCULO 8º: PRIMAS Y EFECTO DEL NO PAGO DE LA PRIMA',\n",
       "  'La prima es la retribución o precio del seguro, cuyo monto se determina en las Condiciones Particulares de',\n",
       "  'la Póliza.',\n",
       "  'Los cambios en el monto de la prima estarán expresamente indicados en las Condiciones Particulares de la',\n",
       "  'Póliza. Su monto podrá ser fijo o ir variando según la edad del Asegurado Titular y el número de Asegurados'],\n",
       " ['ARTÍCULO 9º: DENUNCIA DE SINIESTRO ',\n",
       "  'En caso que el Asegurado, a causa de un Evento, incurra en un gasto susceptible de ser reembolsado o',\n",
       "  'pagado al Prestador en virtud de esta Póliza, el asegurado deberá notificar el Evento a la compañía',\n",
       "  'aseguradora, tan pronto sea posible una vez efectivamente incurrido en el Gasto Reembolsable, lo cual no',\n",
       "  'podrá ser mayor a 30 días corridos, de acuerdo a los procedimientos y a través de los medios que la'],\n",
       " ['ARTÍCULO 10°: CALCULO DE LOS GASTOS REEMBOLSABLES',\n",
       "  'El Asegurado, conforme al Artículo 9°, letra b), deberá declarar en su denuncia de siniestro sobre el sistema',\n",
       "  'previsional o de salud al que se encuentre afiliado o adherido, Isapres, Fonasa, cajas de previsión,',\n",
       "  'departamentos o servicios de bienestar, el Seguro Obligatorio de Accidentes Personales establecido en la',\n",
       "  'Ley Nº 18.490, las Cajas de Compensación de Asignación Familiar, otros Seguros de Salud contratados en',\n",
       "  'ARTÍCULO 11°: LIQUIDACIÓN DE LOS GASTOS, FORMA DE PAGO Y MONTO MÁXIMO DE GASTOS',\n",
       "  'REEMBOLSABLES',\n",
       "  'La compañía reembolsará al Asegurado Titular que haya incurrido en los gastos a causa de un Evento o, en',\n",
       "  'su defecto, a los herederos legales de éste conforme lo determina la ley, o pagará al Prestador, los Gastos',\n",
       "  'Reembolsables de acuerdo a los porcentajes que se señalan en las Condiciones Particulares de la Póliza,'],\n",
       " ['ARTÍCULO 12°: APLICACIÓN DEL DEDUCIBLE',\n",
       "  'Las Condiciones Particulares de la Póliza podrán establecer deducibles por Evento, por Asegurado, por la',\n",
       "  'edad de éste y según el porcentaje de reembolso sobre el monto total de los Gastos Médicos que realice',\n",
       "  'cualquiera institución pública o privada del sistema previsional o de salud al que el Asegurado se encuentre',\n",
       "  'afiliado o adherido, indicando su monto expresado en Unidades de Fomento.',\n",
       "  'ARTÍCULO 13°: VIGENCIA Y DURACIÓN DEL CONTRATO DE SEGURO',\n",
       "  'La vigencia de las coberturas contempladas en las presentes Condiciones Generales, así como la de las'],\n",
       " ['ARTÍCULO 14°: INCORPORACIÓN DE ASEGURADOS E INICIO DE LA VIGENCIA DE LA COBERTURA',\n",
       "  'INDIVIDUAL',\n",
       "  'Si durante la vigencia del seguro, un Asegurado Titular deseare incorporar a nuevos asegurados',\n",
       "  'dependientes, deberá solicitarlo a la Compañía de Seguros. Para los efectos de incorporarse como',\n",
       "  'asegurados, los nuevos dependientes deberán someterse a la evaluación y calificación de su estado de',\n",
       "  'ARTÍCULO 15°: TERMINACIÓN DEL CONTRATO',\n",
       "  'La cobertura de esta Póliza, y la de sus cláusulas adicionales, si las hubiere terminará para todos los',\n",
       "  'Asegurados:',\n",
       "  'a) Al vencimiento del plazo establecido para su duración en las Condiciones Particulares de la Póliza.',\n",
       "  'b) A las 24:00 horas del día en que el asegurado cumpla la edad máxima de permanencia establecida en las',\n",
       "  'ARTÍCULO 16º: AJUSTE DE LA PRIMA'],\n",
       " ['ARTÍCULO 17°: MONEDA O UNIDAD DEL CONTRATO',\n",
       "  'El capital asegurado y el monto de la prima se expresarán en moneda extranjera, en unidades de fomento u',\n",
       "  'otra unidad reajustable autorizada por la Superintendencia de Valores y Seguros, que se establezca en las',\n",
       "  'Condiciones Particulares de la Póliza.',\n",
       "  'El valor de la unidad de fomento o de la unidad reajustable señalada en las Condiciones Particulares de la',\n",
       "  'ARTICULO 18°: REHABILITACIÓN DE LA PÓLIZA',\n",
       "  'Producida la terminación anticipada de la Póliza o la terminación de la cobertura para un Asegurado en',\n",
       "  'particular por no pago de prima, podrá el Contratante O Asegurado Titular solicitar por escrito su',\n",
       "  'rehabilitación dentro de los tres meses siguientes a la fecha de la terminación anticipada.',\n",
       "  'A tal efecto, deberá acreditar que todos los Asegurados que sean rehabilitados reúnan las condiciones y',\n",
       "  'ARTÍCULO 19º: CONTRIBUCIONES E IMPUESTOS ',\n",
       "  'Los impuestos que se establezcan durante la vigencia de la Póliza y que afecten al presente contrato, serán',\n",
       "  'de cargo del asegurado, salvo que por ley fuesen del cargo de la Compañía Aseguradora.',\n",
       "  'ARTÍCULO 20º: COMUNICACIÓN ENTRE LAS PARTES',\n",
       "  'Cualquier comunicación, declaración notificación que deba efectuar la Compañía Aseguradora al',\n",
       "  'ARTÍCULO 20º: COMUNICACIÓN ENTRE LAS PARTES',\n",
       "  'Cualquier comunicación, declaración notificación que deba efectuar la Compañía Aseguradora al',\n",
       "  'Contratante o el Asegurado con motivo de esta Póliza, deberá efectuarse a su dirección de correo',\n",
       "  'electrónico u otro medio electrónico indicada en las Condiciones Particulares de la Póliza, salvo que éste no',\n",
       "  'dispusiere de correo electrónico o se opusiere a esa forma de notificación. La forma de notificación, como la'],\n",
       " ['ARTÍCULO 21º: SOLUCIÓN DE CONTROVERSIAS',\n",
       "  'Cualquier dificultad que se suscite entre el (los)asegurado(s), el contratante o el beneficiario, según',\n",
       "  'corresponda, y el asegurador, sea en relación con la validez o ineficacia del contrato de seguro de que da',\n",
       "  'cuenta esta Póliza, o con motivo de la interpretación o aplicación de sus Condiciones Generales o',\n",
       "  'Particulares, su cumplimiento o incumplimiento, o sobre la procedencia o el monto de una indemnización',\n",
       "  'ARTÍCULO 22º: CLÁUSULAS ADICIONALES',\n",
       "  'Las cláusulas adicionales que se contraten en forma accesoria con esta Póliza complementan o amplían la',\n",
       "  'cobertura establecida en ella, se regirán en todo lo no previsto en el texto de éstas por lo dispuesto en estas',\n",
       "  'Condiciones Generales.',\n",
       "  'ARTÍCULO 23°: DOMICILIO',\n",
       "  'ARTÍCULO 23°: DOMICILIO',\n",
       "  'Para todos los efectos legales del presente contrato de seguro, las partes señalan como domicilio especial el',\n",
       "  'que aparece detallado con tal carácter en las Condiciones Particulares de la Póliza.']]"
      ]
     },
     "execution_count": 11,
     "metadata": {},
     "output_type": "execute_result"
    }
   ],
   "source": [
    "import sys, os\n",
    "\n",
    "service = \"backend\"\n",
    "sys.path.insert(0, os.path.join(os.path.dirname('.'), service))\n",
    "\n",
    "\n",
    "from backend.eda_tools.pdf_file_tools import extract_patterns_per_page\n",
    "from backend.utils.config import DOWNLOAD_PATH\n",
    "\n",
    "file_n = 0\n",
    "pdf_files = os.listdir(DOWNLOAD_PATH)\n",
    "selected_file = os.path.join(DOWNLOAD_PATH, pdf_files[file_n])\n",
    "pattern = \"ART.CULO\\s\\d+.+:\"\n",
    "\n",
    "result = extract_patterns_per_page(selected_file, pattern, extend=True)\n",
    "result"
   ]
  },
  {
   "cell_type": "markdown",
   "metadata": {},
   "source": [
    "Por ejemplo podemos ver que la primera página tiene 2 artículos, la segunda no tiene ninguno y que la tercera tiene 2, y que la cuarta y la quinta no tienen ninguno."
   ]
  },
  {
   "cell_type": "code",
   "execution_count": 12,
   "metadata": {},
   "outputs": [
    {
     "data": {
      "text/plain": [
       "['ARTÍCULO 1°: REGLAS APLICABLES AL CONTRATO Se aplicarán al presente contrato de seguro las disposiciones contenidas en los artículos siguientes y las normas legales de carácter imperativo establecidas en el título VIII, del Libro II, del Código de Comercio. Sin embargo, se entenderán válidas las estipulaciones contractuales que sean más beneficiosas para el asegurado o el beneficiario. ARTÍCULO 2º: COBERTURA Y MATERIA ASEGURADA La Compañía Aseguradora reembolsará al asegurado o pagará directamente al prestador de salud los Gastos Médicos Razonables y Acostumbrados y Efectivamente Incurridos, una vez se haya otorgado y pagado la cobertura del sistema de salud previsional, seguros complementarios u otros beneficios contratados por el asegurado. Lo anterior, cuando al asegurado le ocurra un accidente durante la vigencia de',\n",
       " '',\n",
       " 'ARTÍCULO 3°: LIMITACIONES DE LAS COBERTURAS Sin perjuicio de los términos, porcentajes, límites y topes de reembolso que se establezcan en el Cuadro de Coberturas de las Condiciones Particulares de la Póliza. Ésta última contempla las siguientes limitaciones de cobertura: a) En aquellos casos en que el asegurado no esté afiliado a un sistema de salud previsional, privado o ARTÍCULO 4º: DEFINICIONES Para los efectos de esta Póliza las siguientes expresiones tendrán el significado que se indica a continuación: 1. Accidente: Corresponde a todo suceso imprevisto, involuntario, repentino y fortuito, debidamente acreditado, causado por medios externos y de un modo violento que afecte al organismo del Asegurado,',\n",
       " '',\n",
       " '',\n",
       " 'ARTÍCULO 5º: EXCLUSIONES La cobertura otorgada en virtud de esta Póliza no cubre los gastos médicos que no tengan como causa un Evento Asimismo, la cobertura otorgada en virtud de esta Póliza no cubre los gastos susceptibles de ser reembolsados cuando ellos provengan o se originen por, o sean consecuencia de, o correspondan a',\n",
       " '',\n",
       " 'ARTÍCULO 6°: OBLIGACIONES DEL ASEGURADO El Asegurado, conforme al artículo 524 del Código de Comercio, está obligado a: 1. Declarar sinceramente todas las circunstancias que solicite el asegurador para identificar la cosa asegurada y apreciar la extensión de los riesgos; 2. Informar, a requerimiento del Asegurador, sobre la existencia de otros seguros que amparen el mismo ARTÍCULO 7°: DECLARACIONES DEL CONTRATANTE Y DEL ASEGURADO La Póliza se otorga en base a las declaraciones, informaciones y antecedentes proporcionados por el asegurado a solicitud de la Compañía Aseguradora en cumplimiento de la obligación referida en el numeral 1 del artículo anterior, las que deberán prestarse en los formularios o documentos que proporcione la compañía con tal finalidad. Para estos efectos, regirá lo dispuesto en los artículos 525 y 539 del Código de ARTÍCULO 8º: PRIMAS Y EFECTO DEL NO PAGO DE LA PRIMA La prima es la retribución o precio del seguro, cuyo monto se determina en las Condiciones Particulares de la Póliza. Los cambios en el monto de la prima estarán expresamente indicados en las Condiciones Particulares de la Póliza. Su monto podrá ser fijo o ir variando según la edad del Asegurado Titular y el número de Asegurados',\n",
       " 'ARTÍCULO 9º: DENUNCIA DE SINIESTRO  En caso que el Asegurado, a causa de un Evento, incurra en un gasto susceptible de ser reembolsado o pagado al Prestador en virtud de esta Póliza, el asegurado deberá notificar el Evento a la compañía aseguradora, tan pronto sea posible una vez efectivamente incurrido en el Gasto Reembolsable, lo cual no podrá ser mayor a 30 días corridos, de acuerdo a los procedimientos y a través de los medios que la',\n",
       " 'ARTÍCULO 10°: CALCULO DE LOS GASTOS REEMBOLSABLES El Asegurado, conforme al Artículo 9°, letra b), deberá declarar en su denuncia de siniestro sobre el sistema previsional o de salud al que se encuentre afiliado o adherido, Isapres, Fonasa, cajas de previsión, departamentos o servicios de bienestar, el Seguro Obligatorio de Accidentes Personales establecido en la Ley Nº 18.490, las Cajas de Compensación de Asignación Familiar, otros Seguros de Salud contratados en ARTÍCULO 11°: LIQUIDACIÓN DE LOS GASTOS, FORMA DE PAGO Y MONTO MÁXIMO DE GASTOS REEMBOLSABLES La compañía reembolsará al Asegurado Titular que haya incurrido en los gastos a causa de un Evento o, en su defecto, a los herederos legales de éste conforme lo determina la ley, o pagará al Prestador, los Gastos Reembolsables de acuerdo a los porcentajes que se señalan en las Condiciones Particulares de la Póliza,',\n",
       " 'ARTÍCULO 12°: APLICACIÓN DEL DEDUCIBLE Las Condiciones Particulares de la Póliza podrán establecer deducibles por Evento, por Asegurado, por la edad de éste y según el porcentaje de reembolso sobre el monto total de los Gastos Médicos que realice cualquiera institución pública o privada del sistema previsional o de salud al que el Asegurado se encuentre afiliado o adherido, indicando su monto expresado en Unidades de Fomento. ARTÍCULO 13°: VIGENCIA Y DURACIÓN DEL CONTRATO DE SEGURO La vigencia de las coberturas contempladas en las presentes Condiciones Generales, así como la de las',\n",
       " 'ARTÍCULO 14°: INCORPORACIÓN DE ASEGURADOS E INICIO DE LA VIGENCIA DE LA COBERTURA INDIVIDUAL Si durante la vigencia del seguro, un Asegurado Titular deseare incorporar a nuevos asegurados dependientes, deberá solicitarlo a la Compañía de Seguros. Para los efectos de incorporarse como asegurados, los nuevos dependientes deberán someterse a la evaluación y calificación de su estado de ARTÍCULO 15°: TERMINACIÓN DEL CONTRATO La cobertura de esta Póliza, y la de sus cláusulas adicionales, si las hubiere terminará para todos los Asegurados: a) Al vencimiento del plazo establecido para su duración en las Condiciones Particulares de la Póliza. b) A las 24:00 horas del día en que el asegurado cumpla la edad máxima de permanencia establecida en las ARTÍCULO 16º: AJUSTE DE LA PRIMA',\n",
       " 'ARTÍCULO 17°: MONEDA O UNIDAD DEL CONTRATO El capital asegurado y el monto de la prima se expresarán en moneda extranjera, en unidades de fomento u otra unidad reajustable autorizada por la Superintendencia de Valores y Seguros, que se establezca en las Condiciones Particulares de la Póliza. El valor de la unidad de fomento o de la unidad reajustable señalada en las Condiciones Particulares de la ARTICULO 18°: REHABILITACIÓN DE LA PÓLIZA Producida la terminación anticipada de la Póliza o la terminación de la cobertura para un Asegurado en particular por no pago de prima, podrá el Contratante O Asegurado Titular solicitar por escrito su rehabilitación dentro de los tres meses siguientes a la fecha de la terminación anticipada. A tal efecto, deberá acreditar que todos los Asegurados que sean rehabilitados reúnan las condiciones y ARTÍCULO 19º: CONTRIBUCIONES E IMPUESTOS  Los impuestos que se establezcan durante la vigencia de la Póliza y que afecten al presente contrato, serán de cargo del asegurado, salvo que por ley fuesen del cargo de la Compañía Aseguradora. ARTÍCULO 20º: COMUNICACIÓN ENTRE LAS PARTES Cualquier comunicación, declaración notificación que deba efectuar la Compañía Aseguradora al ARTÍCULO 20º: COMUNICACIÓN ENTRE LAS PARTES Cualquier comunicación, declaración notificación que deba efectuar la Compañía Aseguradora al Contratante o el Asegurado con motivo de esta Póliza, deberá efectuarse a su dirección de correo electrónico u otro medio electrónico indicada en las Condiciones Particulares de la Póliza, salvo que éste no dispusiere de correo electrónico o se opusiere a esa forma de notificación. La forma de notificación, como la',\n",
       " 'ARTÍCULO 21º: SOLUCIÓN DE CONTROVERSIAS Cualquier dificultad que se suscite entre el (los)asegurado(s), el contratante o el beneficiario, según corresponda, y el asegurador, sea en relación con la validez o ineficacia del contrato de seguro de que da cuenta esta Póliza, o con motivo de la interpretación o aplicación de sus Condiciones Generales o Particulares, su cumplimiento o incumplimiento, o sobre la procedencia o el monto de una indemnización ARTÍCULO 22º: CLÁUSULAS ADICIONALES Las cláusulas adicionales que se contraten en forma accesoria con esta Póliza complementan o amplían la cobertura establecida en ella, se regirán en todo lo no previsto en el texto de éstas por lo dispuesto en estas Condiciones Generales. ARTÍCULO 23°: DOMICILIO ARTÍCULO 23°: DOMICILIO Para todos los efectos legales del presente contrato de seguro, las partes señalan como domicilio especial el que aparece detallado con tal carácter en las Condiciones Particulares de la Póliza.']"
      ]
     },
     "execution_count": 12,
     "metadata": {},
     "output_type": "execute_result"
    }
   ],
   "source": [
    "# En realidad las features deberían ser un string\n",
    "\n",
    "[\" \".join(element) for element in result]"
   ]
  },
  {
   "cell_type": "code",
   "execution_count": null,
   "metadata": {},
   "outputs": [],
   "source": [
    "# Notas: please revisar\n",
    "\n",
    "\"\"\"\n",
    "Notas y conclusiones:\n",
    "\n",
    "- [0]: POL120190177.pdf y [2]: POL320150503.pdf y [3]: POL320180100.pdf parecen iguales\n",
    "- [1]: POL320130223.pdf y [5]: POL320200071.pdf error de patron\n",
    "- [4]: POL320190074.pdf error en la numeracion de los articulos\n",
    "- [7]: POL320200214.pdf falta el articulo 9\n",
    "\n",
    "\"\"\";"
   ]
  }
 ],
 "metadata": {
  "kernelspec": {
   "display_name": "venv",
   "language": "python",
   "name": "python3"
  },
  "language_info": {
   "codemirror_mode": {
    "name": "ipython",
    "version": 3
   },
   "file_extension": ".py",
   "mimetype": "text/x-python",
   "name": "python",
   "nbconvert_exporter": "python",
   "pygments_lexer": "ipython3",
   "version": "3.11.4"
  }
 },
 "nbformat": 4,
 "nbformat_minor": 2
}
