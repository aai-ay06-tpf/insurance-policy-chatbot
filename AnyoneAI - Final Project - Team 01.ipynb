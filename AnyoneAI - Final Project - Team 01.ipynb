{
 "cells": [
  {
   "cell_type": "markdown",
   "metadata": {},
   "source": [
    "## pypdf\n",
    "\n",
    "### PDF annotations extraction"
   ]
  },
  {
   "cell_type": "code",
   "execution_count": 1,
   "metadata": {},
   "outputs": [
    {
     "name": "stdout",
     "output_type": "stream",
     "text": [
      "This should not be in a Jupyter Notebook.\n",
      "{'POL120190177.pdf': [], 'POL320130223.pdf': [], 'POL320150503.pdf': [], 'POL320180100.pdf': [], 'POL320190074.pdf': [], 'POL320200071.pdf': [], 'POL320200214.pdf': [], 'POL320210063.pdf': [], 'POL320210210.pdf': []}\n"
     ]
    }
   ],
   "source": [
    "from pypdf import PdfReader\n",
    "import os\n",
    "\n",
    "\n",
    "# Get the database root directory\n",
    "try:\n",
    "    root_dir = os.path.join(os.path.dirname(__file__), 'database', 'queplan_insurance')\n",
    "except:\n",
    "    print(\"This should not be in a Jupyter Notebook.\")\n",
    "    root_dir = os.path.join(os.path.dirname('.'), 'database', 'queplan_insurance')\n",
    "\n",
    "# Get the list of PDF files in the directory\n",
    "pdf_files = [os.path.join(root_dir, file) for file in os.listdir(root_dir) if file.endswith('.pdf')]\n",
    "\n",
    "\n",
    "# PDF files annotations extraction\n",
    "extractions_dict = {}\n",
    "for pdf_file in pdf_files:\n",
    "    reader = PdfReader(pdf_file)\n",
    "    annotations_list = []\n",
    "\n",
    "    for page in reader.pages:\n",
    "        if \"/Annots\" in page:\n",
    "            for annot in page[\"/Annots\"]:\n",
    "                obj = annot.get_object()\n",
    "                annotation = {\"subtype\": obj[\"/Subtype\"], \"location\": obj[\"/Rect\"]}\n",
    "                annotations_list.append(annotation)\n",
    "\n",
    "    extractions_dict[os.path.basename(pdf_file)] = annotations_list\n",
    "\n",
    "\n",
    "print(extractions_dict)\n"
   ]
  },
  {
   "cell_type": "markdown",
   "metadata": {},
   "source": [
    "### Specialized Data Exploration"
   ]
  },
  {
   "cell_type": "code",
   "execution_count": 3,
   "metadata": {},
   "outputs": [
    {
     "name": "stdout",
     "output_type": "stream",
     "text": [
      "{'POL120190177.pdf': {'characters': {'6', 'g', 'M', 'R', 'I', '-', 'i', 'u', 'H', ';', 'Z', 'Í', '8', 'k', 'Ó', 'n', '.', '4', 'J', 't', 'f', 'j', 'Á', 'B', '9', '°', '\"', '\\n', 'e', 'O', 'F', 'P', 'V', 'y', 'ñ', '5', 'w', '/', '1', 'a', '2', 'm', '(', 'E', '3', 'o', 's', 'º', 'N', 'l', 'é', '0', 'U', 'D', 'b', 'S', 'X', 'C', 'É', 'c', 'G', 'z', 'L', 'ú', 'v', 'Q', 'r', 'ó', '7', 'q', 'Y', ':', 'x', ' ', ',', 'd', ')', 'á', 'h', 'T', 'í', 'p', 'A'}, 'uppercase_lines': ['PÓLIZA DE ACCIDENTES PERSONALES / REEMBOLSO GASTOS MÉDICOS', 'ARTÍCULO 1°: REGLAS APLICABLES AL CONTRATO', 'ARTÍCULO 3°: LIMITACIONES DE LAS COBERTURAS', 'ARTÍCULO 6°: OBLIGACIONES DEL ASEGURADO', 'ARTÍCULO 7°: DECLARACIONES DEL CONTRATANTE Y DEL ASEGURADO', 'ARTÍCULO 10°: CALCULO DE LOS GASTOS REEMBOLSABLES', 'ARTÍCULO 11°: LIQUIDACIÓN DE LOS GASTOS, FORMA DE PAGO Y MONTO MÁXIMO DE GASTOS', 'REEMBOLSABLES', 'ARTÍCULO 12°: APLICACIÓN DEL DEDUCIBLE', 'ARTÍCULO 13°: VIGENCIA Y DURACIÓN DEL CONTRATO DE SEGURO', 'ARTÍCULO 14°: INCORPORACIÓN DE ASEGURADOS E INICIO DE LA VIGENCIA DE LA COBERTURA', 'INDIVIDUAL', 'ARTÍCULO 15°: TERMINACIÓN DEL CONTRATO', 'ARTÍCULO 17°: MONEDA O UNIDAD DEL CONTRATO', 'ARTICULO 18°: REHABILITACIÓN DE LA PÓLIZA', 'ARTÍCULO 23°: DOMICILIO']}, 'POL320130223.pdf': {'characters': {'6', 'g', 'M', 'R', 'I', '-', 'i', 'u', 'H', ';', 'Z', 'Í', '8', 'k', 'Ó', 'n', '.', '4', 'J', 't', 'f', 'j', 'Á', 'B', '°', '9', 'Ú', '\\n', 'e', 'O', 'F', 'P', 'V', 'y', 'ñ', '5', '1', '/', 'a', '2', 'm', '(', 'E', '3', 'o', 's', 'º', '%', 'N', 'l', 'é', '0', 'U', 'D', 'b', 'S', 'X', 'C', 'É', 'c', 'G', 'z', 'L', 'ú', 'v', 'Q', 'r', 'ó', '7', 'q', 'Y', ':', 'x', ' ', ',', 'd', ')', 'á', 'h', 'T', 'í', 'p', 'A'}, 'uppercase_lines': ['SEGURO COLECTIVO COMPLEMENTARIO DE SALUD', 'ARTICULO 1°: REGLAS APLICABLES AL CONTRATO', 'A) BENEFICIO DE HOSPITALIZACIÓN', 'B) BENEFICIO DE MATERNIDAD', 'C) BENEFICIO AMBULATORIO', 'D) BENEFICIO MEDICAMENTOS AMBULATORIOS', 'E) BENEFICIO DE SALUD MENTAL', 'F) BENEFICIOS ESPECIALES', 'A) BENEFICIO DE HOSPITALIZACIÓN:', 'B) BENEFICIO DE MATERNIDAD:', 'C) BENEFICIO AMBULATORIO:', 'D) BENEFICIO MEDICAMENTOS AMBULATORIOS', 'E) BENEFICIO DE SALUD MENTAL', 'F) BENEFICIOS ESPECIALES', 'LIMITACIONES DE LAS COBERTURAS:', 'ARTÍCULO N° 3: DEFINICIONES', 'ARTÍCULO N° 4: MONTO MÁXIMO DE REEMBOLSO', 'ARTÍCULO N° 5: DUPLICACIÓN DE BENEFICIOS', 'ARTÍCULO N° 6: EXCLUSIONES', 'ARTÍCULO N° 7: RIESGOS CUBIERTOS BAJO ESTIPULACIÓN EXPRESA', 'ARTÍCULO 8°: OBLIGACIONES DEL ASEGURADO', 'ARTICULO 9°: DECLARACIONES DEL ASEGURADO', 'ARTÍCULO N° 10: BENEFICIARIOS', 'ARTÍCULO N° 11: PRIMAS Y EFECTO DEL NO PAGO DE LAS PRIMAS', 'ARTÍCULO N° 12: DENUNCIO DE SINIESTRO', 'ARTÍCULO N° 13: VIGENCIA Y TERMINACIÓN DE DE LA PÓLIZA', 'ARTÍCULO N° 14: INCORPORACIÓN DE NUEVOS ASEGURADOS', 'ARTÍCULO N° 15: MONEDA O UNIDAD DE LA PÓLIZA', 'ARTÍCULO N° 16: COMUNICACIONES', 'ARTÍCULO N° 17: SOLUCIÓN DE CONTROVERSIAS', 'ARTÍCULO N° 18: DOMICILIO', 'ARTÍCULO N° 19: CLÁUSULAS ADICIONALES']}, 'POL320150503.pdf': {'characters': {'6', 'g', 'M', 'R', 'I', '-', 'i', 'u', 'H', ';', 'Z', 'Í', '8', 'k', 'Ó', 'n', '.', '4', 'J', 't', 'f', 'j', 'Á', 'B', '°', '9', '\"', '\\n', 'e', 'O', 'F', 'P', 'V', 'y', 'ñ', '5', 'w', '1', '/', 'a', '2', 'm', '(', 'E', '3', 'o', 's', 'º', 'N', 'l', 'é', '0', 'U', 'D', 'b', 'S', 'X', 'C', 'É', 'c', 'G', 'z', 'L', 'ú', 'v', 'Q', 'r', 'ó', '7', 'q', 'Y', ':', 'x', ' ', ',', 'd', ')', 'á', 'h', 'T', 'í', 'p', 'A'}, 'uppercase_lines': ['PÓLIZA DE SEGURO PARA PRESTACIONES MÉDICAS DERIVADAS DE ACCIDENTE', 'Y ENFERMEDAD', 'ARTÍCULO 1°: REGLAS APLICABLES AL CONTRATO', 'ARTÍCULO 3°: LIMITACIONES DE LAS COBERTURAS', 'ARTÍCULO 6°: OBLIGACIONES DEL ASEGURADO', 'ARTÍCULO 7°: DECLARACIONES DEL CONTRATANTE Y DEL ASEGURADO', 'ARTÍCULO 10°: CALCULO DE LOS GASTOS REEMBOLSABLES', 'ARTICULO 11°: LIQUIDACION DE LOS GASTOS, FORMA DE PAGO Y MONTO MAXIMO DE GASTOS', 'REEMBOLSABLES.', 'ARTÍCULO 12°: APLICACION DEL DEDUCIBLE', 'ARTÍCULO 13°: VIGENCIA Y DURACIÓN DEL CONTRATO DE SEGURO', 'ARTÍCULO 14°: INCORPORACIÓN DE ASEGURADOS E INICIO DE LA VIGENCIA DE LA COBERTURA', 'INDIVIDUAL', 'ARTÍCULO 15°: TERMINACIÓN DEL CONTRATO', 'ARTÍCULO 17°: MONEDA O UNIDAD DEL CONTRATO', 'ARTICULO 18°: REHABILITACION DE LA PÓLIZA', 'ARTÍCULO 23°: DOMICILIO']}, 'POL320180100.pdf': {'characters': {'6', 'g', 'M', 'R', 'I', '-', 'i', 'u', 'H', ';', 'Z', 'Í', '8', 'k', 'Ó', 'n', '.', '4', 'J', 't', 'f', 'j', 'Á', 'B', '°', '9', 'Ú', '\"', '\\n', 'e', 'O', 'F', 'P', 'V', 'y', 'ñ', '5', 'w', '1', '/', 'a', '2', 'm', '(', 'E', '3', 'o', 's', 'º', 'N', 'l', 'é', '0', 'U', 'D', 'b', 'S', 'X', 'C', 'É', 'c', 'G', 'z', 'L', 'ú', 'v', 'Q', 'r', 'ó', '7', 'q', 'Y', ':', 'x', ' ', ',', 'd', ')', 'á', 'h', 'T', 'í', 'p', 'A'}, 'uppercase_lines': ['PÓLIZA DE SEGURO PARA PRESTACIONES MÉDICAS DERIVADAS DE', 'HOSPITALIZACIÓN QUIRÚRGICA DE EMERGENCIA', 'ARTÍCULO 1°: REGLAS APLICABLES AL CONTRATO', 'ARTÍCULO 3°: LIMITACIONES DE LAS COBERTURAS', 'ARTÍCULO 6°: OBLIGACIONES DEL ASEGURADO', 'ARTÍCULO 7°: DECLARACIONES DEL CONTRATANTE Y DEL ASEGURADO', 'ARTÍCULO 10°: CALCULO DE LOS GASTOS REEMBOLSABLES', 'ARTÍCULO 11°: LIQUIDACION DE LOS GASTOS, FORMA DE PAGO Y MONTO MAXIMO DE GASTOS', 'REEMBOLSABLES.', 'ARTÍCULO 12°: APLICACION DEL DEDUCIBLE', 'ARTÍCULO 13°: VIGENCIA Y DURACIÓN DEL CONTRATO DE SEGURO', 'ARTÍCULO 14°: INCORPORACIÓN DE ASEGURADOS E INICIO DE LA VIGENCIA DE LA COBERTURA', 'INDIVIDUAL', 'ARTÍCULO 15°: TERMINACIÓN DEL CONTRATO', 'ARTÍCULO 17°: MONEDA O UNIDAD DEL CONTRATO', 'ARTÍCULO 18°: REHABILITACION DE LA PÓLIZA', 'ARTÍCULO 23°: DOMICILIO']}, 'POL320190074.pdf': {'characters': {'6', 'g', 'M', 'R', 'I', '-', 'i', 'u', 'H', ';', 'Z', 'Í', '8', 'k', 'Ó', 'n', '.', '4', 'J', 't', 'f', 'j', 'Á', 'B', '9', '°', 'Ú', '\"', '\\n', 'e', 'O', 'F', 'P', 'V', 'y', 'ñ', '5', '1', '/', 'a', '2', 'm', '(', 'E', '3', 'o', 's', 'º', '%', 'N', 'l', 'é', '0', 'U', 'K', 'D', 'b', 'S', 'X', 'C', 'É', 'c', 'G', 'z', 'L', 'ú', 'v', 'Q', 'r', 'ó', '7', 'q', 'Y', ':', 'x', ' ', ',', 'd', ')', 'á', 'h', 'T', 'í', 'p', 'A'}, 'uppercase_lines': ['SEGURO PARA PRESTACIONES MÉDICAS DE ALTO COSTO', 'ARTICULO 1°: REGLAS APLICABLES AL CONTRATO', 'ARTÍCULO 6°: OBLIGACIONES DEL ASEGURADO', 'ARTICULO 7°: DECLARACIONES DEL ASEGURADO', 'ARTICULO 9°: BENEFICIARIOS', 'ARTÍCULO 14°: CLAUSULAS ADICIONALES', 'ARTÍCULO 15°: DOMICILIO', 'EXONERACIÓN DE PAGO DE PRIMAS POR FALLECIMIENTO DEL ASEGURADO', 'TITULAR', 'ARTICULO N° 1: COBERTURA.', 'ARTÍCULO N° 2: EXCLUSIONES.', 'ARTÍCULO N° 3: CARENCIA', 'ARTICULO N° 5: DENUNCIA DE SINIESTRO', 'SEGURO COLECTIVO COMPLEMENTARIO DE SALUD', 'ARTICULO 1°: REGLAS APLICABLES AL CONTRATO', 'A) BENEFICIO DE HOSPITALIZACIÓN', 'B) BENEFICIO DE MATERNIDAD', 'C) BENEFICIO AMBULATORIO', 'D) BENEFICIO MEDICAMENTOS AMBULATORIOS', 'E) BENEFICIO DE SALUD MENTAL', 'F) BENEFICIOS ESPECIALES', 'A) BENEFICIO DE HOSPITALIZACIÓN:', 'B) BENEFICIO DE MATERNIDAD:', 'C) BENEFICIO AMBULATORIO:', 'D) BENEFICIO MEDICAMENTOS AMBULATORIOS', 'E) BENEFICIO DE SALUD MENTAL', 'F) BENEFICIOS ESPECIALES', 'LIMITACIONES DE LAS COBERTURAS:', 'ARTÍCULO N° 3: DEFINICIONES', 'ARTÍCULO N° 4: MONTO MÁXIMO DE REEMBOLSO', 'ARTÍCULO N° 5: DUPLICACIÓN DE BENEFICIOS', 'ARTÍCULO N° 6: EXCLUSIONES', 'ARTÍCULO N° 7: RIESGOS CUBIERTOS BAJO ESTIPULACIÓN EXPRESA', 'ARTÍCULO 8°: OBLIGACIONES DEL ASEGURADO', 'ARTICULO 9°: DECLARACIONES DEL ASEGURADO', 'ARTÍCULO N° 10: BENEFICIARIOS', 'ARTÍCULO N° 11: PRIMAS Y EFECTO DEL NO PAGO DE LAS PRIMAS', 'ARTÍCULO N° 12: DENUNCIO DE SINIESTRO', 'ARTÍCULO N° 13: VIGENCIA Y TERMINACIÓN DE DE LA PÓLIZA', 'ARTÍCULO N° 14: INCORPORACIÓN DE NUEVOS ASEGURADOS', 'ARTÍCULO N° 15: MONEDA O UNIDAD DE LA PÓLIZA', 'ARTÍCULO N° 16: COMUNICACIONES', 'ARTÍCULO N° 17: SOLUCIÓN DE CONTROVERSIAS', 'ARTÍCULO N° 18: DOMICILIO', 'ARTÍCULO N° 19: CLÁUSULAS ADICIONALES', 'EXONERACIÓN DE PAGO DE PRIMAS POR FALLECIMIENTO DEL ASEGURADO', 'TITULAR', 'ARTICULO N° 1: COBERTURA.', 'ARTÍCULO N° 2: EXCLUSIONES.', 'ARTÍCULO N° 3: CARENCIA', 'ARTICULO N° 5: DENUNCIA DE SINIESTROS', 'CLAUSULA DE INVALIDEZ PERMANENTE 80% POR ACCIDENTE O ENFERMEDAD', 'ARTÍCULO 2°: DEFINICIONES']}, 'POL320200071.pdf': {'characters': {'6', '\\t', 'g', 'M', 'R', 'I', '-', 'i', 'u', 'H', ';', 'Z', 'Í', '8', 'k', 'Ó', 'n', '.', '4', 'J', 't', 'f', 'j', 'Á', 'B', '°', '9', 'Ú', '\"', '\\n', 'e', 'O', 'F', 'P', 'V', 'y', 'ñ', '5', 'w', '/', '1', 'a', '2', 'm', '(', 'E', '3', 'o', 's', 'º', 'N', 'l', 'é', '0', 'U', 'K', 'D', 'b', 'S', 'X', 'C', 'É', 'c', 'G', 'z', 'L', 'ú', 'v', 'Q', 'r', 'ó', '7', 'q', 'Y', ':', 'x', ' ', ',', 'd', ')', 'á', 'h', 'T', 'í', 'p', 'A'}, 'uppercase_lines': ['SEGURO INDIVIDUAL CATASTRÓFICO POR EVENTO', 'ARTICULO 2°. COBERTURA.-', 'ARTÍCULO 3°. DESCRIPCIÓN DE LAS COBERTURAS.-', 'A) BENEFICIO DE HOSPITALIZACION.', 'B) BENEFICIO AMBULATORIO.', 'C) BENEFICIO MEDICAMENTOS AMBULATORIOS.', 'ARTÍCULO 4°. LIMITACIONES DE LAS COBERTURAS.-', 'ARTÍCULO 5°. DEFINICIONES.-', 'ARTÍCULO 6°. EXCLUSIONES.-', 'ARTICULO 7°. OBLIGACIONES DEL ASEGURADO.-', 'ARTICULO 8°. DECLARACIONES DEL ASEGURADO E INDISPUTABILIDAD.-', 'ARTÍCULO 9°. VIGENCIA Y DURACION DEL CONTRATO DE SEGURO.-', 'ARTICULO 10°. PRIMA Y EFECTOS DEL NO PAGO DE LA PRIMA.-', 'ARTÍCULO 11°. DENUNCIA DE SINIESTRO.-', 'ARTÍCULO 12°. CÁLCULO DE LOS GASTOS REEMBOLSABLES.-', 'ARTÍCULO 13°. TÉRMINO DEL CONTRATO DE SEGURO.-', 'ARTÍCULO 14°. IMPUESTOS.-', 'ARTÍCULO 15°. MONEDA O UNIDAD DEL CONTRATO DE SEGURO.-', 'ARTÍCULO 16°. COMUNICACION ENTRE LAS PARTES.-', 'ARTICULO 17°. SOLUCION DE CONTROVERSIAS.-', 'ARTÍCULO 18°. DERECHO DE RETRACTO.-', 'ARTÍCULO 19°. DOMICILIO.-', 'ARTÍCULO 20°. CLÁUSULAS ADICIONALES.-', 'SEGURO INDIVIDUAL DE ENFERMEDADES GRAVES', 'ARTÍCULO 1. REGLAS APLICABLES AL CONTRATO.', 'ARTÍCULO 2. COBERTURA Y MATERIA ASEGURADA.', 'ARTÍCULO 3. LIMITACIONES DE LA COBERTURA.', 'ARTÍCULO 4. EXCLUSIONES.', 'ARTICULO 5. OBLIGACIONES DEL ASEGURADO.', 'ARTICULO 6. DECLARACIONES DEL ASEGURADO E INDISPUTABILIDAD.', 'ARTÍCULO 7. VIGENCIA Y DURACION DEL CONTRATO DE SEGURO.', 'ARTICULO 8. PRIMA Y EFECTOS DEL NO PAGO DE LA PRIMA.', 'ARTÍCULO 9. DENUNCIA DE SINIESTRO.', 'ARTÍCULO 10. REQUISITOS PARA EL PAGO DE SINIESTRO.', 'ARTÍCULO 11. PAGO DE SINIESTRO.', 'ARTÍCULO 12. TÉRMINO DEL CONTRATO DE SEGURO.', 'ARTICULO 13. REHABILITACION DEL CONTRATO DE SEGURO.', 'ARTÍCULO 14. IMPUESTOS.', 'ARTÍCULO 15. MONEDA O UNIDAD DEL CONTRATO DE SEGURO.', 'ARTÍCULO 16. COMUNICACION ENTRE LAS PARTES.', 'ARTICULO 17. SOLUCION DE CONTROVERSIAS.', 'ARTÍCULO 18. DERECHO DE RETRACTO.', 'ARTÍCULO 19. DOMICILIO.', 'ARTÍCULO 20. DEFINICIONES.']}, 'POL320200214.pdf': {'characters': {'6', '\\t', '\\x13', '\\x0b', '\\x08', 'g', '\\x17', 'M', 'R', '\\x0c', 'I', '-', 'i', 'u', 'H', ';', 'Z', 'Í', \"'\", '\\x10', '!', '8', 'k', 'Ó', '\\x16', '&', 'n', '.', '\\x06', '4', '\\x04', '\\x19', 't', 'f', 'j', 'Á', 'B', '°', '9', 'Ñ', 'Ú', '\"', '\\n', '\\x14', 'e', '$', '+', 'O', 'F', 'P', '\\x1b', 'V', 'y', '\\x1a', 'ñ', '5', '#', '\\r', '\\x11', 'w', '1', '/', 'a', '*', '2', 'm', '(', 'E', '3', 'o', '\\x02', '\\x03', 's', 'º', '%', 'N', 'l', 'é', '0', '\\x15', '\\x1c', 'U', 'K', 'D', 'b', '\\x18', '\\x1d', 'S', 'X', 'C', '\\x01', 'É', 'c', 'G', 'z', 'L', 'ú', 'v', 'Q', 'r', '\\x07', 'ó', '7', 'q', '\\x12', '\\x05', 'Y', ':', 'x', ' ', ',', '\\x0f', 'd', '\\x1f', ')', '\\x0e', 'á', 'h', 'T', 'í', 'p', '\\x1e', 'A'}, 'uppercase_lines': ['SEGURO PARA PRESTACIONES MÉDICAS DE ALTO COSTO', 'ARTICULO 1°: REGLAS APLICABLES AL CONTRATO', 'ARTÍCULO 6°: COPAGO', 'ARTICULO 8°: DECLARACIONES DEL ASEGURADO', 'ARTICULO 9: AGRAVACIÓN DEL RIESGO', 'ARTÍCULO 19°: CLÁUSULAS ADICIONALES', 'ARTÍCULO 20°: DOMICILIO']}, 'POL320210063.pdf': {'characters': {'S', 'C', '4', '6', 'c', 'G', 'z', 'L', 't', '1', 'f', 'a', 'ú', 'v', '2', 'j', 'g', 'n', 'm', '(', 'E', 'B', 'M', '3', '9', 'o', 'r', '°', 'R', 's', 'ó', '7', 'I', 'q', '-', '\\n', 'º', 'i', ':', 'u', '?', '%', 'e', ' ', ',', 'N', 'x', 'l', 'd', 'O', 'é', '0', ';', ')', 'F', 'P', 'h', 'á', 'T', 'í', '8', 'V', 'y', 'p', 'U', 'ñ', '5', 'D', 'b', 'A', '.'}, 'uppercase_lines': ['SEGURO INDIVIDUAL OBLIGATORIO DE SALUD ASOCIADO A COVID 19', 'COVID-19.']}, 'POL320210210.pdf': {'characters': {'6', 'g', 'M', 'R', 'I', '-', 'i', 'u', 'H', ';', 'Í', '8', 'k', 'Ó', 'n', '.', '4', 't', 'f', 'j', 'B', '°', '9', '\"', '\\n', 'e', 'O', 'F', 'P', 'V', 'y', 'ñ', '5', '1', 'a', '2', 'm', '(', 'E', '3', 'o', 's', 'º', 'N', 'l', 'é', '0', 'U', 'D', 'b', 'S', 'X', 'C', 'É', 'c', 'G', 'z', 'L', 'ú', 'v', 'Q', 'r', 'ó', '7', 'q', 'Y', ':', 'x', ' ', ',', 'd', ')', 'á', 'h', 'T', 'í', 'p', 'A'}, 'uppercase_lines': ['SEGURO PARA PRESTACIONES MÉDICAS DE ALTO COSTO', 'ARTICULO 1°: REGLAS APLICABLES AL CONTRATO', 'ARTÍCULO 6°: OBLIGACIONES DEL ASEGURADO', 'ARTICULO 7°: DECLARACIONES DEL ASEGURADO', 'ARTICULO 9°: BENEFICIARIOS', 'ARTÍCULO 14°: CLAUSULAS ADICIONALES', 'ARTÍCULO 15°: DOMICILIO']}}\n"
     ]
    }
   ],
   "source": [
    "# PDF files data extraction\n",
    "extractions_dict = {}\n",
    "for pdf_file in pdf_files:\n",
    "    reader = PdfReader(pdf_file)\n",
    "    characteristics = {\"characters\": set(), \"uppercase_lines\": []}\n",
    "\n",
    "    for page in reader.pages:\n",
    "        text = page.extract_text()\n",
    "\n",
    "        # Obtain the unique characters in the text\n",
    "        distinct_chars = sorted(set(text))\n",
    "        characteristics[\"characters\"].update(distinct_chars)\n",
    "\n",
    "        # Obtain the uppercase lines in the text\n",
    "        uppercase_lines = [line.strip() for line in text.split(\"\\n\") if line.isupper()]\n",
    "        characteristics[\"uppercase_lines\"].extend(uppercase_lines)\n",
    "\n",
    "    # Results storage\n",
    "    extractions_dict[os.path.basename(pdf_file)] = characteristics\n",
    "\n",
    "# Print the results\n",
    "print(extractions_dict)\n"
   ]
  },
  {
   "cell_type": "code",
   "execution_count": 8,
   "metadata": {},
   "outputs": [
    {
     "data": {
      "text/plain": [
       "['PÓLIZA DE ACCIDENTES PERSONALES / REEMBOLSO GASTOS MÉDICOS',\n",
       " 'ARTÍCULO 1°: REGLAS APLICABLES AL CONTRATO',\n",
       " 'ARTÍCULO 3°: LIMITACIONES DE LAS COBERTURAS',\n",
       " 'ARTÍCULO 6°: OBLIGACIONES DEL ASEGURADO',\n",
       " 'ARTÍCULO 7°: DECLARACIONES DEL CONTRATANTE Y DEL ASEGURADO',\n",
       " 'ARTÍCULO 10°: CALCULO DE LOS GASTOS REEMBOLSABLES',\n",
       " 'ARTÍCULO 11°: LIQUIDACIÓN DE LOS GASTOS, FORMA DE PAGO Y MONTO MÁXIMO DE GASTOS',\n",
       " 'REEMBOLSABLES',\n",
       " 'ARTÍCULO 12°: APLICACIÓN DEL DEDUCIBLE',\n",
       " 'ARTÍCULO 13°: VIGENCIA Y DURACIÓN DEL CONTRATO DE SEGURO',\n",
       " 'ARTÍCULO 14°: INCORPORACIÓN DE ASEGURADOS E INICIO DE LA VIGENCIA DE LA COBERTURA',\n",
       " 'INDIVIDUAL',\n",
       " 'ARTÍCULO 15°: TERMINACIÓN DEL CONTRATO',\n",
       " 'ARTÍCULO 17°: MONEDA O UNIDAD DEL CONTRATO',\n",
       " 'ARTICULO 18°: REHABILITACIÓN DE LA PÓLIZA',\n",
       " 'ARTÍCULO 23°: DOMICILIO']"
      ]
     },
     "execution_count": 8,
     "metadata": {},
     "output_type": "execute_result"
    }
   ],
   "source": [
    "extractions_dict.keys()\n",
    "extractions_dict.keys()\n",
    "extractions_dict['POL120190177.pdf'].keys()\n",
    "extractions_dict['POL120190177.pdf'][\"characters\"]\n",
    "extractions_dict['POL120190177.pdf'][\"uppercase_lines\"]"
   ]
  },
  {
   "cell_type": "markdown",
   "metadata": {},
   "source": [
    "### Pattern Recognition and Total Pages"
   ]
  },
  {
   "cell_type": "code",
   "execution_count": 11,
   "metadata": {},
   "outputs": [
    {
     "name": "stdout",
     "output_type": "stream",
     "text": [
      "This should not be in a Jupyter Notebook.\n",
      "POL120190177.pdf: Pages: 14, Artículo: 17\n",
      "POL320130223.pdf: Pages: 47, Artículo: 2\n",
      "POL320150503.pdf: Pages: 26, Artículo: 16\n",
      "POL320180100.pdf: Pages: 25, Artículo: 15\n",
      "POL320190074.pdf: Pages: 72, Artículo: 5\n",
      "POL320200071.pdf: Pages: 25, Artículo: 17\n",
      "POL320200214.pdf: Pages: 42, Artículo: 1\n",
      "POL320210063.pdf: Pages: 6, Artículo: 20\n",
      "POL320210210.pdf: Pages: 10, Artículo: 3\n"
     ]
    }
   ],
   "source": [
    "import os\n",
    "# from PyPDF2 import PdfReader\n",
    "import re\n",
    "\n",
    "\n",
    "# Get the database root directory\n",
    "try:\n",
    "    root_dir = os.path.join(os.path.dirname(__file__), 'database', 'queplan_insurance')\n",
    "except:\n",
    "    print(\"This should not be in a Jupyter Notebook.\")\n",
    "    root_dir = os.path.join(os.path.dirname('.'), 'database', 'queplan_insurance')\n",
    "\n",
    "# Get the list of PDF files in the directory\n",
    "pdf_files = [os.path.join(root_dir, file) for file in os.listdir(root_dir) if file.endswith('.pdf')]\n",
    "\n",
    "# Select the pattern to search\n",
    "pattern = \"cobertura\"\n",
    "pattern = \"Artículo\" # Case sensitive\n",
    "\n",
    "# Function to count the pages of a PDF\n",
    "def count_pages(pdf_file):\n",
    "    with open(pdf_file, 'rb') as file:\n",
    "        reader = PdfReader(file)\n",
    "        return len(reader.pages)\n",
    "\n",
    "# Function to count the titles of a PDF\n",
    "def count_pattern(pdf_file, pattern):\n",
    "    with open(pdf_file, 'rb') as file:\n",
    "        reader = PdfReader(file)\n",
    "        text = ''\n",
    "        for page in reader.pages:\n",
    "            text += page.extract_text()\n",
    "        return len(re.findall(r'\\b' + pattern + r'\\b', text))\n",
    "\n",
    "# Process each PDF file\n",
    "results = {}\n",
    "for pdf_file in pdf_files:\n",
    "    pdf_name = pdf_file.rsplit('\\\\')[-1]\n",
    "    pages = count_pages(pdf_file)\n",
    "    patterns = count_pattern(pdf_file, pattern)\n",
    "    results[pdf_name] = {'pages': pages, f'<{pattern}>': patterns}\n",
    "\n",
    "# Print results\n",
    "for pdf, info in results.items():\n",
    "    print(f\"{pdf}: Pages: {info['pages']}, {pattern}: {info.get(f'<{pattern}>')}\")\n"
   ]
  },
  {
   "cell_type": "code",
   "execution_count": 7,
   "metadata": {},
   "outputs": [
    {
     "data": {
      "text/plain": [
       "['POL120190177.pdf',\n",
       " 'POL320130223.pdf',\n",
       " 'POL320150503.pdf',\n",
       " 'POL320180100.pdf',\n",
       " 'POL320190074.pdf',\n",
       " 'POL320200071.pdf',\n",
       " 'POL320200214.pdf',\n",
       " 'POL320210063.pdf',\n",
       " 'POL320210210.pdf']"
      ]
     },
     "execution_count": 7,
     "metadata": {},
     "output_type": "execute_result"
    }
   ],
   "source": [
    "# root_dir = os.path.join(os.path.dirname(__file__), 'database', 'queplan_insurance')\n",
    "# root_dir = os.path.join(os.path.dirname('.'), 'database', 'queplan_insurance')\n",
    "# os.listdir(root_dir)"
   ]
  }
 ],
 "metadata": {
  "kernelspec": {
   "display_name": "venv",
   "language": "python",
   "name": "python3"
  },
  "language_info": {
   "codemirror_mode": {
    "name": "ipython",
    "version": 3
   },
   "file_extension": ".py",
   "mimetype": "text/x-python",
   "name": "python",
   "nbconvert_exporter": "python",
   "pygments_lexer": "ipython3",
   "version": "3.11.4"
  }
 },
 "nbformat": 4,
 "nbformat_minor": 2
}
