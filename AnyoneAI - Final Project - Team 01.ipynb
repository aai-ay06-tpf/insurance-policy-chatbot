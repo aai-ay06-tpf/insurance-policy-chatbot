{
 "cells": [
  {
   "cell_type": "code",
   "execution_count": 1,
   "metadata": {},
   "outputs": [],
   "source": [
    "import pickle\n",
    "import os\n",
    "\n",
    "download_path = os.path.join(\"database\", 'queplan_insurance.pkl')\n",
    "\n",
    "with open(download_path, 'rb') as f:\n",
    "    response = pickle.load(f)\n",
    "    "
   ]
  },
  {
   "cell_type": "code",
   "execution_count": 3,
   "metadata": {},
   "outputs": [
    {
     "data": {
      "text/plain": [
       "[{'Key': 'queplan_insurance/',\n",
       "  'LastModified': datetime.datetime(2023, 5, 7, 3, 46, 43, tzinfo=tzutc()),\n",
       "  'ETag': '\"d41d8cd98f00b204e9800998ecf8427e\"',\n",
       "  'Size': 0,\n",
       "  'StorageClass': 'STANDARD'},\n",
       " {'Key': 'queplan_insurance/POL120190177.pdf',\n",
       "  'LastModified': datetime.datetime(2023, 5, 16, 12, 44, 14, tzinfo=tzutc()),\n",
       "  'ETag': '\"613daac2466383991854806c911edfdb\"',\n",
       "  'Size': 34133,\n",
       "  'StorageClass': 'STANDARD'},\n",
       " {'Key': 'queplan_insurance/POL320130223.pdf',\n",
       "  'LastModified': datetime.datetime(2023, 5, 7, 3, 46, 58, tzinfo=tzutc()),\n",
       "  'ETag': '\"bee2d07ca9342a6da89d13e74094d3a8\"',\n",
       "  'Size': 48920,\n",
       "  'StorageClass': 'STANDARD'},\n",
       " {'Key': 'queplan_insurance/POL320150503.pdf',\n",
       "  'LastModified': datetime.datetime(2023, 5, 7, 3, 46, 59, tzinfo=tzutc()),\n",
       "  'ETag': '\"f78aa9d55be60c4024e0cbb8b2bf03c3\"',\n",
       "  'Size': 42520,\n",
       "  'StorageClass': 'STANDARD'},\n",
       " {'Key': 'queplan_insurance/POL320180100.pdf',\n",
       "  'LastModified': datetime.datetime(2023, 5, 16, 12, 44, 15, tzinfo=tzutc()),\n",
       "  'ETag': '\"fee1af7f2ef3fdce68e5fd607088a716\"',\n",
       "  'Size': 40106,\n",
       "  'StorageClass': 'STANDARD'},\n",
       " {'Key': 'queplan_insurance/POL320190074.pdf',\n",
       "  'LastModified': datetime.datetime(2023, 5, 16, 12, 44, 16, tzinfo=tzutc()),\n",
       "  'ETag': '\"16e85cd0284abb140e57cf34617dc7fd\"',\n",
       "  'Size': 91256,\n",
       "  'StorageClass': 'STANDARD'},\n",
       " {'Key': 'queplan_insurance/POL320200071.pdf',\n",
       "  'LastModified': datetime.datetime(2023, 5, 7, 3, 47, tzinfo=tzutc()),\n",
       "  'ETag': '\"bd1fac3ee76a83500254fb1d53c99c3b\"',\n",
       "  'Size': 54238,\n",
       "  'StorageClass': 'STANDARD'},\n",
       " {'Key': 'queplan_insurance/POL320200214.pdf',\n",
       "  'LastModified': datetime.datetime(2023, 5, 16, 12, 44, 17, tzinfo=tzutc()),\n",
       "  'ETag': '\"ebc1fb615600ca6a3d199cd7d633ae71\"',\n",
       "  'Size': 251595,\n",
       "  'StorageClass': 'STANDARD'},\n",
       " {'Key': 'queplan_insurance/POL320210063.pdf',\n",
       "  'LastModified': datetime.datetime(2023, 5, 16, 12, 44, 18, tzinfo=tzutc()),\n",
       "  'ETag': '\"d9ce8c8d8429b329a67428492b4e4e9d\"',\n",
       "  'Size': 13949,\n",
       "  'StorageClass': 'STANDARD'},\n",
       " {'Key': 'queplan_insurance/POL320210210.pdf',\n",
       "  'LastModified': datetime.datetime(2023, 5, 16, 12, 44, 19, tzinfo=tzutc()),\n",
       "  'ETag': '\"d59c41a7664b6c78b81e5839781731bb\"',\n",
       "  'Size': 17696,\n",
       "  'StorageClass': 'STANDARD'}]"
      ]
     },
     "execution_count": 3,
     "metadata": {},
     "output_type": "execute_result"
    }
   ],
   "source": [
    "response[\"Contents\"]#[\"Key\"]"
   ]
  },
  {
   "cell_type": "code",
   "execution_count": 4,
   "metadata": {},
   "outputs": [
    {
     "data": {
      "text/plain": [
       "['__class__',\n",
       " '__class_getitem__',\n",
       " '__contains__',\n",
       " '__delattr__',\n",
       " '__delitem__',\n",
       " '__dir__',\n",
       " '__doc__',\n",
       " '__eq__',\n",
       " '__format__',\n",
       " '__ge__',\n",
       " '__getattribute__',\n",
       " '__getitem__',\n",
       " '__getstate__',\n",
       " '__gt__',\n",
       " '__hash__',\n",
       " '__init__',\n",
       " '__init_subclass__',\n",
       " '__ior__',\n",
       " '__iter__',\n",
       " '__le__',\n",
       " '__len__',\n",
       " '__lt__',\n",
       " '__ne__',\n",
       " '__new__',\n",
       " '__or__',\n",
       " '__reduce__',\n",
       " '__reduce_ex__',\n",
       " '__repr__',\n",
       " '__reversed__',\n",
       " '__ror__',\n",
       " '__setattr__',\n",
       " '__setitem__',\n",
       " '__sizeof__',\n",
       " '__str__',\n",
       " '__subclasshook__',\n",
       " 'clear',\n",
       " 'copy',\n",
       " 'fromkeys',\n",
       " 'get',\n",
       " 'items',\n",
       " 'keys',\n",
       " 'pop',\n",
       " 'popitem',\n",
       " 'setdefault',\n",
       " 'update',\n",
       " 'values']"
      ]
     },
     "execution_count": 4,
     "metadata": {},
     "output_type": "execute_result"
    }
   ],
   "source": [
    "dir(response)"
   ]
  },
  {
   "cell_type": "code",
   "execution_count": 5,
   "metadata": {},
   "outputs": [
    {
     "data": {
      "text/plain": [
       "dict_keys(['ResponseMetadata', 'IsTruncated', 'Contents', 'Name', 'Prefix', 'MaxKeys', 'EncodingType', 'KeyCount'])"
      ]
     },
     "execution_count": 5,
     "metadata": {},
     "output_type": "execute_result"
    }
   ],
   "source": [
    "response.keys()"
   ]
  },
  {
   "cell_type": "code",
   "execution_count": null,
   "metadata": {},
   "outputs": [],
   "source": [
    "{\n",
    "    'ResponseMetadata': [],\n",
    "    'IsTruncated': [],\n",
    "    'Contents': [\n",
    "        {'Key': 'queplan_insurance/',\n",
    "         'LastModified': datetime.datetime(2023, 5, 7, 3, 46, 43, tzinfo=tzutc()),\n",
    "         'ETag': '\"d41d8cd98f00b204e9800998ecf8427e\"',\n",
    "         'Size': 0,\n",
    "         'StorageClass': 'STANDARD'},\n",
    "        {'Key': 'queplan_insurance/POL120190177.pdf',\n",
    "         'LastModified': datetime.datetime(2023, 5, 16, 12, 44, 14, tzinfo=tzutc()),\n",
    "         'ETag': '\"613daac2466383991854806c911edfdb\"',\n",
    "         'Size': 34133,\n",
    "         'StorageClass': 'STANDARD'},\n",
    "        {'Key': 'queplan_insurance/POL320130223.pdf',\n",
    "         'LastModified': datetime.datetime(2023, 5, 7, 3, 46, 58, tzinfo=tzutc()),\n",
    "         'ETag': '\"bee2d07ca9342a6da89d13e74094d3a8\"',\n",
    "         'Size': 48920,\n",
    "         'StorageClass': 'STANDARD'},\n",
    "        {'Key': 'queplan_insurance/POL320150503.pdf',\n",
    "         'LastModified': datetime.datetime(2023, 5, 7, 3, 46, 59, tzinfo=tzutc()),\n",
    "         'ETag': '\"f78aa9d55be60c4024e0cbb8b2bf03c3\"',\n",
    "         'Size': 42520,\n",
    "         'StorageClass': 'STANDARD'},\n",
    "        {'Key': 'queplan_insurance/POL320180100.pdf',\n",
    "         'LastModified': datetime.datetime(2023, 5, 16, 12, 44, 15, tzinfo=tzutc()),\n",
    "         'ETag': '\"fee1af7f2ef3fdce68e5fd607088a716\"',\n",
    "         'Size': 40106,\n",
    "         'StorageClass': 'STANDARD'},\n",
    "        {'Key': 'queplan_insurance/POL320190074.pdf',\n",
    "         'LastModified': datetime.datetime(2023, 5, 16, 12, 44, 16, tzinfo=tzutc()),\n",
    "         'ETag': '\"16e85cd0284abb140e57cf34617dc7fd\"',\n",
    "         'Size': 91256,\n",
    "         'StorageClass': 'STANDARD'},\n",
    "        {'Key': 'queplan_insurance/POL320200071.pdf',\n",
    "         'LastModified': datetime.datetime(2023, 5, 7, 3, 47, tzinfo=tzutc()),\n",
    "         'ETag': '\"bd1fac3ee76a83500254fb1d53c99c3b\"',\n",
    "         'Size': 54238,\n",
    "         'StorageClass': 'STANDARD'},\n",
    "        {'Key': 'queplan_insurance/POL320200214.pdf',\n",
    "         'LastModified': datetime.datetime(2023, 5, 16, 12, 44, 17, tzinfo=tzutc()),\n",
    "         'ETag': '\"ebc1fb615600ca6a3d199cd7d633ae71\"',\n",
    "         'Size': 251595,\n",
    "         'StorageClass': 'STANDARD'},\n",
    "        {'Key': 'queplan_insurance/POL320210063.pdf',\n",
    "         'LastModified': datetime.datetime(2023, 5, 16, 12, 44, 18, tzinfo=tzutc()),\n",
    "         'ETag': '\"d9ce8c8d8429b329a67428492b4e4e9d\"',\n",
    "         'Size': 13949,\n",
    "         'StorageClass': 'STANDARD'},\n",
    "        {'Key': 'queplan_insurance/POL320210210.pdf',\n",
    "         'LastModified': datetime.datetime(2023, 5, 16, 12, 44, 19, tzinfo=tzutc()),\n",
    "         'ETag': '\"d59c41a7664b6c78b81e5839781731bb\"',\n",
    "         'Size': 17696,\n",
    "         'StorageClass': 'STANDARD'}],\n",
    "    'Name': [],\n",
    "    'Prefix': [],\n",
    "    'MaxKeys': [],\n",
    "    'EncodingType': [],\n",
    "    'KeyCount': []\n",
    "}\n"
   ]
  }
 ],
 "metadata": {
  "kernelspec": {
   "display_name": "venv",
   "language": "python",
   "name": "python3"
  },
  "language_info": {
   "codemirror_mode": {
    "name": "ipython",
    "version": 3
   },
   "file_extension": ".py",
   "mimetype": "text/x-python",
   "name": "python",
   "nbconvert_exporter": "python",
   "pygments_lexer": "ipython3",
   "version": "3.11.4"
  }
 },
 "nbformat": 4,
 "nbformat_minor": 2
}
